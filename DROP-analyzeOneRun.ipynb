{
 "cells": [
  {
   "cell_type": "markdown",
   "id": "3830bc95-bb43-4b43-9d2c-924ea37c818d",
   "metadata": {},
   "source": [
    "# Error Analysis - Single Run\n",
    "This notebook provides a brief error analysis vehicle for predicted results on the DROP validation dataset as described in [our paper](https://github.com/omarkapur-mids/Exploring-Data-Augmentation-for-QA-with-T5/blob/main/ExploringDataAugmentation.pdf). Once the model has been run and results files are saved locally, this notebook can be used to import results and have a look around. "
   ]
  },
  {
   "cell_type": "code",
   "execution_count": 1,
   "id": "836f8645-73c2-4f71-aa78-0394012982aa",
   "metadata": {},
   "outputs": [],
   "source": [
    "import pandas as pd\n",
    "import numpy as np\n",
    "import seaborn as sns\n",
    "import matplotlib.pyplot as plt\n",
    "import glob\n",
    "import re\n",
    "import os\n",
    "\n",
    "\n",
    "pd.set_option('display.max_rows', 500)\n",
    "pd.set_option('display.max_columns', 500)\n",
    "pd.set_option('display.width', 1000)\n",
    "\n",
    "\n",
    "t5_model = 't5-small'"
   ]
  },
  {
   "cell_type": "markdown",
   "id": "17aa6455-d008-4461-944a-699243addd75",
   "metadata": {},
   "source": [
    "### Choose your results file"
   ]
  },
  {
   "cell_type": "code",
   "execution_count": 2,
   "id": "7384d210-9e38-4257-95c0-ada5c17d9892",
   "metadata": {},
   "outputs": [
    {
     "name": "stdout",
     "output_type": "stream",
     "text": [
      "versions available locally:\n",
      "1. ./data/aug_small-v0\n",
      "2. ./data/drop3-aug1-drop3-aug1-vAlpha\n",
      "3. ./data/drop30-v0\n",
      "4. ./data/squad-5epochs-v0\n",
      "5. ./data/augmented-v0\n",
      "6. ./data/drop-augmented-v0\n",
      "7. ./data/squad-v0\n",
      "8. ./data/drop5-aug5-v0\n",
      "9. ./data/drop10-v0\n",
      "10. ./data/drop-v0\n",
      "11. ./data/drop3-aug1-vAlpha\n",
      "12. ./data/augmented10-drop5-v0\n",
      "13. ./data/drop-5epochs-squad-5epochs-v0\n",
      "14. ./data/drop5-aug5-drop5-v0\n",
      "15. ./data/squad-augmented-v0\n",
      "16. ./data/augmented-data\n",
      "17. ./data/squad-60epochs-v0\n",
      "18. ./data/drop5-v0\n",
      "19. ./data/drop3-aug1-drop3-vAlpha\n",
      "20. ./data/drop3-vAlpha\n",
      "21. ./data/drop-60epochs-v0\n"
     ]
    },
    {
     "name": "stdin",
     "output_type": "stream",
     "text": [
      "Enter number:  11\n"
     ]
    },
    {
     "name": "stdout",
     "output_type": "stream",
     "text": [
      "1. augmented_validation2227-Jul26.pkl\n",
      "2. augmented_validation2215-Jul26.pkl\n"
     ]
    },
    {
     "name": "stdin",
     "output_type": "stream",
     "text": [
      "Enter number:  1\n"
     ]
    },
    {
     "name": "stdout",
     "output_type": "stream",
     "text": [
      "Importing dataframe of results...\n",
      "F1 score: 0.37016\n",
      "EM score: 0.32910\n"
     ]
    },
    {
     "data": {
      "text/html": [
       "<div>\n",
       "<style scoped>\n",
       "    .dataframe tbody tr th:only-of-type {\n",
       "        vertical-align: middle;\n",
       "    }\n",
       "\n",
       "    .dataframe tbody tr th {\n",
       "        vertical-align: top;\n",
       "    }\n",
       "\n",
       "    .dataframe thead th {\n",
       "        text-align: right;\n",
       "    }\n",
       "</style>\n",
       "<table border=\"1\" class=\"dataframe\">\n",
       "  <thead>\n",
       "    <tr style=\"text-align: right;\">\n",
       "      <th></th>\n",
       "      <th>section_id</th>\n",
       "      <th>query_id</th>\n",
       "      <th>passage</th>\n",
       "      <th>question</th>\n",
       "      <th>answers_spans</th>\n",
       "      <th>predicted</th>\n",
       "      <th>EM</th>\n",
       "      <th>F1</th>\n",
       "    </tr>\n",
       "  </thead>\n",
       "  <tbody>\n",
       "    <tr>\n",
       "      <th>0</th>\n",
       "      <td>nfl_1184</td>\n",
       "      <td>f37e81fa-ef7b-4583-b671-762fc433faa9</td>\n",
       "      <td>Hoping to rebound from their loss to the Patr...</td>\n",
       "      <td>Who scored the first touchdown of the game?</td>\n",
       "      <td>{'spans': ['Chaz Schilens', 'JaMarcus Russell'...</td>\n",
       "      <td>Chaz Schilens</td>\n",
       "      <td>1.0</td>\n",
       "      <td>1.0</td>\n",
       "    </tr>\n",
       "    <tr>\n",
       "      <th>1</th>\n",
       "      <td>nfl_1184</td>\n",
       "      <td>ac6ba235-3024-4f63-a6ab-730a14def4cb</td>\n",
       "      <td>Hoping to rebound from their loss to the Patr...</td>\n",
       "      <td>How many field goals did Kris Brown kick?</td>\n",
       "      <td>{'spans': ['2', '3', '3', '3', '3'], 'types': ...</td>\n",
       "      <td>2</td>\n",
       "      <td>1.0</td>\n",
       "      <td>1.0</td>\n",
       "    </tr>\n",
       "    <tr>\n",
       "      <th>2</th>\n",
       "      <td>nfl_1184</td>\n",
       "      <td>2c7c93f6-69ed-47cc-a5af-94a00c185a26</td>\n",
       "      <td>Hoping to rebound from their loss to the Patr...</td>\n",
       "      <td>Which team won the game?</td>\n",
       "      <td>{'spans': ['Raiders', 'Raiders', 'Raiders', 't...</td>\n",
       "      <td>Raiders</td>\n",
       "      <td>1.0</td>\n",
       "      <td>1.0</td>\n",
       "    </tr>\n",
       "    <tr>\n",
       "      <th>3</th>\n",
       "      <td>nfl_1184</td>\n",
       "      <td>7dfd2b64-f39e-4bb4-aeb0-1900adda6018</td>\n",
       "      <td>Hoping to rebound from their loss to the Patr...</td>\n",
       "      <td>How many field goals did both teams kick in th...</td>\n",
       "      <td>{'spans': ['2', '2', '2', '2', '2'], 'types': ...</td>\n",
       "      <td>1</td>\n",
       "      <td>0.0</td>\n",
       "      <td>0.0</td>\n",
       "    </tr>\n",
       "    <tr>\n",
       "      <th>4</th>\n",
       "      <td>nfl_1184</td>\n",
       "      <td>121a8f57-7752-4373-a9ba-748b2c577cd2</td>\n",
       "      <td>Hoping to rebound from their loss to the Patr...</td>\n",
       "      <td>How many more yards was Kris Browns's first fi...</td>\n",
       "      <td>{'spans': ['29', '20', '29', '29', '29'], 'typ...</td>\n",
       "      <td>10</td>\n",
       "      <td>0.0</td>\n",
       "      <td>0.0</td>\n",
       "    </tr>\n",
       "  </tbody>\n",
       "</table>\n",
       "</div>"
      ],
      "text/plain": [
       "  section_id                              query_id                                            passage                                           question                                      answers_spans      predicted   EM   F1\n",
       "0   nfl_1184  f37e81fa-ef7b-4583-b671-762fc433faa9   Hoping to rebound from their loss to the Patr...        Who scored the first touchdown of the game?  {'spans': ['Chaz Schilens', 'JaMarcus Russell'...  Chaz Schilens  1.0  1.0\n",
       "1   nfl_1184  ac6ba235-3024-4f63-a6ab-730a14def4cb   Hoping to rebound from their loss to the Patr...          How many field goals did Kris Brown kick?  {'spans': ['2', '3', '3', '3', '3'], 'types': ...              2  1.0  1.0\n",
       "2   nfl_1184  2c7c93f6-69ed-47cc-a5af-94a00c185a26   Hoping to rebound from their loss to the Patr...                           Which team won the game?  {'spans': ['Raiders', 'Raiders', 'Raiders', 't...        Raiders  1.0  1.0\n",
       "3   nfl_1184  7dfd2b64-f39e-4bb4-aeb0-1900adda6018   Hoping to rebound from their loss to the Patr...  How many field goals did both teams kick in th...  {'spans': ['2', '2', '2', '2', '2'], 'types': ...              1  0.0  0.0\n",
       "4   nfl_1184  121a8f57-7752-4373-a9ba-748b2c577cd2   Hoping to rebound from their loss to the Patr...  How many more yards was Kris Browns's first fi...  {'spans': ['29', '20', '29', '29', '29'], 'typ...             10  0.0  0.0"
      ]
     },
     "execution_count": 2,
     "metadata": {},
     "output_type": "execute_result"
    }
   ],
   "source": [
    "#choose a version\n",
    "local_versions = glob.glob('./data/*',recursive=True)\n",
    "local_versions  = [x for x in local_versions if 'experiments' not in x]\n",
    "print('versions available locally:')\n",
    "for x in range(len(local_versions)):\n",
    "    print(f'{x+1}. {local_versions[x]}')\n",
    "selection = -1    \n",
    "while(selection not in range(len(local_versions)+1)):\n",
    "    selection = input('Enter number: ')\n",
    "    try:\n",
    "        selection = int(selection)\n",
    "    except:\n",
    "        print('please enter a number')\n",
    "\n",
    "selection -= 1\n",
    "version_dir = local_versions[selection]\n",
    "    \n",
    "data_dir = f\"{version_dir}/{t5_model}\"\n",
    "results_dir = f\"{data_dir}/results/\"\n",
    "assert os.path.exists(results_dir), 'error, no results found in folder {}'.format(results_dir)\n",
    "\n",
    "#choose a results file\n",
    "files = glob.glob(results_dir+'*.pkl',recursive=True)\n",
    "for i in range(len(files)):\n",
    "    print(f'{i+1}. {files[i].rsplit(\"/\",1)[1]}')\n",
    "selection = -1    \n",
    "while(selection not in range(len(files)+1)):\n",
    "    selection = input('Enter number: ')\n",
    "    try:\n",
    "        selection = int(selection)\n",
    "    except:\n",
    "        print('please enter a number')    \n",
    "selection -= 1        \n",
    "\n",
    "print('Importing dataframe of results...')\n",
    "df = pd.read_pickle(files[selection])\n",
    "print(f'F1 score: {df.F1.mean():0.5f}')\n",
    "print(f'EM score: {df.EM.mean():0.5f}')\n",
    "df.head()"
   ]
  },
  {
   "cell_type": "markdown",
   "id": "5a471943-530f-4c77-8939-0b1ef38504cd",
   "metadata": {},
   "source": [
    "### Tag questions"
   ]
  },
  {
   "cell_type": "code",
   "execution_count": 3,
   "id": "554c3a8f-a481-4d32-9feb-1f9ef8b02245",
   "metadata": {},
   "outputs": [
    {
     "name": "stdout",
     "output_type": "stream",
     "text": [
      "question type: Or\n",
      "  * count: 1,805\n",
      "  * avg F1: 0.61736\n",
      "  * avg EM: 0.54571\n",
      "\n",
      "question type: Sort\n",
      "  * count: 3,971\n",
      "  * avg F1: 0.41665\n",
      "  * avg EM: 0.36867\n",
      "\n",
      "question type: Who\n",
      "  * count: 683\n",
      "  * avg F1: 0.52890\n",
      "  * avg EM: 0.47584\n",
      "\n",
      "question type: What\n",
      "  * count: 596\n",
      "  * avg F1: 0.44948\n",
      "  * avg EM: 0.30369\n",
      "\n",
      "question type: When\n",
      "  * count: 108\n",
      "  * avg F1: 0.19222\n",
      "  * avg EM: 0.12037\n",
      "\n",
      "question type: Where\n",
      "  * count: 87\n",
      "  * avg F1: 0.47103\n",
      "  * avg EM: 0.41379\n",
      "\n",
      "question type: Why\n",
      "  * count: 8\n",
      "  * avg F1: 0.08375\n",
      "  * avg EM: 0.00000\n",
      "\n",
      "question type: How\n",
      "  * count: 5,955\n",
      "  * avg F1: 0.27053\n",
      "  * avg EM: 0.26801\n",
      "\n",
      "question type: Which\n",
      "  * count: 1,989\n",
      "  * avg F1: 0.55470\n",
      "  * avg EM: 0.44394\n",
      "\n",
      "question type: Boolean\n",
      "  * count: 228\n",
      "  * avg F1: 0.55105\n",
      "  * avg EM: 0.47368\n",
      "\n",
      "question type: MathEasyQ\n",
      "  * count: 361\n",
      "  * avg F1: 0.32424\n",
      "  * avg EM: 0.31025\n",
      "\n",
      "question type: MathHardQ\n",
      "  * count: 5,528\n",
      "  * avg F1: 0.27182\n",
      "  * avg EM: 0.27008\n",
      "\n"
     ]
    }
   ],
   "source": [
    "def tag_questions(df):\n",
    "\n",
    "    df.reset_index(drop=True, inplace = True) #clean up - adding indicies\n",
    "    \n",
    "    df['answer_type'] = df.answers_spans.apply(lambda d: d['types'][0])\n",
    "#     print('answer type value counts: \\n',df.answer_type.value_counts())\n",
    "\n",
    "    df['answers_list'] = df.answers_spans.apply(lambda z: z['spans'])\n",
    "\n",
    "\n",
    "    df['EasyQ'] = df.apply(lambda z: 1 if len(set(z['passage'].split()).intersection(set(z.answers_list))) > 0 else 0,axis=1)\n",
    "    df['MathEasyQ'] = np.where((df.EasyQ == 1) &(df.answer_type == 'number'),1,0)\n",
    "    df['MathHardQ'] = np.where((df.answer_type == 'number')&(df.MathEasyQ == 0),1,0)\n",
    "\n",
    "    \n",
    "#     #tag columns\n",
    "#     question_labels = ['Or','Sort','Who','What','When','Where','How','Which','Boolean']\n",
    "#     for label in question_labels:\n",
    "#         df[label] = 0\n",
    "\n",
    "    df['Or'] = np.where(df.question.str.contains(\" or \", flags=re.IGNORECASE), 1, 0)\n",
    "    \n",
    "    sort_keywords = [\"est \",\"first\",\"last\",\"more\",\"less\",\"better\",\"worse\",\"larger\",\"smaller\"]\n",
    "    \n",
    "    sort_pat = '|'.join(sort_keywords)\n",
    "    df['Sort'] = np.where(df.question.str.contains(sort_pat,flags=re.IGNORECASE), 1, 0)\n",
    "\n",
    "    for q in ['Who','What','When','Where','Why','How','Which']:\n",
    "        df[q] = np.where(df.question.str.lower().str.contains(q.lower()),1,0)\n",
    "    \n",
    "    df['Boolean'] = np.where(df.question.str.startswith('Is'),1,0)\n",
    "    df['Boolean'] = np.where(df.question.str.startswith('Was'),1,df.Boolean)\n",
    "    df['Boolean'] = np.where(df.question.str.startswith('Did'),1,df.Boolean)\n",
    "    df['Boolean'] = np.where(df.question.str.startswith('Were'),1,df.Boolean)\n",
    "    \n",
    "    q_list = ['Or','Sort','Who','What','When','Where','Why','How','Which','Boolean','MathEasyQ','MathHardQ']\n",
    "    for q in q_list:\n",
    "        print('question type: {}\\n  * count: {:,}\\n  * avg F1: {:0.5f}\\n  * avg EM: {:0.5f}\\n'.format(q,sum(df[q] == 1),df[df[q]==1].F1.mean(),df[df[q]==1].EM.mean()))\n",
    "        \n",
    "    df['check_tot'] = df[['Or','Sort','Who','What','When','Where','Why','How','Which','Boolean']].sum(axis=1)\n",
    "    \n",
    "    return df\n",
    "\n",
    "def print_example(query_id,df):\n",
    "    print('question: ',df.loc[df.query_id == query_id,'question'].iloc[0])\n",
    "    print('passage: ',df.loc[df.query_id == query_id,'passage'].iloc[0])\n",
    "    print('\\npredicted answer: ',df.loc[df.query_id == query_id,'predicted'].iloc[0])\n",
    "    print('True answers: ',df.loc[df.query_id == query_id,'answers_spans'].iloc[0])\n",
    "    print('F1 score: ',df.loc[df.query_id == query_id,'F1'].iloc[0])\n",
    "    print('EM score: ',df.loc[df.query_id == query_id,'EM'].iloc[0])\n",
    "\n",
    "df = tag_questions(df)"
   ]
  },
  {
   "cell_type": "code",
   "execution_count": 4,
   "id": "3936e575-efd5-4a82-a1cd-147c4e7ad3cf",
   "metadata": {},
   "outputs": [
    {
     "data": {
      "text/plain": [
       "number    5889\n",
       "span      3503\n",
       "date       143\n",
       "Name: answer_type, dtype: int64"
      ]
     },
     "execution_count": 4,
     "metadata": {},
     "output_type": "execute_result"
    }
   ],
   "source": [
    "df.answer_type.value_counts()"
   ]
  },
  {
   "cell_type": "code",
   "execution_count": 14,
   "id": "e1b235ad-8d18-40f9-b32b-ea6b1ce14547",
   "metadata": {},
   "outputs": [
    {
     "data": {
      "text/html": [
       "<div>\n",
       "<style scoped>\n",
       "    .dataframe tbody tr th:only-of-type {\n",
       "        vertical-align: middle;\n",
       "    }\n",
       "\n",
       "    .dataframe tbody tr th {\n",
       "        vertical-align: top;\n",
       "    }\n",
       "\n",
       "    .dataframe thead th {\n",
       "        text-align: right;\n",
       "    }\n",
       "</style>\n",
       "<table border=\"1\" class=\"dataframe\">\n",
       "  <thead>\n",
       "    <tr style=\"text-align: right;\">\n",
       "      <th></th>\n",
       "      <th>section_id</th>\n",
       "      <th>query_id</th>\n",
       "      <th>passage</th>\n",
       "      <th>question</th>\n",
       "      <th>answers_spans</th>\n",
       "      <th>predicted</th>\n",
       "      <th>EM</th>\n",
       "      <th>F1</th>\n",
       "      <th>answer_type</th>\n",
       "      <th>answers_list</th>\n",
       "      <th>EasyQ</th>\n",
       "      <th>MathEasyQ</th>\n",
       "      <th>MathHardQ</th>\n",
       "      <th>Or</th>\n",
       "      <th>Sort</th>\n",
       "      <th>Who</th>\n",
       "      <th>What</th>\n",
       "      <th>When</th>\n",
       "      <th>Where</th>\n",
       "      <th>Why</th>\n",
       "      <th>How</th>\n",
       "      <th>Which</th>\n",
       "      <th>Boolean</th>\n",
       "      <th>check_tot</th>\n",
       "    </tr>\n",
       "  </thead>\n",
       "  <tbody>\n",
       "    <tr>\n",
       "      <th>0</th>\n",
       "      <td>nfl_1184</td>\n",
       "      <td>f37e81fa-ef7b-4583-b671-762fc433faa9</td>\n",
       "      <td>Hoping to rebound from their loss to the Patr...</td>\n",
       "      <td>Who scored the first touchdown of the game?</td>\n",
       "      <td>{'spans': ['Chaz Schilens', 'JaMarcus Russell'...</td>\n",
       "      <td>Chaz Schilens</td>\n",
       "      <td>1.0</td>\n",
       "      <td>1.0</td>\n",
       "      <td>span</td>\n",
       "      <td>[Chaz Schilens, JaMarcus Russell]</td>\n",
       "      <td>0</td>\n",
       "      <td>0</td>\n",
       "      <td>0</td>\n",
       "      <td>0</td>\n",
       "      <td>1</td>\n",
       "      <td>1</td>\n",
       "      <td>0</td>\n",
       "      <td>0</td>\n",
       "      <td>0</td>\n",
       "      <td>0</td>\n",
       "      <td>0</td>\n",
       "      <td>0</td>\n",
       "      <td>0</td>\n",
       "      <td>2</td>\n",
       "    </tr>\n",
       "    <tr>\n",
       "      <th>1</th>\n",
       "      <td>nfl_1184</td>\n",
       "      <td>ac6ba235-3024-4f63-a6ab-730a14def4cb</td>\n",
       "      <td>Hoping to rebound from their loss to the Patr...</td>\n",
       "      <td>How many field goals did Kris Brown kick?</td>\n",
       "      <td>{'spans': ['2', '3', '3', '3', '3'], 'types': ...</td>\n",
       "      <td>2</td>\n",
       "      <td>1.0</td>\n",
       "      <td>1.0</td>\n",
       "      <td>number</td>\n",
       "      <td>[2, 3, 3, 3, 3]</td>\n",
       "      <td>0</td>\n",
       "      <td>0</td>\n",
       "      <td>1</td>\n",
       "      <td>0</td>\n",
       "      <td>0</td>\n",
       "      <td>0</td>\n",
       "      <td>0</td>\n",
       "      <td>0</td>\n",
       "      <td>0</td>\n",
       "      <td>0</td>\n",
       "      <td>1</td>\n",
       "      <td>0</td>\n",
       "      <td>0</td>\n",
       "      <td>1</td>\n",
       "    </tr>\n",
       "    <tr>\n",
       "      <th>2</th>\n",
       "      <td>nfl_1184</td>\n",
       "      <td>2c7c93f6-69ed-47cc-a5af-94a00c185a26</td>\n",
       "      <td>Hoping to rebound from their loss to the Patr...</td>\n",
       "      <td>Which team won the game?</td>\n",
       "      <td>{'spans': ['Raiders', 'Raiders', 'Raiders', 't...</td>\n",
       "      <td>Raiders</td>\n",
       "      <td>1.0</td>\n",
       "      <td>1.0</td>\n",
       "      <td>span</td>\n",
       "      <td>[Raiders, Raiders, Raiders, the Raiders, the R...</td>\n",
       "      <td>1</td>\n",
       "      <td>0</td>\n",
       "      <td>0</td>\n",
       "      <td>0</td>\n",
       "      <td>0</td>\n",
       "      <td>0</td>\n",
       "      <td>0</td>\n",
       "      <td>0</td>\n",
       "      <td>0</td>\n",
       "      <td>0</td>\n",
       "      <td>0</td>\n",
       "      <td>1</td>\n",
       "      <td>0</td>\n",
       "      <td>1</td>\n",
       "    </tr>\n",
       "    <tr>\n",
       "      <th>3</th>\n",
       "      <td>nfl_1184</td>\n",
       "      <td>7dfd2b64-f39e-4bb4-aeb0-1900adda6018</td>\n",
       "      <td>Hoping to rebound from their loss to the Patr...</td>\n",
       "      <td>How many field goals did both teams kick in th...</td>\n",
       "      <td>{'spans': ['2', '2', '2', '2', '2'], 'types': ...</td>\n",
       "      <td>1</td>\n",
       "      <td>0.0</td>\n",
       "      <td>0.0</td>\n",
       "      <td>number</td>\n",
       "      <td>[2, 2, 2, 2, 2]</td>\n",
       "      <td>0</td>\n",
       "      <td>0</td>\n",
       "      <td>1</td>\n",
       "      <td>0</td>\n",
       "      <td>1</td>\n",
       "      <td>0</td>\n",
       "      <td>0</td>\n",
       "      <td>0</td>\n",
       "      <td>0</td>\n",
       "      <td>0</td>\n",
       "      <td>1</td>\n",
       "      <td>0</td>\n",
       "      <td>0</td>\n",
       "      <td>2</td>\n",
       "    </tr>\n",
       "    <tr>\n",
       "      <th>4</th>\n",
       "      <td>nfl_1184</td>\n",
       "      <td>121a8f57-7752-4373-a9ba-748b2c577cd2</td>\n",
       "      <td>Hoping to rebound from their loss to the Patr...</td>\n",
       "      <td>How many more yards was Kris Browns's first fi...</td>\n",
       "      <td>{'spans': ['29', '20', '29', '29', '29'], 'typ...</td>\n",
       "      <td>10</td>\n",
       "      <td>0.0</td>\n",
       "      <td>0.0</td>\n",
       "      <td>number</td>\n",
       "      <td>[29, 20, 29, 29, 29]</td>\n",
       "      <td>0</td>\n",
       "      <td>0</td>\n",
       "      <td>1</td>\n",
       "      <td>0</td>\n",
       "      <td>1</td>\n",
       "      <td>0</td>\n",
       "      <td>0</td>\n",
       "      <td>0</td>\n",
       "      <td>0</td>\n",
       "      <td>0</td>\n",
       "      <td>1</td>\n",
       "      <td>0</td>\n",
       "      <td>0</td>\n",
       "      <td>2</td>\n",
       "    </tr>\n",
       "  </tbody>\n",
       "</table>\n",
       "</div>"
      ],
      "text/plain": [
       "  section_id                              query_id                                            passage                                           question                                      answers_spans      predicted   EM   F1 answer_type                                       answers_list  EasyQ  MathEasyQ  MathHardQ  Or  Sort  Who  What  When  Where  Why  How  Which  Boolean  check_tot\n",
       "0   nfl_1184  f37e81fa-ef7b-4583-b671-762fc433faa9   Hoping to rebound from their loss to the Patr...        Who scored the first touchdown of the game?  {'spans': ['Chaz Schilens', 'JaMarcus Russell'...  Chaz Schilens  1.0  1.0        span                  [Chaz Schilens, JaMarcus Russell]      0          0          0   0     1    1     0     0      0    0    0      0        0          2\n",
       "1   nfl_1184  ac6ba235-3024-4f63-a6ab-730a14def4cb   Hoping to rebound from their loss to the Patr...          How many field goals did Kris Brown kick?  {'spans': ['2', '3', '3', '3', '3'], 'types': ...              2  1.0  1.0      number                                    [2, 3, 3, 3, 3]      0          0          1   0     0    0     0     0      0    0    1      0        0          1\n",
       "2   nfl_1184  2c7c93f6-69ed-47cc-a5af-94a00c185a26   Hoping to rebound from their loss to the Patr...                           Which team won the game?  {'spans': ['Raiders', 'Raiders', 'Raiders', 't...        Raiders  1.0  1.0        span  [Raiders, Raiders, Raiders, the Raiders, the R...      1          0          0   0     0    0     0     0      0    0    0      1        0          1\n",
       "3   nfl_1184  7dfd2b64-f39e-4bb4-aeb0-1900adda6018   Hoping to rebound from their loss to the Patr...  How many field goals did both teams kick in th...  {'spans': ['2', '2', '2', '2', '2'], 'types': ...              1  0.0  0.0      number                                    [2, 2, 2, 2, 2]      0          0          1   0     1    0     0     0      0    0    1      0        0          2\n",
       "4   nfl_1184  121a8f57-7752-4373-a9ba-748b2c577cd2   Hoping to rebound from their loss to the Patr...  How many more yards was Kris Browns's first fi...  {'spans': ['29', '20', '29', '29', '29'], 'typ...             10  0.0  0.0      number                               [29, 20, 29, 29, 29]      0          0          1   0     1    0     0     0      0    0    1      0        0          2"
      ]
     },
     "execution_count": 14,
     "metadata": {},
     "output_type": "execute_result"
    }
   ],
   "source": [
    "df.head()"
   ]
  },
  {
   "cell_type": "code",
   "execution_count": 20,
   "id": "a5cf3160-a7ef-4b55-90dd-a6a3eeac1545",
   "metadata": {},
   "outputs": [
    {
     "name": "stdout",
     "output_type": "stream",
     "text": [
      "question:  How many yards of field goals did Gould kick?\n",
      "passage:   Trying to snap a six-game losing skid, the Lions returned home for an NFC North rematch the-now 2-time NFC North champion Chicago Bears.  In the first quarter, the Bears struck first with kicker Robbie Gould nailing a 36-yard field goal.  Afterwards, the Lions took the lead with QB Jon Kitna completing a 23-yard TD pass to TE Dan Campbell.  In the second quarter, Chicago bounced back with QB Rex Grossman completing a 13-yard TD pass to WR Bernard Berrian.  Afterwards, RB Adrian Peterson got a 2-yard TD run.  In the third quarter, Detroit retook the lead with Kitna completing a 20-yard TD pass to WR Mike Furrey and a 2-yard TD pass to WR Roy Williams.  However, in the fourth quarter, the inconsistency that continues to plague the Lions showed as the Bears won with Gould getting a 36-yard field goal, a 39-yard field goal, and a 44-yard field goal and on a dropped pass by Mike Williams in the endzone on the last play of the game.  With their seventh-straight loss, the Lions fell to 2-13 as they were swept by their division rivals.\n",
      "\n",
      "predicted answer:  11 1\n",
      "True answers:  {'spans': array(['4', '155'], dtype=object), 'types': array(['number', 'number'], dtype=object)}\n",
      "F1 score:  0.0\n",
      "EM score:  0.0\n"
     ]
    }
   ],
   "source": [
    "query_id = '6f1888c9-e249-4b44-ab85-78a309a36880'\n",
    "print_example(query_id,df)"
   ]
  },
  {
   "cell_type": "code",
   "execution_count": 5,
   "id": "53c94fd2-9912-4846-801e-cbccd41d53f8",
   "metadata": {},
   "outputs": [
    {
     "name": "stdout",
     "output_type": "stream",
     "text": [
      "question:  What kind of people were on the ships that arrived at St. Croix in August?\n",
      "passage:  Danish officials appealed for help to French colonists at Martinique, located 324 miles away. Two French ships arrived from there to St. John on April 23, 1734, carrying several hundred French and Swiss troops to try to take control from the rebels. With their firepower and troops, by mid-May they had restored planters' rule of the island. The French ships returned to Martinique on June 1, leaving the local militia to track down the remaining rebels, which they did over the next three months. The slave insurrection was considered ended on August 25, 1734 when Sergeant Øttingen captured the remaining maroon rebels. The loss of life and property from the insurrection caused many St. John landowners to move to St. Croix, a nearby island bought by the Danish from the French in 1733. Four ships carried planters and their families from Charlotte Amalie in August. While they found St. Croix to be a richer land, they had to have their slaves clear jungle before being able to live there readily.\n",
      "\n",
      "predicted answer:  French\n",
      "True answers:  {'spans': array(['planters and their families', 'French and Swiss troops',\n",
      "       'planters and their families', 'planters and their families'],\n",
      "      dtype=object), 'types': array(['span', 'span', 'span', 'span'], dtype=object)}\n",
      "F1 score:  0.4\n",
      "EM score:  0.0\n"
     ]
    }
   ],
   "source": [
    "query_id = '0686d1f9-4a8e-4031-b665-49d425afb777'\n",
    "print_example(query_id,df)"
   ]
  },
  {
   "cell_type": "code",
   "execution_count": 6,
   "id": "9aacdbd2-e5a2-4dde-8579-49174f44a2e2",
   "metadata": {},
   "outputs": [
    {
     "name": "stdout",
     "output_type": "stream",
     "text": [
      "question:  How many percent are not Marriage couples living together?\n",
      "passage:  There were 664,594 households out of which 24.35% had children under the age of 18 living with them, 46.28% were Marriage living together, 11.68% had a female householder with no husband present, and 37.40% were non-families. 30.11% of all households were made up of individuals and 14.70% (4.02% male and 10.68% female) had someone living alone who was 65 years of age or older. The average household size was 2.39 and the average family size was 2.97.\n",
      "\n",
      "predicted answer:  53.72\n",
      "True answers:  {'spans': array(['53.72', '46.28', '53.72', '37.4'], dtype=object), 'types': array(['number', 'number', 'number', 'number'], dtype=object)}\n",
      "F1 score:  1.0\n",
      "EM score:  1.0\n"
     ]
    }
   ],
   "source": [
    "query_id = '86dd1721-6bf4-45fa-b01e-de47e4f7301d'\n",
    "print_example(query_id,df)"
   ]
  },
  {
   "cell_type": "code",
   "execution_count": 7,
   "id": "17f17ccf-14bd-42bd-a9db-09bf4f6e5ce2",
   "metadata": {},
   "outputs": [
    {
     "name": "stdout",
     "output_type": "stream",
     "text": [
      "question:  How many rushing touchdowns occurred in the game?\n",
      "passage:   The Eagles faced off with the Baltimore Ravens in an interconference matchup.  Both defenses dominated the first quarter, and in the second quarter, Baltimore forced three turnovers (two interceptions and a fumble) from Donovan McNabb.  Ravens kicker Matt Stover booted a 44-yard field goal, while quarterback Joe Flacco completed a 1-yard touchdown pass to tight end Daniel Wilcox.  However, rookie  Quintin Demps returned the following kickoff 100 yards for a Philadelphia touchdown to make it 10-7 Ravens at halftime.  Andy Reid decided to bench McNabb (who was 8-for-18 for 59 yards and two interceptions) and put backup quarterback Kevin Kolb into the game.  Kolb also struggled with the Baltimore defense, and the Eagles fell behind 12-7 when linebacker Jameel McClain blocked Sav Rocca's punt into the back of the endzone for a safety. In the fourth, the Ravens kicked another field goal after a Kolb interception, then Mark Clayton took a short slant 53-yards for a touchdown to make it 22-7.  Kolb drove Philadelphia to the Raven 1-yard line, but was intercepted in the end zone by Ed Reed, who returned the ball an NFL-record 108 yards for the touchdown.  Le'Ron McClain added a 1-yard touchdown run as Baltimore won 36-7.  Kolb was 10-for-23 for 73 yards and two interceptions, and Brian Westbrook had 39 yards rushing on 14 carries.  The Eagles dropped to 5-5-1.\n",
      "\n",
      "predicted answer:  2\n",
      "True answers:  {'spans': array(['4', '29'], dtype=object), 'types': array(['number', 'number'], dtype=object)}\n",
      "F1 score:  0.0\n",
      "EM score:  0.0\n"
     ]
    }
   ],
   "source": [
    "query_id = 'ad19857f-cd76-4d01-ba29-1a589cfee053'\n",
    "print_example(query_id,df)"
   ]
  },
  {
   "cell_type": "code",
   "execution_count": 9,
   "id": "db1524b0-e5a6-46d8-ba52-cf907a259e22",
   "metadata": {},
   "outputs": [
    {
     "name": "stdout",
     "output_type": "stream",
     "text": [
      "question:  How long did the Sack of Brescia last?\n",
      "passage:  The Sack of Brescia took place on February 18, 1512 during the War of the League of Cambrai. The city of Brescia had revolted against French control, garrisoning itself with Venetian troops. Gaston de Foix, recently arrived to command the French armies in Italy, ordered the city to surrender; when it refused, he attacked it with around 12,000 men. The French attack took place in a pouring rain, through a field of mud; Foix ordered his men to remove their shoes for better traction. The defenders inflicted heavy casualties on the French, but were eventually overrun, suffering 8,000 - 15,000 casualties. The Gascon infantry and landsknechts then proceeded to thoroughly sack the city, massacring thousands of civilians over the next five days. Following this, the city of Bergamo paid some 60,000 ducats to the French to avoid a similar fate.\n",
      "\n",
      "predicted answer:  60,000\n",
      "True answers:  {'spans': array(['5', 'five days', 'five days'], dtype=object), 'types': array(['number', 'span', 'span'], dtype=object)}\n",
      "F1 score:  0.0\n",
      "EM score:  0.0\n"
     ]
    }
   ],
   "source": [
    "print_example('c78fec38-c81b-4775-a760-ad9cb32f4817',df)"
   ]
  },
  {
   "cell_type": "code",
   "execution_count": 10,
   "id": "7d06fdd2-e4d0-42bb-8919-e5c6e2dafb6c",
   "metadata": {},
   "outputs": [
    {
     "name": "stdout",
     "output_type": "stream",
     "text": [
      "question:  How many hours was Fox Sports 1 down this year compared to last year?\n",
      "passage:  The 2018 edition of the U.S. Open featured a total of 37 hours of coverage in the United States, with 19.5 hours being on Thursday and Friday, and 17.5 hours being on Saturday and Sunday; the Fox Sports 1 cable network carried a total of 13.5 hours of coverage on Thursday and Friday. The Fox broadcast network had a total of 23.5 hours of coverage Thursday through Sunday, with 6 hours Thursday and Friday, and 17.5 hours Saturday and Sunday. The overall 37-hour total was down 1.5 hours from last years total of 38.5 hours, due to the Fox broadcast networks coverage having 23.5 hours this year, compared to the 24.5 hours it had last year, and the Fox Sports 1 cable networks 13.5 hours this year, compared to the 14 hours it had last year.\n",
      "\n",
      "predicted answer:  10.5\n",
      "True answers:  {'spans': array(['1.5', '.5'], dtype=object), 'types': array(['number', 'number'], dtype=object)}\n",
      "F1 score:  0.0\n",
      "EM score:  0.0\n"
     ]
    }
   ],
   "source": [
    "print_example('1f6b2aa8-fd2b-4de2-99ad-6c5fdc4cd267',df)"
   ]
  },
  {
   "cell_type": "code",
   "execution_count": 11,
   "id": "44fdaf69-d0d5-4b3a-8fc8-8d9325322816",
   "metadata": {},
   "outputs": [
    {
     "name": "stdout",
     "output_type": "stream",
     "text": [
      "question:  How many fewer Soviet prisoners of war were in the official totals than in the Finish estmates?\n",
      "passage:  According to Finnish historians, the casualties of the Finnish Defence Forces amounted to 63,204 dead or missing and around 158,000 wounded. Officially, the Soviets captured 2,377 Finnish prisoners of war in the Soviet Union, although Finnish researchers estimated the number to be around 3,500 prisoners. 939 Finnish civilians died in air raids and 190 civilians were killed by Soviet partisans. Germany suffered approximately 84,000 casualties in the Finnish front, 16,400 killed, 60,400 wounded and 6,800 missing. In addition to the original peace terms of restoring the 1940 border, Finland was required to Finnish war reparations to the Soviet Union, conduct War-responsibility trials in Finland, lease Porkkalanniemi to the Soviets as well as ban fascist elements and allow left-wing groups, such as the Communist Party of Finland. A Soviet-led Allied Control Commission was installed to enforce and monitor the peace agreement in Finland. The requirement to disarm or expel any German troops left on Finnish soil by 15 September 1944 eventually escalated into the Lapland War between Finland and Germany and the evacuation of the 200,000-strong 20th Mountain Army to Norway.\n",
      "\n",
      "predicted answer:  100000\n",
      "True answers:  {'spans': array(['1940', '1123'], dtype=object), 'types': array(['number', 'number'], dtype=object)}\n",
      "F1 score:  0.0\n",
      "EM score:  0.0\n"
     ]
    }
   ],
   "source": [
    "print_example('29648c25-d6fb-4ab3-a8ed-c38e3e493968',df)"
   ]
  },
  {
   "cell_type": "code",
   "execution_count": 12,
   "id": "1f33b476-54ae-4ee6-a8c5-5da977ce833c",
   "metadata": {},
   "outputs": [
    {
     "name": "stdout",
     "output_type": "stream",
     "text": [
      "question:  How many people in total would occupy 6 square miles of this county based on the population density in the census of 2000?\n",
      "passage:  As of the census of 2000, there were 445,342 people, 169,162 households, and 114,015 families residing in the county.  The population density was 615 people per square mile (238/km²).  There were 178,913 housing units at an average density of 247 per square mile (95/km²).  The racial makeup of the county was 82.19% Race (United States Census), 1.15% Race (United States Census) or Race (United States Census), 0.65% Race (United States Census), 6.68% Race (United States Census), 0.30% Race (United States Census), 5.86% from Race (United States Census), and 3.17% from two or more races.  11.17% of the population were Race (United States Census) or Race (United States Census) of any race. 17.2% were of German American, 9.9% English American, 8.2% Irish American, and 6.7% Americans ancestry. 81.7% spoke only English at home, while 9.6% spoke Spanish and 1.2% Vietnamese.\n",
      "\n",
      "predicted answer:  1000000\n",
      "True answers:  {'spans': array(['3690', '615', '3690'], dtype=object), 'types': array(['number', 'number', 'number'], dtype=object)}\n",
      "F1 score:  0.0\n",
      "EM score:  0.0\n"
     ]
    }
   ],
   "source": [
    "print_example('dc25acdd-3478-445f-becd-ce26caaca231',df)"
   ]
  },
  {
   "cell_type": "code",
   "execution_count": 15,
   "id": "8def6c8c-2983-423f-b568-a5841788e63f",
   "metadata": {},
   "outputs": [],
   "source": [
    "q_list = ['Or','Sort','Who','What','When','Where','Why','How','Which','Boolean','MathEasyQ','MathHardQ']\n",
    "all_count = []\n",
    "all_F1 = []\n",
    "all_EM = []\n",
    "\n",
    "for q in q_list:\n",
    "    count = sum(df[q] == 1)\n",
    "    F1 = df[df[q]==1].F1.mean()\n",
    "    EM = df[df[q]==1].EM.mean()\n",
    "    all_count.append(count)\n",
    "    all_F1.append(F1)\n",
    "    all_EM.append(EM)\n",
    "    \n"
   ]
  },
  {
   "cell_type": "code",
   "execution_count": 16,
   "id": "3c0d0eb1-eeb0-4b54-b472-654561e2725e",
   "metadata": {},
   "outputs": [
    {
     "data": {
      "image/png": "[encoded data removed]",
      "text/plain": [
       "<Figure size 1080x360 with 3 Axes>"
      ]
     },
     "metadata": {
      "needs_background": "light"
     },
     "output_type": "display_data"
    }
   ],
   "source": [
    "fig,ax=plt.subplots(nrows=1,ncols=3,figsize=(15,5))\n",
    "\n",
    "ax[0] = sns.barplot(x=q_list,y=all_count,ax=ax[0])\n",
    "_=ax[0].set_xticklabels(ax[0].get_xticklabels(),rotation=90)\n",
    "_=ax[0].set_title('Counts of Question Types')\n",
    "\n",
    "ax[1] = sns.barplot(x=q_list,y=all_F1,ax=ax[1])\n",
    "_=ax[1].set_xticklabels(ax[1].get_xticklabels(),rotation=90)\n",
    "_=ax[1].set_title('Question Type F1 values')\n",
    "\n",
    "ax[2] = sns.barplot(x=q_list,y=all_EM,ax=ax[2])\n",
    "_=ax[2].set_xticklabels(ax[2].get_xticklabels(),rotation=90)\n",
    "_=ax[2].set_title('Question Type EM values')"
   ]
  },
  {
   "cell_type": "code",
   "execution_count": 17,
   "id": "21b81c0c-4389-4b7b-b273-ab39a0e98ac1",
   "metadata": {},
   "outputs": [],
   "source": [
    "q_list = ['Or','Sort','Who','What','When','Where','Why','How','Which','Boolean','MathEasyQ','MathHardQ']\n",
    "all_count = []\n",
    "all_F1 = []\n",
    "all_EM = []\n",
    "\n",
    "for q in q_list:\n",
    "    count = sum(df[q] == 1)\n",
    "    F1 = df[df[q]==1].F1.mean()\n",
    "    EM = df[df[q]==1].EM.mean()\n",
    "    all_count.append(count)\n",
    "    all_F1.append(F1)\n",
    "    all_EM.append(EM)\n",
    "    \n"
   ]
  },
  {
   "cell_type": "code",
   "execution_count": 21,
   "id": "aa0d49a5-f966-440a-9385-bc0a6c82ce38",
   "metadata": {},
   "outputs": [
    {
     "name": "stdout",
     "output_type": "stream",
     "text": [
      "question:  How many more people are there than housing units?\n",
      "passage:  As of the census of 2000, there were 14,702 people, 5,771 households, and 4,097 families residing in the county.  The population density was 29 people per square mile (11/km²).  There were 7,374 housing units at an average density of 14 per square mile (6/km²).  The racial makeup of the county was 98.02% Race (United States Census), 0.69% Race (United States Census) or Race (United States Census), 0.35% Race (United States Census), 0.11% Race (United States Census), 0.05% Race (United States Census), 0.08% from Race (United States Census), and 0.71% from two or more races.  0.44% of the population were Race (United States Census) or Race (United States Census) of any race.\n",
      "\n",
      "predicted answer:  100000\n",
      "True answers:  {'spans': array(['7328', '7328'], dtype=object), 'types': array(['number', 'number'], dtype=object)}\n",
      "F1 score:  0.0\n",
      "EM score:  0.0\n"
     ]
    }
   ],
   "source": [
    "print_example('bcf578c2-0271-4f54-b980-cb438b34df2d',df)"
   ]
  },
  {
   "cell_type": "code",
   "execution_count": 22,
   "id": "2d671c55-ba99-49e8-82ff-4215b8576e80",
   "metadata": {},
   "outputs": [
    {
     "name": "stdout",
     "output_type": "stream",
     "text": [
      "question:  How many points did the Ravens score in their two highest scoring games combined?\n",
      "passage:  Baltimore managed to beat the Jets 10-9 on the 2010 opener, but then lost a poorly-played game against Cincinnati the following week. The Ravens rebounded against the other two division teams, beating Cleveland 24-17 in Week 3 and then Pittsburgh 17-14 in Week 4. The Ravens scored a fine win (31-17) at home against Denver in Week 5. After an overtime loss to New England, they narrowly avoided losing at home to the winless Bills. Next, the Ravens hosted Miami and won 26-10, breaking that teams 4-0 road streak. On Thursday Night, the team headed to Atlanta and lost 26-21 in a game that had some criticizing the officiating. The Ravens finished the season 12-4, second in the division due to a tiebreaker with Pittsburgh, and earning a wild card spot. Baltimore headed to Kansas City and crushed the unprepared Chiefs 30-7, but once again were knocked from the playoffs by Pittsburgh in a hard-fought battle.\n",
      "\n",
      "predicted answer:  100\n",
      "True answers:  {'spans': array(['61', '61'], dtype=object), 'types': array(['number', 'number'], dtype=object)}\n",
      "F1 score:  0.0\n",
      "EM score:  0.0\n",
      "\n",
      "------------------------\n",
      "\n",
      "question:  How many more people, in terms of percentage, were in the 2nd and 3rd largest age groups combined compared to the largest?\n",
      "passage:  In the county, the population was spread out with 26.20% under the age of 18, 9.30% from 18 to 24, 26.50% from 25 to 44, 23.50% from 45 to 64, and 14.60% who were 65 years of age or older.  The median age was 37 years. For every 100 females there were 95.90 males.  For every 100 females age 18 and over, there were 92.50 males.\n",
      "\n",
      "predicted answer:  10.3\n",
      "True answers:  {'spans': array(['23.2', '23.2'], dtype=object), 'types': array(['number', 'number'], dtype=object)}\n",
      "F1 score:  0.0\n",
      "EM score:  0.0\n"
     ]
    }
   ],
   "source": [
    "#really tough MATH & SORT question!!\n",
    "print_example('c94cef85-f269-43cf-8279-14892239dedf',df)\n",
    "print('\\n------------------------\\n')\n",
    "#another tough MATH SORT\n",
    "print_example('e2514a1c-07d1-49dc-b987-0dd832b5bd52',df)"
   ]
  },
  {
   "cell_type": "code",
   "execution_count": 23,
   "id": "3f1240f9-cf82-4bcf-8df8-952b0ce35454",
   "metadata": {},
   "outputs": [
    {
     "data": {
      "image/png": "[encoded data removed]",
      "text/plain": [
       "<Figure size 1800x720 with 10 Axes>"
      ]
     },
     "metadata": {
      "needs_background": "light"
     },
     "output_type": "display_data"
    }
   ],
   "source": [
    "nrows = 2\n",
    "ncols = 5\n",
    "counter = 0\n",
    "fig,ax = plt.subplots(nrows=nrows,ncols=ncols,figsize=(25,10))\n",
    "for row in range(nrows):\n",
    "    for col in range(ncols):\n",
    "        ax[row,col] = sns.histplot(data=df[df[qTypes[counter]]==1],x='F1',label=qTypes[counter],ax=ax[row,col])\n",
    "        ax[row,col].set_title(f'{qTypes[counter]}, Avg F1: {df[df[qTypes[counter]] == 1].F1.mean():0.5f}')\n",
    "        counter += 1\n",
    "    "
   ]
  }
 ],
 "metadata": {
  "kernelspec": {
   "display_name": "Python 3 (ipykernel)",
   "language": "python",
   "name": "python3"
  },
  "language_info": {
   "codemirror_mode": {
    "name": "ipython",
    "version": 3
   },
   "file_extension": ".py",
   "mimetype": "text/x-python",
   "name": "python",
   "nbconvert_exporter": "python",
   "pygments_lexer": "ipython3",
   "version": "3.9.1"
  }
 },
 "nbformat": 4,
 "nbformat_minor": 5
}
