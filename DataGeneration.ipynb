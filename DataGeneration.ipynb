{
  "nbformat": 4,
  "nbformat_minor": 5,
  "metadata": {
    "kernelspec": {
      "display_name": "Python 3",
      "language": "python",
      "name": "python3"
    },
    "language_info": {
      "codemirror_mode": {
        "name": "ipython",
        "version": 3
      },
      "file_extension": ".py",
      "mimetype": "text/x-python",
      "name": "python",
      "nbconvert_exporter": "python",
      "pygments_lexer": "ipython3",
      "version": "3.8.5"
    },
    "colab": {
      "name": "DataGeneration.ipynb",
      "provenance": [],
      "include_colab_link": true
    }
  },
  "cells": [
    {
      "cell_type": "markdown",
      "metadata": {
        "id": "view-in-github",
        "colab_type": "text"
      },
      "source": [
        "<a href=\"https://colab.research.google.com/github/omarkapur-mids/w266-project/blob/phillip/DataGeneration.ipynb\" target=\"_parent\"><img src=\"https://colab.research.google.com/assets/colab-badge.svg\" alt=\"Open In Colab\"/></a>"
      ]
    },
    {
      "cell_type": "code",
      "metadata": {
        "id": "CZQdfAKOZu-u"
      },
      "source": [
        "#from datasets import Dataset, load_dataset\n",
        "import pandas as pd\n",
        "import numpy as np\n",
        "import itertools\n"
      ],
      "id": "CZQdfAKOZu-u",
      "execution_count": 2,
      "outputs": []
    },
    {
      "cell_type": "markdown",
      "metadata": {
        "id": "ymnjmfluZu-y"
      },
      "source": [
        "# History Questions\n"
      ],
      "id": "ymnjmfluZu-y"
    },
    {
      "cell_type": "code",
      "metadata": {
        "id": "Lwq_f6w6Zu-y"
      },
      "source": [
        "peoples1 = ['Queen Elizabeth II','Cleopatra','Queen Victoria','Alexander the Great','Julius Caesar','Genghis Khan']\n",
        "peoples2 = ['Napoleon Bonaparte','Catherine the Great','Augustus','Henry VII of England','Benito Mussolini','William the Conqueror']\n",
        "wars = ['American Civil War','Thirty Year’s War','Napoleonic Wars','Russian Civil War','\tEnglish Civil War','Mongol Conquests ']\n",
        "desc_part = ['was a beacon of hope for their people, leading the nation to victory in the',\n",
        "             'became fierce when they had lost the',\n",
        "             'grew weary after waging the long war of',\n",
        "             'had fought side by side with their troops in the great']\n",
        "filler_sentence = ['Many wars were fought for religious, economic, and political reasons',\n",
        "                   'The conquest of nations was an extremely prevelant phenomenon throughout history',\n",
        "                   'Leaders needed to be brave and help their troops win the victory',\n",
        "                   'Winning wars became the backbone of technological advancements',\n",
        "                   'Around this time, there was much social commotion']\n",
        "beg_item = ['One study estimates that the over',\n",
        "            'Based on historical scholars,',\n",
        "            'Sources say that']\n",
        "ratio = ['half',\n",
        "         'twice',\n",
        "         'triple',\n",
        "         'three-fourths',\n",
        "         'one-fourth']\n",
        "intro = ['There are lots of',\n",
        "         '']\n",
        "\n",
        "\n",
        "import itertools\n",
        "\n",
        "context_template = \"{} {} {} against {}. {}. {} {}% of {}'s troops died, after killing over {} as much of {}'s troops .\"\n",
        "recall_extract_question_template = \"What percentage of {}'s troops were killed?\"\n",
        "recall_ratio_question_template = \"What percentage of {}'s troops were killed?\"\n",
        "neg_question_template = \"What percentage of {}'s troops survived?\"\n",
        "neg_ratio_question_template = \"What percentage of {}'s troops survived?\"\n",
        "or_most_question_template = \"Who had the largest percentage of troops killed?\"\n",
        "or_least_question_template = \"Who had the least percentage of troops killed?\"\n",
        "\n",
        "answer_template = '{}'\n",
        "\n",
        "neg_questions = []\n",
        "neg_contexts = []\n",
        "neg_answers = []\n",
        "\n",
        "recall_questions = []\n",
        "recall_contexts = []\n",
        "recall_answers = []\n",
        "\n",
        "or_questions = []\n",
        "or_contexts = []\n",
        "or_answers = []\n",
        "\n",
        "ratio= {\n",
        "    'half':1/2,\n",
        "    'twice':2,\n",
        "    'triple':3,\n",
        "    'three-fourths':3/4,\n",
        "    'one-fourth':1/4\n",
        "}\n",
        "\n",
        "x = itertools.product(peoples1,peoples2,filler_sentence,wars,desc_part,beg_item,intro,ratio.keys())\n",
        "for i in x:\n",
        "    c1 = round(np.random.uniform(0,20),2)\n",
        "    c2 = c1 * ratio[i[7]]\n",
        "\n",
        "    context = context_template.format(i[0],i[4],i[3],i[1],i[2],i[5],c1,i[0],i[7],i[1])\n",
        "    # Recall\n",
        "    recall_contexts.append(context)\n",
        "    recall_questions.append(recall_extract_question_template.format(i[0]))\n",
        "    recall_answers.append(answer_template.format(c1))\n",
        "    \n",
        "    recall_contexts.append(context)\n",
        "    recall_questions.append(recall_ratio_question_template.format(i[1]))\n",
        "    recall_answers.append(answer_template.format(c2))\n",
        "    \n",
        "    # Negative Inverse\n",
        "    a = round(100 - c1,2)\n",
        "    neg_contexts.append(context)\n",
        "    neg_questions.append(neg_question_template.format(i[0]))\n",
        "    neg_answers.append(answer_template.format(a))\n",
        "    \n",
        "    a = round(100 - c2,2)\n",
        "    neg_contexts.append(context)\n",
        "    neg_questions.append(neg_ratio_question_template.format(i[1]))\n",
        "    neg_answers.append(answer_template.format(a))\n",
        "\n",
        "    # Or Questions\n",
        "    if c1 > c2:\n",
        "        a_most = i[0] \n",
        "        a_least = i[1] \n",
        "    else:\n",
        "        a_most = i[1] \n",
        "        a_least = i[0] \n",
        "    or_contexts.append(context)\n",
        "    or_questions.append(or_most_question_template)\n",
        "    or_answers.append(answer_template.format(a_most))\n",
        "    \n",
        "    or_contexts.append(context)\n",
        "    or_questions.append(or_least_question_template)\n",
        "    or_answers.append(answer_template.format(a_least))\n",
        "    "
      ],
      "id": "Lwq_f6w6Zu-y",
      "execution_count": 37,
      "outputs": []
    },
    {
      "cell_type": "code",
      "metadata": {
        "id": "d25rVZC3b-KX",
        "outputId": "123177e1-eb19-40d7-f754-a53307936762",
        "colab": {
          "base_uri": "https://localhost:8080/"
        }
      },
      "source": [
        "for i in range(2):\n",
        "  print(neg_contexts[i])\n",
        "  print(neg_questions[i])\n",
        "  print(neg_answers[i])\n",
        "  \n",
        "  print(recall_contexts[i])\n",
        "  print(recall_questions[i])\n",
        "  print(recall_answers[i])\n",
        "\n",
        "  print(or_contexts[i])\n",
        "  print(or_questions[i])\n",
        "  print(or_answers[i])"
      ],
      "id": "d25rVZC3b-KX",
      "execution_count": 38,
      "outputs": [
        {
          "output_type": "stream",
          "text": [
            "Queen Elizabeth II was a beacon of hope for their people, leading the nation to victory in the American Civil War against Napoleon Bonaparte. Many wars were fought for religious, economic, and political reasons. One study estimates that the over 11.4% of Queen Elizabeth II's troops died, after killing over half as much of Napoleon Bonaparte's troops .\n",
            "What percentage of Queen Elizabeth II's troops survived?\n",
            "88.6\n",
            "Queen Elizabeth II was a beacon of hope for their people, leading the nation to victory in the American Civil War against Napoleon Bonaparte. Many wars were fought for religious, economic, and political reasons. One study estimates that the over 11.4% of Queen Elizabeth II's troops died, after killing over half as much of Napoleon Bonaparte's troops .\n",
            "What percentage of Queen Elizabeth II's troops were killed?\n",
            "11.4\n",
            "Queen Elizabeth II was a beacon of hope for their people, leading the nation to victory in the American Civil War against Napoleon Bonaparte. Many wars were fought for religious, economic, and political reasons. One study estimates that the over 11.4% of Queen Elizabeth II's troops died, after killing over half as much of Napoleon Bonaparte's troops .\n",
            "Who had the largest percentage of troops killed?\n",
            "Queen Elizabeth II\n",
            "Queen Elizabeth II was a beacon of hope for their people, leading the nation to victory in the American Civil War against Napoleon Bonaparte. Many wars were fought for religious, economic, and political reasons. One study estimates that the over 11.4% of Queen Elizabeth II's troops died, after killing over half as much of Napoleon Bonaparte's troops .\n",
            "What percentage of Napoleon Bonaparte's troops survived?\n",
            "94.3\n",
            "Queen Elizabeth II was a beacon of hope for their people, leading the nation to victory in the American Civil War against Napoleon Bonaparte. Many wars were fought for religious, economic, and political reasons. One study estimates that the over 11.4% of Queen Elizabeth II's troops died, after killing over half as much of Napoleon Bonaparte's troops .\n",
            "What percentage of Napoleon Bonaparte's troops were killed?\n",
            "5.7\n",
            "Queen Elizabeth II was a beacon of hope for their people, leading the nation to victory in the American Civil War against Napoleon Bonaparte. Many wars were fought for religious, economic, and political reasons. One study estimates that the over 11.4% of Queen Elizabeth II's troops died, after killing over half as much of Napoleon Bonaparte's troops .\n",
            "Who had the least percentage of troops killed?\n",
            "Napoleon Bonaparte\n"
          ],
          "name": "stdout"
        }
      ]
    }
  ]
}