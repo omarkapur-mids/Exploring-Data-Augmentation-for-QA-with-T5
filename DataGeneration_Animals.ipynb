{
 "cells": [
  {
   "cell_type": "code",
   "execution_count": 43,
   "metadata": {},
   "outputs": [],
   "source": [
    "#from datasets import Dataset, load_dataset\n",
    "import pandas as pd\n",
    "import numpy as np\n",
    "import itertools\n"
   ]
  },
  {
   "cell_type": "markdown",
   "metadata": {},
   "source": [
    "### Negative inverse calculation - Hard Math"
   ]
  },
  {
   "cell_type": "code",
   "execution_count": 101,
   "metadata": {},
   "outputs": [
    {
     "ename": "IndexError",
     "evalue": "Replacement index 7 out of range for positional args tuple",
     "output_type": "error",
     "traceback": [
      "\u001b[0;31m---------------------------------------------------------------------------\u001b[0m",
      "\u001b[0;31mIndexError\u001b[0m                                Traceback (most recent call last)",
      "\u001b[0;32m<ipython-input-101-e800e35afd05>\u001b[0m in \u001b[0;36m<module>\u001b[0;34m\u001b[0m\n\u001b[1;32m     32\u001b[0m \u001b[0;34m\u001b[0m\u001b[0m\n\u001b[1;32m     33\u001b[0m     \u001b[0ma\u001b[0m \u001b[0;34m=\u001b[0m \u001b[0mround\u001b[0m\u001b[0;34m(\u001b[0m\u001b[0;36m100\u001b[0m \u001b[0;34m-\u001b[0m \u001b[0mc\u001b[0m\u001b[0;34m,\u001b[0m\u001b[0;36m2\u001b[0m\u001b[0;34m)\u001b[0m\u001b[0;34m\u001b[0m\u001b[0;34m\u001b[0m\u001b[0m\n\u001b[0;32m---> 34\u001b[0;31m     \u001b[0mneg_contexts\u001b[0m\u001b[0;34m.\u001b[0m\u001b[0mappend\u001b[0m\u001b[0;34m(\u001b[0m\u001b[0mcontext_template\u001b[0m\u001b[0;34m.\u001b[0m\u001b[0mformat\u001b[0m\u001b[0;34m(\u001b[0m\u001b[0mi\u001b[0m\u001b[0;34m[\u001b[0m\u001b[0;36m0\u001b[0m\u001b[0;34m]\u001b[0m\u001b[0;34m,\u001b[0m\u001b[0mi\u001b[0m\u001b[0;34m[\u001b[0m\u001b[0;36m3\u001b[0m\u001b[0;34m]\u001b[0m\u001b[0;34m,\u001b[0m\u001b[0mi\u001b[0m\u001b[0;34m[\u001b[0m\u001b[0;36m1\u001b[0m\u001b[0;34m]\u001b[0m\u001b[0;34m,\u001b[0m\u001b[0mi\u001b[0m\u001b[0;34m[\u001b[0m\u001b[0;36m4\u001b[0m\u001b[0;34m]\u001b[0m\u001b[0;34m,\u001b[0m\u001b[0mc\u001b[0m\u001b[0;34m,\u001b[0m\u001b[0mi\u001b[0m\u001b[0;34m[\u001b[0m\u001b[0;36m0\u001b[0m\u001b[0;34m]\u001b[0m\u001b[0;34m,\u001b[0m\u001b[0mi\u001b[0m\u001b[0;34m[\u001b[0m\u001b[0;36m2\u001b[0m\u001b[0;34m]\u001b[0m\u001b[0;34m)\u001b[0m\u001b[0;34m)\u001b[0m\u001b[0;34m\u001b[0m\u001b[0;34m\u001b[0m\u001b[0m\n\u001b[0m\u001b[1;32m     35\u001b[0m     \u001b[0mneg_questions\u001b[0m\u001b[0;34m.\u001b[0m\u001b[0mappend\u001b[0m\u001b[0;34m(\u001b[0m\u001b[0mquestion_template\u001b[0m\u001b[0;34m.\u001b[0m\u001b[0mformat\u001b[0m\u001b[0;34m(\u001b[0m\u001b[0mi\u001b[0m\u001b[0;34m[\u001b[0m\u001b[0;36m0\u001b[0m\u001b[0;34m]\u001b[0m\u001b[0;34m,\u001b[0m\u001b[0mi\u001b[0m\u001b[0;34m[\u001b[0m\u001b[0;36m2\u001b[0m\u001b[0;34m]\u001b[0m\u001b[0;34m)\u001b[0m\u001b[0;34m)\u001b[0m\u001b[0;34m\u001b[0m\u001b[0;34m\u001b[0m\u001b[0m\n\u001b[1;32m     36\u001b[0m     \u001b[0mneg_answers\u001b[0m\u001b[0;34m.\u001b[0m\u001b[0mappend\u001b[0m\u001b[0;34m(\u001b[0m\u001b[0manswer_template\u001b[0m\u001b[0;34m.\u001b[0m\u001b[0mformat\u001b[0m\u001b[0;34m(\u001b[0m\u001b[0ma\u001b[0m\u001b[0;34m)\u001b[0m\u001b[0;34m)\u001b[0m\u001b[0;34m\u001b[0m\u001b[0;34m\u001b[0m\u001b[0m\n",
      "\u001b[0;31mIndexError\u001b[0m: Replacement index 7 out of range for positional args tuple"
     ]
    }
   ],
   "source": [
    "animals = ['pandas','bears','sharks','elephants','giraffes','monkeys']\n",
    "foods = ['grapes','walnuts','fruit','apples','fish','pizza']\n",
    "desc_part = ['all over the world',\n",
    "             'throughout the continent',\n",
    "             'in the forest',\n",
    "             'in the plains']\n",
    "filler_sentence_1 = ['Many animals do not like this animal',\n",
    "                   'They all like to eat different things',\n",
    "                   'Sometimes they grow very big',\n",
    "                   'They are often quite small',\n",
    "                   'They like to sleep for many hours']\n",
    "beg_item = ['One study estimates that',\n",
    "            'I heard somewhere that',\n",
    "            'Sources say that']\n",
    "intro = ['There are lots of',\n",
    "         '']\n",
    "\n",
    "\n",
    "import itertools\n",
    "\n",
    "context_template = '{} {} {}. {}. {} {}% of {} like to eat {}.'\n",
    "question_template = 'What percentage of {} do not like to eat {}?'\n",
    "answer_template = '{}'\n",
    "\n",
    "neg_questions = []\n",
    "neg_contexts = []\n",
    "neg_answers = []\n",
    "\n",
    "x = itertools.product(animals,filler_sentence,foods,desc_part,beg_item,intro)\n",
    "for i in x:\n",
    "    c = round(np.random.uniform(0,100),2)\n",
    "\n",
    "    a = round(100 - c,2)\n",
    "    neg_contexts.append(context_template.format(i[0],i[3],i[1],i[4],c,i[0],i[2]))\n",
    "    neg_questions.append(question_template.format(i[0],i[2]))\n",
    "    neg_answers.append(answer_template.format(a))\n",
    "    "
   ]
  },
  {
   "cell_type": "markdown",
   "metadata": {},
   "source": [
    "### Simple number recall - Math Easy"
   ]
  },
  {
   "cell_type": "code",
   "execution_count": 45,
   "metadata": {},
   "outputs": [],
   "source": [
    "animals = ['pandas','bears','sharks','elephants','giraffes','monkeys']\n",
    "foods = ['grapes','walnuts','fruit','apples','fish','pizza']\n",
    "desc_part = ['all over the world',\n",
    "             'throughout the continent',\n",
    "             'in the forest',\n",
    "             'in the plains']\n",
    "filler_sentence = ['Many animals do not like this animal',\n",
    "                   'They all like to eat different things',\n",
    "                   'Sometimes they grow very big',\n",
    "                   'They are often quite small',\n",
    "                   'They like to sleep for many hours']\n",
    "beg_item = ['One study estimates that',\n",
    "            'I heard somewhere that',\n",
    "            'Sources say that']\n",
    "intro = ['There are lots of']\n",
    "import itertools\n",
    "\n",
    "context_template = '{} {} {}. {}. {} {}% of {} like to eat {}.'\n",
    "question_template = 'What percentage of {} like to eat {}?'\n",
    "answer_template = '{}'\n",
    "\n",
    "questions = []\n",
    "contexts = []\n",
    "answers = []\n",
    "\n",
    "x = itertools.product(animals,filler_sentence,foods,desc_part,beg_item,intro)\n",
    "for i in x:\n",
    "    c = round(np.random.uniform(0,100),2)\n",
    "\n",
    "    a = c\n",
    "    contexts.append(context_template.format(i[5],i[0],i[3],i[1],i[4],c,i[0],i[2]))\n",
    "    questions.append(question_template.format(i[0],i[2]))\n",
    "    answers.append(answer_template.format(a))\n",
    "    "
   ]
  },
  {
   "cell_type": "markdown",
   "metadata": {},
   "source": [
    "### Negative inverse calculation"
   ]
  },
  {
   "cell_type": "code",
   "execution_count": 57,
   "metadata": {},
   "outputs": [
    {
     "data": {
      "text/html": [
       "<div>\n",
       "<style scoped>\n",
       "    .dataframe tbody tr th:only-of-type {\n",
       "        vertical-align: middle;\n",
       "    }\n",
       "\n",
       "    .dataframe tbody tr th {\n",
       "        vertical-align: top;\n",
       "    }\n",
       "\n",
       "    .dataframe thead th {\n",
       "        text-align: right;\n",
       "    }\n",
       "</style>\n",
       "<table border=\"1\" class=\"dataframe\">\n",
       "  <thead>\n",
       "    <tr style=\"text-align: right;\">\n",
       "      <th></th>\n",
       "      <th>context</th>\n",
       "      <th>question</th>\n",
       "      <th>answer</th>\n",
       "      <th>qtype</th>\n",
       "    </tr>\n",
       "  </thead>\n",
       "  <tbody>\n",
       "    <tr>\n",
       "      <th>0</th>\n",
       "      <td>There are lots of pandas all over the world. M...</td>\n",
       "      <td>What percentage of pandas like to eat grapes?</td>\n",
       "      <td>91.78</td>\n",
       "      <td>inverse calculation</td>\n",
       "    </tr>\n",
       "    <tr>\n",
       "      <th>1</th>\n",
       "      <td>There are lots of pandas all over the world. M...</td>\n",
       "      <td>What percentage of pandas like to eat grapes?</td>\n",
       "      <td>76.27</td>\n",
       "      <td>inverse calculation</td>\n",
       "    </tr>\n",
       "    <tr>\n",
       "      <th>2</th>\n",
       "      <td>There are lots of pandas all over the world. M...</td>\n",
       "      <td>What percentage of pandas like to eat grapes?</td>\n",
       "      <td>15.89</td>\n",
       "      <td>inverse calculation</td>\n",
       "    </tr>\n",
       "    <tr>\n",
       "      <th>3</th>\n",
       "      <td>There are lots of pandas throughout the contin...</td>\n",
       "      <td>What percentage of pandas like to eat grapes?</td>\n",
       "      <td>60.64</td>\n",
       "      <td>inverse calculation</td>\n",
       "    </tr>\n",
       "    <tr>\n",
       "      <th>4</th>\n",
       "      <td>There are lots of pandas throughout the contin...</td>\n",
       "      <td>What percentage of pandas like to eat grapes?</td>\n",
       "      <td>67.42</td>\n",
       "      <td>inverse calculation</td>\n",
       "    </tr>\n",
       "  </tbody>\n",
       "</table>\n",
       "</div>"
      ],
      "text/plain": [
       "                                             context  \\\n",
       "0  There are lots of pandas all over the world. M...   \n",
       "1  There are lots of pandas all over the world. M...   \n",
       "2  There are lots of pandas all over the world. M...   \n",
       "3  There are lots of pandas throughout the contin...   \n",
       "4  There are lots of pandas throughout the contin...   \n",
       "\n",
       "                                        question answer                qtype  \n",
       "0  What percentage of pandas like to eat grapes?  91.78  inverse calculation  \n",
       "1  What percentage of pandas like to eat grapes?  76.27  inverse calculation  \n",
       "2  What percentage of pandas like to eat grapes?  15.89  inverse calculation  \n",
       "3  What percentage of pandas like to eat grapes?  60.64  inverse calculation  \n",
       "4  What percentage of pandas like to eat grapes?  67.42  inverse calculation  "
      ]
     },
     "execution_count": 57,
     "metadata": {},
     "output_type": "execute_result"
    }
   ],
   "source": [
    "pos_math = pd.DataFrame([contexts,questions,answers]).T.rename(columns={0:'context',1:'question',2:'answer'})\n",
    "pos_math['qtype'] = 'simple number recall'\n",
    "neg_math = pd.DataFrame([neg_contexts,neg_questions,neg_answers]).T.rename(columns={0:'context',1:'question',2:'answer'})\n",
    "pos_math['qtype'] = 'inverse calculation'\n",
    "new_math = pd.concat([pos_math,neg_math],axis=0)\n",
    "\n",
    "new_math.head()"
   ]
  },
  {
   "cell_type": "code",
   "execution_count": 60,
   "metadata": {},
   "outputs": [],
   "source": [
    "augmented_dir = './data/augmented-data'\n",
    "new_math.to_pickle(augmented_dir+'/augmented_data.pkl')"
   ]
  },
  {
   "cell_type": "code",
   "execution_count": 22,
   "metadata": {},
   "outputs": [
    {
     "name": "stdout",
     "output_type": "stream",
     "text": [
      "(('pandas', 'grapes'), ('bears', 'walnuts'), ('sharks', 'fruit'), ('elephants', 'deer'), ('giraffes', 'buffalo'), ('monkeys', 'pizza'))\n"
     ]
    }
   ],
   "source": [
    "# def generate_template(starter_context,starter_question):\n",
    "    \n",
    "animals = ['pandas','bears','sharks','elephants','giraffes','monkeys']\n",
    "food = ['grapes','walnuts','fruit','deer','buffalo','pizza']\n",
    "    \n",
    "x = itertools.permutations(zip(animals,food))\n",
    "for i in x:\n",
    "\n",
    "    print(i)\n",
    "    break"
   ]
  },
  {
   "cell_type": "code",
   "execution_count": 46,
   "metadata": {},
   "outputs": [],
   "source": [
    "context_template = ' context: There are lots of {animal} all over the world. They all like to eat different things. One study estimates that {}% of {animal} like to eat {animal}.'\n",
    "question_template = 'answer_me: What percentage of {noun1} do not like to eat {noun2}?'\n",
    "answer_template = '{}'\n",
    "\n",
    "\n"
   ]
  },
  {
   "cell_type": "code",
   "execution_count": 53,
   "metadata": {},
   "outputs": [],
   "source": [
    "animals = ['pandas','bears','sharks','elephants','giraffes','monkeys']\n",
    "animal_p = list(itertools.permutations(animals, 6))\n",
    "animal_p_1 = animal_p[0:359]\n",
    "animal_p_2 = animal_p[360:719]"
   ]
  },
  {
   "cell_type": "markdown",
   "metadata": {},
   "source": [
    "## Animals - Sorting - What was..."
   ]
  },
  {
   "cell_type": "code",
   "execution_count": 97,
   "metadata": {},
   "outputs": [],
   "source": [
    "animals = ['pandas','bears','sharks','elephants','giraffes','monkeys']\n",
    "desc_part = ['all over the world',\n",
    "             'throughout the continent',\n",
    "             'in the forest',\n",
    "             'in the plains', 'in the jungle']\n",
    "intro = ['Human are not alone on this earth, there exist various species of animals', \n",
    "                   'Animals are varied and diverse and can come from common ancestors as humans', \n",
    "                   'From insects, mammals, reptiles, to amphibians, the earth is populated by beautiful creatures',\n",
    "                  'Animals are fighting for surival on this earth, often adapting their traits']\n",
    "conc  = ['We live on a very interesting planet', 'Hopefully, humans continue to adapt and be the dominant animals', 'Surprisingly, humans are animals too']\n",
    "beg_item = ['One study estimates that',\n",
    "            'I heard somewhere that',\n",
    "            'Sources say that']\n",
    "adj_2 = ['largest', 'smallest']\n",
    "adj_1 = ['second', 'third', '']\n",
    "filler_sentence = ['Animals have characteristics which make them unique and are essential for their survival', 'News species are discovered every year', 'Animals have varying lifespans as compared to humans']\n",
    "\n",
    "import itertools\n",
    "\n",
    "context_template = '{}. {} {}% of animals are {} and {}% are {} {}, as the most populous species. Followed by {} making up {}%, and {} making up {}%, respectively. {}. {}, there are only {}% of {} and {}% of {} as the least populous species. {}.'\n",
    "question_template = 'What was the {} {} species?'\n",
    "answer_template = '{}'\n",
    "\n",
    "questions = []\n",
    "contexts = []\n",
    "answers = []\n",
    "\n",
    "animal_p = list(itertools.permutations(animals, 6))\n",
    "animal_p_1 = animal_p[0:359]\n",
    "for j in animal_p_1:\n",
    "    x = itertools.product([j[0]],[j[1]],[j[2]],[j[3]],[j[4]],[j[5]],intro, filler_sentence,desc_part,beg_item,adj_1,adj_2, conc)\n",
    "\n",
    "    for i in x:\n",
    "        a = np.random.random(6)\n",
    "        a /= a.sum()\n",
    "        a = a * 100\n",
    "        a = np.around(a,2)\n",
    "        a = np.sort(a)\n",
    "        a = a[::-1]\n",
    "        contexts.append(context_template.format(i[6],i[9],a[0],i[0],a[1],i[1],i[8],i[2],a[2],i[3],a[3],i[7], i[9],a[4],i[4],a[5],i[5],i[12]))\n",
    "        y = question_template.format(i[10], i[11])\n",
    "        questions.append(y)\n",
    "        \n",
    "        if (i[10] == '') & (i[11] == 'largest'): \n",
    "            answers.append(answer_template.format(j[0]))\n",
    "        if (i[10] == 'second') & (i[11] == 'largest') : \n",
    "            answers.append(answer_template.format(j[1]))\n",
    "        if (i[10] == 'third') & (i[11] == 'largest'): \n",
    "            answers.append(answer_template.format(j[2]))\n",
    "        if (i[10] == 'third') & (i[11] == 'smallest') : \n",
    "            answers.append(answer_template.format(j[3]))\n",
    "        if (i[10] == 'second') & (i[11] == 'smallest'): \n",
    "            answers.append(answer_template.format(j[4]))\n",
    "        if (i[10] == '') & (i[11] == 'smallest') : \n",
    "            answers.append(answer_template.format(j[5]))\n",
    "    "
   ]
  },
  {
   "cell_type": "code",
   "execution_count": 98,
   "metadata": {},
   "outputs": [
    {
     "data": {
      "text/plain": [
       "['What was the second largest species?',\n",
       " 'What was the second largest species?',\n",
       " 'What was the second largest species?',\n",
       " 'What was the second smallest species?',\n",
       " 'What was the second smallest species?']"
      ]
     },
     "execution_count": 98,
     "metadata": {},
     "output_type": "execute_result"
    }
   ],
   "source": [
    "questions[0:5]"
   ]
  },
  {
   "cell_type": "code",
   "execution_count": 99,
   "metadata": {},
   "outputs": [
    {
     "data": {
      "text/plain": [
       "['bears', 'bears', 'bears', 'giraffes', 'giraffes']"
      ]
     },
     "execution_count": 99,
     "metadata": {},
     "output_type": "execute_result"
    }
   ],
   "source": [
    "answers[0:5]"
   ]
  },
  {
   "cell_type": "code",
   "execution_count": 100,
   "metadata": {},
   "outputs": [
    {
     "data": {
      "text/plain": [
       "['Human are not alone on this earth, there exist various species of animals.. One study estimates that 30.02% of animals are pandas and 28.47% are bears all over the world, as the most populous species. Followed by sharks making up 18.45%, and elephants making up 14.69%, respectively. Animals have characteristics which make them unique and are essential for their survival. One study estimates that, there are only 7.02% of giraffes and 1.35% of monkeys as the least populous species. We live on a very interesting planet.',\n",
       " 'Human are not alone on this earth, there exist various species of animals.. One study estimates that 29.61% of animals are pandas and 23.9% are bears all over the world, as the most populous species. Followed by sharks making up 20.41%, and elephants making up 16.79%, respectively. Animals have characteristics which make them unique and are essential for their survival. One study estimates that, there are only 5.29% of giraffes and 4.01% of monkeys as the least populous species. Hopefully, humans continue to adapt and be the dominant animals.',\n",
       " 'Human are not alone on this earth, there exist various species of animals.. One study estimates that 31.79% of animals are pandas and 29.35% are bears all over the world, as the most populous species. Followed by sharks making up 17.59%, and elephants making up 13.46%, respectively. Animals have characteristics which make them unique and are essential for their survival. One study estimates that, there are only 3.98% of giraffes and 3.83% of monkeys as the least populous species. Surprisingly, humans are animals too.',\n",
       " 'Human are not alone on this earth, there exist various species of animals.. One study estimates that 24.73% of animals are pandas and 22.69% are bears all over the world, as the most populous species. Followed by sharks making up 22.55%, and elephants making up 12.46%, respectively. Animals have characteristics which make them unique and are essential for their survival. One study estimates that, there are only 11.73% of giraffes and 5.83% of monkeys as the least populous species. We live on a very interesting planet.',\n",
       " 'Human are not alone on this earth, there exist various species of animals.. One study estimates that 27.01% of animals are pandas and 26.52% are bears all over the world, as the most populous species. Followed by sharks making up 19.41%, and elephants making up 12.96%, respectively. Animals have characteristics which make them unique and are essential for their survival. One study estimates that, there are only 12.92% of giraffes and 1.18% of monkeys as the least populous species. Hopefully, humans continue to adapt and be the dominant animals.']"
      ]
     },
     "execution_count": 100,
     "metadata": {},
     "output_type": "execute_result"
    }
   ],
   "source": [
    "contexts[0:5]"
   ]
  },
  {
   "cell_type": "markdown",
   "metadata": {},
   "source": [
    "## Animal - Sorting - Which was"
   ]
  },
  {
   "cell_type": "code",
   "execution_count": 87,
   "metadata": {},
   "outputs": [],
   "source": [
    "animals = ['pandas','bears','sharks','elephants','giraffes','monkeys']\n",
    "desc_part = ['all over the world',\n",
    "             'throughout the continent',\n",
    "             'in the forest',\n",
    "             'in the plains', 'in the jungle']\n",
    "intro = ['Wild animals are our neighbors which we often overlook', 'While we care fondly over pets, we forget that they come from the wild and have been domesticated over centuries', 'Animals are curious and intelligent creatures']\n",
    "conc = ['Overall, we are outnumbered by animals', 'As animals adapt, we could be taken over by another species', 'We should be living in harmony with other species']\n",
    "beg_item = ['It has been estimated',\n",
    "            'One could say',\n",
    "            'Research suggests']\n",
    "adj_2 = ['largest', 'smallest']\n",
    "adj_1 = ['fourth', 'fifth', '']\n",
    "filler_sentence = ['Animals live in various climates that humans cannot survive in',\n",
    "                   'Animals have a natural order or food chain',\n",
    "                   'Some animals can be domesticated']\n",
    "\n",
    "import itertools\n",
    "\n",
    "context_template = '{}. {} {}% of animals are {} and {}% are {} {}, as the most populous species. Followed by {} making up {}%, and {} making up {}%, respectively. {}. {}, there are only {}% of {} and {}% of {} as the least populous species. {}.'\n",
    "question_template = 'Which animal species was the {} {}?'\n",
    "answer_template = '{}'\n",
    "\n",
    "questions = []\n",
    "contexts = []\n",
    "answers = []\n",
    "\n",
    "animal_p_2 = animal_p[360:719]\n",
    "for j in animal_p_2:\n",
    "    x = itertools.product([j[0]],[j[1]],[j[2]],[j[3]],[j[4]],[j[5]],intro, filler_sentence,desc_part,beg_item,adj_1,adj_2, conc)\n",
    "    for i in x:\n",
    "        a = np.random.random(6)\n",
    "        a /= a.sum()\n",
    "        a = a * 100\n",
    "        a = np.around(a,2)\n",
    "        a = np.sort(a)\n",
    "        a = a[::-1]\n",
    "        contexts.append(context_template.format(i[6],i[9],a[0],i[0],a[1],i[1],i[8],i[2],a[2],i[3],a[3],i[7], i[9],a[4],i[4],a[5],i[5],i[12]))\n",
    "        questions.append(question_template.format(i[10], i[11]))\n",
    "        \n",
    "        if (i[10] == '') & (i[11] == 'largest'): \n",
    "            answers.append(answer_template.format(j[0]))\n",
    "        if (i[10] == 'fifth') & (i[11] == 'smallest') : \n",
    "            answers.append(answer_template.format(j[1]))\n",
    "        if (i[10] == 'fourth') & (i[11] == 'smallest'): \n",
    "            answers.append(answer_template.format(j[2]))\n",
    "        if (i[10] == 'fourth') & (i[11] == 'largest') : \n",
    "            answers.append(answer_template.format(j[3]))\n",
    "        if (i[10] == 'fifth') & (i[11] == 'largest'): \n",
    "            answers.append(answer_template.format(j[4]))\n",
    "        if (i[10] == '') & (i[11] == 'smallest') : \n",
    "            answers.append(answer_template.format(j[5]))"
   ]
  },
  {
   "cell_type": "code",
   "execution_count": 88,
   "metadata": {},
   "outputs": [
    {
     "data": {
      "text/plain": [
       "['Which animal species was the fourth largest ?',\n",
       " 'Which animal species was the fourth largest ?',\n",
       " 'Which animal species was the fourth largest ?',\n",
       " 'Which animal species was the fourth smallest ?',\n",
       " 'Which animal species was the fourth smallest ?']"
      ]
     },
     "execution_count": 88,
     "metadata": {},
     "output_type": "execute_result"
    }
   ],
   "source": [
    "questions[0:5]"
   ]
  },
  {
   "cell_type": "code",
   "execution_count": 89,
   "metadata": {},
   "outputs": [
    {
     "data": {
      "text/plain": [
       "['sharks', 'sharks', 'sharks', 'bears', 'bears']"
      ]
     },
     "execution_count": 89,
     "metadata": {},
     "output_type": "execute_result"
    }
   ],
   "source": [
    "answers[0:5]"
   ]
  },
  {
   "cell_type": "code",
   "execution_count": 90,
   "metadata": {},
   "outputs": [
    {
     "data": {
      "text/plain": [
       "['Wild animals are our neighbors which we often overlook. It has been estimated 29.9% of animals are elephants and 20.64% are pandas all over the world, as the most populous species. Followed by bears making up 18.71%, and sharks making up 17.54%, respectively. Animals live in various climates that humans cannot survive in. It has been estimated, there are only 9.27% of giraffes and 3.93% of monkeys as the least populous species. Overall, we are outnumbered by animals.',\n",
       " 'Wild animals are our neighbors which we often overlook. It has been estimated 28.79% of animals are elephants and 25.88% are pandas all over the world, as the most populous species. Followed by bears making up 24.92%, and sharks making up 12.04%, respectively. Animals live in various climates that humans cannot survive in. It has been estimated, there are only 4.48% of giraffes and 3.89% of monkeys as the least populous species. As animals adapt, we could be taken over by another species.',\n",
       " 'Wild animals are our neighbors which we often overlook. It has been estimated 26.83% of animals are elephants and 19.28% are pandas all over the world, as the most populous species. Followed by bears making up 19.0%, and sharks making up 14.41%, respectively. Animals live in various climates that humans cannot survive in. It has been estimated, there are only 13.69% of giraffes and 6.79% of monkeys as the least populous species. We should be living in harmony with other species.',\n",
       " 'Wild animals are our neighbors which we often overlook. It has been estimated 38.35% of animals are elephants and 29.46% are pandas all over the world, as the most populous species. Followed by bears making up 18.95%, and sharks making up 6.34%, respectively. Animals live in various climates that humans cannot survive in. It has been estimated, there are only 5.26% of giraffes and 1.64% of monkeys as the least populous species. Overall, we are outnumbered by animals.',\n",
       " 'Wild animals are our neighbors which we often overlook. It has been estimated 26.38% of animals are elephants and 24.11% are pandas all over the world, as the most populous species. Followed by bears making up 17.96%, and sharks making up 16.32%, respectively. Animals live in various climates that humans cannot survive in. It has been estimated, there are only 14.25% of giraffes and 0.98% of monkeys as the least populous species. As animals adapt, we could be taken over by another species.']"
      ]
     },
     "execution_count": 90,
     "metadata": {},
     "output_type": "execute_result"
    }
   ],
   "source": [
    "contexts[0:5]"
   ]
  },
  {
   "cell_type": "markdown",
   "metadata": {},
   "source": [
    "## Or Type Questions"
   ]
  },
  {
   "cell_type": "code",
   "execution_count": 105,
   "metadata": {},
   "outputs": [],
   "source": [
    "animals_dict = {'pandas':'bamboo','bears':'salmon','sharks':'sardines','elephants':'berries','giraffes':'leaves','monkeys':'bananas'}\n",
    "animals = ['pandas', 'bears', 'sharks', 'elephants', 'giraffes', 'monkeys']\n",
    "foods = ['bamboo', 'salmon', 'sardines', 'berries', 'leaves', 'bananas']\n",
    "intro = ['Just like humans, animals have favorite foods', \n",
    "         'Nutrition is key to animal health', \n",
    "         'Animals can be picky eaters']\n",
    "conc = ['Nonetheless, its important for animals to have balanced diets', \n",
    "        'Overall, animals need to consumer large amounts of calories to survive in the wild', \n",
    "        'Now we know what it means when they says someone eats like an animal']\n",
    "beg_item = ['According to the latest research',\n",
    "            'It has been studied that', \n",
    "            'Scientists estimate that']\n",
    "filler_sentence = ['They are hungry creatures', 'Seeing them eat is quite a spectacle']\n",
    "\n",
    "import itertools\n",
    "\n",
    "context_template = '{}. {} are known to like {}. They will eat {} tons in their lifetime. {}. Many are surprised to learn that {} are {} favorite snack. {}, {} like {} so much they will fight to the death for some. {}.' \n",
    "question_template = 'Which animals likes {}, {} or {}?'\n",
    "answer_template = '{}'\n",
    "\n",
    "questions = []\n",
    "contexts = []\n",
    "answers = []\n",
    "animal_p = list(itertools.permutations(animals, 3))\n",
    "for j in animal_p: \n",
    "    x = itertools.product([j[0]], [j[1]], [j[2]], intro, filler_sentence, beg_item, conc)\n",
    "    f0 = animals_dict[j[0]]\n",
    "    f1 = animals_dict[j[1]]\n",
    "    f2 = animals_dict[j[2]]\n",
    "    for i in x:\n",
    "        a = np.random.randint(10)\n",
    "        contexts.append(context_template.format(i[3], i[0], f0, a, i[4], f1, i[1], i[5], i[2], f2, i[6]))\n",
    "        questions.append(question_template.format(f0, i[0], i[1]))\n",
    "        answers.append(answer_template.format(i[0]))"
   ]
  },
  {
   "cell_type": "markdown",
   "metadata": {},
   "source": [
    "## Sort + Calculation - 2 Examples"
   ]
  },
  {
   "cell_type": "code",
   "execution_count": 122,
   "metadata": {},
   "outputs": [],
   "source": [
    "animals = ['birds','cats','rabbits','wolves','spiders','butterflies']\n",
    "animal_p = list(itertools.permutations(animals, 6))\n",
    "animal_p_1 = animal_p[0:359]\n",
    "animal_p_2 = animal_p[360:719]\n",
    "desc_part = ['all over the world',\n",
    "             'throughout the continent',\n",
    "             'in the forest',\n",
    "             'in the plains', 'in the jungle']\n",
    "intro = ['Wild animals are our neighbors which we often overlook', 'While we care fondly over pets, we forget that they come from the wild and have been domesticated over centuries', 'Animals are curious and intelligent creatures']\n",
    "conc = ['Overall, we are outnumbered by animals', 'As animals adapt, we could be taken over by another species', 'We should be living in harmony with other species']\n",
    "beg_item = ['It has been estimated',\n",
    "            'One could say',\n",
    "            'Research suggests']\n",
    "adj_2 = ['largest', 'smallest']\n",
    "adj_1 = ['fourth', 'fifth', '', 'second', 'third']\n",
    "filler_sentence = ['Animals live in various climates that humans cannot survive in',\n",
    "                   'Animals have a natural order or food chain',\n",
    "                   'Some animals can be domesticated']\n",
    "\n",
    "import itertools\n",
    "\n",
    "context_template = '{}. {} {}% of animals are {} and {}% are {} {}, as the most populous species. Followed by {} making up {}%, and {} making up {}%, respectively. {}. {}, there are only {}% of {} and {}% of {} as the least populous species. {}.'\n",
    "question_template = 'How much larger was the {} largest species from the smallest?'\n",
    "answer_template = '{}'\n",
    "\n",
    "questions = []\n",
    "contexts = []\n",
    "answers = []\n",
    "\n",
    "for j in animal_p_1:\n",
    "    x = itertools.product([j[0]],[j[1]],[j[2]],[j[3]],[j[4]],[j[5]],intro,filler_sentence,desc_part,beg_item,adj_1,adj_2, conc)\n",
    "    for i in x:\n",
    "        a = np.random.random(6)\n",
    "        a /= a.sum()\n",
    "        a = a * 100\n",
    "        a = np.around(a,2)\n",
    "        a = np.sort(a)\n",
    "        a = a[::-1]\n",
    "        contexts.append(context_template.format(i[6],i[9],a[0],i[0],a[1],i[1],i[8],i[2],a[2],i[3],a[3],i[7], i[9],a[4],i[4],a[5],i[5],i[12]))\n",
    "        questions.append(question_template.format(i[10]))\n",
    "        \n",
    "        if (i[10] == ''): \n",
    "            ans = round(a[0] - a[5],2)\n",
    "            answers.append(answer_template.format(ans))\n",
    "        if (i[10] == 'fifth'): \n",
    "            ans = round(a[4] - a[5],2)\n",
    "            answers.append(answer_template.format(ans))\n",
    "        if (i[10] == 'fourth'): \n",
    "            ans = round(a[3] - a[5],2)\n",
    "            answers.append(answer_template.format(ans))\n",
    "        if (i[10] == 'third'): \n",
    "            ans = round(a[2] - a[5],2)\n",
    "            answers.append(answer_template.format(ans))\n",
    "        if (i[10] == 'second'): \n",
    "            ans = round(a[1] - a[5],2)\n",
    "            answers.append(answer_template.format(ans))"
   ]
  },
  {
   "cell_type": "code",
   "execution_count": 123,
   "metadata": {},
   "outputs": [
    {
     "data": {
      "text/plain": [
       "['How much larger was the second largest species from the smallest?',\n",
       " 'How much larger was the second largest species from the smallest?',\n",
       " 'How much larger was the second largest species from the smallest?',\n",
       " 'How much larger was the second largest species from the smallest?',\n",
       " 'How much larger was the third largest species from the smallest?']"
      ]
     },
     "execution_count": 123,
     "metadata": {},
     "output_type": "execute_result"
    }
   ],
   "source": [
    "questions[200:205]"
   ]
  },
  {
   "cell_type": "code",
   "execution_count": 124,
   "metadata": {},
   "outputs": [
    {
     "data": {
      "text/plain": [
       "['21.22', '12.68', '9.43', '18.23', '5.34']"
      ]
     },
     "execution_count": 124,
     "metadata": {},
     "output_type": "execute_result"
    }
   ],
   "source": [
    "answers[200:205]"
   ]
  },
  {
   "cell_type": "code",
   "execution_count": 125,
   "metadata": {},
   "outputs": [
    {
     "data": {
      "text/plain": [
       "['Wild animals are our neighbors which we often overlook. It has been estimated 32.78% of animals are birds and 25.25% are cats in the forest, as the most populous species. Followed by rabbits making up 19.54%, and wolves making up 12.71%, respectively. Animals live in various climates that humans cannot survive in. It has been estimated, there are only 5.69% of spiders and 4.03% of butterflies as the least populous species. We should be living in harmony with other species.',\n",
       " 'Wild animals are our neighbors which we often overlook. It has been estimated 21.87% of animals are birds and 20.82% are cats in the forest, as the most populous species. Followed by rabbits making up 19.82%, and wolves making up 14.89%, respectively. Animals live in various climates that humans cannot survive in. It has been estimated, there are only 14.46% of spiders and 8.14% of butterflies as the least populous species. Overall, we are outnumbered by animals.',\n",
       " 'Wild animals are our neighbors which we often overlook. It has been estimated 25.22% of animals are birds and 21.29% are cats in the forest, as the most populous species. Followed by rabbits making up 14.84%, and wolves making up 14.04%, respectively. Animals live in various climates that humans cannot survive in. It has been estimated, there are only 12.74% of spiders and 11.86% of butterflies as the least populous species. As animals adapt, we could be taken over by another species.',\n",
       " 'Wild animals are our neighbors which we often overlook. It has been estimated 23.08% of animals are birds and 22.47% are cats in the forest, as the most populous species. Followed by rabbits making up 20.68%, and wolves making up 17.97%, respectively. Animals live in various climates that humans cannot survive in. It has been estimated, there are only 11.55% of spiders and 4.24% of butterflies as the least populous species. We should be living in harmony with other species.',\n",
       " 'Wild animals are our neighbors which we often overlook. It has been estimated 25.67% of animals are birds and 17.27% are cats in the forest, as the most populous species. Followed by rabbits making up 16.91%, and wolves making up 15.75%, respectively. Animals live in various climates that humans cannot survive in. It has been estimated, there are only 12.83% of spiders and 11.57% of butterflies as the least populous species. Overall, we are outnumbered by animals.']"
      ]
     },
     "execution_count": 125,
     "metadata": {},
     "output_type": "execute_result"
    }
   ],
   "source": [
    "contexts[200:205]"
   ]
  },
  {
   "cell_type": "code",
   "execution_count": 141,
   "metadata": {},
   "outputs": [],
   "source": [
    "animals = ['birds','cats','rabbits','wolves','spiders','butterflies']\n",
    "animal_p = list(itertools.permutations(animals, 6))\n",
    "animal_p_1 = animal_p[0:359]\n",
    "animal_p_2 = animal_p[360:719]\n",
    "desc_part = ['all over the world',\n",
    "             'throughout the continent',\n",
    "             'in the forest',\n",
    "             'in the plains', 'in the jungle']\n",
    "intro = ['Human are not alone on this earth, there exist various species of animals', \n",
    "                   'Animals are varied and diverse and can come from common ancestors as humans', \n",
    "                   'From insects, mammals, reptiles, to amphibians, the earth is populated by beautiful creatures',\n",
    "                  'Animals are fighting for surival on this earth, often adapting their traits']\n",
    "conc = ['Overall, we are outnumbered by animals', 'As animals adapt, we could be taken over by another species', 'We should be living in harmony with other species']\n",
    "beg_item = ['It has been estimated',\n",
    "            'One could say',\n",
    "            'Research suggests']\n",
    "adj_2 = ['largest', 'smallest']\n",
    "adj_1 = ['fourth', 'fifth', '', 'second', 'third']\n",
    "filler_sentence = ['Animals live in various climates that humans cannot survive in',\n",
    "                   'Animals have a natural order or food chain',\n",
    "                   'Some animals can be domesticated']\n",
    "\n",
    "import itertools\n",
    "\n",
    "context_template = '{}. {} {}% of animals are {} and {}% are {} {}, as the most populous species. Followed by {} making up {}%, and {} making up {}%, respectively. {}. {}, there are only {}% of {} and {}% of {} as the least populous species. {}.'\n",
    "question_template = 'How much larger or smaller by percentage was the {} largest species from the {} smallest species combined?'\n",
    "answer_template = '{}'\n",
    "\n",
    "questions = []\n",
    "contexts = []\n",
    "answers = []\n",
    "\n",
    "for j in animal_p_2:\n",
    "    x = itertools.product([j[0]],[j[1]],[j[2]],[j[3]],[j[4]],[j[5]],intro,filler_sentence,desc_part,beg_item,adj_1,adj_2, conc)\n",
    "    for i in x:\n",
    "        b = np.random.randint(2,6)\n",
    "        a = np.random.random(6)\n",
    "        a /= a.sum()\n",
    "        a = a * 100\n",
    "        a = np.around(a,2)\n",
    "        a = np.sort(a)\n",
    "        a = a[::-1]\n",
    "        contexts.append(context_template.format(i[6],i[9],a[0],i[0],a[1],i[1],i[8],i[2],a[2],i[3],a[3],i[7], i[9],a[4],i[4],a[5],i[5],i[12]))\n",
    "        questions.append(question_template.format(i[10] , b))\n",
    "        sum_b = 0\n",
    "        for c in range(0,b): \n",
    "            sum_b = a[5-c] + sum_b\n",
    "        if (i[10] == ''): \n",
    "            ans = abs(round(a[0] - sum_b,2))\n",
    "            answers.append(answer_template.format(ans))\n",
    "        if (i[10] == 'fifth'): \n",
    "            ans = abs(round(a[4] - sum_b,2))\n",
    "            answers.append(answer_template.format(ans))\n",
    "        if (i[10] == 'fourth'): \n",
    "            ans = abs(round(a[3] - sum_b,2))\n",
    "            answers.append(answer_template.format(ans))\n",
    "        if (i[10] == 'third'): \n",
    "            ans = abs(round(a[2] - sum_b,2))\n",
    "            answers.append(answer_template.format(ans))\n",
    "        if (i[10] == 'second'): \n",
    "            ans = abs(round(a[1] - sum_b,2))\n",
    "            answers.append(answer_template.format(ans))"
   ]
  },
  {
   "cell_type": "code",
   "execution_count": 142,
   "metadata": {},
   "outputs": [
    {
     "data": {
      "text/plain": [
       "['How much larger or smaller by percentage was the second largest species from the 4 smallest species combined?',\n",
       " 'How much larger or smaller by percentage was the second largest species from the 2 smallest species combined?',\n",
       " 'How much larger or smaller by percentage was the second largest species from the 4 smallest species combined?',\n",
       " 'How much larger or smaller by percentage was the second largest species from the 2 smallest species combined?',\n",
       " 'How much larger or smaller by percentage was the third largest species from the 4 smallest species combined?']"
      ]
     },
     "execution_count": 142,
     "metadata": {},
     "output_type": "execute_result"
    }
   ],
   "source": [
    "questions[500:505]"
   ]
  },
  {
   "cell_type": "code",
   "execution_count": 143,
   "metadata": {},
   "outputs": [
    {
     "data": {
      "text/plain": [
       "['31.38', '6.29', '11.16', '4.03', '30.87']"
      ]
     },
     "execution_count": 143,
     "metadata": {},
     "output_type": "execute_result"
    }
   ],
   "source": [
    "answers[500:505]"
   ]
  },
  {
   "cell_type": "code",
   "execution_count": 144,
   "metadata": {},
   "outputs": [
    {
     "data": {
      "text/plain": [
       "['Human are not alone on this earth, there exist various species of animals. One could say 33.95% of animals are wolves and 17.34% are birds all over the world, as the most populous species. Followed by cats making up 15.01%, and rabbits making up 12.41%, respectively. Animals have a natural order or food chain. One could say, there are only 12.23% of spiders and 9.07% of butterflies as the least populous species. We should be living in harmony with other species.',\n",
       " 'Human are not alone on this earth, there exist various species of animals. One could say 25.23% of animals are wolves and 22.83% are birds all over the world, as the most populous species. Followed by cats making up 20.18%, and rabbits making up 15.21%, respectively. Animals have a natural order or food chain. One could say, there are only 10.66% of spiders and 5.88% of butterflies as the least populous species. Overall, we are outnumbered by animals.',\n",
       " 'Human are not alone on this earth, there exist various species of animals. One could say 31.6% of animals are wolves and 28.62% are birds all over the world, as the most populous species. Followed by cats making up 18.63%, and rabbits making up 13.72%, respectively. Animals have a natural order or food chain. One could say, there are only 6.4% of spiders and 1.03% of butterflies as the least populous species. As animals adapt, we could be taken over by another species.',\n",
       " 'Human are not alone on this earth, there exist various species of animals. One could say 26.15% of animals are wolves and 20.85% are birds all over the world, as the most populous species. Followed by cats making up 18.36%, and rabbits making up 17.82%, respectively. Animals have a natural order or food chain. One could say, there are only 11.56% of spiders and 5.26% of butterflies as the least populous species. We should be living in harmony with other species.',\n",
       " 'Human are not alone on this earth, there exist various species of animals. One could say 25.37% of animals are wolves and 22.14% are birds all over the world, as the most populous species. Followed by cats making up 21.62%, and rabbits making up 19.05%, respectively. Animals have a natural order or food chain. One could say, there are only 10.23% of spiders and 1.59% of butterflies as the least populous species. Overall, we are outnumbered by animals.']"
      ]
     },
     "execution_count": 144,
     "metadata": {},
     "output_type": "execute_result"
    }
   ],
   "source": [
    "contexts[500:505]"
   ]
  },
  {
   "cell_type": "code",
   "execution_count": null,
   "metadata": {},
   "outputs": [],
   "source": []
  }
 ],
 "metadata": {
  "kernelspec": {
   "display_name": "Python 3",
   "language": "python",
   "name": "python3"
  },
  "language_info": {
   "codemirror_mode": {
    "name": "ipython",
    "version": 3
   },
   "file_extension": ".py",
   "mimetype": "text/x-python",
   "name": "python",
   "nbconvert_exporter": "python",
   "pygments_lexer": "ipython3",
   "version": "3.8.5"
  }
 },
 "nbformat": 4,
 "nbformat_minor": 5
}
