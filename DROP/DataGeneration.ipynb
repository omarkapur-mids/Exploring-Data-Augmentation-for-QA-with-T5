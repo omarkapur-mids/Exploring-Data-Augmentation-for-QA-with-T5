{
 "cells": [
  {
   "cell_type": "code",
   "execution_count": 1,
   "id": "3391616c-68e6-4bf7-bc25-5ffc04aee58d",
   "metadata": {},
   "outputs": [],
   "source": [
    "from datasets import Dataset, load_dataset\n",
    "import pandas as pd\n",
    "import numpy as np\n",
    "import itertools\n"
   ]
  },
  {
   "cell_type": "code",
   "execution_count": null,
   "id": "016a4f00-8899-429f-aa1b-dad491e37e28",
   "metadata": {},
   "outputs": [],
   "source": []
  },
  {
   "cell_type": "code",
   "execution_count": null,
   "id": "8b732908-3bc4-4e67-9d76-122cb1eaf823",
   "metadata": {},
   "outputs": [],
   "source": [
    "context_template = 'The population breakdown is {}% under the age of 18, {}% from 18 to 24, {}% from 25 to 44, {}% from 45 to 64, and {}% who were 65 years of age or older.  The median age was 37 years. For every 100 females there were 95.90 males.  For every 100 females age 18 and over, there were 92.50 males.'\n",
    "question_template = 'How many more people, in terms of percentage, were in the 2nd and 3rd largest age groups combined compared to the largest?'\n",
    "answer_template = '{}'"
   ]
  },
  {
   "cell_type": "code",
   "execution_count": null,
   "id": "9895cd05-e05e-4346-bcda-20ca907245ba",
   "metadata": {},
   "outputs": [],
   "source": []
  },
  {
   "cell_type": "code",
   "execution_count": null,
   "id": "4b539901-cfa0-4bfe-a51d-e2ee8c1f50cd",
   "metadata": {},
   "outputs": [],
   "source": []
  },
  {
   "cell_type": "code",
   "execution_count": null,
   "id": "e199750b-da28-4ec3-b4a2-dc477858d22c",
   "metadata": {},
   "outputs": [],
   "source": []
  },
  {
   "cell_type": "code",
   "execution_count": null,
   "id": "f11a11e2-9e8d-41c5-85a7-312f71cd41e5",
   "metadata": {},
   "outputs": [],
   "source": []
  },
  {
   "cell_type": "code",
   "execution_count": null,
   "id": "4b42816b-54ad-48d6-8518-48a26f577e84",
   "metadata": {},
   "outputs": [],
   "source": []
  },
  {
   "cell_type": "raw",
   "id": "08dd2b96-3235-4dca-ae29-07140c43106f",
   "metadata": {},
   "source": [
    "question:  How many more people, in terms of percentage, were in the 2nd and 3rd largest age groups combined compared to the largest?\n",
    "passage:  In the county, the population was spread out with 26.20% under the age of 18, 9.30% from 18 to 24, 26.50% from 25 to 44, 23.50% from 45 to 64, and 14.60% who were 65 years of age or older.  The median age was 37 years. For every 100 females there were 95.90 males.  For every 100 females age 18 and over, there were 92.50 males.\n",
    "\n",
    "predicted answer:  10.3\n",
    "True answers:  {'spans': array(['23.2', '23.2'], dtype=object), 'types': array(['number', 'number'], dtype=object)}"
   ]
  },
  {
   "cell_type": "code",
   "execution_count": null,
   "id": "6ece543a-c553-4e9d-8c02-f65e725f8f6b",
   "metadata": {},
   "outputs": [],
   "source": []
  },
  {
   "cell_type": "code",
   "execution_count": null,
   "id": "1f26ae42-0fbe-48d5-b779-f374d1690187",
   "metadata": {},
   "outputs": [],
   "source": []
  },
  {
   "cell_type": "code",
   "execution_count": null,
   "id": "51480069-3835-48a0-be45-ab2ee76d54bf",
   "metadata": {},
   "outputs": [],
   "source": []
  },
  {
   "cell_type": "markdown",
   "id": "24fb5618-3d91-4c47-91ef-ac81c33b92d4",
   "metadata": {},
   "source": [
    "### Negative inverse calculation"
   ]
  },
  {
   "cell_type": "code",
   "execution_count": 51,
   "id": "702cbecc-bebc-4764-b0d0-50e7cb399a73",
   "metadata": {},
   "outputs": [],
   "source": [
    "animals = ['pandas','bears','sharks','elephants','giraffes','monkeys']\n",
    "foods = ['grapes','walnuts','fruit','apples','fish','pizza']\n",
    "desc_part = ['all over the world',\n",
    "             'throughout the continent',\n",
    "             'in the forest',\n",
    "             'in the plains']\n",
    "filler_sentence = ['Many animals do not like this animal',\n",
    "                   'They all like to eat different things',\n",
    "                   'Sometimes they grow very big',\n",
    "                   'They are often quite small',\n",
    "                   'They like to sleep for many hours']\n",
    "beg_item = ['One study estimates that',\n",
    "            'I heard somewhere that',\n",
    "            'Sources say that']\n",
    "intro = ['There are lots of',\n",
    "         '']\n",
    "\n",
    "\n",
    "import itertools\n",
    "\n",
    "context_template = '{} {} {}. {}. {} {}% of {} like to eat {}.'\n",
    "question_template = 'What percentage of {} do not like to eat {}?'\n",
    "answer_template = '{}'\n",
    "\n",
    "neg_questions = []\n",
    "neg_contexts = []\n",
    "neg_answers = []\n",
    "\n",
    "x = itertools.product(animals,filler_sentence,foods,desc_part,beg_item,intro)\n",
    "for i in x:\n",
    "    c = round(np.random.uniform(0,100),2)\n",
    "\n",
    "    a = round(100 - c,2)\n",
    "    neg_contexts.append(context_template.format(i[0],i[3],i[1],i[4],c,i[0],i[2]))\n",
    "    neg_questions.append(question_template.format(i[0],i[2]))\n",
    "    neg_answers.append(answer_template.format(a))\n",
    "    "
   ]
  },
  {
   "cell_type": "markdown",
   "id": "33a5bc8d-bbcd-4e5c-909a-b1b770bc022a",
   "metadata": {},
   "source": [
    "### Simple number recall"
   ]
  },
  {
   "cell_type": "code",
   "execution_count": 52,
   "id": "e8c4295f-7f55-43f7-8182-43780e95c903",
   "metadata": {},
   "outputs": [],
   "source": [
    "animals = ['pandas','bears','sharks','elephants','giraffes','monkeys']\n",
    "foods = ['grapes','walnuts','fruit','apples','fish','pizza']\n",
    "desc_part = ['all over the world',\n",
    "             'throughout the continent',\n",
    "             'in the forest',\n",
    "             'in the plains']\n",
    "filler_sentence = ['Many animals do not like this animal',\n",
    "                   'They all like to eat different things',\n",
    "                   'Sometimes they grow very big',\n",
    "                   'They are often quite small',\n",
    "                   'They like to sleep for many hours']\n",
    "beg_item = ['One study estimates that',\n",
    "            'I heard somewhere that',\n",
    "            'Sources say that']\n",
    "intro = ['There are lots of']\n",
    "import itertools\n",
    "\n",
    "context_template = '{} {} {}. {}. {} {}% of {} like to eat {}.'\n",
    "question_template = 'What percentage of {} like to eat {}?'\n",
    "answer_template = '{}'\n",
    "\n",
    "questions = []\n",
    "contexts = []\n",
    "answers = []\n",
    "\n",
    "x = itertools.product(animals,filler_sentence,foods,desc_part,beg_item,intro)\n",
    "for i in x:\n",
    "    c = round(np.random.uniform(0,100),2)\n",
    "\n",
    "    a = c\n",
    "    contexts.append(context_template.format(i[5],i[0],i[3],i[1],i[4],c,i[0],i[2]))\n",
    "    questions.append(question_template.format(i[0],i[2]))\n",
    "    answers.append(answer_template.format(a))\n",
    "    "
   ]
  },
  {
   "cell_type": "markdown",
   "id": "9a9d4a5f-8a2b-4632-ba8a-da0c61ce450b",
   "metadata": {},
   "source": [
    "### Negative inverse calculation"
   ]
  },
  {
   "cell_type": "code",
   "execution_count": 65,
   "id": "bc7283cb-d8bd-4d03-bfab-d3a8373d6c59",
   "metadata": {},
   "outputs": [
    {
     "data": {
      "text/plain": [
       "['There are lots of pandas all over the world. Many animals do not like this animal. One study estimates that 62.18% of pandas like to eat grapes.',\n",
       " 'There are lots of pandas all over the world. Many animals do not like this animal. I heard somewhere that 25.45% of pandas like to eat grapes.',\n",
       " 'There are lots of pandas all over the world. Many animals do not like this animal. Sources say that 87.37% of pandas like to eat grapes.',\n",
       " 'There are lots of pandas throughout the continent. Many animals do not like this animal. One study estimates that 75.81% of pandas like to eat grapes.',\n",
       " 'There are lots of pandas throughout the continent. Many animals do not like this animal. I heard somewhere that 93.61% of pandas like to eat grapes.',\n",
       " 'There are lots of pandas throughout the continent. Many animals do not like this animal. Sources say that 31.2% of pandas like to eat grapes.',\n",
       " 'There are lots of pandas in the forest. Many animals do not like this animal. One study estimates that 43.53% of pandas like to eat grapes.',\n",
       " 'There are lots of pandas in the forest. Many animals do not like this animal. I heard somewhere that 62.4% of pandas like to eat grapes.',\n",
       " 'There are lots of pandas in the forest. Many animals do not like this animal. Sources say that 51.24% of pandas like to eat grapes.',\n",
       " 'There are lots of pandas in the plains. Many animals do not like this animal. One study estimates that 22.67% of pandas like to eat grapes.',\n",
       " 'There are lots of pandas in the plains. Many animals do not like this animal. I heard somewhere that 45.62% of pandas like to eat grapes.',\n",
       " 'There are lots of pandas in the plains. Many animals do not like this animal. Sources say that 47.1% of pandas like to eat grapes.',\n",
       " 'There are lots of pandas all over the world. Many animals do not like this animal. One study estimates that 54.63% of pandas like to eat walnuts.',\n",
       " 'There are lots of pandas all over the world. Many animals do not like this animal. I heard somewhere that 72.19% of pandas like to eat walnuts.',\n",
       " 'There are lots of pandas all over the world. Many animals do not like this animal. Sources say that 82.59% of pandas like to eat walnuts.',\n",
       " 'There are lots of pandas throughout the continent. Many animals do not like this animal. One study estimates that 13.89% of pandas like to eat walnuts.',\n",
       " 'There are lots of pandas throughout the continent. Many animals do not like this animal. I heard somewhere that 47.39% of pandas like to eat walnuts.',\n",
       " 'There are lots of pandas throughout the continent. Many animals do not like this animal. Sources say that 33.65% of pandas like to eat walnuts.',\n",
       " 'There are lots of pandas in the forest. Many animals do not like this animal. One study estimates that 6.35% of pandas like to eat walnuts.',\n",
       " 'There are lots of pandas in the forest. Many animals do not like this animal. I heard somewhere that 70.68% of pandas like to eat walnuts.']"
      ]
     },
     "execution_count": 65,
     "metadata": {},
     "output_type": "execute_result"
    }
   ],
   "source": [
    "neg_contexts[:20]"
   ]
  },
  {
   "cell_type": "code",
   "execution_count": 62,
   "id": "1b01a9b2-f334-4309-9468-9721c4bde2c5",
   "metadata": {},
   "outputs": [
    {
     "data": {
      "text/plain": [
       "'There are lots of pandas all over the world. Many animals do not like this animal. One study estimates that 91.78% of pandas like to eat grapes.'"
      ]
     },
     "execution_count": 62,
     "metadata": {},
     "output_type": "execute_result"
    }
   ],
   "source": [
    "contexts[0]"
   ]
  },
  {
   "cell_type": "code",
   "execution_count": 63,
   "id": "c543e9c0-2a3a-40fd-9fbc-6e48dee6e405",
   "metadata": {},
   "outputs": [
    {
     "data": {
      "text/plain": [
       "'What percentage of pandas do not like to eat grapes?'"
      ]
     },
     "execution_count": 63,
     "metadata": {},
     "output_type": "execute_result"
    }
   ],
   "source": [
    "neg_questions[0]"
   ]
  },
  {
   "cell_type": "code",
   "execution_count": 64,
   "id": "090eaf36-6091-449f-bbb9-9065fe66ae14",
   "metadata": {},
   "outputs": [
    {
     "data": {
      "text/plain": [
       "'What percentage of pandas like to eat grapes?'"
      ]
     },
     "execution_count": 64,
     "metadata": {},
     "output_type": "execute_result"
    }
   ],
   "source": [
    "questions[0]"
   ]
  },
  {
   "cell_type": "code",
   "execution_count": null,
   "id": "3c184548-73cb-4317-b31d-ffa48377a843",
   "metadata": {},
   "outputs": [],
   "source": []
  },
  {
   "cell_type": "code",
   "execution_count": null,
   "id": "df871dab-3dd2-4616-85cb-cf214a53d99b",
   "metadata": {},
   "outputs": [],
   "source": []
  },
  {
   "cell_type": "code",
   "execution_count": 57,
   "id": "873e7482-779c-4355-b6a9-9a029b02e833",
   "metadata": {},
   "outputs": [
    {
     "data": {
      "text/html": [
       "<div>\n",
       "<style scoped>\n",
       "    .dataframe tbody tr th:only-of-type {\n",
       "        vertical-align: middle;\n",
       "    }\n",
       "\n",
       "    .dataframe tbody tr th {\n",
       "        vertical-align: top;\n",
       "    }\n",
       "\n",
       "    .dataframe thead th {\n",
       "        text-align: right;\n",
       "    }\n",
       "</style>\n",
       "<table border=\"1\" class=\"dataframe\">\n",
       "  <thead>\n",
       "    <tr style=\"text-align: right;\">\n",
       "      <th></th>\n",
       "      <th>context</th>\n",
       "      <th>question</th>\n",
       "      <th>answer</th>\n",
       "      <th>qtype</th>\n",
       "    </tr>\n",
       "  </thead>\n",
       "  <tbody>\n",
       "    <tr>\n",
       "      <th>0</th>\n",
       "      <td>There are lots of pandas all over the world. M...</td>\n",
       "      <td>What percentage of pandas like to eat grapes?</td>\n",
       "      <td>91.78</td>\n",
       "      <td>inverse calculation</td>\n",
       "    </tr>\n",
       "    <tr>\n",
       "      <th>1</th>\n",
       "      <td>There are lots of pandas all over the world. M...</td>\n",
       "      <td>What percentage of pandas like to eat grapes?</td>\n",
       "      <td>76.27</td>\n",
       "      <td>inverse calculation</td>\n",
       "    </tr>\n",
       "    <tr>\n",
       "      <th>2</th>\n",
       "      <td>There are lots of pandas all over the world. M...</td>\n",
       "      <td>What percentage of pandas like to eat grapes?</td>\n",
       "      <td>15.89</td>\n",
       "      <td>inverse calculation</td>\n",
       "    </tr>\n",
       "    <tr>\n",
       "      <th>3</th>\n",
       "      <td>There are lots of pandas throughout the contin...</td>\n",
       "      <td>What percentage of pandas like to eat grapes?</td>\n",
       "      <td>60.64</td>\n",
       "      <td>inverse calculation</td>\n",
       "    </tr>\n",
       "    <tr>\n",
       "      <th>4</th>\n",
       "      <td>There are lots of pandas throughout the contin...</td>\n",
       "      <td>What percentage of pandas like to eat grapes?</td>\n",
       "      <td>67.42</td>\n",
       "      <td>inverse calculation</td>\n",
       "    </tr>\n",
       "  </tbody>\n",
       "</table>\n",
       "</div>"
      ],
      "text/plain": [
       "                                             context  \\\n",
       "0  There are lots of pandas all over the world. M...   \n",
       "1  There are lots of pandas all over the world. M...   \n",
       "2  There are lots of pandas all over the world. M...   \n",
       "3  There are lots of pandas throughout the contin...   \n",
       "4  There are lots of pandas throughout the contin...   \n",
       "\n",
       "                                        question answer                qtype  \n",
       "0  What percentage of pandas like to eat grapes?  91.78  inverse calculation  \n",
       "1  What percentage of pandas like to eat grapes?  76.27  inverse calculation  \n",
       "2  What percentage of pandas like to eat grapes?  15.89  inverse calculation  \n",
       "3  What percentage of pandas like to eat grapes?  60.64  inverse calculation  \n",
       "4  What percentage of pandas like to eat grapes?  67.42  inverse calculation  "
      ]
     },
     "execution_count": 57,
     "metadata": {},
     "output_type": "execute_result"
    }
   ],
   "source": [
    "pos_math = pd.DataFrame([contexts,questions,answers]).T.rename(columns={0:'context',1:'question',2:'answer'})\n",
    "pos_math['qtype'] = 'simple number recall'\n",
    "neg_math = pd.DataFrame([neg_contexts,neg_questions,neg_answers]).T.rename(columns={0:'context',1:'question',2:'answer'})\n",
    "pos_math['qtype'] = 'inverse calculation'\n",
    "new_math = pd.concat([pos_math,neg_math],axis=0)\n",
    "\n",
    "new_math.head()"
   ]
  },
  {
   "cell_type": "code",
   "execution_count": 60,
   "id": "71880545-efbe-4ac2-8480-f54a8ca123e1",
   "metadata": {},
   "outputs": [],
   "source": [
    "augmented_dir = './data/augmented-data'\n",
    "new_math.to_pickle(augmented_dir+'/augmented_data.pkl')"
   ]
  },
  {
   "cell_type": "code",
   "execution_count": 56,
   "id": "32cc6232-18c0-46c6-98f2-0fa864b5a0cf",
   "metadata": {},
   "outputs": [
    {
     "data": {
      "text/plain": [
       "4320"
      ]
     },
     "execution_count": 56,
     "metadata": {},
     "output_type": "execute_result"
    }
   ],
   "source": [
    "len(new_math)"
   ]
  },
  {
   "cell_type": "code",
   "execution_count": null,
   "id": "9260d020-0874-47d3-95c4-3b0b861bb7b4",
   "metadata": {},
   "outputs": [],
   "source": []
  },
  {
   "cell_type": "code",
   "execution_count": null,
   "id": "b0a23a82-2e6c-4242-9257-5c5466f9dc11",
   "metadata": {},
   "outputs": [],
   "source": []
  },
  {
   "cell_type": "code",
   "execution_count": 39,
   "id": "9b4453ae-e1e1-49ae-b5b5-dde3ca816963",
   "metadata": {},
   "outputs": [
    {
     "data": {
      "text/plain": [
       "'17.3'"
      ]
     },
     "execution_count": 39,
     "metadata": {},
     "output_type": "execute_result"
    }
   ],
   "source": [
    "answers[0]"
   ]
  },
  {
   "cell_type": "code",
   "execution_count": 40,
   "id": "21ef37f4-5f02-4863-ac8e-50429ec0d6f3",
   "metadata": {},
   "outputs": [
    {
     "data": {
      "text/plain": [
       "' context: There are lots of pandas all over the world. Many animals do not like this animal. One study estimates that 82.7% of pandas like to eat grapes.'"
      ]
     },
     "execution_count": 40,
     "metadata": {},
     "output_type": "execute_result"
    }
   ],
   "source": [
    "contexts[0]"
   ]
  },
  {
   "cell_type": "code",
   "execution_count": 41,
   "id": "568e8931-b02d-4436-8dc3-ec69015a167b",
   "metadata": {},
   "outputs": [
    {
     "data": {
      "text/plain": [
       "'answer_me: What percentage of pandas do not like to eat grapes?'"
      ]
     },
     "execution_count": 41,
     "metadata": {},
     "output_type": "execute_result"
    }
   ],
   "source": [
    "questions[0]"
   ]
  },
  {
   "cell_type": "code",
   "execution_count": null,
   "id": "80b5677a-c5ec-49a2-a7ed-f30d729afb72",
   "metadata": {},
   "outputs": [],
   "source": []
  },
  {
   "cell_type": "code",
   "execution_count": 24,
   "id": "634f6313-b865-4f6a-b11c-ba47792a9128",
   "metadata": {},
   "outputs": [],
   "source": [
    "for i in x:\n",
    "    print(i)\n",
    "    print(i[0])\n",
    "#     break"
   ]
  },
  {
   "cell_type": "code",
   "execution_count": 2,
   "id": "02d94008-7f35-4707-a521-1ed866412ab8",
   "metadata": {},
   "outputs": [
    {
     "ename": "SyntaxError",
     "evalue": "f-string: empty expression not allowed (3444599112.py, line 1)",
     "output_type": "error",
     "traceback": [
      "\u001b[0;36m  File \u001b[0;32m\"/tmp/ipykernel_879479/3444599112.py\"\u001b[0;36m, line \u001b[0;32m1\u001b[0m\n\u001b[0;31m    context_template = f' context: There are lots of {animal} all over the world. They all like to eat different things. One study estimates that {}% of {animal} like to eat {animal}.'\u001b[0m\n\u001b[0m                                                                                                                                                                                        ^\u001b[0m\n\u001b[0;31mSyntaxError\u001b[0m\u001b[0;31m:\u001b[0m f-string: empty expression not allowed\n"
     ]
    }
   ],
   "source": [
    "\n",
    "\n",
    "context_template = f' context: There are lots of {animal} all over the world. They all like to eat different things. One study estimates that {}% of {animal} like to eat {animal}.'\n",
    "question_template = f'answer_me: What percentage of {animal} do not like to eat {food}?'\n",
    "answer_template = f'{}'\n",
    "\n",
    "animals = ['pandas','bears','sharks','elephants','giraffes','monkeys']\n",
    "foods = ['grapes','walnuts','fruit','apples','fish','pizza']\n",
    "\n",
    "\n"
   ]
  },
  {
   "cell_type": "code",
   "execution_count": null,
   "id": "d992ebcd-436c-4237-951c-f611ab965510",
   "metadata": {},
   "outputs": [],
   "source": []
  },
  {
   "cell_type": "code",
   "execution_count": 22,
   "id": "632328c7-043e-4510-b6ad-4204d8eaffde",
   "metadata": {},
   "outputs": [
    {
     "name": "stdout",
     "output_type": "stream",
     "text": [
      "(('pandas', 'grapes'), ('bears', 'walnuts'), ('sharks', 'fruit'), ('elephants', 'deer'), ('giraffes', 'buffalo'), ('monkeys', 'pizza'))\n"
     ]
    }
   ],
   "source": [
    "# def generate_template(starter_context,starter_question):\n",
    "    \n",
    "animals = ['pandas','bears','sharks','elephants','giraffes','monkeys']\n",
    "food = ['grapes','walnuts','fruit','deer','buffalo','pizza']\n",
    "    \n",
    "x = itertools.permutations(zip(animals,food))\n",
    "for i in x:\n",
    "\n",
    "    print(i)\n",
    "    break"
   ]
  },
  {
   "cell_type": "code",
   "execution_count": null,
   "id": "de85401e-dc66-4b04-8e99-ce2516b4fd9b",
   "metadata": {},
   "outputs": [],
   "source": []
  },
  {
   "cell_type": "code",
   "execution_count": null,
   "id": "1d7bad47-5157-4239-8a7c-15273db98c1d",
   "metadata": {},
   "outputs": [],
   "source": []
  },
  {
   "cell_type": "code",
   "execution_count": 16,
   "id": "1a7e8ce4-3c18-42b5-94bf-7ea36e3b739e",
   "metadata": {},
   "outputs": [
    {
     "ename": "Exception",
     "evalue": "Error: key \"animal\" not in items or lexicons",
     "output_type": "error",
     "traceback": [
      "\u001b[0;31m---------------------------------------------------------------------------\u001b[0m",
      "\u001b[0;31mException\u001b[0m                                 Traceback (most recent call last)",
      "\u001b[0;32m/tmp/ipykernel_777042/2070376569.py\u001b[0m in \u001b[0;36m<module>\u001b[0;34m\u001b[0m\n\u001b[1;32m      4\u001b[0m \u001b[0;34m\u001b[0m\u001b[0m\n\u001b[1;32m      5\u001b[0m \u001b[0;34m\u001b[0m\u001b[0m\n\u001b[0;32m----> 6\u001b[0;31m \u001b[0mret\u001b[0m \u001b[0;34m=\u001b[0m \u001b[0meditor\u001b[0m\u001b[0;34m.\u001b[0m\u001b[0mtemplate\u001b[0m\u001b[0;34m(\u001b[0m\u001b[0mcontext_template\u001b[0m\u001b[0;34m,\u001b[0m \u001b[0mnoun\u001b[0m\u001b[0;34m=\u001b[0m\u001b[0;34m[\u001b[0m\u001b[0;34m'penguins'\u001b[0m\u001b[0;34m,\u001b[0m\u001b[0;34m'sharks'\u001b[0m\u001b[0;34m,\u001b[0m\u001b[0;34m'pandas'\u001b[0m\u001b[0;34m,\u001b[0m\u001b[0;34m'elephants'\u001b[0m\u001b[0;34m]\u001b[0m\u001b[0;34m,\u001b[0m \u001b[0mlabels\u001b[0m\u001b[0;34m=\u001b[0m\u001b[0;36m1\u001b[0m\u001b[0;34m,\u001b[0m\u001b[0mmeta\u001b[0m\u001b[0;34m=\u001b[0m\u001b[0;32mTrue\u001b[0m\u001b[0;34m,\u001b[0m\u001b[0msave\u001b[0m\u001b[0;34m=\u001b[0m\u001b[0;32mTrue\u001b[0m\u001b[0;34m)\u001b[0m\u001b[0;34m\u001b[0m\u001b[0;34m\u001b[0m\u001b[0m\n\u001b[0m\u001b[1;32m      7\u001b[0m \u001b[0mret\u001b[0m\u001b[0;34m.\u001b[0m\u001b[0mdata\u001b[0m\u001b[0;34m\u001b[0m\u001b[0;34m\u001b[0m\u001b[0m\n",
      "\u001b[0;32m~/miniconda3/lib/python3.9/site-packages/checklist/editor.py\u001b[0m in \u001b[0;36mtemplate\u001b[0;34m(self, templates, nsamples, product, remove_duplicates, mask_only, unroll, labels, meta, save, **kwargs)\u001b[0m\n\u001b[1;32m    642\u001b[0m             \u001b[0mtemplates\u001b[0m \u001b[0;34m=\u001b[0m \u001b[0;34m(\u001b[0m\u001b[0mtemplates\u001b[0m\u001b[0;34m,\u001b[0m \u001b[0mlabels\u001b[0m\u001b[0;34m)\u001b[0m\u001b[0;34m\u001b[0m\u001b[0;34m\u001b[0m\u001b[0m\n\u001b[1;32m    643\u001b[0m         \u001b[0mall_keys\u001b[0m \u001b[0;34m=\u001b[0m \u001b[0mfind_all_keys\u001b[0m\u001b[0;34m(\u001b[0m\u001b[0mtemplates\u001b[0m\u001b[0;34m)\u001b[0m\u001b[0;34m\u001b[0m\u001b[0;34m\u001b[0m\u001b[0m\n\u001b[0;32m--> 644\u001b[0;31m         \u001b[0mitems\u001b[0m \u001b[0;34m=\u001b[0m \u001b[0mself\u001b[0m\u001b[0;34m.\u001b[0m\u001b[0m_get_fillin_items\u001b[0m\u001b[0;34m(\u001b[0m\u001b[0mall_keys\u001b[0m\u001b[0;34m,\u001b[0m \u001b[0;34m**\u001b[0m\u001b[0mkwargs\u001b[0m\u001b[0;34m)\u001b[0m\u001b[0;34m\u001b[0m\u001b[0;34m\u001b[0m\u001b[0m\n\u001b[0m\u001b[1;32m    645\u001b[0m         \u001b[0mmask_index\u001b[0m\u001b[0;34m,\u001b[0m \u001b[0mmask_options\u001b[0m \u001b[0;34m=\u001b[0m \u001b[0mget_mask_index\u001b[0m\u001b[0;34m(\u001b[0m\u001b[0mtemplates\u001b[0m\u001b[0;34m)\u001b[0m\u001b[0;34m\u001b[0m\u001b[0;34m\u001b[0m\u001b[0m\n\u001b[1;32m    646\u001b[0m \u001b[0;34m\u001b[0m\u001b[0m\n",
      "\u001b[0;32m~/miniconda3/lib/python3.9/site-packages/checklist/editor.py\u001b[0m in \u001b[0;36m_get_fillin_items\u001b[0;34m(self, all_keys, max_count, **kwargs)\u001b[0m\n\u001b[1;32m    582\u001b[0m                 \u001b[0mitems\u001b[0m\u001b[0;34m[\u001b[0m\u001b[0mk\u001b[0m\u001b[0;34m]\u001b[0m \u001b[0;34m=\u001b[0m \u001b[0mself\u001b[0m\u001b[0;34m.\u001b[0m\u001b[0mlexicons\u001b[0m\u001b[0;34m[\u001b[0m\u001b[0mnewk\u001b[0m\u001b[0;34m]\u001b[0m\u001b[0;34m\u001b[0m\u001b[0;34m\u001b[0m\u001b[0m\n\u001b[1;32m    583\u001b[0m             \u001b[0;32melse\u001b[0m\u001b[0;34m:\u001b[0m\u001b[0;34m\u001b[0m\u001b[0;34m\u001b[0m\u001b[0m\n\u001b[0;32m--> 584\u001b[0;31m                 \u001b[0;32mraise\u001b[0m\u001b[0;34m(\u001b[0m\u001b[0mException\u001b[0m\u001b[0;34m(\u001b[0m\u001b[0;34m'Error: key \"%s\" not in items or lexicons'\u001b[0m \u001b[0;34m%\u001b[0m \u001b[0mnewk\u001b[0m\u001b[0;34m)\u001b[0m\u001b[0;34m)\u001b[0m\u001b[0;34m\u001b[0m\u001b[0;34m\u001b[0m\u001b[0m\n\u001b[0m\u001b[1;32m    585\u001b[0m             \u001b[0;32mif\u001b[0m \u001b[0mmax_count\u001b[0m\u001b[0;34m:\u001b[0m\u001b[0;34m\u001b[0m\u001b[0;34m\u001b[0m\u001b[0m\n\u001b[1;32m    586\u001b[0m                 \u001b[0mitems\u001b[0m\u001b[0;34m[\u001b[0m\u001b[0mk\u001b[0m\u001b[0;34m]\u001b[0m \u001b[0;34m=\u001b[0m \u001b[0mitems\u001b[0m\u001b[0;34m[\u001b[0m\u001b[0mk\u001b[0m\u001b[0;34m]\u001b[0m\u001b[0;34m[\u001b[0m\u001b[0;34m:\u001b[0m\u001b[0mmax_count\u001b[0m\u001b[0;34m]\u001b[0m\u001b[0;34m\u001b[0m\u001b[0;34m\u001b[0m\u001b[0m\n",
      "\u001b[0;31mException\u001b[0m: Error: key \"animal\" not in items or lexicons"
     ]
    }
   ],
   "source": [
    "context_template = ' context: There are lots of {animal} all over the world. They all like to eat different things. One study estimates that {}% of {animal} like to eat {animal}.'\n",
    "question_template = 'answer_me: What percentage of {noun1} do not like to eat {noun2}?'\n",
    "answer_template = '{}'\n",
    "\n",
    "\n"
   ]
  },
  {
   "cell_type": "code",
   "execution_count": null,
   "id": "bfe77e24-96f6-4e55-8a23-2e62ac7e44c5",
   "metadata": {},
   "outputs": [],
   "source": []
  },
  {
   "cell_type": "code",
   "execution_count": null,
   "id": "e14f4197-481f-4be1-9026-43e1d57a3051",
   "metadata": {},
   "outputs": [],
   "source": []
  },
  {
   "cell_type": "code",
   "execution_count": null,
   "id": "41d9dde1-3de1-48fa-8eea-f6d4d1a46785",
   "metadata": {},
   "outputs": [],
   "source": []
  },
  {
   "cell_type": "code",
   "execution_count": null,
   "id": "2bdc7366-d88e-49a4-b226-46904c41b024",
   "metadata": {},
   "outputs": [],
   "source": []
  },
  {
   "cell_type": "code",
   "execution_count": null,
   "id": "bffb7d58-9b82-4264-950c-31331fa6fede",
   "metadata": {},
   "outputs": [],
   "source": []
  },
  {
   "cell_type": "code",
   "execution_count": null,
   "id": "2e26e856-11a3-4c18-8f5a-beedee218943",
   "metadata": {},
   "outputs": [],
   "source": []
  },
  {
   "cell_type": "code",
   "execution_count": null,
   "id": "c91b6588-328c-42f2-a299-85647f7a424e",
   "metadata": {},
   "outputs": [],
   "source": []
  },
  {
   "cell_type": "code",
   "execution_count": null,
   "id": "e4fbdd79-22ea-4e74-8d37-f24475665c6a",
   "metadata": {},
   "outputs": [],
   "source": []
  },
  {
   "cell_type": "code",
   "execution_count": null,
   "id": "d5e73696-5a68-4fa9-83db-596ea17129e6",
   "metadata": {},
   "outputs": [],
   "source": []
  },
  {
   "cell_type": "code",
   "execution_count": null,
   "id": "90caa486-6904-4c5a-888f-8fd1e559975b",
   "metadata": {},
   "outputs": [],
   "source": []
  },
  {
   "cell_type": "code",
   "execution_count": null,
   "id": "e1b7ed2c-63a0-4147-8781-a5ce04787d26",
   "metadata": {},
   "outputs": [],
   "source": []
  },
  {
   "cell_type": "code",
   "execution_count": null,
   "id": "62fe2284-26e1-4825-aed0-0d8c3338261b",
   "metadata": {},
   "outputs": [],
   "source": []
  },
  {
   "cell_type": "code",
   "execution_count": null,
   "id": "505f98bf-36fb-4ad3-9bce-733cad861a21",
   "metadata": {},
   "outputs": [],
   "source": []
  },
  {
   "cell_type": "code",
   "execution_count": null,
   "id": "1f30d261-6deb-491f-8f5d-aba20badb93f",
   "metadata": {},
   "outputs": [],
   "source": []
  }
 ],
 "metadata": {
  "kernelspec": {
   "display_name": "Python 3 (ipykernel)",
   "language": "python",
   "name": "python3"
  },
  "language_info": {
   "codemirror_mode": {
    "name": "ipython",
    "version": 3
   },
   "file_extension": ".py",
   "mimetype": "text/x-python",
   "name": "python",
   "nbconvert_exporter": "python",
   "pygments_lexer": "ipython3",
   "version": "3.9.1"
  }
 },
 "nbformat": 4,
 "nbformat_minor": 5
}
