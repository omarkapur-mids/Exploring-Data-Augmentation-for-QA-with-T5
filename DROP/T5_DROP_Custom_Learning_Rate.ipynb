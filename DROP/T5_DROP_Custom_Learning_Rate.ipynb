{
  "nbformat": 4,
  "nbformat_minor": 0,
  "metadata": {
    "accelerator": "GPU",
    "colab": {
      "name": "T5_DROP_training.ipynb",
      "provenance": [],
      "include_colab_link": true
    },
    "kernelspec": {
      "display_name": "Python 3 (ipykernel)",
      "language": "python",
      "name": "python3"
    },
    "language_info": {
      "codemirror_mode": {
        "name": "ipython",
        "version": 3
      },
      "file_extension": ".py",
      "mimetype": "text/x-python",
      "name": "python",
      "nbconvert_exporter": "python",
      "pygments_lexer": "ipython3",
      "version": "3.9.1"
    },
    "widgets": {
      "application/vnd.jupyter.widget-state+json": {
        "2a7ea77e513a4ee98f4f935473562d57": {
          "model_module": "@jupyter-widgets/controls",
          "model_name": "HBoxModel",
          "state": {
            "_view_name": "HBoxView",
            "_dom_classes": [],
            "_model_name": "HBoxModel",
            "_view_module": "@jupyter-widgets/controls",
            "_model_module_version": "1.5.0",
            "_view_count": null,
            "_view_module_version": "1.5.0",
            "box_style": "",
            "layout": "IPY_MODEL_a9e7d88792e94333b4657e58dc7cb8f5",
            "_model_module": "@jupyter-widgets/controls",
            "children": [
              "IPY_MODEL_5d7282b5fcd44ce992b82c30a4f96654",
              "IPY_MODEL_840b2a8c7a064cce9e31de2e8921dda7"
            ]
          }
        },
        "a9e7d88792e94333b4657e58dc7cb8f5": {
          "model_module": "@jupyter-widgets/base",
          "model_name": "LayoutModel",
          "state": {
            "_view_name": "LayoutView",
            "grid_template_rows": null,
            "right": null,
            "justify_content": null,
            "_view_module": "@jupyter-widgets/base",
            "overflow": null,
            "_model_module_version": "1.2.0",
            "_view_count": null,
            "flex_flow": null,
            "width": null,
            "min_width": null,
            "border": null,
            "align_items": null,
            "bottom": null,
            "_model_module": "@jupyter-widgets/base",
            "top": null,
            "grid_column": null,
            "overflow_y": null,
            "overflow_x": null,
            "grid_auto_flow": null,
            "grid_area": null,
            "grid_template_columns": null,
            "flex": null,
            "_model_name": "LayoutModel",
            "justify_items": null,
            "grid_row": null,
            "max_height": null,
            "align_content": null,
            "visibility": null,
            "align_self": null,
            "height": null,
            "min_height": null,
            "padding": null,
            "grid_auto_rows": null,
            "grid_gap": null,
            "max_width": null,
            "order": null,
            "_view_module_version": "1.2.0",
            "grid_template_areas": null,
            "object_position": null,
            "object_fit": null,
            "grid_auto_columns": null,
            "margin": null,
            "display": null,
            "left": null
          }
        },
        "5d7282b5fcd44ce992b82c30a4f96654": {
          "model_module": "@jupyter-widgets/controls",
          "model_name": "FloatProgressModel",
          "state": {
            "_view_name": "ProgressView",
            "style": "IPY_MODEL_4a8518c321104a3d897882425d59f31d",
            "_dom_classes": [],
            "description": "100%",
            "_model_name": "FloatProgressModel",
            "bar_style": "success",
            "max": 1000,
            "_view_module": "@jupyter-widgets/controls",
            "_model_module_version": "1.5.0",
            "value": 1000,
            "_view_count": null,
            "_view_module_version": "1.5.0",
            "orientation": "horizontal",
            "min": 0,
            "description_tooltip": null,
            "_model_module": "@jupyter-widgets/controls",
            "layout": "IPY_MODEL_43280ddcb8cf4f529295753fa13a9fbc"
          }
        },
        "840b2a8c7a064cce9e31de2e8921dda7": {
          "model_module": "@jupyter-widgets/controls",
          "model_name": "HTMLModel",
          "state": {
            "_view_name": "HTMLView",
            "style": "IPY_MODEL_1f90e298d2f943888a2475d65b4148db",
            "_dom_classes": [],
            "description": "",
            "_model_name": "HTMLModel",
            "placeholder": "​",
            "_view_module": "@jupyter-widgets/controls",
            "_model_module_version": "1.5.0",
            "value": " 1000/1000 [00:11&lt;00:00, 84.90ex/s]",
            "_view_count": null,
            "_view_module_version": "1.5.0",
            "description_tooltip": null,
            "_model_module": "@jupyter-widgets/controls",
            "layout": "IPY_MODEL_0f43317567cc4ddabbbf217c6d9b8eb9"
          }
        },
        "4a8518c321104a3d897882425d59f31d": {
          "model_module": "@jupyter-widgets/controls",
          "model_name": "ProgressStyleModel",
          "state": {
            "_view_name": "StyleView",
            "_model_name": "ProgressStyleModel",
            "description_width": "initial",
            "_view_module": "@jupyter-widgets/base",
            "_model_module_version": "1.5.0",
            "_view_count": null,
            "_view_module_version": "1.2.0",
            "bar_color": null,
            "_model_module": "@jupyter-widgets/controls"
          }
        },
        "43280ddcb8cf4f529295753fa13a9fbc": {
          "model_module": "@jupyter-widgets/base",
          "model_name": "LayoutModel",
          "state": {
            "_view_name": "LayoutView",
            "grid_template_rows": null,
            "right": null,
            "justify_content": null,
            "_view_module": "@jupyter-widgets/base",
            "overflow": null,
            "_model_module_version": "1.2.0",
            "_view_count": null,
            "flex_flow": null,
            "width": null,
            "min_width": null,
            "border": null,
            "align_items": null,
            "bottom": null,
            "_model_module": "@jupyter-widgets/base",
            "top": null,
            "grid_column": null,
            "overflow_y": null,
            "overflow_x": null,
            "grid_auto_flow": null,
            "grid_area": null,
            "grid_template_columns": null,
            "flex": null,
            "_model_name": "LayoutModel",
            "justify_items": null,
            "grid_row": null,
            "max_height": null,
            "align_content": null,
            "visibility": null,
            "align_self": null,
            "height": null,
            "min_height": null,
            "padding": null,
            "grid_auto_rows": null,
            "grid_gap": null,
            "max_width": null,
            "order": null,
            "_view_module_version": "1.2.0",
            "grid_template_areas": null,
            "object_position": null,
            "object_fit": null,
            "grid_auto_columns": null,
            "margin": null,
            "display": null,
            "left": null
          }
        },
        "1f90e298d2f943888a2475d65b4148db": {
          "model_module": "@jupyter-widgets/controls",
          "model_name": "DescriptionStyleModel",
          "state": {
            "_view_name": "StyleView",
            "_model_name": "DescriptionStyleModel",
            "description_width": "",
            "_view_module": "@jupyter-widgets/base",
            "_model_module_version": "1.5.0",
            "_view_count": null,
            "_view_module_version": "1.2.0",
            "_model_module": "@jupyter-widgets/controls"
          }
        },
        "0f43317567cc4ddabbbf217c6d9b8eb9": {
          "model_module": "@jupyter-widgets/base",
          "model_name": "LayoutModel",
          "state": {
            "_view_name": "LayoutView",
            "grid_template_rows": null,
            "right": null,
            "justify_content": null,
            "_view_module": "@jupyter-widgets/base",
            "overflow": null,
            "_model_module_version": "1.2.0",
            "_view_count": null,
            "flex_flow": null,
            "width": null,
            "min_width": null,
            "border": null,
            "align_items": null,
            "bottom": null,
            "_model_module": "@jupyter-widgets/base",
            "top": null,
            "grid_column": null,
            "overflow_y": null,
            "overflow_x": null,
            "grid_auto_flow": null,
            "grid_area": null,
            "grid_template_columns": null,
            "flex": null,
            "_model_name": "LayoutModel",
            "justify_items": null,
            "grid_row": null,
            "max_height": null,
            "align_content": null,
            "visibility": null,
            "align_self": null,
            "height": null,
            "min_height": null,
            "padding": null,
            "grid_auto_rows": null,
            "grid_gap": null,
            "max_width": null,
            "order": null,
            "_view_module_version": "1.2.0",
            "grid_template_areas": null,
            "object_position": null,
            "object_fit": null,
            "grid_auto_columns": null,
            "margin": null,
            "display": null,
            "left": null
          }
        },
        "143645d284644e7486394aae9cfb028d": {
          "model_module": "@jupyter-widgets/controls",
          "model_name": "HBoxModel",
          "state": {
            "_view_name": "HBoxView",
            "_dom_classes": [],
            "_model_name": "HBoxModel",
            "_view_module": "@jupyter-widgets/controls",
            "_model_module_version": "1.5.0",
            "_view_count": null,
            "_view_module_version": "1.5.0",
            "box_style": "",
            "layout": "IPY_MODEL_2d6860a9b9d344fb8f75ca6529cfd78f",
            "_model_module": "@jupyter-widgets/controls",
            "children": [
              "IPY_MODEL_c2e4e22bf5004f43812b76f88fa39f08",
              "IPY_MODEL_07d383bb04444df1b32ebc705ff31820"
            ]
          }
        },
        "2d6860a9b9d344fb8f75ca6529cfd78f": {
          "model_module": "@jupyter-widgets/base",
          "model_name": "LayoutModel",
          "state": {
            "_view_name": "LayoutView",
            "grid_template_rows": null,
            "right": null,
            "justify_content": null,
            "_view_module": "@jupyter-widgets/base",
            "overflow": null,
            "_model_module_version": "1.2.0",
            "_view_count": null,
            "flex_flow": null,
            "width": null,
            "min_width": null,
            "border": null,
            "align_items": null,
            "bottom": null,
            "_model_module": "@jupyter-widgets/base",
            "top": null,
            "grid_column": null,
            "overflow_y": null,
            "overflow_x": null,
            "grid_auto_flow": null,
            "grid_area": null,
            "grid_template_columns": null,
            "flex": null,
            "_model_name": "LayoutModel",
            "justify_items": null,
            "grid_row": null,
            "max_height": null,
            "align_content": null,
            "visibility": null,
            "align_self": null,
            "height": null,
            "min_height": null,
            "padding": null,
            "grid_auto_rows": null,
            "grid_gap": null,
            "max_width": null,
            "order": null,
            "_view_module_version": "1.2.0",
            "grid_template_areas": null,
            "object_position": null,
            "object_fit": null,
            "grid_auto_columns": null,
            "margin": null,
            "display": null,
            "left": null
          }
        },
        "c2e4e22bf5004f43812b76f88fa39f08": {
          "model_module": "@jupyter-widgets/controls",
          "model_name": "FloatProgressModel",
          "state": {
            "_view_name": "ProgressView",
            "style": "IPY_MODEL_c8e615c4414e4a1ba421bddc5a6d435e",
            "_dom_classes": [],
            "description": "100%",
            "_model_name": "FloatProgressModel",
            "bar_style": "success",
            "max": 1000,
            "_view_module": "@jupyter-widgets/controls",
            "_model_module_version": "1.5.0",
            "value": 1000,
            "_view_count": null,
            "_view_module_version": "1.5.0",
            "orientation": "horizontal",
            "min": 0,
            "description_tooltip": null,
            "_model_module": "@jupyter-widgets/controls",
            "layout": "IPY_MODEL_b6daff759ffc461782f41e6e73ae8ae6"
          }
        },
        "07d383bb04444df1b32ebc705ff31820": {
          "model_module": "@jupyter-widgets/controls",
          "model_name": "HTMLModel",
          "state": {
            "_view_name": "HTMLView",
            "style": "IPY_MODEL_2cdd4e3d16104157b28a16bdc3b854ca",
            "_dom_classes": [],
            "description": "",
            "_model_name": "HTMLModel",
            "placeholder": "​",
            "_view_module": "@jupyter-widgets/controls",
            "_model_module_version": "1.5.0",
            "value": " 1000/1000 [00:06&lt;00:00, 156.05ex/s]",
            "_view_count": null,
            "_view_module_version": "1.5.0",
            "description_tooltip": null,
            "_model_module": "@jupyter-widgets/controls",
            "layout": "IPY_MODEL_01b172ec286e4e88afda35a3d2dd5b0d"
          }
        },
        "c8e615c4414e4a1ba421bddc5a6d435e": {
          "model_module": "@jupyter-widgets/controls",
          "model_name": "ProgressStyleModel",
          "state": {
            "_view_name": "StyleView",
            "_model_name": "ProgressStyleModel",
            "description_width": "initial",
            "_view_module": "@jupyter-widgets/base",
            "_model_module_version": "1.5.0",
            "_view_count": null,
            "_view_module_version": "1.2.0",
            "bar_color": null,
            "_model_module": "@jupyter-widgets/controls"
          }
        },
        "b6daff759ffc461782f41e6e73ae8ae6": {
          "model_module": "@jupyter-widgets/base",
          "model_name": "LayoutModel",
          "state": {
            "_view_name": "LayoutView",
            "grid_template_rows": null,
            "right": null,
            "justify_content": null,
            "_view_module": "@jupyter-widgets/base",
            "overflow": null,
            "_model_module_version": "1.2.0",
            "_view_count": null,
            "flex_flow": null,
            "width": null,
            "min_width": null,
            "border": null,
            "align_items": null,
            "bottom": null,
            "_model_module": "@jupyter-widgets/base",
            "top": null,
            "grid_column": null,
            "overflow_y": null,
            "overflow_x": null,
            "grid_auto_flow": null,
            "grid_area": null,
            "grid_template_columns": null,
            "flex": null,
            "_model_name": "LayoutModel",
            "justify_items": null,
            "grid_row": null,
            "max_height": null,
            "align_content": null,
            "visibility": null,
            "align_self": null,
            "height": null,
            "min_height": null,
            "padding": null,
            "grid_auto_rows": null,
            "grid_gap": null,
            "max_width": null,
            "order": null,
            "_view_module_version": "1.2.0",
            "grid_template_areas": null,
            "object_position": null,
            "object_fit": null,
            "grid_auto_columns": null,
            "margin": null,
            "display": null,
            "left": null
          }
        },
        "2cdd4e3d16104157b28a16bdc3b854ca": {
          "model_module": "@jupyter-widgets/controls",
          "model_name": "DescriptionStyleModel",
          "state": {
            "_view_name": "StyleView",
            "_model_name": "DescriptionStyleModel",
            "description_width": "",
            "_view_module": "@jupyter-widgets/base",
            "_model_module_version": "1.5.0",
            "_view_count": null,
            "_view_module_version": "1.2.0",
            "_model_module": "@jupyter-widgets/controls"
          }
        },
        "01b172ec286e4e88afda35a3d2dd5b0d": {
          "model_module": "@jupyter-widgets/base",
          "model_name": "LayoutModel",
          "state": {
            "_view_name": "LayoutView",
            "grid_template_rows": null,
            "right": null,
            "justify_content": null,
            "_view_module": "@jupyter-widgets/base",
            "overflow": null,
            "_model_module_version": "1.2.0",
            "_view_count": null,
            "flex_flow": null,
            "width": null,
            "min_width": null,
            "border": null,
            "align_items": null,
            "bottom": null,
            "_model_module": "@jupyter-widgets/base",
            "top": null,
            "grid_column": null,
            "overflow_y": null,
            "overflow_x": null,
            "grid_auto_flow": null,
            "grid_area": null,
            "grid_template_columns": null,
            "flex": null,
            "_model_name": "LayoutModel",
            "justify_items": null,
            "grid_row": null,
            "max_height": null,
            "align_content": null,
            "visibility": null,
            "align_self": null,
            "height": null,
            "min_height": null,
            "padding": null,
            "grid_auto_rows": null,
            "grid_gap": null,
            "max_width": null,
            "order": null,
            "_view_module_version": "1.2.0",
            "grid_template_areas": null,
            "object_position": null,
            "object_fit": null,
            "grid_auto_columns": null,
            "margin": null,
            "display": null,
            "left": null
          }
        }
      }
    }
  },
  "cells": [
    {
      "cell_type": "markdown",
      "metadata": {
        "id": "view-in-github",
        "colab_type": "text"
      },
      "source": [
        "<a href=\"https://colab.research.google.com/github/omarkapur-mids/w266-project/blob/phillip/DROP/T5_DROP_Custom_Learning_Rate.ipynb\" target=\"_parent\"><img src=\"https://colab.research.google.com/assets/colab-badge.svg\" alt=\"Open In Colab\"/></a>"
      ]
    },
    {
      "cell_type": "code",
      "metadata": {
        "id": "pPTDq9hsSame"
      },
      "source": [
        "save_model = False\n",
        "load_model = False\n",
        "train_model = True\n",
        "use_learning_schedule = False\n",
        "save_preprocessing = True #add\n",
        "load_preprocessing = False #add\n",
        "save_results = False\n",
        "predict_train = False\n",
        "predict_dev = True\n",
        "\n",
        "run_toy = True\n",
        "toy_size = 100\n",
        "epochs = 3\n",
        "batch_size = 8\n",
        "dataset='squad' #acceptable values: drop, squad\n",
        "VERSION=\"drop_only-v1\"\n",
        "t5_model = 't5-small'\n",
        "\n",
        "warmup_steps = 10 #1e4\n",
        "encoder_max_len = 250\n",
        "decoder_max_len = 54\n",
        "buffer_size = 1000"
      ],
      "execution_count": 1,
      "outputs": []
    },
    {
      "cell_type": "markdown",
      "metadata": {
        "id": "47S35TVwgIeG",
        "tags": []
      },
      "source": [
        "# Using T5 on DROP"
      ]
    },
    {
      "cell_type": "markdown",
      "metadata": {
        "id": "uUEAtP-egIeI"
      },
      "source": [
        "#### Package installs"
      ]
    },
    {
      "cell_type": "code",
      "metadata": {
        "id": "5W9FWSkzSk9r"
      },
      "source": [
        "!pip install --quiet transformers\n",
        "!pip install --quiet sentencepiece\n",
        "!pip install --quiet wget\n",
        "!pip install --quiet datasets\n",
        "#!pip install --quiet ipywidgets\n",
        "#!pip install --quiet tensorflow"
      ],
      "execution_count": 2,
      "outputs": []
    },
    {
      "cell_type": "markdown",
      "metadata": {
        "id": "y2EQCkymgIeK"
      },
      "source": [
        "#### Download drop_eval module and set directories\n",
        "\n",
        "https://github.com/allenai/allennlp-reading-comprehension/blob/master/allennlp_rc/eval/drop_eval.py"
      ]
    },
    {
      "cell_type": "code",
      "metadata": {
        "colab": {
          "base_uri": "https://localhost:8080/"
        },
        "id": "4dtV_UO9Sami",
        "outputId": "e753808d-e954-4425-bcae-1bdd0cf70c59"
      },
      "source": [
        "!wget https://raw.githubusercontent.com/allenai/allennlp-reading-comprehension/master/allennlp_rc/eval/drop_eval.py -O drop_eval.py\n",
        "import os\n",
        "def create_dir(d,verbose=False):\n",
        "    if not os.path.exists(d):\n",
        "        !mkdir -p $d    \n",
        "        if verbose: print(f'created folder for {d}')\n",
        "    else:\n",
        "        if verbose: print(f'using existing folder for {d}\\nCAUTION -- this run may overwrite existing data!')\n",
        "    \n",
        "#set directories\n",
        "root_dir = './data'\n",
        "data_dir = f\"./data/{VERSION}/{t5_model}\"\n",
        "processed_dir = f\"{root_dir}/processed-data\"\n",
        "results_dir = f\"{data_dir}/results/\"\n",
        "log_dir = f\"{data_dir}/experiments/logs\"\n",
        "save_path = f\"{data_dir}/experiments/models\"\n",
        "\n",
        "\n",
        "create_dir(root_dir)\n",
        "create_dir(data_dir)\n",
        "create_dir(processed_dir)\n",
        "create_dir(results_dir)\n",
        "create_dir(log_dir)\n",
        "create_dir(save_path)"
      ],
      "execution_count": 3,
      "outputs": [
        {
          "output_type": "stream",
          "text": [
            "--2021-07-18 17:28:10--  https://raw.githubusercontent.com/allenai/allennlp-reading-comprehension/master/allennlp_rc/eval/drop_eval.py\n",
            "Resolving raw.githubusercontent.com (raw.githubusercontent.com)... 185.199.108.133, 185.199.109.133, 185.199.110.133, ...\n",
            "Connecting to raw.githubusercontent.com (raw.githubusercontent.com)|185.199.108.133|:443... connected.\n",
            "HTTP request sent, awaiting response... 200 OK\n",
            "Length: 11222 (11K) [text/plain]\n",
            "Saving to: ‘drop_eval.py’\n",
            "\n",
            "\rdrop_eval.py          0%[                    ]       0  --.-KB/s               \rdrop_eval.py        100%[===================>]  10.96K  --.-KB/s    in 0s      \n",
            "\n",
            "2021-07-18 17:28:10 (39.0 MB/s) - ‘drop_eval.py’ saved [11222/11222]\n",
            "\n"
          ],
          "name": "stdout"
        }
      ]
    },
    {
      "cell_type": "markdown",
      "metadata": {
        "id": "j-ADai1tgIeL"
      },
      "source": [
        "#### load packages"
      ]
    },
    {
      "cell_type": "code",
      "metadata": {
        "id": "4w1GhOTfgIeM",
        "colab": {
          "base_uri": "https://localhost:8080/"
        },
        "outputId": "aa242051-6a09-4634-9b65-e2f11e1b85bb"
      },
      "source": [
        "# import warnings\n",
        "# warnings.filterwarnings('ignore')\n",
        "# warnings.simplefilter('ignore')\n",
        "\n",
        "\n",
        "# import logging\n",
        "# logging.getLogger(\"tensorflow\").setLevel(logging.ERROR)\n",
        "# logging.getLogger(\"tensorflow\").addHandler(logging.NullHandler(logging.ERROR))\n",
        "import os\n",
        "from transformers import T5Tokenizer, TFT5ForConditionalGeneration\n",
        "import tensorflow as tf\n",
        "os.environ['TF_CPP_MIN_LOG_LEVEL'] = '3'\n",
        "import tensorflow.keras as keras\n",
        "import drop_eval\n",
        "import pandas as pd\n",
        "import numpy as np\n",
        "import json\n",
        "from datasets import Dataset, load_dataset\n",
        "import tensorflow_datasets as tfds\n",
        "import matplotlib.pyplot as plt\n",
        "import datetime\n",
        "import re\n",
        "\n",
        "from concurrent.futures import ThreadPoolExecutor, as_completed\n",
        "from tqdm.notebook import tqdm,trange\n",
        "\n",
        "%load_ext tensorboard\n",
        "\n",
        "assert len(tf.config.list_physical_devices(\"GPU\")) > 0, \"No GPU found by Tensorflow\"\n",
        "\n",
        "if(run_toy): print(f'Running on {toy_size:,} records for development run')\n",
        "    \n",
        "!nvcc -V"
      ],
      "execution_count": 4,
      "outputs": [
        {
          "output_type": "stream",
          "text": [
            "Running on 100 records for development run\n",
            "nvcc: NVIDIA (R) Cuda compiler driver\n",
            "Copyright (c) 2005-2020 NVIDIA Corporation\n",
            "Built on Wed_Jul_22_19:09:09_PDT_2020\n",
            "Cuda compilation tools, release 11.0, V11.0.221\n",
            "Build cuda_11.0_bu.TC445_37.28845127_0\n"
          ],
          "name": "stdout"
        }
      ]
    },
    {
      "cell_type": "markdown",
      "metadata": {
        "id": "5goXuHR1gIeM"
      },
      "source": [
        "#### Define model class"
      ]
    },
    {
      "cell_type": "code",
      "metadata": {
        "id": "XdP6lcFegIeM",
        "tags": []
      },
      "source": [
        "\n",
        "class T5forDrop(TFT5ForConditionalGeneration):\n",
        "    def __init__(self, *args, log_dir=None, cache_dir= None, **kwargs):\n",
        "        super().__init__(*args, **kwargs)\n",
        "        self.loss_tracker= tf.keras.metrics.Mean(name='loss')\n",
        "        self.F1_tracker= tf.keras.metrics.Mean(name='F1')\n",
        "        self.EM_tracker= tf.keras.metrics.Mean(name='EM')        \n",
        "\n",
        "    \n",
        "    @tf.function\n",
        "    def train_step(self, data):\n",
        "        x = data\n",
        "        y_true = x[\"labels\"]\n",
        "        with tf.GradientTape() as tape:\n",
        "            outputs = self(x, training=True)\n",
        "            logits = outputs['logits']\n",
        "            y_pred = tf.math.argmax(tf.nn.softmax(logits,axis=2), axis = 2, output_type=tf.int32)\n",
        "            loss = tf.reduce_mean(outputs['loss'])            \n",
        "            grads = tape.gradient(loss, self.trainable_variables)\n",
        "\n",
        "        # Calculate F1 and EM Metrics\n",
        "        # Create a word mask to not count the padding/sentence tokens\n",
        "        recall_word_mask = tf.math.logical_and(\n",
        "                    tf.math.not_equal(y_true,0)\n",
        "                    ,tf.math.not_equal(y_true,1))\n",
        "\n",
        "        precision_word_mask = tf.math.logical_and(\n",
        "                    tf.math.not_equal(y_pred,0)\n",
        "                    ,tf.math.not_equal(y_pred,1))\n",
        "\n",
        "        # match the tokens\n",
        "        match_token = tf.math.equal(y_true,y_pred)\n",
        "        recall_match = tf.math.logical_and(match_token,recall_word_mask) \n",
        "        precision_match = tf.math.logical_and(match_token,precision_word_mask) \n",
        "\n",
        "        # calculate score\n",
        "        precision_array = tf.math.reduce_sum(tf.cast(precision_match, tf.int32) ,axis=1)/tf.math.reduce_sum(tf.cast(precision_word_mask, tf.int32) ,axis=1)\n",
        "        recall_array = tf.math.reduce_sum(tf.cast(recall_match, tf.int32) ,axis=1)/tf.math.reduce_sum(tf.cast(recall_word_mask, tf.int32) ,axis=1)\n",
        "\n",
        "        P = tf.math.reduce_mean(precision_array)\n",
        "        R = tf.math.reduce_mean(recall_array)\n",
        "\n",
        "        EM = tf.math.reduce_mean(\n",
        "            tf.cast(tf.math.logical_and(\n",
        "                    tf.math.equal(precision_array,1)\n",
        "                    ,tf.math.equal(recall_array,1)), tf.int32))\n",
        "        F1 = 2*(P*R)/(P+R)\n",
        "        \n",
        "        '''\n",
        "        Note, since FP and FN are the same, \n",
        "        the F1 score is the same as Precision, Recall, \n",
        "        which is the average \"match\" score\n",
        "        '''\n",
        "\n",
        "        y_true = tf.reshape(y_true, [-1, 1])\n",
        "\n",
        "        self.optimizer.apply_gradients(zip(grads, self.trainable_variables))\n",
        "        lr = self.optimizer._decayed_lr(tf.float32)\n",
        "\n",
        "        self.loss_tracker.update_state(loss)\n",
        "        self.F1_tracker.update_state(F1)   \n",
        "        self.EM_tracker.update_state(EM)           \n",
        "        self.compiled_metrics.update_state(y_true, logits)\n",
        "        metrics = {m.name: m.result() for m in self.metrics}\n",
        "        metrics.update({'lr': lr})\n",
        "        \n",
        "        return metrics\n",
        "\n",
        "    def test_step(self, data):\n",
        "        x = data\n",
        "        y_true = x[\"labels\"]\n",
        "        outputs = self(x, training=True)\n",
        "        logits = outputs['logits']\n",
        "        y_pred = tf.math.argmax(tf.nn.softmax(logits,axis=2), axis = 2, output_type=tf.int32)\n",
        "        loss = tf.reduce_mean(outputs['loss'])      \n",
        "        \n",
        "        # Calculate F1 and EM Metrics\n",
        "        # Create a word mask to not count the padding/sentence tokens\n",
        "        recall_word_mask = tf.math.logical_and(\n",
        "                    tf.math.not_equal(y_true,0)\n",
        "                    ,tf.math.not_equal(y_true,1))\n",
        "\n",
        "        precision_word_mask = tf.math.logical_and(\n",
        "                    tf.math.not_equal(y_pred,0)\n",
        "                    ,tf.math.not_equal(y_pred,1))\n",
        "\n",
        "        # match the tokens\n",
        "        match_token = tf.math.equal(y_true,y_pred)\n",
        "        recall_match = tf.math.logical_and(match_token,recall_word_mask) \n",
        "        precision_match = tf.math.logical_and(match_token,precision_word_mask) \n",
        "\n",
        "        # calculate score\n",
        "        precision_array = tf.math.reduce_sum(tf.cast(precision_match, tf.int32) ,axis=1)/tf.math.reduce_sum(tf.cast(precision_word_mask, tf.int32) ,axis=1)\n",
        "        recall_array = tf.math.reduce_sum(tf.cast(recall_match, tf.int32) ,axis=1)/tf.math.reduce_sum(tf.cast(recall_word_mask, tf.int32) ,axis=1)\n",
        "\n",
        "        P = tf.math.reduce_mean(precision_array)\n",
        "        R = tf.math.reduce_mean(recall_array)\n",
        "\n",
        "        EM = tf.math.reduce_mean(\n",
        "            tf.cast(tf.math.logical_and(\n",
        "                    tf.math.equal(precision_array,1)\n",
        "                    ,tf.math.equal(recall_array,1)), tf.int32))\n",
        "        F1 = 2*(P*R)/(P+R)\n",
        "\n",
        "        y_true = tf.reshape(y_true, [-1, 1])\n",
        "\n",
        "        self.loss_tracker.update_state(loss)\n",
        "        self.F1_tracker.update_state(F1)   \n",
        "        self.EM_tracker.update_state(EM)           \n",
        "        self.compiled_metrics.update_state(y_true, logits)\n",
        "        metrics = {m.name: m.result() for m in self.metrics}        \n",
        "        return metrics"
      ],
      "execution_count": 5,
      "outputs": []
    },
    {
      "cell_type": "markdown",
      "metadata": {
        "id": "esxfDrXO66Bz"
      },
      "source": [
        "#### Import model and tokenizer"
      ]
    },
    {
      "cell_type": "code",
      "metadata": {
        "colab": {
          "base_uri": "https://localhost:8080/"
        },
        "id": "r08M8aqE65_M",
        "outputId": "e05d3d5b-2129-46be-b2d6-c69ad3adaec7"
      },
      "source": [
        "tokenizer = T5Tokenizer.from_pretrained(t5_model)\n",
        "#replace numbers with special tokens\n",
        "numbers = {'additional_special_tokens':['1','2','3','4','5','6','7','8','9','0','<ss>','<sv>']}\n",
        "num_tokens_added = tokenizer.add_special_tokens(numbers)\n",
        "\n",
        "\n",
        "model = T5forDrop.from_pretrained(t5_model)"
      ],
      "execution_count": 6,
      "outputs": [
        {
          "output_type": "stream",
          "text": [
            "All model checkpoint layers were used when initializing T5forDrop.\n",
            "\n",
            "All the layers of T5forDrop were initialized from the model checkpoint at t5-small.\n",
            "If your task is similar to the task the model of the checkpoint was trained on, you can already use T5forDrop for predictions without further training.\n"
          ],
          "name": "stderr"
        }
      ]
    },
    {
      "cell_type": "markdown",
      "metadata": {
        "id": "WIt7bbI8gIeN"
      },
      "source": [
        "#### Import data"
      ]
    },
    {
      "cell_type": "code",
      "metadata": {
        "id": "eQD_dStuSamm"
      },
      "source": [
        "def make_toy(dataset,toy_size=1000):\n",
        "    df = dataset.to_pandas()\n",
        "    df = df.head(toy_size)\n",
        "    return Dataset.from_pandas(df)"
      ],
      "execution_count": 7,
      "outputs": []
    },
    {
      "cell_type": "code",
      "metadata": {
        "colab": {
          "base_uri": "https://localhost:8080/"
        },
        "id": "EaxF09BQgIeO",
        "outputId": "4e903313-74c3-40da-950a-b7e930a341c7"
      },
      "source": [
        "train_dataset_full = load_dataset(dataset, split='train')\n",
        "valid_dataset_full = load_dataset(dataset, split='validation')\n",
        "\n",
        "print('Dataset features: ',train_dataset_full.features)\n",
        "\n",
        "#reduce data to toy size if run_toy flag is set\n",
        "if(run_toy):\n",
        "    train_dataset = make_toy(train_dataset_full)\n",
        "    valid_dataset = make_toy(valid_dataset_full)\n",
        "\n",
        "else:\n",
        "    train_dataset = train_dataset_full\n",
        "    valid_dataset = valid_dataset_full\n",
        "    \n",
        "#check out one record\n",
        "data = next(iter(valid_dataset))\n",
        "print(\"\\n\\nExample data from the dataset: \\n\", data)"
      ],
      "execution_count": 8,
      "outputs": [
        {
          "output_type": "stream",
          "text": [
            "Reusing dataset squad (/root/.cache/huggingface/datasets/squad/plain_text/1.0.0/6b6c4172d0119c74515f44ea0b8262efe4897f2ddb6613e5e915840fdc309c16)\n",
            "Reusing dataset squad (/root/.cache/huggingface/datasets/squad/plain_text/1.0.0/6b6c4172d0119c74515f44ea0b8262efe4897f2ddb6613e5e915840fdc309c16)\n"
          ],
          "name": "stderr"
        },
        {
          "output_type": "stream",
          "text": [
            "Dataset features:  {'id': Value(dtype='string', id=None), 'title': Value(dtype='string', id=None), 'context': Value(dtype='string', id=None), 'question': Value(dtype='string', id=None), 'answers': Sequence(feature={'text': Value(dtype='string', id=None), 'answer_start': Value(dtype='int32', id=None)}, length=-1, id=None)}\n",
            "\n",
            "\n",
            "Example data from the dataset: \n",
            " {'id': '56be4db0acb8001400a502ec', 'title': 'Super_Bowl_50', 'context': 'Super Bowl 50 was an American football game to determine the champion of the National Football League (NFL) for the 2015 season. The American Football Conference (AFC) champion Denver Broncos defeated the National Football Conference (NFC) champion Carolina Panthers 24–10 to earn their third Super Bowl title. The game was played on February 7, 2016, at Levi\\'s Stadium in the San Francisco Bay Area at Santa Clara, California. As this was the 50th Super Bowl, the league emphasized the \"golden anniversary\" with various gold-themed initiatives, as well as temporarily suspending the tradition of naming each Super Bowl game with Roman numerals (under which the game would have been known as \"Super Bowl L\"), so that the logo could prominently feature the Arabic numerals 50.', 'question': 'Which NFL team represented the AFC at Super Bowl 50?', 'answers': {'answer_start': [177, 177, 177], 'text': ['Denver Broncos', 'Denver Broncos', 'Denver Broncos']}}\n"
          ],
          "name": "stdout"
        }
      ]
    },
    {
      "cell_type": "markdown",
      "metadata": {
        "id": "Jo9sZK0bgIeS"
      },
      "source": [
        "#### set parameters"
      ]
    },
    {
      "cell_type": "code",
      "metadata": {
        "colab": {
          "base_uri": "https://localhost:8080/"
        },
        "id": "k_Zab82vSamn",
        "outputId": "5764b011-316c-4a98-f49e-7cce90e74802"
      },
      "source": [
        "steps = int(np.ceil(len(train_dataset)/batch_size))\n",
        "valid_steps = int(np.ceil(len(valid_dataset)/batch_size))\n",
        "print('Training datset size: {:,} records'.format(len(train_dataset)))\n",
        "print('Validation datset size: {:,} records'.format(len(valid_dataset)))\n",
        "print('Batch size: {}'.format(batch_size))\n",
        "print(\"Total Steps: {:,}\".format(steps))\n",
        "print(\"Total Validation Steps: {:,}\".format(valid_steps))"
      ],
      "execution_count": 9,
      "outputs": [
        {
          "output_type": "stream",
          "text": [
            "Training datset size: 1,000 records\n",
            "Validation datset size: 1,000 records\n",
            "Batch size: 8\n",
            "Total Steps: 125\n",
            "Total Validation Steps: 125\n"
          ],
          "name": "stdout"
        }
      ]
    },
    {
      "cell_type": "markdown",
      "metadata": {
        "id": "AZCcTPA0gIeS"
      },
      "source": [
        "#### Preprocess data"
      ]
    },
    {
      "cell_type": "code",
      "metadata": {
        "id": "GnCSjtGwgIeT"
      },
      "source": [
        "def encode(example,\n",
        "           encoder_max_len=encoder_max_len, decoder_max_len=decoder_max_len):\n",
        "  \n",
        "    if dataset == 'drop':\n",
        "        context = example['passage']\n",
        "        question = example['question']\n",
        "\n",
        "        answer = example['answers_spans']['spans']\n",
        "        answer_type = example['answers_spans']['types']\n",
        "    elif dataset == 'squad':\n",
        "        context = example['context']\n",
        "        question = example['question']\n",
        "        \n",
        "        answer = example['answers']['text']\n",
        "        answer_type = 'text'\n",
        "    \n",
        "    \n",
        "    question_plus = f\"answer_me: {str(question)}\"\n",
        "    question_plus += f\" context: {str(context)}\"\n",
        "    \n",
        "    answer_plus = ', '.join([i for i in list(answer)])\n",
        "    answer_plus = f\"{answer_plus}\"\n",
        "    \n",
        "    encoder_inputs = tokenizer(question_plus, truncation=True, \n",
        "                               return_tensors='tf', max_length=encoder_max_len,\n",
        "                              pad_to_max_length=True)\n",
        "    \n",
        "    decoder_inputs = tokenizer(answer_plus, truncation=True, \n",
        "                               return_tensors='tf', max_length=decoder_max_len,\n",
        "                              pad_to_max_length=True)\n",
        "    \n",
        "    input_ids = encoder_inputs['input_ids'][0]\n",
        "    input_attention = encoder_inputs['attention_mask'][0]\n",
        "    target_ids = decoder_inputs['input_ids'][0]\n",
        "    target_attention = decoder_inputs['attention_mask'][0]\n",
        "    \n",
        "    outputs = {'input_ids':input_ids, 'attention_mask': input_attention, \n",
        "               'labels':target_ids, 'decoder_attention_mask':target_attention,\n",
        "                }\n",
        "    return outputs\n",
        "    \n",
        "def to_tf_dataset(dataset):\n",
        "    '''convert from arrow to TF dataset'''\n",
        "    \n",
        "    columns = ['input_ids', 'attention_mask', 'labels', 'decoder_attention_mask']\n",
        "    dataset.set_format(type='tensorflow', columns=columns)\n",
        "    return_types = {'input_ids':tf.int32, 'attention_mask':tf.int32, \n",
        "                'labels':tf.int32, 'decoder_attention_mask':tf.int32,}\n",
        "    return_shapes = {'input_ids': tf.TensorShape([None]), 'attention_mask': tf.TensorShape([None]), \n",
        "                  'labels': tf.TensorShape([None]), 'decoder_attention_mask':tf.TensorShape([None]),}\n",
        "    ds = tf.data.Dataset.from_generator(lambda : dataset, return_types, return_shapes)\n",
        "    return ds\n",
        "\n",
        "def create_dataset(dataset, cache_path=None, batch_size=batch_size, \n",
        "                   buffer_size= 1000, shuffling=True):\n",
        "    '''returns a padded_batch tf dataset'''\n",
        "    if cache_path is not None:\n",
        "        dataset = dataset.cache(cache_path)        \n",
        "    if shuffling:\n",
        "        dataset = dataset.shuffle(buffer_size)\n",
        "    dataset = dataset.padded_batch(batch_size)\n",
        "#     dataset = dataset.prefetch(tf.data.experimental.AUTOTUNE)\n",
        "    return dataset\n",
        "\n"
      ],
      "execution_count": 10,
      "outputs": []
    },
    {
      "cell_type": "code",
      "metadata": {
        "colab": {
          "base_uri": "https://localhost:8080/",
          "height": 254,
          "referenced_widgets": [
            "2a7ea77e513a4ee98f4f935473562d57",
            "a9e7d88792e94333b4657e58dc7cb8f5",
            "5d7282b5fcd44ce992b82c30a4f96654",
            "840b2a8c7a064cce9e31de2e8921dda7",
            "4a8518c321104a3d897882425d59f31d",
            "43280ddcb8cf4f529295753fa13a9fbc",
            "1f90e298d2f943888a2475d65b4148db",
            "0f43317567cc4ddabbbf217c6d9b8eb9",
            "143645d284644e7486394aae9cfb028d",
            "2d6860a9b9d344fb8f75ca6529cfd78f",
            "c2e4e22bf5004f43812b76f88fa39f08",
            "07d383bb04444df1b32ebc705ff31820",
            "c8e615c4414e4a1ba421bddc5a6d435e",
            "b6daff759ffc461782f41e6e73ae8ae6",
            "2cdd4e3d16104157b28a16bdc3b854ca",
            "01b172ec286e4e88afda35a3d2dd5b0d"
          ]
        },
        "id": "2xiO1_gwgIeT",
        "outputId": "e811d2e5-863d-431a-c0f7-c6f7e9bda41f"
      },
      "source": [
        "#Preprocess data\n",
        "train_ds = train_dataset.map(encode)\n",
        "valid_ds = valid_dataset.map(encode)\n",
        "\n",
        "tf_train_ds = to_tf_dataset(train_ds)\n",
        "tf_train_ds = tf_train_ds.repeat(epochs)\n",
        "\n",
        "tf_valid_ds = to_tf_dataset(valid_ds)\n",
        "\n",
        "tf_train_ds= create_dataset(tf_train_ds, batch_size=batch_size, \n",
        "                         shuffling=True, cache_path = None)\n",
        "tf_valid_ds = create_dataset(tf_valid_ds, batch_size=batch_size, \n",
        "                         shuffling=False, cache_path = None)\n",
        "\n",
        "print('dataset schema:')\n",
        "tf_train_ds.element_spec"
      ],
      "execution_count": 11,
      "outputs": [
        {
          "output_type": "display_data",
          "data": {
            "application/vnd.jupyter.widget-view+json": {
              "model_id": "2a7ea77e513a4ee98f4f935473562d57",
              "version_minor": 0,
              "version_major": 2
            },
            "text/plain": [
              "HBox(children=(FloatProgress(value=0.0, max=1000.0), HTML(value='')))"
            ]
          },
          "metadata": {
            "tags": []
          }
        },
        {
          "output_type": "stream",
          "text": [
            "/usr/local/lib/python3.7/dist-packages/transformers/tokenization_utils_base.py:2132: FutureWarning: The `pad_to_max_length` argument is deprecated and will be removed in a future version, use `padding=True` or `padding='longest'` to pad to the longest sequence in the batch, or use `padding='max_length'` to pad to a max length. In this case, you can give a specific length with `max_length` (e.g. `max_length=45`) or leave max_length to None to pad to the maximal input size of the model (e.g. 512 for Bert).\n",
            "  FutureWarning,\n"
          ],
          "name": "stderr"
        },
        {
          "output_type": "stream",
          "text": [
            "\n"
          ],
          "name": "stdout"
        },
        {
          "output_type": "display_data",
          "data": {
            "application/vnd.jupyter.widget-view+json": {
              "model_id": "143645d284644e7486394aae9cfb028d",
              "version_minor": 0,
              "version_major": 2
            },
            "text/plain": [
              "HBox(children=(FloatProgress(value=0.0, max=1000.0), HTML(value='')))"
            ]
          },
          "metadata": {
            "tags": []
          }
        },
        {
          "output_type": "stream",
          "text": [
            "\n",
            "dataset schema:\n"
          ],
          "name": "stdout"
        },
        {
          "output_type": "execute_result",
          "data": {
            "text/plain": [
              "{'attention_mask': TensorSpec(shape=(None, None), dtype=tf.int32, name=None),\n",
              " 'decoder_attention_mask': TensorSpec(shape=(None, None), dtype=tf.int32, name=None),\n",
              " 'input_ids': TensorSpec(shape=(None, None), dtype=tf.int32, name=None),\n",
              " 'labels': TensorSpec(shape=(None, None), dtype=tf.int32, name=None)}"
            ]
          },
          "metadata": {
            "tags": []
          },
          "execution_count": 11
        }
      ]
    },
    {
      "cell_type": "markdown",
      "metadata": {
        "id": "qHAi1i2BgIeV"
      },
      "source": [
        "#### Callbacks and checkpoints"
      ]
    },
    {
      "cell_type": "code",
      "metadata": {
        "id": "8p-Da_UfbACy"
      },
      "source": [
        "# Learning Rate Schedule to input into CustomLearningRateScheduler()\n",
        "def lr_schedule(training_steps, lr):\n",
        "    \"\"\"Helper function to retrieve the scheduled learning rate based on epoch.\"\"\"\n",
        "    if training_steps < __TOTAL_WARM_UP_STEPS:\n",
        "        # print(\"\\nWARM UP: Using Increasing Linear Function at Training Step:{}\".format(training_steps))\n",
        "        lr = ((MAX_LR - START_LR)/__TOTAL_WARM_UP_STEPS) * training_steps + START_LR # y = (m)x + b\n",
        "    else:\n",
        "        __CURRENT_DECAY_STEP = training_steps - __TOTAL_WARM_UP_STEPS\n",
        "        if DECAY == \"ExponentialDecay\":\n",
        "            # print(\"\\nDECAY: Using ExponentialDecay at Training Step:{}\".format(training_steps))\n",
        "            __DECAY_FN = keras.optimizers.schedules.ExponentialDecay(\n",
        "                  initial_learning_rate=MAX_LR,\n",
        "                  decay_steps=__TOTAL_DECAY_STEPS,\n",
        "                  decay_rate=END_LR/MAX_LR)\n",
        "        elif DECAY == \"PiecewiseConstantDecay\":\n",
        "            # print(\"\\nDECAY: Using PiecewiseConstantDecay at Training Step:{}\".format(training_steps))\n",
        "            __CURRENT_DECAY_STEP = tf.Variable(__CURRENT_DECAY_STEP, trainable=False)\n",
        "            __DECAY_FN = keras.optimizers.schedules.PiecewiseConstantDecay(\n",
        "                  __BOUNDARIES, __VALUES)\n",
        "        elif DECAY == \"PolynomialDecay\":\n",
        "            # print(\"\\nDECAY: Using PolynomialDecay at Training Step:{}\".format(training_steps))\n",
        "            __DECAY_FN = tf.keras.optimizers.schedules.PolynomialDecay(\n",
        "                  MAX_LR,\n",
        "                  __TOTAL_DECAY_STEPS,\n",
        "                  END_LR,\n",
        "                  power=POWER)\n",
        "        elif DECAY == \"InverseTimeDecay\":\n",
        "            # print(\"DECAY: Using InverseTimeDecay at Training Step:{}\".format(training_steps))\n",
        "            __DECAY_FN = keras.optimizers.schedules.InverseTimeDecay(\n",
        "                  MAX_LR, __TIME_DECAY, 1)\n",
        "        else:\n",
        "            print(\"Please Select a Decay Function\")\n",
        "            exit\n",
        "        lr = __DECAY_FN(__CURRENT_DECAY_STEP)\n",
        "    return lr"
      ],
      "execution_count": 61,
      "outputs": []
    },
    {
      "cell_type": "code",
      "metadata": {
        "colab": {
          "base_uri": "https://localhost:8080/",
          "height": 482
        },
        "id": "dOhgt31tbFnR",
        "outputId": "e666508c-6455-4a5a-e66e-45292f42b2c9"
      },
      "source": [
        "# Learning Rate Schedule Parameters\n",
        "WARM_UP_FRACTION = 1/10 #The fraction of the training steps that will be ramping up linearly to the max LR\n",
        "START_LR = 0.0005 # must be float\n",
        "MAX_LR = 0.001 # must be float\n",
        "END_LR = 0.0001 # must be float\n",
        "\n",
        "EPOCHS = 100\n",
        "STEPS_PER_EPOCH = 1\n",
        "__TOTAL_STEPS = EPOCHS * STEPS_PER_EPOCH\n",
        "__TOTAL_WARM_UP_STEPS = __TOTAL_STEPS * WARM_UP_FRACTION\n",
        "__TOTAL_DECAY_STEPS = __TOTAL_STEPS - __TOTAL_WARM_UP_STEPS\n",
        "\n",
        "#--------------------------------------------------------------------------------------------\n",
        "\n",
        "# Decay Parameters\n",
        "# ExponentialDecay - None\n",
        "\n",
        "# PiecewiseConstantDecay\n",
        "NUM_BOUNDARIES = 10\n",
        "__BOUNDARY_STEP = __TOTAL_DECAY_STEPS/NUM_BOUNDARIES\n",
        "__BOUNDARIES = list(np.arange(0,__TOTAL_DECAY_STEPS+__BOUNDARY_STEP,__BOUNDARY_STEP))\n",
        "__PIECEWISE_STEP = (MAX_LR - END_LR)/(NUM_BOUNDARIES)\n",
        "__VALUES = list(np.arange(MAX_LR,END_LR-__PIECEWISE_STEP,-__PIECEWISE_STEP))\n",
        "\n",
        "# PolynomialDecay\n",
        "POWER = 7 # Must be > 1 to reach END_LR\n",
        "\n",
        "#InverseTimeDecay\n",
        "__TIME_DECAY = __TOTAL_DECAY_STEPS/(MAX_LR/END_LR-1)\n",
        "\n",
        "#--------------------------------------------------------------------------------------------\n",
        "# Initialize Graphing\n",
        "decay_array = [\"ExponentialDecay\", \"PiecewiseConstantDecay\", \"PolynomialDecay\", \"InverseTimeDecay\"]\n",
        "x = range(__TOTAL_STEPS)\n",
        "\n",
        "fig, ax = plt.subplots(figsize=(15, 6),ncols=len(decay_array))\n",
        "fig.suptitle(f'Learing Rate Schedule', fontsize=14)\n",
        "ymax = max(START_LR,MAX_LR,END_LR)\n",
        "ymax *= 1.1\n",
        "\n",
        "\n",
        "ax[0].set_ylabel('Learning Rate')\n",
        "for i,decay_type in enumerate(decay_array):\n",
        "    DECAY = decay_type\n",
        "    lr_values = []\n",
        "    for step in x:\n",
        "      lr_values.append(lr_schedule(step,0))\n",
        "    ax[i].plot(x,lr_values)\n",
        "    ax[i].set_title(decay_type, fontsize=14, pad=11)\n",
        "    ax[i].set_xlabel('Steps')\n",
        "    ax[i].set_ylim([0,ymax])\n",
        "    if i > 0:\n",
        "        ax[i].tick_params(which='both', left=False, labelleft=False)\n",
        "plt.show()\n",
        "#--------------------------------------------------------------------------------------------\n",
        "\n",
        "# ACTION: Select Decay Type\n",
        "DECAY = \"PiecewiseConstantDecay\" #[\"ExponentialDecay\", \"PiecewiseConstantDecay\", \"PolynomialDecay\", \"InverseTimeDecay\"]"
      ],
      "execution_count": 112,
      "outputs": [
        {
          "output_type": "stream",
          "text": [
            "11\n",
            "12\n",
            "10.0\n"
          ],
          "name": "stdout"
        },
        {
          "output_type": "display_data",
          "data": {
            "image/png": "[encoded data removed]",
            "text/plain": [
              "<Figure size 1080x432 with 4 Axes>"
            ]
          },
          "metadata": {
            "tags": [],
            "needs_background": "light"
          }
        }
      ]
    },
    {
      "cell_type": "code",
      "metadata": {
        "id": "RBGQ-afRonh3"
      },
      "source": [
        ""
      ],
      "execution_count": 13,
      "outputs": []
    },
    {
      "cell_type": "code",
      "metadata": {
        "id": "6XoTViDRbLW-"
      },
      "source": [
        "class CustomLearningRateScheduler(keras.callbacks.Callback):\n",
        "    \"\"\"Learning rate scheduler which sets the learning rate according to schedule.\n",
        "\n",
        "  Arguments:\n",
        "      schedule: a function that takes an epoch index\n",
        "          (integer, indexed from 0) and current learning rate\n",
        "          as inputs and returns a new learning rate as output (float).\n",
        "  \"\"\"\n",
        "\n",
        "    def __init__(self, schedule):\n",
        "        super(CustomLearningRateScheduler, self).__init__()\n",
        "        self.schedule = schedule\n",
        "        self.current_epoch = 0\n",
        "\n",
        "    def on_epoch_end(self, epoch, logs=None):\n",
        "        self.current_epoch += 1\n",
        "\n",
        "    def on_batch_begin(self, batch_step, logs=None):\n",
        "        if not hasattr(self.model.optimizer, \"lr\"):\n",
        "            raise ValueError('Optimizer must have a \"lr\" attribute.')\n",
        "        # Get the current learning rate from model's optimizer.\n",
        "        lr = float(tf.keras.backend.get_value(self.model.optimizer.learning_rate))\n",
        "        # Call schedule function to get the scheduled learning rate.\n",
        "        total_steps = batch_step + self.current_epoch * steps\n",
        "        scheduled_lr = self.schedule(total_steps, lr)\n",
        "        # Set the value back to the optimizer before this epoch starts\n",
        "        tf.keras.backend.set_value(self.model.optimizer.lr, scheduled_lr)\n",
        "        # print(\"\\nEpoch %05d: Learning rate is %6.4f.\" % (total_steps, scheduled_lr))"
      ],
      "execution_count": 14,
      "outputs": []
    },
    {
      "cell_type": "code",
      "metadata": {
        "id": "YsCNpoMEgIeV"
      },
      "source": [
        "start_profile_batch = steps+10\n",
        "stop_profile_batch = start_profile_batch + 100\n",
        "profile_range = f\"{start_profile_batch},{stop_profile_batch}\"\n",
        "\n",
        "log_path = log_dir + \"/\" + datetime.datetime.now().strftime(\"%Y-%m-%d_%H:%M:%S\")\n",
        "tensorboard_callback = tf.keras.callbacks.TensorBoard(log_dir=log_path, histogram_freq=1,\n",
        "                                                     update_freq=20,profile_batch=profile_range)\n",
        "\n",
        "checkpoint_filepath = save_path + \"/\" + \"T5-{epoch:04d}-{val_loss:.4f}.ckpt\"\n",
        "model_checkpoint_callback = tf.keras.callbacks.ModelCheckpoint(\n",
        "    filepath=checkpoint_filepath,\n",
        "    save_weights_only=False,\n",
        "    monitor='val_loss',\n",
        "    mode='min',\n",
        "    save_best_only=True)\n",
        "\n",
        "callbacks = [tensorboard_callback, model_checkpoint_callback] \n",
        "if use_learning_schedule:\n",
        "    callbacks.append(CustomLearningRateScheduler(lr_schedule))\n",
        "metrics = [tf.keras.metrics.SparseTopKCategoricalAccuracy(k=5,name='accuracy') ]#[drop_eval.get_metrics]"
      ],
      "execution_count": 15,
      "outputs": []
    },
    {
      "cell_type": "markdown",
      "metadata": {
        "id": "Uc5HnwUwgIeV"
      },
      "source": [
        "#### Compile and run model"
      ]
    },
    {
      "cell_type": "code",
      "metadata": {
        "colab": {
          "base_uri": "https://localhost:8080/"
        },
        "id": "wf6a-6OSSamp",
        "outputId": "ef9edc22-37fa-41c3-c1f1-660ed1032dee"
      },
      "source": [
        "optimizer = tf.keras.optimizers.Adam(learning_rate, beta_1=0.9, beta_2=0.98,\n",
        "                                     epsilon=1e-9)\n",
        "model.compile(optimizer=optimizer, metrics=metrics)\n",
        "model.summary()"
      ],
      "execution_count": 16,
      "outputs": [
        {
          "output_type": "stream",
          "text": [
            "Model: \"t5for_drop\"\n",
            "_________________________________________________________________\n",
            "Layer (type)                 Output Shape              Param #   \n",
            "=================================================================\n",
            "shared (TFSharedEmbeddings)  multiple                  16449536  \n",
            "_________________________________________________________________\n",
            "encoder (TFT5MainLayer)      multiple                  18881280  \n",
            "_________________________________________________________________\n",
            "decoder (TFT5MainLayer)      multiple                  25175808  \n",
            "=================================================================\n",
            "Total params: 60,506,630\n",
            "Trainable params: 60,506,624\n",
            "Non-trainable params: 6\n",
            "_________________________________________________________________\n"
          ],
          "name": "stdout"
        }
      ]
    },
    {
      "cell_type": "code",
      "metadata": {
        "colab": {
          "base_uri": "https://localhost:8080/",
          "height": 838
        },
        "id": "aQmOhNO_hXOY",
        "outputId": "b066ff5f-e08b-4386-f410-29ad25e09f15"
      },
      "source": [
        "%tensorboard --logdir $log_dir"
      ],
      "execution_count": 17,
      "outputs": [
        {
          "output_type": "display_data",
          "data": {
            "text/plain": [
              "Reusing TensorBoard on port 6006 (pid 1106), started 1:02:40 ago. (Use '!kill 1106' to kill it.)"
            ]
          },
          "metadata": {
            "tags": []
          }
        },
        {
          "output_type": "display_data",
          "data": {
            "application/javascript": [
              "\n",
              "        (async () => {\n",
              "            const url = new URL(await google.colab.kernel.proxyPort(6006, {'cache': true}));\n",
              "            url.searchParams.set('tensorboardColab', 'true');\n",
              "            const iframe = document.createElement('iframe');\n",
              "            iframe.src = url;\n",
              "            iframe.setAttribute('width', '100%');\n",
              "            iframe.setAttribute('height', '800');\n",
              "            iframe.setAttribute('frameborder', 0);\n",
              "            document.body.appendChild(iframe);\n",
              "        })();\n",
              "    "
            ],
            "text/plain": [
              "<IPython.core.display.Javascript object>"
            ]
          },
          "metadata": {
            "tags": []
          }
        }
      ]
    },
    {
      "cell_type": "code",
      "metadata": {
        "id": "wjHtw6LogIeV",
        "colab": {
          "base_uri": "https://localhost:8080/",
          "height": 1000
        },
        "outputId": "e2018076-42ff-453f-fffa-aa4c51efffde"
      },
      "source": [
        "tf.compat.v1.logging.set_verbosity(tf.compat.v1.logging.ERROR)\n",
        "\n",
        "if train_model:\n",
        "    model.fit(tf_train_ds, epochs=epochs, steps_per_epoch=steps, callbacks=callbacks, \n",
        "              validation_data=tf_valid_ds, validation_steps=valid_steps,verbose=1)\n",
        "    if(save_model):\n",
        "        model.save_pretrained(save_path)\n",
        "        print('Training complete, model saved')"
      ],
      "execution_count": 18,
      "outputs": [
        {
          "output_type": "stream",
          "text": [
            "Epoch 1/3\n",
            "\n",
            "WARM UP: Using Increasing Linear Function at Training Step:0\n",
            "\n",
            "Epoch 00000: Learning rate is 0.0000.\n",
            "  1/125 [..............................] - ETA: 42:04 - accuracy: 0.0926 - loss: 13.4933 - F1: 0.1201 - EM: 0.0000e+00 - lr: 1.0000e-05\n",
            "WARM UP: Using Increasing Linear Function at Training Step:1\n",
            "\n",
            "Epoch 00001: Learning rate is 0.0000.\n",
            "  2/125 [..............................] - ETA: 1:27 - accuracy: 0.1019 - loss: 13.3390 - F1: 0.1329 - EM: 0.0000e+00 - lr: 2.3200e-05 \n",
            "WARM UP: Using Increasing Linear Function at Training Step:2\n",
            "\n",
            "Epoch 00002: Learning rate is 0.0001.\n",
            "  3/125 [..............................] - ETA: 56s - accuracy: 0.1073 - loss: 13.2678 - F1: 0.1370 - EM: 0.0000e+00 - lr: 3.6400e-05 \n",
            "WARM UP: Using Increasing Linear Function at Training Step:3\n",
            "\n",
            "Epoch 00003: Learning rate is 0.0001.\n",
            "  4/125 [..............................] - ETA: 46s - accuracy: 0.1128 - loss: 13.0179 - F1: 0.1216 - EM: 0.0000e+00 - lr: 4.9600e-05\n",
            "WARM UP: Using Increasing Linear Function at Training Step:4\n",
            "\n",
            "Epoch 00004: Learning rate is 0.0001.\n",
            "  5/125 [>.............................] - ETA: 40s - accuracy: 0.1282 - loss: 12.3972 - F1: 0.1232 - EM: 0.0000e+00 - lr: 6.2800e-05\n",
            "WARM UP: Using Increasing Linear Function at Training Step:5\n",
            "\n",
            "Epoch 00005: Learning rate is 0.0001.\n",
            "  6/125 [>.............................] - ETA: 37s - accuracy: 0.1640 - loss: 11.5617 - F1: 0.1242 - EM: 0.0000e+00 - lr: 7.6000e-05\n",
            "WARM UP: Using Increasing Linear Function at Training Step:6\n",
            "\n",
            "Epoch 00006: Learning rate is 0.0002.\n",
            "  7/125 [>.............................] - ETA: 35s - accuracy: 0.2371 - loss: 10.5070 - F1: 0.1323 - EM: 0.0000e+00 - lr: 8.9200e-05\n",
            "WARM UP: Using Increasing Linear Function at Training Step:7\n",
            "\n",
            "Epoch 00007: Learning rate is 0.0002.\n",
            "  8/125 [>.............................] - ETA: 33s - accuracy: 0.3015 - loss: 9.6633 - F1: 0.1359 - EM: 0.0000e+00 - lr: 1.0240e-04 \n",
            "WARM UP: Using Increasing Linear Function at Training Step:8\n",
            "\n",
            "Epoch 00008: Learning rate is 0.0002.\n",
            "  9/125 [=>............................] - ETA: 32s - accuracy: 0.3614 - loss: 8.8352 - F1: 0.1667 - EM: 0.0000e+00 - lr: 1.1560e-04\n",
            "WARM UP: Using Increasing Linear Function at Training Step:9\n",
            "\n",
            "Epoch 00009: Learning rate is 0.0002.\n",
            " 10/125 [=>............................] - ETA: 30s - accuracy: 0.4125 - loss: 8.1235 - F1: 0.1975 - EM: 0.0000e+00 - lr: 1.2880e-04\n",
            "WARM UP: Using Increasing Linear Function at Training Step:10\n",
            "\n",
            "Epoch 00010: Learning rate is 0.0003.\n",
            " 11/125 [=>............................] - ETA: 30s - accuracy: 0.4541 - loss: 7.5197 - F1: 0.2054 - EM: 0.0000e+00 - lr: 1.4200e-04\n",
            "WARM UP: Using Increasing Linear Function at Training Step:11\n",
            "\n",
            "Epoch 00011: Learning rate is 0.0003.\n",
            " 12/125 [=>............................] - ETA: 29s - accuracy: 0.4896 - loss: 7.0106 - F1: 0.2151 - EM: 0.0000e+00 - lr: 1.5520e-04\n",
            "WARM UP: Using Increasing Linear Function at Training Step:12\n",
            "\n",
            "Epoch 00012: Learning rate is 0.0003.\n",
            " 13/125 [==>...........................] - ETA: 28s - accuracy: 0.5185 - loss: 6.5863 - F1: 0.2236 - EM: 0.0000e+00 - lr: 1.6840e-04\n",
            "WARM UP: Using Increasing Linear Function at Training Step:13\n",
            "\n",
            "Epoch 00013: Learning rate is 0.0004.\n",
            " 14/125 [==>...........................] - ETA: 27s - accuracy: 0.5443 - loss: 6.2029 - F1: 0.2329 - EM: 0.0000e+00 - lr: 1.8160e-04\n",
            "WARM UP: Using Increasing Linear Function at Training Step:14\n",
            "\n",
            "Epoch 00014: Learning rate is 0.0004.\n",
            " 15/125 [==>...........................] - ETA: 27s - accuracy: 0.5670 - loss: 5.8666 - F1: 0.2369 - EM: 0.0000e+00 - lr: 1.9480e-04\n",
            "WARM UP: Using Increasing Linear Function at Training Step:15\n",
            "\n",
            "Epoch 00015: Learning rate is 0.0004.\n",
            " 16/125 [==>...........................] - ETA: 26s - accuracy: 0.5885 - loss: 5.5620 - F1: 0.2412 - EM: 0.0000e+00 - lr: 2.0800e-04\n",
            "WARM UP: Using Increasing Linear Function at Training Step:16\n",
            "\n",
            "Epoch 00016: Learning rate is 0.0004.\n",
            " 17/125 [===>..........................] - ETA: 26s - accuracy: 0.6093 - loss: 5.2789 - F1: 0.2580 - EM: 0.0000e+00 - lr: 2.2120e-04\n",
            "WARM UP: Using Increasing Linear Function at Training Step:17\n",
            "\n",
            "Epoch 00017: Learning rate is 0.0005.\n",
            " 18/125 [===>..........................] - ETA: 25s - accuracy: 0.6278 - loss: 5.0317 - F1: 0.2775 - EM: 0.0000e+00 - lr: 2.3440e-04\n",
            "WARM UP: Using Increasing Linear Function at Training Step:18\n",
            "\n",
            "Epoch 00018: Learning rate is 0.0005.\n",
            " 19/125 [===>..........................] - ETA: 25s - accuracy: 0.6435 - loss: 4.8136 - F1: 0.2791 - EM: 0.0000e+00 - lr: 2.4760e-04\n",
            "WARM UP: Using Increasing Linear Function at Training Step:19\n",
            "\n",
            "Epoch 00019: Learning rate is 0.0005.\n",
            " 20/125 [===>..........................] - ETA: 25s - accuracy: 0.6586 - loss: 4.6174 - F1: 0.2818 - EM: 0.0000e+00 - lr: 2.6080e-04\n",
            "WARM UP: Using Increasing Linear Function at Training Step:20\n",
            "\n",
            "Epoch 00020: Learning rate is 0.0005.\n",
            " 21/125 [====>.........................] - ETA: 24s - accuracy: 0.6721 - loss: 4.4378 - F1: 0.2945 - EM: 0.0000e+00 - lr: 2.7400e-04\n",
            "WARM UP: Using Increasing Linear Function at Training Step:21\n",
            "\n",
            "Epoch 00021: Learning rate is 0.0006.\n",
            " 22/125 [====>.........................] - ETA: 24s - accuracy: 0.6853 - loss: 4.2684 - F1: 0.2990 - EM: 0.0000e+00 - lr: 2.8720e-04\n",
            "WARM UP: Using Increasing Linear Function at Training Step:22\n",
            "\n",
            "Epoch 00022: Learning rate is 0.0006.\n",
            " 23/125 [====>.........................] - ETA: 24s - accuracy: 0.6964 - loss: 4.1262 - F1: 0.2987 - EM: 0.0000e+00 - lr: 3.0040e-04\n",
            "WARM UP: Using Increasing Linear Function at Training Step:23\n",
            "\n",
            "Epoch 00023: Learning rate is 0.0006.\n",
            " 24/125 [====>.........................] - ETA: 23s - accuracy: 0.7072 - loss: 3.9878 - F1: nan - EM: 0.0000e+00 - lr: 3.1360e-04   \n",
            "WARM UP: Using Increasing Linear Function at Training Step:24\n",
            "\n",
            "Epoch 00024: Learning rate is 0.0006.\n",
            " 25/125 [=====>........................] - ETA: 23s - accuracy: 0.7173 - loss: 3.8583 - F1: nan - EM: 0.0000e+00 - lr: 3.2680e-04\n",
            "WARM UP: Using Increasing Linear Function at Training Step:25\n",
            "\n",
            "Epoch 00025: Learning rate is 0.0007.\n",
            " 26/125 [=====>........................] - ETA: 23s - accuracy: 0.7273 - loss: 3.7358 - F1: nan - EM: 0.0000e+00 - lr: 3.4000e-04\n",
            "WARM UP: Using Increasing Linear Function at Training Step:26\n",
            "\n",
            "Epoch 00026: Learning rate is 0.0007.\n",
            " 27/125 [=====>........................] - ETA: 22s - accuracy: 0.7362 - loss: 3.6225 - F1: nan - EM: 0.0000e+00 - lr: 3.5320e-04\n",
            "WARM UP: Using Increasing Linear Function at Training Step:27\n",
            "\n",
            "Epoch 00027: Learning rate is 0.0007.\n",
            " 28/125 [=====>........................] - ETA: 22s - accuracy: 0.7444 - loss: 3.5216 - F1: nan - EM: 0.0000e+00 - lr: 3.6640e-04\n",
            "WARM UP: Using Increasing Linear Function at Training Step:28\n",
            "\n",
            "Epoch 00028: Learning rate is 0.0007.\n",
            " 29/125 [=====>........................] - ETA: 22s - accuracy: 0.7518 - loss: 3.4210 - F1: nan - EM: 0.0000e+00 - lr: 3.7960e-04\n",
            "WARM UP: Using Increasing Linear Function at Training Step:29\n",
            "\n",
            "Epoch 00029: Learning rate is 0.0008.\n",
            " 30/125 [======>.......................] - ETA: 21s - accuracy: 0.7592 - loss: 3.3255 - F1: nan - EM: 0.0000e+00 - lr: 3.9280e-04\n",
            "WARM UP: Using Increasing Linear Function at Training Step:30\n",
            "\n",
            "Epoch 00030: Learning rate is 0.0008.\n",
            " 31/125 [======>.......................] - ETA: 21s - accuracy: 0.7656 - loss: 3.2409 - F1: nan - EM: 0.0000e+00 - lr: 4.0600e-04\n",
            "WARM UP: Using Increasing Linear Function at Training Step:31\n",
            "\n",
            "Epoch 00031: Learning rate is 0.0008.\n",
            " 32/125 [======>.......................] - ETA: 21s - accuracy: 0.7721 - loss: 3.1530 - F1: nan - EM: 0.0000e+00 - lr: 4.1920e-04\n",
            "WARM UP: Using Increasing Linear Function at Training Step:32\n",
            "\n",
            "Epoch 00032: Learning rate is 0.0009.\n",
            " 33/125 [======>.......................] - ETA: 21s - accuracy: 0.7780 - loss: 3.0764 - F1: nan - EM: 0.0000e+00 - lr: 4.3240e-04\n",
            "WARM UP: Using Increasing Linear Function at Training Step:33\n",
            "\n",
            "Epoch 00033: Learning rate is 0.0009.\n",
            " 34/125 [=======>......................] - ETA: 20s - accuracy: 0.7838 - loss: 2.9987 - F1: nan - EM: 0.0000e+00 - lr: 4.4560e-04\n",
            "WARM UP: Using Increasing Linear Function at Training Step:34\n",
            "\n",
            "Epoch 00034: Learning rate is 0.0009.\n",
            " 35/125 [=======>......................] - ETA: 20s - accuracy: 0.7888 - loss: 2.9285 - F1: nan - EM: 0.0000e+00 - lr: 4.5880e-04\n",
            "WARM UP: Using Increasing Linear Function at Training Step:35\n",
            "\n",
            "Epoch 00035: Learning rate is 0.0009.\n",
            " 36/125 [=======>......................] - ETA: 20s - accuracy: 0.7937 - loss: 2.8614 - F1: nan - EM: 0.0000e+00 - lr: 4.7200e-04\n",
            "WARM UP: Using Increasing Linear Function at Training Step:36\n",
            "\n",
            "Epoch 00036: Learning rate is 0.0010.\n",
            " 37/125 [=======>......................] - ETA: 20s - accuracy: 0.7984 - loss: 2.7968 - F1: nan - EM: 0.0000e+00 - lr: 4.8520e-04\n",
            "WARM UP: Using Increasing Linear Function at Training Step:37\n",
            "\n",
            "Epoch 00037: Learning rate is 0.0010.\n",
            " 38/125 [========>.....................] - ETA: 19s - accuracy: 0.8029 - loss: 2.7325 - F1: nan - EM: 0.0000e+00 - lr: 4.9840e-04\n",
            "Epoch 00038: Learning rate is 0.0010.\n",
            " 39/125 [========>.....................] - ETA: 19s - accuracy: 0.8072 - loss: 2.6713 - F1: nan - EM: 0.0000e+00 - lr: 5.1126e-04\n",
            "Epoch 00039: Learning rate is 0.0010.\n",
            " 40/125 [========>.....................] - ETA: 19s - accuracy: 0.8112 - loss: 2.6128 - F1: nan - EM: 0.0000e+00 - lr: 5.2348e-04\n",
            "Epoch 00040: Learning rate is 0.0010.\n",
            " 41/125 [========>.....................] - ETA: 19s - accuracy: 0.8150 - loss: 2.5583 - F1: nan - EM: 0.0000e+00 - lr: 5.3510e-04\n",
            "Epoch 00041: Learning rate is 0.0010.\n",
            " 42/125 [=========>....................] - ETA: 18s - accuracy: 0.8188 - loss: 2.5053 - F1: nan - EM: 0.0000e+00 - lr: 5.4617e-04\n",
            "Epoch 00042: Learning rate is 0.0010.\n",
            " 43/125 [=========>....................] - ETA: 18s - accuracy: 0.8225 - loss: 2.4538 - F1: nan - EM: 0.0000e+00 - lr: 5.5673e-04\n",
            "Epoch 00043: Learning rate is 0.0010.\n",
            " 44/125 [=========>....................] - ETA: 18s - accuracy: 0.8259 - loss: 2.4056 - F1: nan - EM: 0.0000e+00 - lr: 5.6680e-04\n",
            "Epoch 00044: Learning rate is 0.0010.\n",
            " 45/125 [=========>....................] - ETA: 18s - accuracy: 0.8292 - loss: 2.3588 - F1: nan - EM: 0.0000e+00 - lr: 5.7643e-04\n",
            "Epoch 00045: Learning rate is 0.0010.\n",
            " 46/125 [==========>...................] - ETA: 17s - accuracy: 0.8321 - loss: 2.3153 - F1: nan - EM: 0.0000e+00 - lr: 5.8563e-04\n",
            "Epoch 00046: Learning rate is 0.0010.\n",
            " 47/125 [==========>...................] - ETA: 17s - accuracy: 0.8352 - loss: 2.2718 - F1: nan - EM: 0.0000e+00 - lr: 5.9445e-04\n",
            "Epoch 00047: Learning rate is 0.0010.\n",
            " 48/125 [==========>...................] - ETA: 17s - accuracy: 0.8380 - loss: 2.2312 - F1: nan - EM: 0.0000e+00 - lr: 6.0290e-04\n",
            "Epoch 00048: Learning rate is 0.0010.\n",
            " 49/125 [==========>...................] - ETA: 17s - accuracy: 0.8408 - loss: 2.1909 - F1: nan - EM: 0.0000e+00 - lr: 6.1100e-04\n",
            "Epoch 00049: Learning rate is 0.0010.\n",
            " 50/125 [===========>..................] - ETA: 16s - accuracy: 0.8437 - loss: 2.1519 - F1: nan - EM: 0.0000e+00 - lr: 6.1878e-04\n",
            "Epoch 00050: Learning rate is 0.0010.\n",
            " 51/125 [===========>..................] - ETA: 16s - accuracy: 0.8461 - loss: 2.1168 - F1: nan - EM: 0.0000e+00 - lr: 6.2626e-04\n",
            "Epoch 00051: Learning rate is 0.0010.\n",
            " 52/125 [===========>..................] - ETA: 16s - accuracy: 0.8486 - loss: 2.0811 - F1: nan - EM: 0.0000e+00 - lr: 6.3345e-04\n",
            "Epoch 00052: Learning rate is 0.0010.\n",
            " 53/125 [===========>..................] - ETA: 16s - accuracy: 0.8510 - loss: 2.0470 - F1: nan - EM: 0.0000e+00 - lr: 6.4036e-04\n",
            "Epoch 00053: Learning rate is 0.0010.\n",
            " 54/125 [===========>..................] - ETA: 15s - accuracy: 0.8530 - loss: 2.0154 - F1: nan - EM: 0.0000e+00 - lr: 6.4702e-04\n",
            "Epoch 00054: Learning rate is 0.0010.\n",
            " 55/125 [============>.................] - ETA: 15s - accuracy: 0.8551 - loss: 1.9854 - F1: nan - EM: 0.0000e+00 - lr: 6.5344e-04\n",
            "Epoch 00055: Learning rate is 0.0010.\n",
            " 56/125 [============>.................] - ETA: 15s - accuracy: 0.8573 - loss: 1.9537 - F1: nan - EM: 0.0000e+00 - lr: 6.5963e-04\n",
            "Epoch 00056: Learning rate is 0.0010.\n",
            " 57/125 [============>.................] - ETA: 15s - accuracy: 0.8594 - loss: 1.9233 - F1: nan - EM: 0.0000e+00 - lr: 6.6560e-04\n",
            "Epoch 00057: Learning rate is 0.0010.\n",
            " 58/125 [============>.................] - ETA: 15s - accuracy: 0.8613 - loss: 1.8960 - F1: nan - EM: 0.0000e+00 - lr: 6.7137e-04\n",
            "Epoch 00058: Learning rate is 0.0010.\n",
            " 59/125 [=============>................] - ETA: 14s - accuracy: 0.8633 - loss: 1.8676 - F1: nan - EM: 0.0000e+00 - lr: 6.7694e-04\n",
            "Epoch 00059: Learning rate is 0.0010.\n",
            " 60/125 [=============>................] - ETA: 14s - accuracy: 0.8652 - loss: 1.8401 - F1: nan - EM: 0.0000e+00 - lr: 6.8232e-04\n",
            "Epoch 00060: Learning rate is 0.0010.\n",
            " 61/125 [=============>................] - ETA: 14s - accuracy: 0.8671 - loss: 1.8136 - F1: nan - EM: 0.0000e+00 - lr: 6.8753e-04\n",
            "Epoch 00061: Learning rate is 0.0010.\n",
            " 62/125 [=============>................] - ETA: 14s - accuracy: 0.8689 - loss: 1.7873 - F1: nan - EM: 0.0000e+00 - lr: 6.9257e-04\n",
            "Epoch 00062: Learning rate is 0.0010.\n",
            " 63/125 [==============>...............] - ETA: 13s - accuracy: 0.8707 - loss: 1.7627 - F1: nan - EM: 0.0000e+00 - lr: 6.9745e-04\n",
            "Epoch 00063: Learning rate is 0.0010.\n",
            " 64/125 [==============>...............] - ETA: 13s - accuracy: 0.8723 - loss: 1.7389 - F1: nan - EM: 0.0000e+00 - lr: 7.0218e-04\n",
            "Epoch 00064: Learning rate is 0.0010.\n",
            " 65/125 [==============>...............] - ETA: 13s - accuracy: 0.8739 - loss: 1.7164 - F1: nan - EM: 0.0000e+00 - lr: 7.0676e-04\n",
            "Epoch 00065: Learning rate is 0.0010.\n",
            " 66/125 [==============>...............] - ETA: 13s - accuracy: 0.8755 - loss: 1.6931 - F1: nan - EM: 0.0000e+00 - lr: 7.1120e-04\n",
            "Epoch 00066: Learning rate is 0.0010.\n",
            " 67/125 [===============>..............] - ETA: 12s - accuracy: 0.8770 - loss: 1.6711 - F1: nan - EM: 0.0000e+00 - lr: 7.1551e-04\n",
            "Epoch 00067: Learning rate is 0.0010.\n",
            " 68/125 [===============>..............] - ETA: 12s - accuracy: 0.8785 - loss: 1.6504 - F1: nan - EM: 0.0000e+00 - lr: 7.1969e-04\n",
            "Epoch 00068: Learning rate is 0.0010.\n",
            " 69/125 [===============>..............] - ETA: 12s - accuracy: 0.8800 - loss: 1.6299 - F1: nan - EM: 0.0000e+00 - lr: 7.2376e-04\n",
            "Epoch 00069: Learning rate is 0.0010.\n",
            " 70/125 [===============>..............] - ETA: 12s - accuracy: 0.8814 - loss: 1.6100 - F1: nan - EM: 0.0000e+00 - lr: 7.2770e-04\n",
            "Epoch 00070: Learning rate is 0.0010.\n",
            " 71/125 [================>.............] - ETA: 12s - accuracy: 0.8827 - loss: 1.5911 - F1: nan - EM: 0.0000e+00 - lr: 7.3154e-04\n",
            "Epoch 00071: Learning rate is 0.0010.\n",
            " 72/125 [================>.............] - ETA: 11s - accuracy: 0.8840 - loss: 1.5716 - F1: nan - EM: 0.0000e+00 - lr: 7.3527e-04\n",
            "Epoch 00072: Learning rate is 0.0009.\n",
            " 73/125 [================>.............] - ETA: 11s - accuracy: 0.8853 - loss: 1.5527 - F1: nan - EM: 0.0000e+00 - lr: 7.3821e-04\n",
            "Epoch 00073: Learning rate is 0.0009.\n",
            " 74/125 [================>.............] - ETA: 11s - accuracy: 0.8867 - loss: 1.5347 - F1: nan - EM: 0.0000e+00 - lr: 7.4107e-04\n",
            "Epoch 00074: Learning rate is 0.0009.\n",
            " 75/125 [=================>............] - ETA: 11s - accuracy: 0.8879 - loss: 1.5167 - F1: nan - EM: 0.0000e+00 - lr: 7.4386e-04\n",
            "Epoch 00075: Learning rate is 0.0009.\n",
            " 76/125 [=================>............] - ETA: 10s - accuracy: 0.8891 - loss: 1.4991 - F1: nan - EM: 0.0000e+00 - lr: 7.4657e-04\n",
            "Epoch 00076: Learning rate is 0.0009.\n",
            " 77/125 [=================>............] - ETA: 10s - accuracy: 0.8903 - loss: 1.4821 - F1: nan - EM: 0.0000e+00 - lr: 7.4921e-04\n",
            "Epoch 00077: Learning rate is 0.0009.\n",
            " 78/125 [=================>............] - ETA: 10s - accuracy: 0.8914 - loss: 1.4666 - F1: nan - EM: 0.0000e+00 - lr: 7.5178e-04\n",
            "Epoch 00078: Learning rate is 0.0009.\n",
            " 79/125 [=================>............] - ETA: 10s - accuracy: 0.8926 - loss: 1.4500 - F1: nan - EM: 0.0000e+00 - lr: 7.5429e-04\n",
            "Epoch 00079: Learning rate is 0.0009.\n",
            " 80/125 [==================>...........] - ETA: 10s - accuracy: 0.8936 - loss: 1.4355 - F1: nan - EM: 0.0000e+00 - lr: 7.5674e-04\n",
            "Epoch 00080: Learning rate is 0.0009.\n",
            " 81/125 [==================>...........] - ETA: 9s - accuracy: 0.8947 - loss: 1.4204 - F1: nan - EM: 0.0000e+00 - lr: 7.5913e-04 \n",
            "Epoch 00081: Learning rate is 0.0009.\n",
            " 82/125 [==================>...........] - ETA: 9s - accuracy: 0.8958 - loss: 1.4054 - F1: nan - EM: 0.0000e+00 - lr: 7.6145e-04\n",
            "Epoch 00082: Learning rate is 0.0009.\n",
            " 83/125 [==================>...........] - ETA: 9s - accuracy: 0.8968 - loss: 1.3911 - F1: nan - EM: 0.0000e+00 - lr: 7.6373e-04\n",
            "Epoch 00083: Learning rate is 0.0009.\n",
            " 84/125 [===================>..........] - ETA: 9s - accuracy: 0.8978 - loss: 1.3768 - F1: nan - EM: 0.0000e+00 - lr: 7.6594e-04\n",
            "Epoch 00084: Learning rate is 0.0009.\n",
            " 85/125 [===================>..........] - ETA: 8s - accuracy: 0.8987 - loss: 1.3635 - F1: nan - EM: 0.0000e+00 - lr: 7.6811e-04\n",
            "Epoch 00085: Learning rate is 0.0009.\n",
            " 86/125 [===================>..........] - ETA: 8s - accuracy: 0.8997 - loss: 1.3498 - F1: nan - EM: 0.0000e+00 - lr: 7.7022e-04\n",
            "Epoch 00086: Learning rate is 0.0009.\n",
            " 87/125 [===================>..........] - ETA: 8s - accuracy: 0.9006 - loss: 1.3364 - F1: nan - EM: 0.0000e+00 - lr: 7.7229e-04\n",
            "Epoch 00087: Learning rate is 0.0009.\n",
            " 88/125 [====================>.........] - ETA: 8s - accuracy: 0.9015 - loss: 1.3233 - F1: nan - EM: 0.0000e+00 - lr: 7.7431e-04\n",
            "Epoch 00088: Learning rate is 0.0009.\n",
            " 89/125 [====================>.........] - ETA: 8s - accuracy: 0.9024 - loss: 1.3109 - F1: nan - EM: 0.0000e+00 - lr: 7.7628e-04\n",
            "Epoch 00089: Learning rate is 0.0009.\n",
            " 90/125 [====================>.........] - ETA: 7s - accuracy: 0.9033 - loss: 1.2984 - F1: nan - EM: 0.0000e+00 - lr: 7.7821e-04\n",
            "Epoch 00090: Learning rate is 0.0009.\n",
            " 91/125 [====================>.........] - ETA: 7s - accuracy: 0.9042 - loss: 1.2861 - F1: nan - EM: 0.0000e+00 - lr: 7.8010e-04\n",
            "Epoch 00091: Learning rate is 0.0009.\n",
            " 92/125 [=====================>........] - ETA: 7s - accuracy: 0.9050 - loss: 1.2742 - F1: nan - EM: 0.0000e+00 - lr: 7.8195e-04\n",
            "Epoch 00092: Learning rate is 0.0009.\n",
            " 93/125 [=====================>........] - ETA: 7s - accuracy: 0.9058 - loss: 1.2628 - F1: nan - EM: 0.0000e+00 - lr: 7.8375e-04\n",
            "Epoch 00093: Learning rate is 0.0009.\n",
            " 94/125 [=====================>........] - ETA: 6s - accuracy: 0.9066 - loss: 1.2512 - F1: nan - EM: 0.0000e+00 - lr: 7.8552e-04\n",
            "Epoch 00094: Learning rate is 0.0009.\n",
            " 95/125 [=====================>........] - ETA: 6s - accuracy: 0.9074 - loss: 1.2396 - F1: nan - EM: 0.0000e+00 - lr: 7.8725e-04\n",
            "Epoch 00095: Learning rate is 0.0009.\n",
            " 96/125 [======================>.......] - ETA: 6s - accuracy: 0.9082 - loss: 1.2288 - F1: nan - EM: 0.0000e+00 - lr: 7.8895e-04\n",
            "Epoch 00096: Learning rate is 0.0009.\n",
            " 97/125 [======================>.......] - ETA: 6s - accuracy: 0.9089 - loss: 1.2190 - F1: nan - EM: 0.0000e+00 - lr: 7.9061e-04\n",
            "Epoch 00097: Learning rate is 0.0009.\n",
            " 98/125 [======================>.......] - ETA: 5s - accuracy: 0.9096 - loss: 1.2084 - F1: nan - EM: 0.0000e+00 - lr: 7.9224e-04\n",
            "Epoch 00098: Learning rate is 0.0009.\n",
            " 99/125 [======================>.......] - ETA: 5s - accuracy: 0.9104 - loss: 1.1977 - F1: nan - EM: 0.0000e+00 - lr: 7.9383e-04\n",
            "Epoch 00099: Learning rate is 0.0009.\n",
            "100/125 [=======================>......] - ETA: 5s - accuracy: 0.9111 - loss: 1.1885 - F1: nan - EM: 0.0000e+00 - lr: 7.9539e-04\n",
            "Epoch 00100: Learning rate is 0.0009.\n",
            "101/125 [=======================>......] - ETA: 5s - accuracy: 0.9119 - loss: 1.1782 - F1: nan - EM: 0.0000e+00 - lr: 7.9692e-04\n",
            "Epoch 00101: Learning rate is 0.0009.\n",
            "102/125 [=======================>......] - ETA: 5s - accuracy: 0.9126 - loss: 1.1686 - F1: nan - EM: 0.0000e+00 - lr: 7.9842e-04\n",
            "Epoch 00102: Learning rate is 0.0009.\n",
            "103/125 [=======================>......] - ETA: 4s - accuracy: 0.9133 - loss: 1.1589 - F1: nan - EM: 0.0000e+00 - lr: 7.9990e-04\n",
            "Epoch 00103: Learning rate is 0.0009.\n",
            "104/125 [=======================>......] - ETA: 4s - accuracy: 0.9139 - loss: 1.1496 - F1: nan - EM: 0.0000e+00 - lr: 8.0134e-04\n",
            "Epoch 00104: Learning rate is 0.0009.\n",
            "105/125 [========================>.....] - ETA: 4s - accuracy: 0.9146 - loss: 1.1400 - F1: nan - EM: 0.0000e+00 - lr: 8.0275e-04\n",
            "Epoch 00105: Learning rate is 0.0009.\n",
            "106/125 [========================>.....] - ETA: 4s - accuracy: 0.9152 - loss: 1.1316 - F1: nan - EM: 0.0000e+00 - lr: 8.0414e-04\n",
            "Epoch 00106: Learning rate is 0.0009.\n",
            "107/125 [========================>.....] - ETA: 4s - accuracy: 0.9158 - loss: 1.1225 - F1: nan - EM: 0.0000e+00 - lr: 8.0504e-04\n",
            "Epoch 00107: Learning rate is 0.0009.\n",
            "108/125 [========================>.....] - ETA: 3s - accuracy: 0.9165 - loss: 1.1139 - F1: nan - EM: 0.0000e+00 - lr: 8.0592e-04\n",
            "Epoch 00108: Learning rate is 0.0009.\n",
            "109/125 [=========================>....] - ETA: 3s - accuracy: 0.9170 - loss: 1.1055 - F1: nan - EM: 0.0000e+00 - lr: 8.0678e-04\n",
            "Epoch 00109: Learning rate is 0.0009.\n",
            "110/125 [=========================>....] - ETA: 3s - accuracy: 0.9175 - loss: 1.0979 - F1: nan - EM: 0.0000e+00 - lr: 8.0763e-04\n",
            "Epoch 00110: Learning rate is 0.0009.\n",
            "111/125 [=========================>....] - ETA: 3s - accuracy: 0.9181 - loss: 1.0894 - F1: nan - EM: 0.0000e+00 - lr: 8.0846e-04\n",
            "Epoch 00111: Learning rate is 0.0009.\n",
            "112/125 [=========================>....] - ETA: 2s - accuracy: 0.9187 - loss: 1.0812 - F1: nan - EM: 0.0000e+00 - lr: 8.0928e-04\n",
            "Epoch 00112: Learning rate is 0.0009.\n",
            "113/125 [==========================>...] - ETA: 2s - accuracy: 0.9192 - loss: 1.0734 - F1: nan - EM: 0.0000e+00 - lr: 8.1008e-04\n",
            "Epoch 00113: Learning rate is 0.0009.\n",
            "114/125 [==========================>...] - ETA: 2s - accuracy: 0.9198 - loss: 1.0657 - F1: nan - EM: 0.0000e+00 - lr: 8.1087e-04\n",
            "Epoch 00114: Learning rate is 0.0009.\n",
            "115/125 [==========================>...] - ETA: 2s - accuracy: 0.9203 - loss: 1.0578 - F1: nan - EM: 0.0000e+00 - lr: 8.1165e-04\n",
            "Epoch 00115: Learning rate is 0.0009.\n",
            "116/125 [==========================>...] - ETA: 1s - accuracy: 0.9209 - loss: 1.0498 - F1: nan - EM: 0.0000e+00 - lr: 8.1241e-04\n",
            "Epoch 00116: Learning rate is 0.0009.\n",
            "117/125 [===========================>..] - ETA: 1s - accuracy: 0.9214 - loss: 1.0421 - F1: nan - EM: 0.0000e+00 - lr: 8.1316e-04\n",
            "Epoch 00117: Learning rate is 0.0009.\n",
            "118/125 [===========================>..] - ETA: 1s - accuracy: 0.9219 - loss: 1.0345 - F1: nan - EM: 0.0000e+00 - lr: 8.1389e-04\n",
            "Epoch 00118: Learning rate is 0.0009.\n",
            "119/125 [===========================>..] - ETA: 1s - accuracy: 0.9223 - loss: 1.0279 - F1: nan - EM: 0.0000e+00 - lr: 8.1462e-04\n",
            "Epoch 00119: Learning rate is 0.0009.\n",
            "120/125 [===========================>..] - ETA: 1s - accuracy: 0.9228 - loss: 1.0211 - F1: nan - EM: 0.0000e+00 - lr: 8.1533e-04\n",
            "Epoch 00120: Learning rate is 0.0009.\n",
            "121/125 [============================>.] - ETA: 0s - accuracy: 0.9232 - loss: 1.0143 - F1: nan - EM: 0.0000e+00 - lr: 8.1603e-04\n",
            "Epoch 00121: Learning rate is 0.0009.\n",
            "122/125 [============================>.] - ETA: 0s - accuracy: 0.9236 - loss: 1.0087 - F1: nan - EM: 0.0000e+00 - lr: 8.1671e-04\n",
            "Epoch 00122: Learning rate is 0.0009.\n",
            "123/125 [============================>.] - ETA: 0s - accuracy: 0.9241 - loss: 1.0020 - F1: nan - EM: 0.0000e+00 - lr: 8.1739e-04\n",
            "Epoch 00123: Learning rate is 0.0009.\n",
            "124/125 [============================>.] - ETA: 0s - accuracy: 0.9245 - loss: 0.9959 - F1: nan - EM: 0.0000e+00 - lr: 8.1806e-04\n",
            "Epoch 00124: Learning rate is 0.0009.\n",
            "125/125 [==============================] - 64s 352ms/step - accuracy: 0.9250 - loss: 0.9891 - F1: nan - EM: 0.0000e+00 - lr: 8.1936e-04 - val_accuracy: 0.9344 - val_loss: 0.7570 - val_F1: 0.4976 - val_EM: 0.0000e+00\n"
          ],
          "name": "stdout"
        },
        {
          "output_type": "stream",
          "text": [
            "WARNING:absl:Found untraced functions such as final_layer_norm_layer_call_fn, final_layer_norm_layer_call_and_return_conditional_losses, dropout_24_layer_call_fn, dropout_24_layer_call_and_return_conditional_losses, final_layer_norm_layer_call_fn while saving (showing 5 of 1310). These functions will not be directly callable after loading.\n"
          ],
          "name": "stderr"
        },
        {
          "output_type": "stream",
          "text": [
            "Epoch 2/3\n",
            "\n",
            "Epoch 00125: Learning rate is 0.0009.\n",
            "  1/125 [..............................] - ETA: 33s - accuracy: 0.9792 - loss: 0.1944 - F1: 0.3788 - EM: 0.0000e+00 - lr: 9.0000e-04\n",
            "Epoch 00126: Learning rate is 0.0009.\n",
            "  2/125 [..............................] - ETA: 26s - accuracy: 0.9826 - loss: 0.1699 - F1: 0.4598 - EM: 0.0000e+00 - lr: 9.0000e-04\n",
            "Epoch 00127: Learning rate is 0.0009.\n",
            "  3/125 [..............................] - ETA: 26s - accuracy: 0.9846 - loss: 0.1591 - F1: 0.5460 - EM: 0.0000e+00 - lr: 9.0000e-04\n",
            "Epoch 00128: Learning rate is 0.0009.\n",
            "  4/125 [..............................] - ETA: 25s - accuracy: 0.9844 - loss: 0.1596 - F1: 0.5840 - EM: 0.0000e+00 - lr: 9.0000e-04\n",
            "Epoch 00129: Learning rate is 0.0009.\n",
            "  5/125 [>.............................] - ETA: 25s - accuracy: 0.9838 - loss: 0.1553 - F1: 0.5980 - EM: 0.0000e+00 - lr: 9.0000e-04\n",
            "Epoch 00130: Learning rate is 0.0009.\n",
            "  6/125 [>.............................] - ETA: 24s - accuracy: 0.9838 - loss: 0.1563 - F1: 0.6019 - EM: 0.0000e+00 - lr: 9.0000e-04\n",
            "Epoch 00131: Learning rate is 0.0009.\n",
            "  7/125 [>.............................] - ETA: 24s - accuracy: 0.9841 - loss: 0.1547 - F1: 0.5895 - EM: 0.0000e+00 - lr: 9.0000e-04\n",
            "Epoch 00132: Learning rate is 0.0009.\n",
            "  8/125 [>.............................] - ETA: 24s - accuracy: 0.9835 - loss: 0.1590 - F1: 0.5923 - EM: 0.0000e+00 - lr: 9.0000e-04\n",
            "Epoch 00133: Learning rate is 0.0009.\n",
            "  9/125 [=>............................] - ETA: 24s - accuracy: 0.9835 - loss: 0.1571 - F1: 0.5900 - EM: 0.0000e+00 - lr: 9.0000e-04\n",
            "Epoch 00134: Learning rate is 0.0009.\n",
            " 10/125 [=>............................] - ETA: 26s - accuracy: 0.9840 - loss: 0.1556 - F1: 0.5861 - EM: 0.0000e+00 - lr: 9.0000e-04\n",
            "Epoch 00135: Learning rate is 0.0009.\n",
            " 11/125 [=>............................] - ETA: 26s - accuracy: 0.9842 - loss: 0.1535 - F1: 0.5835 - EM: 0.0000e+00 - lr: 9.0000e-04\n",
            "Epoch 00136: Learning rate is 0.0009.\n",
            " 12/125 [=>............................] - ETA: 26s - accuracy: 0.9840 - loss: 0.1556 - F1: 0.5877 - EM: 0.0000e+00 - lr: 9.0000e-04\n",
            "Epoch 00137: Learning rate is 0.0009.\n",
            " 13/125 [==>...........................] - ETA: 25s - accuracy: 0.9827 - loss: 0.1654 - F1: 0.5726 - EM: 0.0000e+00 - lr: 9.0000e-04\n",
            "Epoch 00138: Learning rate is 0.0009.\n",
            " 14/125 [==>...........................] - ETA: 25s - accuracy: 0.9830 - loss: 0.1644 - F1: 0.5842 - EM: 0.0000e+00 - lr: 9.0000e-04\n",
            "Epoch 00139: Learning rate is 0.0008.\n",
            " 15/125 [==>...........................] - ETA: 25s - accuracy: 0.9829 - loss: 0.1693 - F1: 0.5925 - EM: 0.0000e+00 - lr: 8.9667e-04\n",
            "Epoch 00140: Learning rate is 0.0008.\n",
            " 16/125 [==>...........................] - ETA: 25s - accuracy: 0.9829 - loss: 0.1706 - F1: 0.5952 - EM: 0.0000e+00 - lr: 8.9375e-04\n",
            "Epoch 00141: Learning rate is 0.0008.\n",
            " 17/125 [===>..........................] - ETA: 24s - accuracy: 0.9833 - loss: 0.1693 - F1: 0.5947 - EM: 0.0000e+00 - lr: 8.9118e-04\n",
            "Epoch 00142: Learning rate is 0.0008.\n",
            " 18/125 [===>..........................] - ETA: 24s - accuracy: 0.9835 - loss: 0.1670 - F1: 0.6053 - EM: 0.0000e+00 - lr: 8.8889e-04\n",
            "Epoch 00143: Learning rate is 0.0008.\n",
            " 19/125 [===>..........................] - ETA: 24s - accuracy: 0.9836 - loss: 0.1651 - F1: 0.6100 - EM: 0.0000e+00 - lr: 8.8684e-04\n",
            "Epoch 00144: Learning rate is 0.0008.\n",
            " 20/125 [===>..........................] - ETA: 24s - accuracy: 0.9837 - loss: 0.1638 - F1: 0.6169 - EM: 0.0000e+00 - lr: 8.8500e-04\n",
            "Epoch 00145: Learning rate is 0.0008.\n",
            " 21/125 [====>.........................] - ETA: 23s - accuracy: 0.9839 - loss: 0.1620 - F1: 0.6178 - EM: 0.0000e+00 - lr: 8.8333e-04\n",
            "Epoch 00146: Learning rate is 0.0008.\n",
            " 22/125 [====>.........................] - ETA: 23s - accuracy: 0.9834 - loss: 0.1648 - F1: 0.6126 - EM: 0.0000e+00 - lr: 8.8182e-04\n",
            "Epoch 00147: Learning rate is 0.0008.\n",
            " 23/125 [====>.........................] - ETA: 23s - accuracy: 0.9835 - loss: 0.1626 - F1: 0.6124 - EM: 0.0000e+00 - lr: 8.8043e-04\n",
            "Epoch 00148: Learning rate is 0.0008.\n",
            " 24/125 [====>.........................] - ETA: 23s - accuracy: 0.9836 - loss: 0.1628 - F1: 0.6130 - EM: 0.0000e+00 - lr: 8.7917e-04\n",
            "Epoch 00149: Learning rate is 0.0008.\n",
            " 25/125 [=====>........................] - ETA: 23s - accuracy: 0.9836 - loss: 0.1629 - F1: 0.6185 - EM: 0.0000e+00 - lr: 8.7800e-04\n",
            "Epoch 00150: Learning rate is 0.0008.\n",
            " 26/125 [=====>........................] - ETA: 22s - accuracy: 0.9834 - loss: 0.1650 - F1: 0.6214 - EM: 0.0000e+00 - lr: 8.7692e-04\n",
            "Epoch 00151: Learning rate is 0.0008.\n",
            " 27/125 [=====>........................] - ETA: 22s - accuracy: 0.9835 - loss: 0.1633 - F1: 0.6237 - EM: 0.0000e+00 - lr: 8.7593e-04\n",
            "Epoch 00152: Learning rate is 0.0008.\n",
            " 28/125 [=====>........................] - ETA: 22s - accuracy: 0.9836 - loss: 0.1645 - F1: 0.6250 - EM: 0.0000e+00 - lr: 8.7500e-04\n",
            "Epoch 00153: Learning rate is 0.0008.\n",
            " 29/125 [=====>........................] - ETA: 22s - accuracy: 0.9837 - loss: 0.1635 - F1: 0.6233 - EM: 0.0000e+00 - lr: 8.7414e-04\n",
            "Epoch 00154: Learning rate is 0.0008.\n",
            " 30/125 [======>.......................] - ETA: 21s - accuracy: 0.9838 - loss: 0.1621 - F1: 0.6267 - EM: 0.0000e+00 - lr: 8.7333e-04\n",
            "Epoch 00155: Learning rate is 0.0008.\n",
            " 31/125 [======>.......................] - ETA: 21s - accuracy: 0.9841 - loss: 0.1601 - F1: 0.6309 - EM: 0.0000e+00 - lr: 8.7258e-04\n",
            "Epoch 00156: Learning rate is 0.0008.\n",
            " 32/125 [======>.......................] - ETA: 21s - accuracy: 0.9841 - loss: 0.1591 - F1: 0.6302 - EM: 0.0000e+00 - lr: 8.7187e-04\n",
            "Epoch 00157: Learning rate is 0.0008.\n",
            " 33/125 [======>.......................] - ETA: 21s - accuracy: 0.9843 - loss: 0.1579 - F1: 0.6241 - EM: 0.0000e+00 - lr: 8.7121e-04\n",
            "Epoch 00158: Learning rate is 0.0008.\n",
            " 34/125 [=======>......................] - ETA: 20s - accuracy: 0.9843 - loss: 0.1582 - F1: 0.6247 - EM: 0.0000e+00 - lr: 8.7059e-04\n",
            "Epoch 00159: Learning rate is 0.0008.\n",
            " 35/125 [=======>......................] - ETA: 20s - accuracy: 0.9843 - loss: 0.1576 - F1: 0.6211 - EM: 0.0000e+00 - lr: 8.7000e-04\n",
            "Epoch 00160: Learning rate is 0.0008.\n",
            " 36/125 [=======>......................] - ETA: 20s - accuracy: 0.9843 - loss: 0.1577 - F1: 0.6213 - EM: 0.0000e+00 - lr: 8.6944e-04\n",
            "Epoch 00161: Learning rate is 0.0008.\n",
            " 37/125 [=======>......................] - ETA: 20s - accuracy: 0.9845 - loss: 0.1559 - F1: 0.6245 - EM: 0.0000e+00 - lr: 8.6892e-04\n",
            "Epoch 00162: Learning rate is 0.0008.\n",
            " 38/125 [========>.....................] - ETA: 20s - accuracy: 0.9843 - loss: 0.1561 - F1: 0.6272 - EM: 0.0000e+00 - lr: 8.6842e-04\n",
            "Epoch 00163: Learning rate is 0.0008.\n",
            " 39/125 [========>.....................] - ETA: 19s - accuracy: 0.9845 - loss: 0.1551 - F1: 0.6272 - EM: 0.0000e+00 - lr: 8.6795e-04\n",
            "Epoch 00164: Learning rate is 0.0008.\n",
            " 40/125 [========>.....................] - ETA: 19s - accuracy: 0.9847 - loss: 0.1541 - F1: nan - EM: 0.0000e+00 - lr: 8.6750e-04   \n",
            "Epoch 00165: Learning rate is 0.0008.\n",
            " 41/125 [========>.....................] - ETA: 19s - accuracy: 0.9842 - loss: 0.1559 - F1: nan - EM: 0.0000e+00 - lr: 8.6707e-04\n",
            "Epoch 00166: Learning rate is 0.0008.\n",
            " 42/125 [=========>....................] - ETA: 19s - accuracy: 0.9843 - loss: 0.1544 - F1: nan - EM: 0.0000e+00 - lr: 8.6667e-04\n",
            "Epoch 00167: Learning rate is 0.0008.\n",
            " 43/125 [=========>....................] - ETA: 18s - accuracy: 0.9844 - loss: 0.1539 - F1: nan - EM: 0.0000e+00 - lr: 8.6628e-04\n",
            "Epoch 00168: Learning rate is 0.0008.\n",
            " 44/125 [=========>....................] - ETA: 18s - accuracy: 0.9846 - loss: 0.1530 - F1: nan - EM: 0.0000e+00 - lr: 8.6591e-04\n",
            "Epoch 00169: Learning rate is 0.0008.\n",
            " 45/125 [=========>....................] - ETA: 18s - accuracy: 0.9847 - loss: 0.1528 - F1: nan - EM: 0.0000e+00 - lr: 8.6556e-04\n",
            "Epoch 00170: Learning rate is 0.0008.\n",
            " 46/125 [==========>...................] - ETA: 18s - accuracy: 0.9847 - loss: 0.1536 - F1: nan - EM: 0.0000e+00 - lr: 8.6522e-04\n",
            "Epoch 00171: Learning rate is 0.0008.\n",
            " 47/125 [==========>...................] - ETA: 17s - accuracy: 0.9849 - loss: 0.1518 - F1: nan - EM: 0.0000e+00 - lr: 8.6489e-04\n",
            "Epoch 00172: Learning rate is 0.0008.\n",
            " 48/125 [==========>...................] - ETA: 17s - accuracy: 0.9849 - loss: 0.1520 - F1: nan - EM: 0.0000e+00 - lr: 8.6458e-04\n",
            "Epoch 00173: Learning rate is 0.0008.\n",
            " 49/125 [==========>...................] - ETA: 17s - accuracy: 0.9849 - loss: 0.1516 - F1: nan - EM: 0.0000e+00 - lr: 8.6327e-04\n",
            "Epoch 00174: Learning rate is 0.0008.\n",
            " 50/125 [===========>..................] - ETA: 17s - accuracy: 0.9850 - loss: 0.1510 - F1: nan - EM: 0.0000e+00 - lr: 8.6200e-04\n",
            "Epoch 00175: Learning rate is 0.0008.\n",
            " 51/125 [===========>..................] - ETA: 16s - accuracy: 0.9851 - loss: 0.1498 - F1: nan - EM: 0.0000e+00 - lr: 8.6078e-04\n",
            "Epoch 00176: Learning rate is 0.0008.\n",
            " 52/125 [===========>..................] - ETA: 16s - accuracy: 0.9853 - loss: 0.1477 - F1: nan - EM: 0.0000e+00 - lr: 8.5962e-04\n",
            "Epoch 00177: Learning rate is 0.0008.\n",
            " 53/125 [===========>..................] - ETA: 16s - accuracy: 0.9853 - loss: 0.1487 - F1: nan - EM: 0.0000e+00 - lr: 8.5849e-04\n",
            "Epoch 00178: Learning rate is 0.0008.\n",
            " 54/125 [===========>..................] - ETA: 16s - accuracy: 0.9852 - loss: 0.1487 - F1: nan - EM: 0.0000e+00 - lr: 8.5741e-04\n",
            "Epoch 00179: Learning rate is 0.0008.\n",
            " 55/125 [============>.................] - ETA: 16s - accuracy: 0.9854 - loss: 0.1475 - F1: nan - EM: 0.0000e+00 - lr: 8.5636e-04\n",
            "Epoch 00180: Learning rate is 0.0008.\n",
            " 56/125 [============>.................] - ETA: 15s - accuracy: 0.9854 - loss: 0.1478 - F1: nan - EM: 0.0000e+00 - lr: 8.5536e-04\n",
            "Epoch 00181: Learning rate is 0.0008.\n",
            " 57/125 [============>.................] - ETA: 15s - accuracy: 0.9853 - loss: 0.1483 - F1: nan - EM: 0.0000e+00 - lr: 8.5439e-04\n",
            "Epoch 00182: Learning rate is 0.0008.\n",
            " 58/125 [============>.................] - ETA: 15s - accuracy: 0.9855 - loss: 0.1471 - F1: nan - EM: 0.0000e+00 - lr: 8.5345e-04\n",
            "Epoch 00183: Learning rate is 0.0008.\n",
            " 59/125 [=============>................] - ETA: 15s - accuracy: 0.9856 - loss: 0.1457 - F1: nan - EM: 0.0000e+00 - lr: 8.5254e-04\n",
            "Epoch 00184: Learning rate is 0.0008.\n",
            " 60/125 [=============>................] - ETA: 14s - accuracy: 0.9858 - loss: 0.1453 - F1: nan - EM: 0.0000e+00 - lr: 8.5167e-04\n",
            "Epoch 00185: Learning rate is 0.0008.\n",
            " 61/125 [=============>................] - ETA: 14s - accuracy: 0.9859 - loss: 0.1446 - F1: nan - EM: 0.0000e+00 - lr: 8.5082e-04\n",
            "Epoch 00186: Learning rate is 0.0008.\n",
            " 62/125 [=============>................] - ETA: 14s - accuracy: 0.9860 - loss: 0.1431 - F1: nan - EM: 0.0000e+00 - lr: 8.5000e-04\n",
            "Epoch 00187: Learning rate is 0.0008.\n",
            " 63/125 [==============>...............] - ETA: 14s - accuracy: 0.9860 - loss: 0.1438 - F1: nan - EM: 0.0000e+00 - lr: 8.4921e-04\n",
            "Epoch 00188: Learning rate is 0.0008.\n",
            " 64/125 [==============>...............] - ETA: 14s - accuracy: 0.9860 - loss: 0.1436 - F1: nan - EM: 0.0000e+00 - lr: 8.4844e-04\n",
            "Epoch 00189: Learning rate is 0.0008.\n",
            " 65/125 [==============>...............] - ETA: 13s - accuracy: 0.9862 - loss: 0.1426 - F1: nan - EM: 0.0000e+00 - lr: 8.4769e-04\n",
            "Epoch 00190: Learning rate is 0.0008.\n",
            " 66/125 [==============>...............] - ETA: 13s - accuracy: 0.9863 - loss: 0.1417 - F1: nan - EM: 0.0000e+00 - lr: 8.4697e-04\n",
            "Epoch 00191: Learning rate is 0.0008.\n",
            " 67/125 [===============>..............] - ETA: 13s - accuracy: 0.9863 - loss: 0.1411 - F1: nan - EM: 0.0000e+00 - lr: 8.4627e-04\n",
            "Epoch 00192: Learning rate is 0.0008.\n",
            " 68/125 [===============>..............] - ETA: 13s - accuracy: 0.9865 - loss: 0.1398 - F1: nan - EM: 0.0000e+00 - lr: 8.4559e-04\n",
            "Epoch 00193: Learning rate is 0.0008.\n",
            " 69/125 [===============>..............] - ETA: 12s - accuracy: 0.9867 - loss: 0.1388 - F1: nan - EM: 0.0000e+00 - lr: 8.4493e-04\n",
            "Epoch 00194: Learning rate is 0.0008.\n",
            " 70/125 [===============>..............] - ETA: 12s - accuracy: 0.9867 - loss: 0.1386 - F1: nan - EM: 0.0000e+00 - lr: 8.4429e-04\n",
            "Epoch 00195: Learning rate is 0.0008.\n",
            " 71/125 [================>.............] - ETA: 12s - accuracy: 0.9868 - loss: 0.1375 - F1: nan - EM: 0.0000e+00 - lr: 8.4366e-04\n",
            "Epoch 00196: Learning rate is 0.0008.\n",
            " 72/125 [================>.............] - ETA: 12s - accuracy: 0.9869 - loss: 0.1373 - F1: nan - EM: 0.0000e+00 - lr: 8.4306e-04\n",
            "Epoch 00197: Learning rate is 0.0008.\n",
            " 73/125 [================>.............] - ETA: 11s - accuracy: 0.9870 - loss: 0.1364 - F1: nan - EM: 0.0000e+00 - lr: 8.4247e-04\n",
            "Epoch 00198: Learning rate is 0.0008.\n",
            " 74/125 [================>.............] - ETA: 11s - accuracy: 0.9871 - loss: 0.1352 - F1: nan - EM: 0.0000e+00 - lr: 8.4189e-04\n",
            "Epoch 00199: Learning rate is 0.0008.\n",
            " 75/125 [=================>............] - ETA: 11s - accuracy: 0.9872 - loss: 0.1348 - F1: nan - EM: 0.0000e+00 - lr: 8.4133e-04\n",
            "Epoch 00200: Learning rate is 0.0008.\n",
            " 76/125 [=================>............] - ETA: 11s - accuracy: 0.9873 - loss: 0.1341 - F1: nan - EM: 0.0000e+00 - lr: 8.4079e-04\n",
            "Epoch 00201: Learning rate is 0.0008.\n",
            " 77/125 [=================>............] - ETA: 11s - accuracy: 0.9873 - loss: 0.1338 - F1: nan - EM: 0.0000e+00 - lr: 8.4026e-04\n",
            "Epoch 00202: Learning rate is 0.0008.\n",
            " 78/125 [=================>............] - ETA: 10s - accuracy: 0.9874 - loss: 0.1328 - F1: nan - EM: 0.0000e+00 - lr: 8.3974e-04\n",
            "Epoch 00203: Learning rate is 0.0008.\n",
            " 79/125 [=================>............] - ETA: 10s - accuracy: 0.9875 - loss: 0.1320 - F1: nan - EM: 0.0000e+00 - lr: 8.3924e-04\n",
            "Epoch 00204: Learning rate is 0.0008.\n"
          ],
          "name": "stdout"
        },
        {
          "output_type": "error",
          "ename": "KeyboardInterrupt",
          "evalue": "ignored",
          "traceback": [
            "\u001b[0;31m---------------------------------------------------------------------------\u001b[0m",
            "\u001b[0;31mKeyboardInterrupt\u001b[0m                         Traceback (most recent call last)",
            "\u001b[0;32m<ipython-input-18-e4ea83862d45>\u001b[0m in \u001b[0;36m<module>\u001b[0;34m()\u001b[0m\n\u001b[1;32m      3\u001b[0m \u001b[0;32mif\u001b[0m \u001b[0mtrain_model\u001b[0m\u001b[0;34m:\u001b[0m\u001b[0;34m\u001b[0m\u001b[0;34m\u001b[0m\u001b[0m\n\u001b[1;32m      4\u001b[0m     model.fit(tf_train_ds, epochs=epochs, steps_per_epoch=steps, callbacks=callbacks, \n\u001b[0;32m----> 5\u001b[0;31m               validation_data=tf_valid_ds, validation_steps=valid_steps,verbose=1)\n\u001b[0m\u001b[1;32m      6\u001b[0m     \u001b[0;32mif\u001b[0m\u001b[0;34m(\u001b[0m\u001b[0msave_model\u001b[0m\u001b[0;34m)\u001b[0m\u001b[0;34m:\u001b[0m\u001b[0;34m\u001b[0m\u001b[0;34m\u001b[0m\u001b[0m\n\u001b[1;32m      7\u001b[0m         \u001b[0mmodel\u001b[0m\u001b[0;34m.\u001b[0m\u001b[0msave_pretrained\u001b[0m\u001b[0;34m(\u001b[0m\u001b[0msave_path\u001b[0m\u001b[0;34m)\u001b[0m\u001b[0;34m\u001b[0m\u001b[0;34m\u001b[0m\u001b[0m\n",
            "\u001b[0;32m/usr/local/lib/python3.7/dist-packages/tensorflow/python/keras/engine/training.py\u001b[0m in \u001b[0;36mfit\u001b[0;34m(self, x, y, batch_size, epochs, verbose, callbacks, validation_split, validation_data, shuffle, class_weight, sample_weight, initial_epoch, steps_per_epoch, validation_steps, validation_batch_size, validation_freq, max_queue_size, workers, use_multiprocessing)\u001b[0m\n\u001b[1;32m   1181\u001b[0m                 _r=1):\n\u001b[1;32m   1182\u001b[0m               \u001b[0mcallbacks\u001b[0m\u001b[0;34m.\u001b[0m\u001b[0mon_train_batch_begin\u001b[0m\u001b[0;34m(\u001b[0m\u001b[0mstep\u001b[0m\u001b[0;34m)\u001b[0m\u001b[0;34m\u001b[0m\u001b[0;34m\u001b[0m\u001b[0m\n\u001b[0;32m-> 1183\u001b[0;31m               \u001b[0mtmp_logs\u001b[0m \u001b[0;34m=\u001b[0m \u001b[0mself\u001b[0m\u001b[0;34m.\u001b[0m\u001b[0mtrain_function\u001b[0m\u001b[0;34m(\u001b[0m\u001b[0miterator\u001b[0m\u001b[0;34m)\u001b[0m\u001b[0;34m\u001b[0m\u001b[0;34m\u001b[0m\u001b[0m\n\u001b[0m\u001b[1;32m   1184\u001b[0m               \u001b[0;32mif\u001b[0m \u001b[0mdata_handler\u001b[0m\u001b[0;34m.\u001b[0m\u001b[0mshould_sync\u001b[0m\u001b[0;34m:\u001b[0m\u001b[0;34m\u001b[0m\u001b[0;34m\u001b[0m\u001b[0m\n\u001b[1;32m   1185\u001b[0m                 \u001b[0mcontext\u001b[0m\u001b[0;34m.\u001b[0m\u001b[0masync_wait\u001b[0m\u001b[0;34m(\u001b[0m\u001b[0;34m)\u001b[0m\u001b[0;34m\u001b[0m\u001b[0;34m\u001b[0m\u001b[0m\n",
            "\u001b[0;32m/usr/local/lib/python3.7/dist-packages/tensorflow/python/eager/def_function.py\u001b[0m in \u001b[0;36m__call__\u001b[0;34m(self, *args, **kwds)\u001b[0m\n\u001b[1;32m    887\u001b[0m \u001b[0;34m\u001b[0m\u001b[0m\n\u001b[1;32m    888\u001b[0m       \u001b[0;32mwith\u001b[0m \u001b[0mOptionalXlaContext\u001b[0m\u001b[0;34m(\u001b[0m\u001b[0mself\u001b[0m\u001b[0;34m.\u001b[0m\u001b[0m_jit_compile\u001b[0m\u001b[0;34m)\u001b[0m\u001b[0;34m:\u001b[0m\u001b[0;34m\u001b[0m\u001b[0;34m\u001b[0m\u001b[0m\n\u001b[0;32m--> 889\u001b[0;31m         \u001b[0mresult\u001b[0m \u001b[0;34m=\u001b[0m \u001b[0mself\u001b[0m\u001b[0;34m.\u001b[0m\u001b[0m_call\u001b[0m\u001b[0;34m(\u001b[0m\u001b[0;34m*\u001b[0m\u001b[0margs\u001b[0m\u001b[0;34m,\u001b[0m \u001b[0;34m**\u001b[0m\u001b[0mkwds\u001b[0m\u001b[0;34m)\u001b[0m\u001b[0;34m\u001b[0m\u001b[0;34m\u001b[0m\u001b[0m\n\u001b[0m\u001b[1;32m    890\u001b[0m \u001b[0;34m\u001b[0m\u001b[0m\n\u001b[1;32m    891\u001b[0m       \u001b[0mnew_tracing_count\u001b[0m \u001b[0;34m=\u001b[0m \u001b[0mself\u001b[0m\u001b[0;34m.\u001b[0m\u001b[0mexperimental_get_tracing_count\u001b[0m\u001b[0;34m(\u001b[0m\u001b[0;34m)\u001b[0m\u001b[0;34m\u001b[0m\u001b[0;34m\u001b[0m\u001b[0m\n",
            "\u001b[0;32m/usr/local/lib/python3.7/dist-packages/tensorflow/python/eager/def_function.py\u001b[0m in \u001b[0;36m_call\u001b[0;34m(self, *args, **kwds)\u001b[0m\n\u001b[1;32m    922\u001b[0m       \u001b[0;31m# In this case we have not created variables on the first call. So we can\u001b[0m\u001b[0;34m\u001b[0m\u001b[0;34m\u001b[0m\u001b[0;34m\u001b[0m\u001b[0m\n\u001b[1;32m    923\u001b[0m       \u001b[0;31m# run the first trace but we should fail if variables are created.\u001b[0m\u001b[0;34m\u001b[0m\u001b[0;34m\u001b[0m\u001b[0;34m\u001b[0m\u001b[0m\n\u001b[0;32m--> 924\u001b[0;31m       \u001b[0mresults\u001b[0m \u001b[0;34m=\u001b[0m \u001b[0mself\u001b[0m\u001b[0;34m.\u001b[0m\u001b[0m_stateful_fn\u001b[0m\u001b[0;34m(\u001b[0m\u001b[0;34m*\u001b[0m\u001b[0margs\u001b[0m\u001b[0;34m,\u001b[0m \u001b[0;34m**\u001b[0m\u001b[0mkwds\u001b[0m\u001b[0;34m)\u001b[0m\u001b[0;34m\u001b[0m\u001b[0;34m\u001b[0m\u001b[0m\n\u001b[0m\u001b[1;32m    925\u001b[0m       \u001b[0;32mif\u001b[0m \u001b[0mself\u001b[0m\u001b[0;34m.\u001b[0m\u001b[0m_created_variables\u001b[0m\u001b[0;34m:\u001b[0m\u001b[0;34m\u001b[0m\u001b[0;34m\u001b[0m\u001b[0m\n\u001b[1;32m    926\u001b[0m         raise ValueError(\"Creating variables on a non-first call to a function\"\n",
            "\u001b[0;32m/usr/local/lib/python3.7/dist-packages/tensorflow/python/eager/function.py\u001b[0m in \u001b[0;36m__call__\u001b[0;34m(self, *args, **kwargs)\u001b[0m\n\u001b[1;32m   3022\u001b[0m        filtered_flat_args) = self._maybe_define_function(args, kwargs)\n\u001b[1;32m   3023\u001b[0m     return graph_function._call_flat(\n\u001b[0;32m-> 3024\u001b[0;31m         filtered_flat_args, captured_inputs=graph_function.captured_inputs)  # pylint: disable=protected-access\n\u001b[0m\u001b[1;32m   3025\u001b[0m \u001b[0;34m\u001b[0m\u001b[0m\n\u001b[1;32m   3026\u001b[0m   \u001b[0;34m@\u001b[0m\u001b[0mproperty\u001b[0m\u001b[0;34m\u001b[0m\u001b[0;34m\u001b[0m\u001b[0m\n",
            "\u001b[0;32m/usr/local/lib/python3.7/dist-packages/tensorflow/python/eager/function.py\u001b[0m in \u001b[0;36m_call_flat\u001b[0;34m(self, args, captured_inputs, cancellation_manager)\u001b[0m\n\u001b[1;32m   1959\u001b[0m       \u001b[0;31m# No tape is watching; skip to running the function.\u001b[0m\u001b[0;34m\u001b[0m\u001b[0;34m\u001b[0m\u001b[0;34m\u001b[0m\u001b[0m\n\u001b[1;32m   1960\u001b[0m       return self._build_call_outputs(self._inference_function.call(\n\u001b[0;32m-> 1961\u001b[0;31m           ctx, args, cancellation_manager=cancellation_manager))\n\u001b[0m\u001b[1;32m   1962\u001b[0m     forward_backward = self._select_forward_and_backward_functions(\n\u001b[1;32m   1963\u001b[0m         \u001b[0margs\u001b[0m\u001b[0;34m,\u001b[0m\u001b[0;34m\u001b[0m\u001b[0;34m\u001b[0m\u001b[0m\n",
            "\u001b[0;32m/usr/local/lib/python3.7/dist-packages/tensorflow/python/eager/function.py\u001b[0m in \u001b[0;36mcall\u001b[0;34m(self, ctx, args, cancellation_manager)\u001b[0m\n\u001b[1;32m    594\u001b[0m               \u001b[0minputs\u001b[0m\u001b[0;34m=\u001b[0m\u001b[0margs\u001b[0m\u001b[0;34m,\u001b[0m\u001b[0;34m\u001b[0m\u001b[0;34m\u001b[0m\u001b[0m\n\u001b[1;32m    595\u001b[0m               \u001b[0mattrs\u001b[0m\u001b[0;34m=\u001b[0m\u001b[0mattrs\u001b[0m\u001b[0;34m,\u001b[0m\u001b[0;34m\u001b[0m\u001b[0;34m\u001b[0m\u001b[0m\n\u001b[0;32m--> 596\u001b[0;31m               ctx=ctx)\n\u001b[0m\u001b[1;32m    597\u001b[0m         \u001b[0;32melse\u001b[0m\u001b[0;34m:\u001b[0m\u001b[0;34m\u001b[0m\u001b[0;34m\u001b[0m\u001b[0m\n\u001b[1;32m    598\u001b[0m           outputs = execute.execute_with_cancellation(\n",
            "\u001b[0;32m/usr/local/lib/python3.7/dist-packages/tensorflow/python/eager/execute.py\u001b[0m in \u001b[0;36mquick_execute\u001b[0;34m(op_name, num_outputs, inputs, attrs, ctx, name)\u001b[0m\n\u001b[1;32m     58\u001b[0m     \u001b[0mctx\u001b[0m\u001b[0;34m.\u001b[0m\u001b[0mensure_initialized\u001b[0m\u001b[0;34m(\u001b[0m\u001b[0;34m)\u001b[0m\u001b[0;34m\u001b[0m\u001b[0;34m\u001b[0m\u001b[0m\n\u001b[1;32m     59\u001b[0m     tensors = pywrap_tfe.TFE_Py_Execute(ctx._handle, device_name, op_name,\n\u001b[0;32m---> 60\u001b[0;31m                                         inputs, attrs, num_outputs)\n\u001b[0m\u001b[1;32m     61\u001b[0m   \u001b[0;32mexcept\u001b[0m \u001b[0mcore\u001b[0m\u001b[0;34m.\u001b[0m\u001b[0m_NotOkStatusException\u001b[0m \u001b[0;32mas\u001b[0m \u001b[0me\u001b[0m\u001b[0;34m:\u001b[0m\u001b[0;34m\u001b[0m\u001b[0;34m\u001b[0m\u001b[0m\n\u001b[1;32m     62\u001b[0m     \u001b[0;32mif\u001b[0m \u001b[0mname\u001b[0m \u001b[0;32mis\u001b[0m \u001b[0;32mnot\u001b[0m \u001b[0;32mNone\u001b[0m\u001b[0;34m:\u001b[0m\u001b[0;34m\u001b[0m\u001b[0;34m\u001b[0m\u001b[0m\n",
            "\u001b[0;31mKeyboardInterrupt\u001b[0m: "
          ]
        }
      ]
    },
    {
      "cell_type": "code",
      "metadata": {
        "id": "xqxSSq06bZct"
      },
      "source": [
        "if load_model:\n",
        "    model.load_weights(save_path+'/tf_model.h5')\n",
        "    print(f'Model loaded from {save_path}')"
      ],
      "execution_count": null,
      "outputs": []
    },
    {
      "cell_type": "markdown",
      "metadata": {
        "id": "WjsHiiSldUFa"
      },
      "source": [
        "#### Predict & Evaluate"
      ]
    },
    {
      "cell_type": "code",
      "metadata": {
        "id": "VBfLJvUuSamq"
      },
      "source": [
        "def batch_predict(ds,model,tokenizer):\n",
        "    preds = []\n",
        "\n",
        "    with tqdm(total=batch_size*len(list(ds.as_numpy_iterator()))) as bar:\n",
        "        for batch in ds:\n",
        "            input_ids = batch['input_ids']\n",
        "            output = model.generate(input_ids)\n",
        "\n",
        "            for i in range(output.shape[0]):\n",
        "                single_pred = tokenizer.decode(output[i])\n",
        "                single_pred = single_pred.replace('<pad>','')\n",
        "                single_pred = single_pred.replace('</s>','')\n",
        "                single_pred = single_pred.strip()\n",
        "                single_pred = re.sub(r'(\\d)\\s+(\\d)', r'\\1\\2', single_pred)\n",
        "                preds.append(single_pred)\n",
        "                bar.update(1)\n",
        "    return preds\n",
        "\n",
        "def evaluate(df):\n",
        "    EM = []\n",
        "    F1 = []\n",
        "    \n",
        "    if dataset == 'drop': \n",
        "        col = 'answers_spans'\n",
        "        gold_col = 'spans'\n",
        "    else:\n",
        "        col = 'answers'\n",
        "        gold_col = 'text'\n",
        "    for predicted,gold in tqdm(zip(df['predicted'],df[col])):\n",
        "\n",
        "        best_EM = 0\n",
        "        best_F1 = 0\n",
        "\n",
        "        for potential_answer in gold[gold_col]:\n",
        "            metrics = drop_eval.get_metrics(predicted=predicted,gold=potential_answer)\n",
        "\n",
        "            if metrics[1] > best_F1:\n",
        "                best_EM = metrics[0]\n",
        "                best_F1 = metrics[1]\n",
        "\n",
        "        EM.append(best_EM)\n",
        "        F1.append(best_F1)\n",
        "        \n",
        "    df['EM'] = EM\n",
        "    df['F1'] = F1\n",
        "    \n",
        "    print('Exact Match: {:0.4f}, F1: {:0.4f}'.format(df.EM.mean(),df.F1.mean()))\n",
        "    return df\n"
      ],
      "execution_count": null,
      "outputs": []
    },
    {
      "cell_type": "code",
      "metadata": {
        "id": "RE5OUFOASamr"
      },
      "source": [
        "if predict_train:\n",
        "    print('Making Train Predictions...')\n",
        "    preds = batch_predict(ds=tf_train_ds,model=model,tokenizer=tokenizer)\n",
        "    train_df = train_dataset.to_pandas()\n",
        "    assert len(train_df) == len(preds), \"count mismatch, something went wrong\"\n",
        "    train_df['predicted'] = preds\n",
        "    print('Evaluating Train Predictions...')\n",
        "    train_df = evaluate(train_df)\n",
        "    if save_results:\n",
        "        train_df.to_pickle(results_dir+'{}_train'.format(dataset)+datetime.datetime.now().strftime('%H%M-%h%d')+'.pkl')\n",
        "        print('results for predictions on the training data saved to:\\n',results_dir)\n",
        "    \n",
        "if predict_dev:\n",
        "    print('Making Dev Predictions...')\n",
        "    preds = batch_predict(ds=tf_valid_ds,model=model,tokenizer=tokenizer)\n",
        "    valid_df = valid_dataset.to_pandas()\n",
        "    valid_df['predicted'] = preds\n",
        "    assert len(valid_df) == len(preds), \"count mismatch, something went wrong\"\n",
        "    print('Evaluating Dev Predictions...')\n",
        "    valid_df = evaluate(valid_df)\n",
        "    if save_results:\n",
        "        valid_df.to_pickle(results_dir+'{}_validation'.format(dataset)+datetime.datetime.now().strftime('%H%M-%h%d')+'.pkl')\n",
        "        print('results for predictions on the validation data saved to:\\n',results_dir)    \n",
        " "
      ],
      "execution_count": null,
      "outputs": []
    },
    {
      "cell_type": "code",
      "metadata": {
        "id": "2fVrboarSamr"
      },
      "source": [
        "valid_df.head()"
      ],
      "execution_count": null,
      "outputs": []
    },
    {
      "cell_type": "code",
      "metadata": {
        "id": "qxtJDZ5nSamr"
      },
      "source": [
        ""
      ],
      "execution_count": null,
      "outputs": []
    },
    {
      "cell_type": "code",
      "metadata": {
        "id": "jKbjRaoeSamr"
      },
      "source": [
        "            __PIECEWISE_STEP = (MAX_LR - END_LR)/NUM_BOUNDARIES\n",
        "            __VALUES = list(np.arange(MAX_LR-__PIECEWISE_STEP,END_LR,__PIECEWISE_STEP))valid_df[['query_id','passage','question','answers_spans','predicted','EM','F1']].sample(10)"
      ],
      "execution_count": null,
      "outputs": []
    },
    {
      "cell_type": "code",
      "metadata": {
        "id": "t_BmeVI5Samr"
      },
      "source": [
        "def print_example(query_id,df):\n",
        "    print('question: ',df.loc[df.query_id == query_id,'question'].iloc[0])\n",
        "    print('passage: ',df.loc[df.query_id == query_id,'passage'].iloc[0])\n",
        "    print('\\npredicted answer: ',df.loc[df.query_id == query_id,'predicted'].iloc[0])\n",
        "    print('True answers: ',df.loc[df.query_id == query_id,'answers_spans'].iloc[0])\n",
        "    print('F1 score: ',df.loc[df.query_id == query_id,'F1'].iloc[0])\n",
        "    print('EM score: ',df.loc[df.query_id == query_id,'EM'].iloc[0])\n",
        "    \n",
        "    \n",
        "query_id = '0686d1f9-4a8e-4031-b665-49d425afb777'\n",
        "print_example(query_id,valid_df)"
      ],
      "execution_count": null,
      "outputs": []
    },
    {
      "cell_type": "code",
      "metadata": {
        "id": "JgoF5TXfSamr"
      },
      "source": [
        "query_id = '86dd1721-6bf4-45fa-b01e-de47e4f7301d'\n",
        "print_example(query_id,valid_df)"
      ],
      "execution_count": null,
      "outputs": []
    },
    {
      "cell_type": "code",
      "metadata": {
        "id": "I9Hytsj2Sams"
      },
      "source": [
        "query_id = 'ad19857f-cd76-4d01-ba29-1a589cfee053'\n",
        "print_example(query_id,valid_df)"
      ],
      "execution_count": null,
      "outputs": []
    },
    {
      "cell_type": "code",
      "metadata": {
        "id": "ws2ChdQbSams"
      },
      "source": [
        "model.summary()"
      ],
      "execution_count": null,
      "outputs": []
    },
    {
      "cell_type": "code",
      "metadata": {
        "id": "qAoN9D0gSams"
      },
      "source": [
        ""
      ],
      "execution_count": null,
      "outputs": []
    },
    {
      "cell_type": "code",
      "metadata": {
        "id": "cxwcC4XvSams"
      },
      "source": [
        ""
      ],
      "execution_count": null,
      "outputs": []
    },
    {
      "cell_type": "code",
      "metadata": {
        "id": "kaLAYAscSams"
      },
      "source": [
        ""
      ],
      "execution_count": null,
      "outputs": []
    },
    {
      "cell_type": "code",
      "metadata": {
        "id": "LTAHYYSdSams"
      },
      "source": [
        ""
      ],
      "execution_count": null,
      "outputs": []
    },
    {
      "cell_type": "code",
      "metadata": {
        "id": "zZtM8mIuSams"
      },
      "source": [
        ""
      ],
      "execution_count": null,
      "outputs": []
    },
    {
      "cell_type": "code",
      "metadata": {
        "id": "GepQY8qgSams"
      },
      "source": [
        ""
      ],
      "execution_count": null,
      "outputs": []
    },
    {
      "cell_type": "markdown",
      "metadata": {
        "id": "aiMekPrISams"
      },
      "source": [
        "# Cells to explore the model a bit\n",
        "\n",
        "(make these raw cells into code cells to explore)"
      ]
    },
    {
      "cell_type": "raw",
      "metadata": {
        "id": "yMewpOnvSams"
      },
      "source": [
        "print('embeddings layer: ', model.layers[0].weights[0].name)\n",
        "print('shape: ',model.layers[0].weights[0].shape)"
      ]
    },
    {
      "cell_type": "raw",
      "metadata": {
        "id": "0CPfJD4QSamt"
      },
      "source": [
        "for x in range(len(model.layers[2].weights)):\n",
        "    weights = model.layers[2].weights[x]\n",
        "    print('layer: ',x)\n",
        "    print('   - '+weights.name)\n",
        "    print('shape: ',weights.shape)\n",
        "    print()"
      ]
    },
    {
      "cell_type": "raw",
      "metadata": {
        "id": "ueB23-hNSamt"
      },
      "source": [
        "for x in range(len(model.layers[1].weights)):\n",
        "    weights = model.layers[1].weights[x]\n",
        "    print('layer: ',x)\n",
        "    print('   - '+weights.name)\n",
        "    print('shape: ',weights.shape)\n",
        "    print()"
      ]
    },
    {
      "cell_type": "raw",
      "metadata": {
        "id": "HH9f3oA-Samt"
      },
      "source": [
        "len(model.layers[1].weights)"
      ]
    },
    {
      "cell_type": "raw",
      "metadata": {
        "id": "Uk3nFlB4Samt"
      },
      "source": [
        "model.layers[0].weights"
      ]
    },
    {
      "cell_type": "raw",
      "metadata": {
        "id": "hKhReDNxSamt"
      },
      "source": [
        ""
      ]
    },
    {
      "cell_type": "raw",
      "metadata": {
        "id": "xjYIIzT8Samt"
      },
      "source": [
        "for item in tf_valid_ds:\n",
        "    inputs = item\n",
        "    outputs = model(inputs)\n",
        "    break"
      ]
    },
    {
      "cell_type": "raw",
      "metadata": {
        "id": "2BGvOBsrSamt"
      },
      "source": [
        "inputs.keys()"
      ]
    },
    {
      "cell_type": "raw",
      "metadata": {
        "id": "S6FKsphNSamt"
      },
      "source": [
        "type(outputs)"
      ]
    },
    {
      "cell_type": "raw",
      "metadata": {
        "id": "MwhDfHSZSamt"
      },
      "source": [
        "outputs.keys()"
      ]
    },
    {
      "cell_type": "raw",
      "metadata": {
        "id": "W422WXSvSamu"
      },
      "source": [
        "tokenizer.vocab_size"
      ]
    },
    {
      "cell_type": "raw",
      "metadata": {
        "id": "9NwWnVWvSamu"
      },
      "source": [
        "outputs['logits']"
      ]
    },
    {
      "cell_type": "raw",
      "metadata": {
        "id": "5xd1edNdSamu"
      },
      "source": [
        ""
      ]
    }
  ]
}