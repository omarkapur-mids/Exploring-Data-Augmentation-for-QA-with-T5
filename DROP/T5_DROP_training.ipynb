{
 "cells": [
  {
   "cell_type": "code",
   "execution_count": 1,
   "metadata": {
    "tags": []
   },
   "outputs": [],
   "source": [
    "#decide which size of T5 to use\n",
    "t5_model = 't5-small'\n",
    "#choose whether to save the model that will be trained\n",
    "save_model = True\n",
    "VERSION=\"drop-60epochs-v0\"\n",
    "#choose whether to load the weights of a previously trained model\n",
    "load_model = False\n",
    "load_version = 'drop-v0'\n",
    "#choose whether to train the model\n",
    "train_model = True\n",
    "#choose whether to use a learning rate scheduler with warm-up & decay\n",
    "use_learning_schedule = True\n",
    "\n",
    "#choose whether to predict on train and/or dev sets\n",
    "predict_train = False\n",
    "predict_dev = True\n",
    "#choose whether to save prediction results to pickle folder\n",
    "save_results = True\n",
    "\n",
    "#choose whether to run a toy size dataset\n",
    "run_toy = False\n",
    "toy_size = 1000\n",
    "#choose number of epochs\n",
    "epochs = 60\n",
    "#choose batch size\n",
    "batch_size = 8\n",
    "#choose dataset to use\n",
    "dataset='drop' #acceptable values: drop, squad, hotpot_qa, augmented\n",
    "\n",
    "#additional parameters\n",
    "encoder_max_len = 512 #250\n",
    "decoder_max_len = 54\n",
    "buffer_size = 1000"
   ]
  },
  {
   "cell_type": "markdown",
   "metadata": {
    "id": "47S35TVwgIeG",
    "tags": []
   },
   "source": [
    "# Using T5 on DROP"
   ]
  },
  {
   "cell_type": "markdown",
   "metadata": {
    "id": "uUEAtP-egIeI"
   },
   "source": [
    "#### Package installs"
   ]
  },
  {
   "cell_type": "raw",
   "metadata": {
    "id": "xKtbsamsidKs"
   },
   "source": [
    "!pip install --quiet transformers\n",
    "!pip install --quiet sentencepiece\n",
    "!pip install --quiet wget\n",
    "!pip install --quiet datasets\n",
    "#!pip install --quiet ipywidgets\n",
    "#!pip install --quiet tensorflow\n"
   ]
  },
  {
   "cell_type": "markdown",
   "metadata": {
    "id": "vAC1x24qgIeJ"
   },
   "source": [
    "#### check gpu"
   ]
  },
  {
   "cell_type": "code",
   "execution_count": 2,
   "metadata": {
    "colab": {
     "base_uri": "https://localhost:8080/"
    },
    "id": "pyexkfSDij_3",
    "outputId": "6f764bbb-097b-4fc0-dd92-bfe8b5a65292"
   },
   "outputs": [
    {
     "name": "stdout",
     "output_type": "stream",
     "text": [
      "Wed Jul 21 21:44:36 2021       \n",
      "+-----------------------------------------------------------------------------+\n",
      "| NVIDIA-SMI 460.80       Driver Version: 460.80       CUDA Version: 11.2     |\n",
      "|-------------------------------+----------------------+----------------------+\n",
      "| GPU  Name        Persistence-M| Bus-Id        Disp.A | Volatile Uncorr. ECC |\n",
      "| Fan  Temp  Perf  Pwr:Usage/Cap|         Memory-Usage | GPU-Util  Compute M. |\n",
      "|                               |                      |               MIG M. |\n",
      "|===============================+======================+======================|\n",
      "|   0  GeForce RTX 3090    Off  | 00000000:01:00.0  On |                  N/A |\n",
      "|  0%   55C    P8    49W / 420W |    570MiB / 24268MiB |      0%      Default |\n",
      "|                               |                      |                  N/A |\n",
      "+-------------------------------+----------------------+----------------------+\n",
      "                                                                               \n",
      "+-----------------------------------------------------------------------------+\n",
      "| Processes:                                                                  |\n",
      "|  GPU   GI   CI        PID   Type   Process name                  GPU Memory |\n",
      "|        ID   ID                                                   Usage      |\n",
      "|=============================================================================|\n",
      "|    0   N/A  N/A      1374      G   /usr/lib/xorg/Xorg                 59MiB |\n",
      "|    0   N/A  N/A      2176      G   /usr/lib/xorg/Xorg                267MiB |\n",
      "|    0   N/A  N/A      2365      G   /usr/bin/gnome-shell               47MiB |\n",
      "|    0   N/A  N/A      6221      G   ...AAAAAAAAA= --shared-files       27MiB |\n",
      "|    0   N/A  N/A    804308      G   ...AAAAAAAAA= --shared-files      144MiB |\n",
      "+-----------------------------------------------------------------------------+\n"
     ]
    }
   ],
   "source": [
    "!nvidia-smi"
   ]
  },
  {
   "cell_type": "markdown",
   "metadata": {
    "id": "y2EQCkymgIeK"
   },
   "source": [
    "#### Download drop_eval module and set directories\n",
    "\n",
    "https://github.com/allenai/allennlp-reading-comprehension/blob/master/allennlp_rc/eval/drop_eval.py"
   ]
  },
  {
   "cell_type": "code",
   "execution_count": 3,
   "metadata": {},
   "outputs": [
    {
     "name": "stdout",
     "output_type": "stream",
     "text": [
      "--2021-07-21 21:44:37--  https://raw.githubusercontent.com/allenai/allennlp-reading-comprehension/master/allennlp_rc/eval/drop_eval.py\n",
      "Resolving raw.githubusercontent.com (raw.githubusercontent.com)... 185.199.108.133, 185.199.109.133, 185.199.110.133, ...\n",
      "Connecting to raw.githubusercontent.com (raw.githubusercontent.com)|185.199.108.133|:443... connected.\n",
      "HTTP request sent, awaiting response... 200 OK\n",
      "Length: 11222 (11K) [text/plain]\n",
      "Saving to: ‘drop_eval.py’\n",
      "\n",
      "drop_eval.py        100%[===================>]  10.96K  --.-KB/s    in 0.004s  \n",
      "\n",
      "2021-07-21 21:44:37 (2.71 MB/s) - ‘drop_eval.py’ saved [11222/11222]\n",
      "\n"
     ]
    }
   ],
   "source": [
    "!wget https://raw.githubusercontent.com/allenai/allennlp-reading-comprehension/master/allennlp_rc/eval/drop_eval.py -O drop_eval.py\n",
    "import os\n",
    "def create_dir(d,verbose=False):\n",
    "    if not os.path.exists(d):\n",
    "        !mkdir -p $d    \n",
    "        if verbose: print(f'created folder for {d}')\n",
    "    else:\n",
    "        if verbose: print(f'using existing folder for {d}\\nCAUTION -- this run may overwrite existing data!')\n",
    "    \n",
    "#set directories\n",
    "root_dir = './data'\n",
    "data_dir = f\"./data/{VERSION}/{t5_model}\"\n",
    "augmented_dir = f\"{root_dir}/augmented-data\"\n",
    "results_dir = f\"{data_dir}/results/\"\n",
    "log_dir = f\"{data_dir}/experiments/logs\"\n",
    "save_dir = f\"{data_dir}/experiments/models\"\n",
    "load_dir = f\"{root_dir}/{load_version}/{t5_model}/experiments/models\"\n",
    "\n",
    "create_dir(root_dir)\n",
    "create_dir(data_dir)\n",
    "create_dir(augmented_dir)\n",
    "create_dir(results_dir)\n",
    "create_dir(log_dir)\n",
    "create_dir(save_dir)\n",
    "\n",
    "if load_model:\n",
    "    assert os.path.exists(load_dir), 'Error - trying to load a model that doesnt exist'"
   ]
  },
  {
   "cell_type": "markdown",
   "metadata": {
    "id": "j-ADai1tgIeL"
   },
   "source": [
    "#### load packages"
   ]
  },
  {
   "cell_type": "code",
   "execution_count": 4,
   "metadata": {
    "id": "4w1GhOTfgIeM"
   },
   "outputs": [
    {
     "name": "stderr",
     "output_type": "stream",
     "text": [
      "2021-07-21 21:44:38.346529: I tensorflow/stream_executor/platform/default/dso_loader.cc:53] Successfully opened dynamic library libcudart.so.11.0\n"
     ]
    },
    {
     "name": "stdout",
     "output_type": "stream",
     "text": [
      "nvcc: NVIDIA (R) Cuda compiler driver\n",
      "Copyright (c) 2005-2021 NVIDIA Corporation\n",
      "Built on Wed_Jun__2_19:15:15_PDT_2021\n",
      "Cuda compilation tools, release 11.4, V11.4.48\n",
      "Build cuda_11.4.r11.4/compiler.30033411_0\n"
     ]
    },
    {
     "name": "stderr",
     "output_type": "stream",
     "text": [
      "2021-07-21 21:44:39.568672: I tensorflow/stream_executor/platform/default/dso_loader.cc:53] Successfully opened dynamic library libcuda.so.1\n",
      "2021-07-21 21:44:39.580904: I tensorflow/stream_executor/cuda/cuda_gpu_executor.cc:937] successful NUMA node read from SysFS had negative value (-1), but there must be at least one NUMA node, so returning NUMA node zero\n",
      "2021-07-21 21:44:39.581665: I tensorflow/core/common_runtime/gpu/gpu_device.cc:1733] Found device 0 with properties: \n",
      "pciBusID: 0000:01:00.0 name: GeForce RTX 3090 computeCapability: 8.6\n",
      "coreClock: 1.8GHz coreCount: 82 deviceMemorySize: 23.70GiB deviceMemoryBandwidth: 871.81GiB/s\n",
      "2021-07-21 21:44:39.581683: I tensorflow/stream_executor/platform/default/dso_loader.cc:53] Successfully opened dynamic library libcudart.so.11.0\n",
      "2021-07-21 21:44:39.583875: I tensorflow/stream_executor/platform/default/dso_loader.cc:53] Successfully opened dynamic library libcublas.so.11\n",
      "2021-07-21 21:44:39.583904: I tensorflow/stream_executor/platform/default/dso_loader.cc:53] Successfully opened dynamic library libcublasLt.so.11\n",
      "2021-07-21 21:44:39.585045: I tensorflow/stream_executor/platform/default/dso_loader.cc:53] Successfully opened dynamic library libcufft.so.10\n",
      "2021-07-21 21:44:39.585190: I tensorflow/stream_executor/platform/default/dso_loader.cc:53] Successfully opened dynamic library libcurand.so.10\n",
      "2021-07-21 21:44:39.585465: I tensorflow/stream_executor/platform/default/dso_loader.cc:53] Successfully opened dynamic library libcusolver.so.11\n",
      "2021-07-21 21:44:39.585939: I tensorflow/stream_executor/platform/default/dso_loader.cc:53] Successfully opened dynamic library libcusparse.so.11\n",
      "2021-07-21 21:44:39.586028: I tensorflow/stream_executor/platform/default/dso_loader.cc:53] Successfully opened dynamic library libcudnn.so.8\n",
      "2021-07-21 21:44:39.586097: I tensorflow/stream_executor/cuda/cuda_gpu_executor.cc:937] successful NUMA node read from SysFS had negative value (-1), but there must be at least one NUMA node, so returning NUMA node zero\n",
      "2021-07-21 21:44:39.586868: I tensorflow/stream_executor/cuda/cuda_gpu_executor.cc:937] successful NUMA node read from SysFS had negative value (-1), but there must be at least one NUMA node, so returning NUMA node zero\n",
      "2021-07-21 21:44:39.587578: I tensorflow/core/common_runtime/gpu/gpu_device.cc:1871] Adding visible gpu devices: 0\n"
     ]
    }
   ],
   "source": [
    "# import warnings\n",
    "# warnings.filterwarnings('ignore')\n",
    "# warnings.simplefilter('ignore')\n",
    "\n",
    "\n",
    "# import logging\n",
    "# logging.getLogger(\"tensorflow\").setLevel(logging.ERROR)\n",
    "# logging.getLogger(\"tensorflow\").addHandler(logging.NullHandler(logging.ERROR))\n",
    "from transformers import T5Tokenizer, TFT5ForConditionalGeneration\n",
    "import tensorflow as tf\n",
    "os.environ['TF_CPP_MIN_LOG_LEVEL'] = '3'\n",
    "import tensorflow.keras as keras\n",
    "import drop_eval\n",
    "import pandas as pd\n",
    "import numpy as np\n",
    "import json\n",
    "from datasets import Dataset, load_dataset\n",
    "import tensorflow_datasets as tfds\n",
    "from sklearn.model_selection import train_test_split\n",
    "import matplotlib.pyplot as plt\n",
    "import datetime\n",
    "import re\n",
    "\n",
    "from concurrent.futures import ThreadPoolExecutor, as_completed\n",
    "from tqdm.notebook import tqdm,trange\n",
    "\n",
    "%load_ext tensorboard\n",
    "\n",
    "assert len(tf.config.list_physical_devices(\"GPU\")) > 0, \"No GPU found by Tensorflow\"\n",
    "\n",
    "if(run_toy): print(f'Running on {toy_size:,} records for development run')\n",
    "    \n",
    "!nvcc -V"
   ]
  },
  {
   "cell_type": "markdown",
   "metadata": {
    "id": "5goXuHR1gIeM"
   },
   "source": [
    "#### Define model class"
   ]
  },
  {
   "cell_type": "code",
   "execution_count": 5,
   "metadata": {
    "id": "XdP6lcFegIeM",
    "tags": []
   },
   "outputs": [],
   "source": [
    "\n",
    "class T5forDrop(TFT5ForConditionalGeneration):\n",
    "    def __init__(self, *args, log_dir=None, cache_dir= None, **kwargs):\n",
    "        super().__init__(*args, **kwargs)\n",
    "        self.loss_tracker= tf.keras.metrics.Mean(name='loss')\n",
    "        self.F1_tracker= tf.keras.metrics.Mean(name='F1')\n",
    "        self.EM_tracker= tf.keras.metrics.Mean(name='EM')        \n",
    "\n",
    "    \n",
    "    @tf.function\n",
    "    def train_step(self, data):\n",
    "        x = data\n",
    "        y_true = x[\"labels\"]\n",
    "        with tf.GradientTape() as tape:\n",
    "            outputs = self(x, training=True)\n",
    "            logits = outputs['logits']\n",
    "            y_pred = tf.math.argmax(tf.nn.softmax(logits,axis=2), axis = 2, output_type=tf.int32)\n",
    "            loss = tf.reduce_mean(outputs['loss'])            \n",
    "            grads = tape.gradient(loss, self.trainable_variables)\n",
    "\n",
    "        # Calculate F1 and EM Metrics\n",
    "        # Create a word mask to not count the padding/sentence tokens\n",
    "        recall_word_mask = tf.math.logical_and(\n",
    "                    tf.math.not_equal(y_true,0)\n",
    "                    ,tf.math.not_equal(y_true,1))\n",
    "\n",
    "        precision_word_mask = tf.math.logical_and(\n",
    "                    tf.math.not_equal(y_pred,0)\n",
    "                    ,tf.math.not_equal(y_pred,1))\n",
    "\n",
    "        # match the tokens\n",
    "        match_token = tf.math.equal(y_true,y_pred)\n",
    "        recall_match = tf.math.logical_and(match_token,recall_word_mask) \n",
    "        precision_match = tf.math.logical_and(match_token,precision_word_mask) \n",
    "\n",
    "        # calculate score\n",
    "        precision_array = tf.math.reduce_sum(tf.cast(precision_match, tf.int32) ,axis=1)/tf.math.reduce_sum(tf.cast(precision_word_mask, tf.int32) ,axis=1)\n",
    "        recall_array = tf.math.reduce_sum(tf.cast(recall_match, tf.int32) ,axis=1)/tf.math.reduce_sum(tf.cast(recall_word_mask, tf.int32) ,axis=1)\n",
    "\n",
    "        P = tf.math.reduce_mean(precision_array)\n",
    "        R = tf.math.reduce_mean(recall_array)\n",
    "\n",
    "        EM = tf.math.reduce_mean(\n",
    "            tf.cast(tf.math.logical_and(\n",
    "                    tf.math.equal(precision_array,1)\n",
    "                    ,tf.math.equal(recall_array,1)), tf.int32))\n",
    "        F1 = 2*(P*R)/(P+R)\n",
    "        \n",
    "        '''\n",
    "        Note, since FP and FN are the same, \n",
    "        the F1 score is the same as Precision, Recall, \n",
    "        which is the average \"match\" score\n",
    "        '''\n",
    "\n",
    "        y_true = tf.reshape(y_true, [-1, 1])\n",
    "\n",
    "        self.optimizer.apply_gradients(zip(grads, self.trainable_variables))\n",
    "        lr = self.optimizer._decayed_lr(tf.float32)\n",
    "\n",
    "        self.loss_tracker.update_state(loss)\n",
    "        self.F1_tracker.update_state(F1)   \n",
    "        self.EM_tracker.update_state(EM)           \n",
    "        self.compiled_metrics.update_state(y_true, logits)\n",
    "        metrics = {m.name: m.result() for m in self.metrics}\n",
    "        metrics.update({'lr': lr})\n",
    "        \n",
    "        return metrics\n",
    "\n",
    "    def test_step(self, data):\n",
    "        x = data\n",
    "        y_true = x[\"labels\"]\n",
    "        outputs = self(x, training=True)\n",
    "        logits = outputs['logits']\n",
    "        y_pred = tf.math.argmax(tf.nn.softmax(logits,axis=2), axis = 2, output_type=tf.int32)\n",
    "        loss = tf.reduce_mean(outputs['loss'])      \n",
    "        \n",
    "        # Calculate F1 and EM Metrics\n",
    "        # Create a word mask to not count the padding/sentence tokens\n",
    "        recall_word_mask = tf.math.logical_and(\n",
    "                    tf.math.not_equal(y_true,0)\n",
    "                    ,tf.math.not_equal(y_true,1))\n",
    "\n",
    "        precision_word_mask = tf.math.logical_and(\n",
    "                    tf.math.not_equal(y_pred,0)\n",
    "                    ,tf.math.not_equal(y_pred,1))\n",
    "\n",
    "        # match the tokens\n",
    "        match_token = tf.math.equal(y_true,y_pred)\n",
    "        recall_match = tf.math.logical_and(match_token,recall_word_mask) \n",
    "        precision_match = tf.math.logical_and(match_token,precision_word_mask) \n",
    "\n",
    "        # calculate score\n",
    "        precision_array = tf.math.reduce_sum(tf.cast(precision_match, tf.int32) ,axis=1)/tf.math.reduce_sum(tf.cast(precision_word_mask, tf.int32) ,axis=1)\n",
    "        recall_array = tf.math.reduce_sum(tf.cast(recall_match, tf.int32) ,axis=1)/tf.math.reduce_sum(tf.cast(recall_word_mask, tf.int32) ,axis=1)\n",
    "\n",
    "        P = tf.math.reduce_mean(precision_array)\n",
    "        R = tf.math.reduce_mean(recall_array)\n",
    "\n",
    "        EM = tf.math.reduce_mean(\n",
    "            tf.cast(tf.math.logical_and(\n",
    "                    tf.math.equal(precision_array,1)\n",
    "                    ,tf.math.equal(recall_array,1)), tf.int32))\n",
    "        F1 = 2*(P*R)/(P+R)\n",
    "\n",
    "        y_true = tf.reshape(y_true, [-1, 1])\n",
    "\n",
    "        self.loss_tracker.update_state(loss)\n",
    "        self.F1_tracker.update_state(F1)   \n",
    "        self.EM_tracker.update_state(EM)           \n",
    "        self.compiled_metrics.update_state(y_true, logits)\n",
    "        metrics = {m.name: m.result() for m in self.metrics}        \n",
    "        return metrics"
   ]
  },
  {
   "cell_type": "markdown",
   "metadata": {
    "id": "esxfDrXO66Bz"
   },
   "source": [
    "#### Import model and tokenizer"
   ]
  },
  {
   "cell_type": "code",
   "execution_count": 6,
   "metadata": {
    "colab": {
     "base_uri": "https://localhost:8080/"
    },
    "id": "r08M8aqE65_M",
    "outputId": "6fa4e62d-e0a1-419d-f167-370905df422c"
   },
   "outputs": [
    {
     "name": "stderr",
     "output_type": "stream",
     "text": [
      "2021-07-21 21:44:41.668406: I tensorflow/core/platform/cpu_feature_guard.cc:142] This TensorFlow binary is optimized with oneAPI Deep Neural Network Library (oneDNN) to use the following CPU instructions in performance-critical operations:  AVX2 AVX512F FMA\n",
      "To enable them in other operations, rebuild TensorFlow with the appropriate compiler flags.\n",
      "2021-07-21 21:44:41.669987: I tensorflow/stream_executor/cuda/cuda_gpu_executor.cc:937] successful NUMA node read from SysFS had negative value (-1), but there must be at least one NUMA node, so returning NUMA node zero\n",
      "2021-07-21 21:44:41.672450: I tensorflow/core/common_runtime/gpu/gpu_device.cc:1733] Found device 0 with properties: \n",
      "pciBusID: 0000:01:00.0 name: GeForce RTX 3090 computeCapability: 8.6\n",
      "coreClock: 1.8GHz coreCount: 82 deviceMemorySize: 23.70GiB deviceMemoryBandwidth: 871.81GiB/s\n",
      "2021-07-21 21:44:41.672614: I tensorflow/stream_executor/cuda/cuda_gpu_executor.cc:937] successful NUMA node read from SysFS had negative value (-1), but there must be at least one NUMA node, so returning NUMA node zero\n",
      "2021-07-21 21:44:41.674557: I tensorflow/stream_executor/cuda/cuda_gpu_executor.cc:937] successful NUMA node read from SysFS had negative value (-1), but there must be at least one NUMA node, so returning NUMA node zero\n",
      "2021-07-21 21:44:41.676217: I tensorflow/core/common_runtime/gpu/gpu_device.cc:1871] Adding visible gpu devices: 0\n",
      "2021-07-21 21:44:41.676257: I tensorflow/stream_executor/platform/default/dso_loader.cc:53] Successfully opened dynamic library libcudart.so.11.0\n",
      "2021-07-21 21:44:41.983035: I tensorflow/core/common_runtime/gpu/gpu_device.cc:1258] Device interconnect StreamExecutor with strength 1 edge matrix:\n",
      "2021-07-21 21:44:41.983061: I tensorflow/core/common_runtime/gpu/gpu_device.cc:1264]      0 \n",
      "2021-07-21 21:44:41.983065: I tensorflow/core/common_runtime/gpu/gpu_device.cc:1277] 0:   N \n",
      "2021-07-21 21:44:41.983226: I tensorflow/stream_executor/cuda/cuda_gpu_executor.cc:937] successful NUMA node read from SysFS had negative value (-1), but there must be at least one NUMA node, so returning NUMA node zero\n",
      "2021-07-21 21:44:41.984041: I tensorflow/stream_executor/cuda/cuda_gpu_executor.cc:937] successful NUMA node read from SysFS had negative value (-1), but there must be at least one NUMA node, so returning NUMA node zero\n",
      "2021-07-21 21:44:41.984793: I tensorflow/stream_executor/cuda/cuda_gpu_executor.cc:937] successful NUMA node read from SysFS had negative value (-1), but there must be at least one NUMA node, so returning NUMA node zero\n",
      "2021-07-21 21:44:41.985494: I tensorflow/core/common_runtime/gpu/gpu_device.cc:1418] Created TensorFlow device (/job:localhost/replica:0/task:0/device:GPU:0 with 21736 MB memory) -> physical GPU (device: 0, name: GeForce RTX 3090, pci bus id: 0000:01:00.0, compute capability: 8.6)\n",
      "2021-07-21 21:44:42.156903: W tensorflow/python/util/util.cc:348] Sets are not currently considered sequences, but this may change in the future, so consider avoiding using them.\n",
      "2021-07-21 21:44:42.228903: I tensorflow/stream_executor/platform/default/dso_loader.cc:53] Successfully opened dynamic library libcublas.so.11\n",
      "2021-07-21 21:44:42.683370: I tensorflow/stream_executor/platform/default/dso_loader.cc:53] Successfully opened dynamic library libcublasLt.so.11\n",
      "2021-07-21 21:44:42.683407: I tensorflow/stream_executor/cuda/cuda_blas.cc:1838] TensorFloat-32 will be used for the matrix multiplication. This will only be logged once.\n",
      "All model checkpoint layers were used when initializing T5forDrop.\n",
      "\n",
      "All the layers of T5forDrop were initialized from the model checkpoint at t5-small.\n",
      "If your task is similar to the task the model of the checkpoint was trained on, you can already use T5forDrop for predictions without further training.\n"
     ]
    }
   ],
   "source": [
    "tokenizer = T5Tokenizer.from_pretrained(t5_model)\n",
    "#replace numbers with special tokens\n",
    "numbers = {'additional_special_tokens':['1','2','3','4','5','6','7','8','9','0','<ss>','<sv>']}\n",
    "num_tokens_added = tokenizer.add_special_tokens(numbers)\n",
    "\n",
    "\n",
    "model = T5forDrop.from_pretrained(t5_model)"
   ]
  },
  {
   "cell_type": "markdown",
   "metadata": {
    "id": "WIt7bbI8gIeN"
   },
   "source": [
    "#### Import data"
   ]
  },
  {
   "cell_type": "code",
   "execution_count": 7,
   "metadata": {},
   "outputs": [],
   "source": [
    "def make_toy(dataset,toy_size=1000):\n",
    "    df = dataset.to_pandas()\n",
    "    df = df.head(toy_size)\n",
    "    return Dataset.from_pandas(df)"
   ]
  },
  {
   "cell_type": "code",
   "execution_count": 8,
   "metadata": {
    "colab": {
     "base_uri": "https://localhost:8080/"
    },
    "id": "EaxF09BQgIeO",
    "outputId": "7c233bba-6248-40ef-b87f-6fb31d5a42df"
   },
   "outputs": [
    {
     "name": "stderr",
     "output_type": "stream",
     "text": [
      "Using custom data configuration default\n",
      "Reusing dataset drop (/home/omar/.cache/huggingface/datasets/drop/default/0.1.0/393cc04823935c1302a6a7e380cdbe9f452d37858ea276409787c983748eae25)\n",
      "Using custom data configuration default\n",
      "Reusing dataset drop (/home/omar/.cache/huggingface/datasets/drop/default/0.1.0/393cc04823935c1302a6a7e380cdbe9f452d37858ea276409787c983748eae25)\n"
     ]
    },
    {
     "name": "stdout",
     "output_type": "stream",
     "text": [
      "Dataset features:  {'section_id': Value(dtype='string', id=None), 'query_id': Value(dtype='string', id=None), 'passage': Value(dtype='string', id=None), 'question': Value(dtype='string', id=None), 'answers_spans': Sequence(feature={'spans': Value(dtype='string', id=None), 'types': Value(dtype='string', id=None)}, length=-1, id=None)}\n",
      "\n",
      "\n",
      "Example data from the dataset: \n",
      " {'section_id': 'nfl_1184', 'query_id': 'f37e81fa-ef7b-4583-b671-762fc433faa9', 'passage': \" Hoping to rebound from their loss to the Patriots, the Raiders stayed at home for a Week 16 duel with the Houston Texans.  Oakland would get the early lead in the first quarter as quarterback JaMarcus Russell completed a 20-yard touchdown pass to rookie wide receiver Chaz Schilens.  The Texans would respond with fullback Vonta Leach getting a 1-yard touchdown run, yet the Raiders would answer with kicker Sebastian Janikowski getting a 33-yard and a 30-yard field goal.  Houston would tie the game in the second quarter with kicker Kris Brown getting a 53-yard and a 24-yard field goal. Oakland would take the lead in the third quarter with wide receiver Johnnie Lee Higgins catching a 29-yard touchdown pass from Russell, followed up by an 80-yard punt return for a touchdown.  The Texans tried to rally in the fourth quarter as Brown nailed a 40-yard field goal, yet the Raiders' defense would shut down any possible attempt.\", 'question': 'Who scored the first touchdown of the game?', 'answers_spans': {'spans': ['Chaz Schilens', 'JaMarcus Russell'], 'types': ['span', 'span']}}\n"
     ]
    }
   ],
   "source": [
    "if dataset == \"hotpot_qa\":\n",
    "    train_dataset_full = load_dataset(dataset,'distractor', split='train')\n",
    "    valid_dataset_full = load_dataset(dataset,'distractor', split='validation')\n",
    "elif dataset == 'augmented':\n",
    "    full_df = pd.read_pickle(augmented_dir+'/augmented_data.pkl')\n",
    "    train_dataset_full, valid_dataset_full = train_test_split(full_df,test_size=0.2)\n",
    "    train_dataset_full = Dataset.from_pandas(train_dataset_full)\n",
    "    valid_dataset_full = Dataset.from_pandas(valid_dataset_full)\n",
    "    \n",
    "else:\n",
    "    train_dataset_full = load_dataset(dataset, split='train')\n",
    "    valid_dataset_full = load_dataset(dataset, split='validation')\n",
    "\n",
    "print('Dataset features: ',train_dataset_full.features)\n",
    "\n",
    "#reduce data to toy size if run_toy flag is set\n",
    "if(run_toy):\n",
    "    train_dataset = make_toy(train_dataset_full)\n",
    "    valid_dataset = make_toy(valid_dataset_full)\n",
    "\n",
    "else:\n",
    "    train_dataset = train_dataset_full\n",
    "    valid_dataset = valid_dataset_full\n",
    "    \n",
    "#check out one record\n",
    "data = next(iter(valid_dataset))\n",
    "print(\"\\n\\nExample data from the dataset: \\n\", data)"
   ]
  },
  {
   "cell_type": "markdown",
   "metadata": {
    "id": "Jo9sZK0bgIeS"
   },
   "source": [
    "#### set parameters"
   ]
  },
  {
   "cell_type": "code",
   "execution_count": 9,
   "metadata": {},
   "outputs": [
    {
     "name": "stdout",
     "output_type": "stream",
     "text": [
      "Training datset size: 77,400 records\n",
      "Validation datset size: 9,535 records\n",
      "Batch size: 8\n",
      "Total Steps: 9,675\n",
      "Total Validation Steps: 1,192\n"
     ]
    }
   ],
   "source": [
    "steps = int(np.ceil(len(train_dataset)/batch_size))\n",
    "valid_steps = int(np.ceil(len(valid_dataset)/batch_size))\n",
    "print('Training datset size: {:,} records'.format(len(train_dataset)))\n",
    "print('Validation datset size: {:,} records'.format(len(valid_dataset)))\n",
    "print('Batch size: {}'.format(batch_size))\n",
    "print(\"Total Steps: {:,}\".format(steps))\n",
    "print(\"Total Validation Steps: {:,}\".format(valid_steps))"
   ]
  },
  {
   "cell_type": "markdown",
   "metadata": {
    "id": "AZCcTPA0gIeS"
   },
   "source": [
    "#### Preprocess data"
   ]
  },
  {
   "cell_type": "code",
   "execution_count": 10,
   "metadata": {
    "id": "GnCSjtGwgIeT"
   },
   "outputs": [],
   "source": [
    "def encode(example,\n",
    "           encoder_max_len=encoder_max_len, decoder_max_len=decoder_max_len):\n",
    "  \n",
    "    if dataset == 'drop':\n",
    "        context = example['passage']\n",
    "        question = example['question']\n",
    "\n",
    "        answer = example['answers_spans']['spans']\n",
    "        answer_type = example['answers_spans']['types']\n",
    "    elif dataset == 'squad':\n",
    "        context = example['context']\n",
    "        question = example['question']\n",
    "        \n",
    "        answer = example['answers']['text']\n",
    "        answer_type = 'text'\n",
    "    elif dataset == 'hotpot_qa':\n",
    "        context = ''\n",
    "        for sentence in example[\"context\"][\"sentences\"]:\n",
    "            context += \" \".join(sentence) + \" \"\n",
    "        question = example['question']\n",
    "        \n",
    "        answer = [example['answer']]\n",
    "        answer_type = 'text'    \n",
    "    elif dataset == 'augmented':\n",
    "        context = example['context']\n",
    "        question = example['question']\n",
    "        answer = [example['answer']]\n",
    "        answer_type = example['qtype']\n",
    "    \n",
    "    question_plus = f\"answer_me: {str(question)}\"\n",
    "    question_plus += f\" context: {str(context)}\"\n",
    "    \n",
    "    answer_plus = ', '.join([i for i in list(answer)])\n",
    "    answer_plus = f\"{answer_plus}\"\n",
    "    \n",
    "    encoder_inputs = tokenizer(question_plus, truncation=True, \n",
    "                               return_tensors='tf', max_length=encoder_max_len,\n",
    "                              pad_to_max_length=True)\n",
    "    \n",
    "    decoder_inputs = tokenizer(answer_plus, truncation=True, \n",
    "                               return_tensors='tf', max_length=decoder_max_len,\n",
    "                              pad_to_max_length=True)\n",
    "    \n",
    "    input_ids = encoder_inputs['input_ids'][0]\n",
    "    input_attention = encoder_inputs['attention_mask'][0]\n",
    "    target_ids = decoder_inputs['input_ids'][0]\n",
    "    target_attention = decoder_inputs['attention_mask'][0]\n",
    "    \n",
    "    outputs = {'input_ids':input_ids, 'attention_mask': input_attention, \n",
    "               'labels':target_ids, 'decoder_attention_mask':target_attention,\n",
    "                }\n",
    "    return outputs\n",
    "    \n",
    "def to_tf_dataset(dataset):\n",
    "    '''convert from arrow to TF dataset'''\n",
    "    \n",
    "    columns = ['input_ids', 'attention_mask', 'labels', 'decoder_attention_mask']\n",
    "    dataset.set_format(type='tensorflow', columns=columns)\n",
    "    return_types = {'input_ids':tf.int32, 'attention_mask':tf.int32, \n",
    "                'labels':tf.int32, 'decoder_attention_mask':tf.int32,}\n",
    "    return_shapes = {'input_ids': tf.TensorShape([None]), 'attention_mask': tf.TensorShape([None]), \n",
    "                  'labels': tf.TensorShape([None]), 'decoder_attention_mask':tf.TensorShape([None]),}\n",
    "    ds = tf.data.Dataset.from_generator(lambda : dataset, return_types, return_shapes)\n",
    "    return ds\n",
    "\n",
    "def create_dataset(dataset, cache_path=None, batch_size=batch_size, \n",
    "                   buffer_size= 1000, shuffling=True):\n",
    "    '''returns a padded_batch tf dataset'''\n",
    "    if cache_path is not None:\n",
    "        dataset = dataset.cache(cache_path)        \n",
    "    if shuffling:\n",
    "        dataset = dataset.shuffle(buffer_size)\n",
    "    dataset = dataset.padded_batch(batch_size)\n",
    "#     dataset = dataset.prefetch(tf.data.experimental.AUTOTUNE)\n",
    "    return dataset\n",
    "\n"
   ]
  },
  {
   "cell_type": "code",
   "execution_count": 11,
   "metadata": {
    "colab": {
     "base_uri": "https://localhost:8080/"
    },
    "id": "2xiO1_gwgIeT",
    "outputId": "193cc551-b130-4c86-f566-e3d62cd1ee84"
   },
   "outputs": [
    {
     "data": {
      "application/vnd.jupyter.widget-view+json": {
       "model_id": "2e559796bed3499f89bbbf14745f6aed",
       "version_major": 2,
       "version_minor": 0
      },
      "text/plain": [
       "HBox(children=(HTML(value=''), FloatProgress(value=0.0, max=77400.0), HTML(value='')))"
      ]
     },
     "metadata": {},
     "output_type": "display_data"
    },
    {
     "name": "stderr",
     "output_type": "stream",
     "text": [
      "/home/omar/miniconda3/lib/python3.9/site-packages/transformers/tokenization_utils_base.py:2104: FutureWarning: The `pad_to_max_length` argument is deprecated and will be removed in a future version, use `padding=True` or `padding='longest'` to pad to the longest sequence in the batch, or use `padding='max_length'` to pad to a max length. In this case, you can give a specific length with `max_length` (e.g. `max_length=45`) or leave max_length to None to pad to the maximal input size of the model (e.g. 512 for Bert).\n",
      "  warnings.warn(\n"
     ]
    },
    {
     "name": "stdout",
     "output_type": "stream",
     "text": [
      "\n"
     ]
    },
    {
     "data": {
      "application/vnd.jupyter.widget-view+json": {
       "model_id": "daddd0ee34ab40e6ae89a9f14e97eb17",
       "version_major": 2,
       "version_minor": 0
      },
      "text/plain": [
       "HBox(children=(HTML(value=''), FloatProgress(value=0.0, max=9535.0), HTML(value='')))"
      ]
     },
     "metadata": {},
     "output_type": "display_data"
    },
    {
     "name": "stdout",
     "output_type": "stream",
     "text": [
      "\n",
      "dataset schema:\n"
     ]
    },
    {
     "data": {
      "text/plain": [
       "{'input_ids': TensorSpec(shape=(None, None), dtype=tf.int32, name=None),\n",
       " 'attention_mask': TensorSpec(shape=(None, None), dtype=tf.int32, name=None),\n",
       " 'labels': TensorSpec(shape=(None, None), dtype=tf.int32, name=None),\n",
       " 'decoder_attention_mask': TensorSpec(shape=(None, None), dtype=tf.int32, name=None)}"
      ]
     },
     "execution_count": 11,
     "metadata": {},
     "output_type": "execute_result"
    }
   ],
   "source": [
    "#Preprocess data\n",
    "train_ds = train_dataset.map(encode)\n",
    "valid_ds = valid_dataset.map(encode)\n",
    "\n",
    "tf_train_ds = to_tf_dataset(train_ds)\n",
    "tf_train_ds = tf_train_ds.repeat(epochs)\n",
    "\n",
    "tf_valid_ds = to_tf_dataset(valid_ds)\n",
    "\n",
    "tf_train_ds= create_dataset(tf_train_ds, batch_size=batch_size, \n",
    "                         shuffling=True, cache_path = None)\n",
    "tf_valid_ds = create_dataset(tf_valid_ds, batch_size=batch_size, \n",
    "                         shuffling=False, cache_path = None)\n",
    "\n",
    "print('dataset schema:')\n",
    "tf_train_ds.element_spec"
   ]
  },
  {
   "cell_type": "markdown",
   "metadata": {
    "id": "qHAi1i2BgIeV"
   },
   "source": [
    "#### Callbacks and checkpoints"
   ]
  },
  {
   "cell_type": "code",
   "execution_count": 12,
   "metadata": {},
   "outputs": [],
   "source": [
    "# Learning Rate Schedule to input into CustomLearningRateScheduler()\n",
    "def lr_schedule(training_steps, lr):\n",
    "    \"\"\"Helper function to retrieve the scheduled learning rate based on epoch.\"\"\"\n",
    "    if training_steps < __TOTAL_WARM_UP_STEPS:\n",
    "        # print(\"\\nWARM UP: Using Increasing Linear Function at Training Step:{}\".format(training_steps))\n",
    "        lr = ((MAX_LR - START_LR)/__TOTAL_WARM_UP_STEPS) * training_steps + START_LR # y = (m)x + b\n",
    "    else:\n",
    "        __CURRENT_DECAY_STEP = training_steps - __TOTAL_WARM_UP_STEPS\n",
    "        if DECAY == \"ExponentialDecay\":\n",
    "            # print(\"\\nDECAY: Using ExponentialDecay at Training Step:{}\".format(training_steps))\n",
    "            __DECAY_FN = keras.optimizers.schedules.ExponentialDecay(\n",
    "                  initial_learning_rate=MAX_LR,\n",
    "                  decay_steps=__TOTAL_DECAY_STEPS,\n",
    "                  decay_rate=END_LR/MAX_LR)\n",
    "        elif DECAY == \"PiecewiseConstantDecay\":\n",
    "            # print(\"\\nDECAY: Using PiecewiseConstantDecay at Training Step:{}\".format(training_steps))\n",
    "            __CURRENT_DECAY_STEP = tf.Variable(__CURRENT_DECAY_STEP, trainable=False)\n",
    "            __DECAY_FN = keras.optimizers.schedules.PiecewiseConstantDecay(\n",
    "                  __BOUNDARIES, __VALUES)\n",
    "        elif DECAY == \"PolynomialDecay\":\n",
    "            # print(\"\\nDECAY: Using PolynomialDecay at Training Step:{}\".format(training_steps))\n",
    "            __DECAY_FN = tf.keras.optimizers.schedules.PolynomialDecay(\n",
    "                  MAX_LR,\n",
    "                  __TOTAL_DECAY_STEPS,\n",
    "                  END_LR,\n",
    "                  power=POWER)\n",
    "        elif DECAY == \"InverseTimeDecay\":\n",
    "            # print(\"DECAY: Using InverseTimeDecay at Training Step:{}\".format(training_steps))\n",
    "            __DECAY_FN = keras.optimizers.schedules.InverseTimeDecay(\n",
    "                  MAX_LR, __TIME_DECAY, 1)\n",
    "        else:\n",
    "            print(\"Please Select a Decay Function\")\n",
    "            exit\n",
    "        lr = __DECAY_FN(__CURRENT_DECAY_STEP)\n",
    "    return lr"
   ]
  },
  {
   "cell_type": "code",
   "execution_count": 13,
   "metadata": {
    "tags": []
   },
   "outputs": [
    {
     "data": {
      "image/png": "[encoded data removed]",
      "text/plain": [
       "<Figure size 1080x432 with 4 Axes>"
      ]
     },
     "metadata": {
      "needs_background": "light"
     },
     "output_type": "display_data"
    }
   ],
   "source": [
    "# Learning Rate Schedule Parameters\n",
    "WARM_UP_FRACTION = 1/10 #The fraction of the training steps that will be ramping up linearly to the max LR\n",
    "START_LR = 0.0005 # must be float\n",
    "MAX_LR = 0.001 # must be float\n",
    "END_LR = 0.0001 # must be float\n",
    "\n",
    "EPOCHS = epochs\n",
    "STEPS_PER_EPOCH = steps\n",
    "__TOTAL_STEPS = EPOCHS * STEPS_PER_EPOCH\n",
    "__TOTAL_WARM_UP_STEPS = __TOTAL_STEPS * WARM_UP_FRACTION\n",
    "__TOTAL_DECAY_STEPS = __TOTAL_STEPS - __TOTAL_WARM_UP_STEPS\n",
    "\n",
    "#--------------------------------------------------------------------------------------------\n",
    "\n",
    "# Decay Parameters\n",
    "# ExponentialDecay - None\n",
    "\n",
    "# PiecewiseConstantDecay\n",
    "NUM_BOUNDARIES = 10\n",
    "__BOUNDARY_STEP = __TOTAL_DECAY_STEPS/NUM_BOUNDARIES\n",
    "__BOUNDARIES = list(np.arange(0,__TOTAL_DECAY_STEPS+__BOUNDARY_STEP,__BOUNDARY_STEP))\n",
    "__PIECEWISE_STEP = (MAX_LR - END_LR)/(NUM_BOUNDARIES)\n",
    "__VALUES = list(np.arange(MAX_LR,END_LR-__PIECEWISE_STEP,-__PIECEWISE_STEP))\n",
    "\n",
    "# PolynomialDecay\n",
    "POWER = .5 # Must be > 1 to reach END_LR\n",
    "\n",
    "#InverseTimeDecay\n",
    "__TIME_DECAY = __TOTAL_DECAY_STEPS/(MAX_LR/END_LR-1)\n",
    "\n",
    "#--------------------------------------------------------------------------------------------\n",
    "# Initialize Graphing\n",
    "decay_array = [\"ExponentialDecay\", \"PiecewiseConstantDecay\", \"PolynomialDecay\", \"InverseTimeDecay\"]\n",
    "x = range(__TOTAL_STEPS)\n",
    "\n",
    "fig, ax = plt.subplots(figsize=(15, 6),ncols=len(decay_array))\n",
    "fig.suptitle(f'Learing Rate Schedule', fontsize=14)\n",
    "ymax = max(START_LR,MAX_LR,END_LR)\n",
    "ymax *= 1.1\n",
    "\n",
    "\n",
    "ax[0].set_ylabel('Learning Rate')\n",
    "for i,decay_type in enumerate(decay_array):\n",
    "    DECAY = decay_type\n",
    "    lr_values = []\n",
    "    for step in x:\n",
    "        lr_values.append(lr_schedule(step,0))\n",
    "    ax[i].plot(x,lr_values)\n",
    "    ax[i].set_title(decay_type, fontsize=14, pad=11)\n",
    "    ax[i].set_xlabel('Steps')\n",
    "    ax[i].set_ylim([0,ymax])\n",
    "    if i > 0:\n",
    "        ax[i].tick_params(which='both', left=False, labelleft=False)\n",
    "plt.show()\n",
    "#--------------------------------------------------------------------------------------------\n",
    "\n",
    "# ACTION: Select Decay Type\n",
    "DECAY = \"PiecewiseConstantDecay\" #[\"ExponentialDecay\", \"PiecewiseConstantDecay\", \"PolynomialDecay\", \"InverseTimeDecay\"]"
   ]
  },
  {
   "cell_type": "code",
   "execution_count": 14,
   "metadata": {},
   "outputs": [],
   "source": [
    "class CustomLearningRateScheduler(keras.callbacks.Callback):\n",
    "    \"\"\"Learning rate scheduler which sets the learning rate according to schedule.\n",
    "\n",
    "  Arguments:\n",
    "      schedule: a function that takes an epoch index\n",
    "          (integer, indexed from 0) and current learning rate\n",
    "          as inputs and returns a new learning rate as output (float).\n",
    "  \"\"\"\n",
    "\n",
    "    def __init__(self, schedule):\n",
    "        super(CustomLearningRateScheduler, self).__init__()\n",
    "        self.schedule = schedule\n",
    "        self.current_epoch = 0\n",
    "\n",
    "    def on_epoch_end(self, epoch, logs=None):\n",
    "        self.current_epoch += 1\n",
    "\n",
    "    def on_batch_begin(self, batch_step, logs=None):\n",
    "        if not hasattr(self.model.optimizer, \"lr\"):\n",
    "            raise ValueError('Optimizer must have a \"lr\" attribute.')\n",
    "        # Get the current learning rate from model's optimizer.\n",
    "        lr = float(tf.keras.backend.get_value(self.model.optimizer.learning_rate))\n",
    "        # Call schedule function to get the scheduled learning rate.\n",
    "        total_steps = batch_step + self.current_epoch * steps\n",
    "        scheduled_lr = self.schedule(total_steps, lr)\n",
    "        # Set the value back to the optimizer before this epoch starts\n",
    "        tf.keras.backend.set_value(self.model.optimizer.lr, scheduled_lr)\n",
    "        # print(\"\\nEpoch %05d: Learning rate is %6.4f.\" % (total_steps, scheduled_lr))"
   ]
  },
  {
   "cell_type": "code",
   "execution_count": 15,
   "metadata": {
    "id": "YsCNpoMEgIeV"
   },
   "outputs": [
    {
     "name": "stderr",
     "output_type": "stream",
     "text": [
      "2021-07-21 22:06:29.040666: I tensorflow/core/profiler/lib/profiler_session.cc:126] Profiler session initializing.\n",
      "2021-07-21 22:06:29.040727: I tensorflow/core/profiler/lib/profiler_session.cc:141] Profiler session started.\n",
      "2021-07-21 22:06:29.040830: I tensorflow/core/profiler/internal/gpu/cupti_tracer.cc:1611] Profiler found 1 GPUs\n",
      "2021-07-21 22:06:29.042056: W tensorflow/stream_executor/platform/default/dso_loader.cc:64] Could not load dynamic library 'libcupti.so.11.2'; dlerror: libcupti.so.11.2: cannot open shared object file: No such file or directory; LD_LIBRARY_PATH: /usr/local/cuda/extras/CUPTI/lib64::/usr/local/cuda/lib64\n",
      "2021-07-21 22:06:29.043571: I tensorflow/stream_executor/platform/default/dso_loader.cc:53] Successfully opened dynamic library libcupti.so\n",
      "2021-07-21 22:06:29.278568: I tensorflow/core/profiler/lib/profiler_session.cc:159] Profiler session tear down.\n",
      "2021-07-21 22:06:29.278761: I tensorflow/core/profiler/internal/gpu/cupti_tracer.cc:1743] CUPTI activity buffer flushed\n"
     ]
    }
   ],
   "source": [
    "start_profile_batch = steps+10\n",
    "stop_profile_batch = start_profile_batch + 100\n",
    "profile_range = f\"{start_profile_batch},{stop_profile_batch}\"\n",
    "\n",
    "log_path = log_dir + \"/\" + datetime.datetime.now().strftime(\"%Y-%m-%d_%H:%M:%S\")\n",
    "tensorboard_callback = tf.keras.callbacks.TensorBoard(log_dir=log_path, histogram_freq=1,\n",
    "                                                     update_freq=20,profile_batch=profile_range)\n",
    "\n",
    "checkpoint_filepath = save_dir + \"/\" + \"T5-{epoch:04d}-{val_loss:.4f}.ckpt\"\n",
    "model_checkpoint_callback = tf.keras.callbacks.ModelCheckpoint(\n",
    "    filepath=checkpoint_filepath,\n",
    "    save_weights_only=False,\n",
    "    monitor='val_loss',\n",
    "    mode='min',\n",
    "    save_best_only=True)\n",
    "\n",
    "callbacks = [tensorboard_callback, model_checkpoint_callback] \n",
    "if use_learning_schedule:\n",
    "    callbacks.append(CustomLearningRateScheduler(lr_schedule))\n",
    "metrics = [tf.keras.metrics.SparseTopKCategoricalAccuracy(k=5,name='accuracy') ]#[drop_eval.get_metrics]"
   ]
  },
  {
   "cell_type": "markdown",
   "metadata": {
    "id": "Uc5HnwUwgIeV"
   },
   "source": [
    "#### Compile and run model"
   ]
  },
  {
   "cell_type": "code",
   "execution_count": 16,
   "metadata": {},
   "outputs": [
    {
     "name": "stdout",
     "output_type": "stream",
     "text": [
      "Model: \"t5for_drop\"\n",
      "_________________________________________________________________\n",
      "Layer (type)                 Output Shape              Param #   \n",
      "=================================================================\n",
      "shared (TFSharedEmbeddings)  multiple                  16449536  \n",
      "_________________________________________________________________\n",
      "encoder (TFT5MainLayer)      multiple                  18881280  \n",
      "_________________________________________________________________\n",
      "decoder (TFT5MainLayer)      multiple                  25175808  \n",
      "=================================================================\n",
      "Total params: 60,506,630\n",
      "Trainable params: 60,506,624\n",
      "Non-trainable params: 6\n",
      "_________________________________________________________________\n"
     ]
    }
   ],
   "source": [
    "learning_rate = 0.0005\n",
    "    \n",
    "optimizer = tf.keras.optimizers.Adam(learning_rate, beta_1=0.9, beta_2=0.98,\n",
    "                                     epsilon=1e-9)\n",
    "model.compile(optimizer=optimizer, metrics=metrics)\n",
    "model.summary()"
   ]
  },
  {
   "cell_type": "code",
   "execution_count": 17,
   "metadata": {
    "id": "xqxSSq06bZct"
   },
   "outputs": [],
   "source": [
    "if load_model:\n",
    "    model.load_weights(load_dir+'/tf_model.h5')\n",
    "    print(f'Model loaded from {load_dir}')"
   ]
  },
  {
   "cell_type": "code",
   "execution_count": 18,
   "metadata": {},
   "outputs": [
    {
     "data": {
      "text/html": [
       "\n",
       "      <iframe id=\"tensorboard-frame-9c4ebb79576d9e2f\" width=\"100%\" height=\"800\" frameborder=\"0\">\n",
       "      </iframe>\n",
       "      <script>\n",
       "        (function() {\n",
       "          const frame = document.getElementById(\"tensorboard-frame-9c4ebb79576d9e2f\");\n",
       "          const url = new URL(\"/\", window.location);\n",
       "          const port = 6006;\n",
       "          if (port) {\n",
       "            url.port = port;\n",
       "          }\n",
       "          frame.src = url;\n",
       "        })();\n",
       "      </script>\n",
       "    "
      ],
      "text/plain": [
       "<IPython.core.display.HTML object>"
      ]
     },
     "metadata": {},
     "output_type": "display_data"
    }
   ],
   "source": [
    "%tensorboard --logdir $log_dir"
   ]
  },
  {
   "cell_type": "code",
   "execution_count": 19,
   "metadata": {
    "id": "wjHtw6LogIeV"
   },
   "outputs": [
    {
     "name": "stdout",
     "output_type": "stream",
     "text": [
      "Epoch 1/60\n"
     ]
    },
    {
     "name": "stderr",
     "output_type": "stream",
     "text": [
      "2021-07-21 22:06:39.038567: I tensorflow/compiler/mlir/mlir_graph_optimization_pass.cc:176] None of the MLIR Optimization Passes are enabled (registered 2)\n",
      "2021-07-21 22:06:39.301395: I tensorflow/core/platform/profile_utils/cpu_utils.cc:114] CPU Frequency: 3504000000 Hz\n"
     ]
    },
    {
     "name": "stdout",
     "output_type": "stream",
     "text": [
      "9675/9675 [==============================] - 1079s 110ms/step - accuracy: 0.9902 - loss: 0.0994 - F1: nan - EM: 0.0000e+00 - lr: 5.4167e-04 - val_accuracy: 0.9641 - val_loss: 0.4383 - val_F1: 0.4047 - val_EM: 0.0000e+00\n"
     ]
    },
    {
     "name": "stderr",
     "output_type": "stream",
     "text": [
      "WARNING:absl:Found untraced functions such as final_layer_norm_layer_call_and_return_conditional_losses, final_layer_norm_layer_call_fn, dropout_24_layer_call_and_return_conditional_losses, dropout_24_layer_call_fn, final_layer_norm_layer_call_and_return_conditional_losses while saving (showing 5 of 1310). These functions will not be directly callable after loading.\n"
     ]
    },
    {
     "name": "stdout",
     "output_type": "stream",
     "text": [
      "Epoch 2/60\n",
      "   9/9675 [..............................] - ETA: 16:21 - accuracy: 0.9887 - loss: 0.1003 - F1: 0.3742 - EM: 0.0000e+00 - lr: 5.8337e-04"
     ]
    },
    {
     "name": "stderr",
     "output_type": "stream",
     "text": [
      "2021-07-21 22:24:54.833127: I tensorflow/core/profiler/lib/profiler_session.cc:126] Profiler session initializing.\n",
      "2021-07-21 22:24:54.833145: I tensorflow/core/profiler/lib/profiler_session.cc:141] Profiler session started.\n"
     ]
    },
    {
     "name": "stdout",
     "output_type": "stream",
     "text": [
      " 110/9675 [..............................] - ETA: 17:36 - accuracy: 0.9907 - loss: 0.0938 - F1: 0.4750 - EM: 0.0000e+00 - lr: 5.8380e-04"
     ]
    },
    {
     "name": "stderr",
     "output_type": "stream",
     "text": [
      "2021-07-21 22:25:06.066244: I tensorflow/core/profiler/lib/profiler_session.cc:66] Profiler session collecting data.\n",
      "2021-07-21 22:25:06.070421: I tensorflow/core/profiler/internal/gpu/cupti_tracer.cc:1743] CUPTI activity buffer flushed\n",
      "2021-07-21 22:25:07.098630: I tensorflow/core/profiler/internal/gpu/cupti_collector.cc:673]  GpuTracer has collected 275279 callback api events and 275992 activity events. \n",
      "2021-07-21 22:25:10.514786: I tensorflow/core/profiler/lib/profiler_session.cc:159] Profiler session tear down.\n"
     ]
    },
    {
     "name": "stdout",
     "output_type": "stream",
     "text": [
      "9675/9675 [==============================] - 1064s 110ms/step - accuracy: 0.9923 - loss: 0.0809 - F1: 0.5131 - EM: 0.0000e+00 - lr: 6.2500e-04 - val_accuracy: 0.9661 - val_loss: 0.4531 - val_F1: 0.4330 - val_EM: 0.0000e+00\n",
      "Epoch 3/60\n",
      "9675/9675 [==============================] - 1049s 108ms/step - accuracy: 0.9933 - loss: 0.0742 - F1: nan - EM: 0.0000e+00 - lr: 7.0833e-04 - val_accuracy: 0.9656 - val_loss: 0.4158 - val_F1: 0.4626 - val_EM: 0.0000e+00\n"
     ]
    },
    {
     "name": "stderr",
     "output_type": "stream",
     "text": [
      "WARNING:absl:Found untraced functions such as final_layer_norm_layer_call_and_return_conditional_losses, final_layer_norm_layer_call_fn, dropout_24_layer_call_and_return_conditional_losses, dropout_24_layer_call_fn, final_layer_norm_layer_call_and_return_conditional_losses while saving (showing 5 of 1310). These functions will not be directly callable after loading.\n"
     ]
    },
    {
     "name": "stdout",
     "output_type": "stream",
     "text": [
      "Epoch 4/60\n",
      "9675/9675 [==============================] - 1045s 108ms/step - accuracy: 0.9935 - loss: 0.0712 - F1: nan - EM: 3.1008e-04 - lr: 7.9167e-04 - val_accuracy: 0.9645 - val_loss: 0.4315 - val_F1: nan - val_EM: 0.0000e+00\n",
      "Epoch 5/60\n",
      "9675/9675 [==============================] - 1044s 108ms/step - accuracy: 0.9938 - loss: 0.0696 - F1: nan - EM: 2.0672e-04 - lr: 8.7500e-04 - val_accuracy: 0.9666 - val_loss: 0.4214 - val_F1: 0.4483 - val_EM: 0.0000e+00\n",
      "Epoch 6/60\n",
      "9675/9675 [==============================] - 1044s 108ms/step - accuracy: 0.9938 - loss: 0.0688 - F1: nan - EM: 3.1008e-04 - lr: 9.5833e-04 - val_accuracy: 0.9667 - val_loss: 0.4653 - val_F1: 0.4434 - val_EM: 0.0000e+00\n",
      "Epoch 7/60\n",
      "9675/9675 [==============================] - 1061s 110ms/step - accuracy: 0.9943 - loss: 0.0658 - F1: nan - EM: 3.1008e-04 - lr: 9.1001e-04 - val_accuracy: 0.9648 - val_loss: 0.4895 - val_F1: 0.4490 - val_EM: 0.0000e+00\n",
      "Epoch 8/60\n",
      "9675/9675 [==============================] - 1062s 110ms/step - accuracy: 0.9944 - loss: 0.0640 - F1: 0.5824 - EM: 5.1680e-04 - lr: 9.1000e-04 - val_accuracy: 0.9672 - val_loss: 0.4703 - val_F1: 0.4726 - val_EM: 0.0000e+00\n",
      "Epoch 9/60\n",
      "9675/9675 [==============================] - 1062s 110ms/step - accuracy: 0.9946 - loss: 0.0622 - F1: nan - EM: 3.1008e-04 - lr: 9.1000e-04 - val_accuracy: 0.9667 - val_loss: 0.5042 - val_F1: 0.4599 - val_EM: 0.0000e+00\n",
      "Epoch 10/60\n",
      "9675/9675 [==============================] - 1069s 110ms/step - accuracy: 0.9948 - loss: 0.0608 - F1: 0.5969 - EM: 4.1344e-04 - lr: 9.1000e-04 - val_accuracy: 0.9655 - val_loss: 0.5386 - val_F1: 0.4393 - val_EM: 0.0000e+00\n",
      "Epoch 11/60\n",
      "9675/9675 [==============================] - 1066s 110ms/step - accuracy: 0.9949 - loss: 0.0593 - F1: 0.6033 - EM: 7.2351e-04 - lr: 9.1000e-04 - val_accuracy: 0.9682 - val_loss: 0.5111 - val_F1: 0.4678 - val_EM: 0.0000e+00\n",
      "Epoch 12/60\n",
      "9675/9675 [==============================] - 1063s 110ms/step - accuracy: 0.9951 - loss: 0.0571 - F1: 0.6126 - EM: 7.2351e-04 - lr: 8.5601e-04 - val_accuracy: 0.9658 - val_loss: 0.5365 - val_F1: nan - val_EM: 0.0000e+00\n",
      "Epoch 13/60\n",
      "9675/9675 [==============================] - 1063s 110ms/step - accuracy: 0.9954 - loss: 0.0550 - F1: nan - EM: 8.2687e-04 - lr: 8.2000e-04 - val_accuracy: 0.9656 - val_loss: 0.5232 - val_F1: 0.4485 - val_EM: 0.0000e+00\n",
      "Epoch 14/60\n",
      "9675/9675 [==============================] - 1064s 110ms/step - accuracy: 0.9956 - loss: 0.0536 - F1: 0.6262 - EM: 0.0018 - lr: 8.2000e-04 - val_accuracy: 0.9661 - val_loss: 0.4840 - val_F1: 0.4693 - val_EM: 0.0000e+00\n",
      "Epoch 15/60\n",
      "9675/9675 [==============================] - 1064s 110ms/step - accuracy: 0.9957 - loss: 0.0525 - F1: 0.6322 - EM: 0.0016 - lr: 8.2000e-04 - val_accuracy: 0.9654 - val_loss: 0.5220 - val_F1: 0.4510 - val_EM: 0.0000e+00\n",
      "Epoch 16/60\n",
      "9675/9675 [==============================] - 1064s 110ms/step - accuracy: 0.9958 - loss: 0.0514 - F1: 0.6392 - EM: 0.0020 - lr: 8.2000e-04 - val_accuracy: 0.9652 - val_loss: 0.5016 - val_F1: 0.4501 - val_EM: 0.0000e+00\n",
      "Epoch 17/60\n",
      "9675/9675 [==============================] - 1064s 110ms/step - accuracy: 0.9960 - loss: 0.0500 - F1: nan - EM: 0.0025 - lr: 8.0200e-04 - val_accuracy: 0.9662 - val_loss: 0.5816 - val_F1: 0.4486 - val_EM: 0.0000e+00\n",
      "Epoch 18/60\n",
      "9675/9675 [==============================] - 1064s 110ms/step - accuracy: 0.9962 - loss: 0.0478 - F1: nan - EM: 0.0026 - lr: 7.3000e-04 - val_accuracy: 0.9663 - val_loss: 0.5091 - val_F1: 0.4574 - val_EM: 0.0000e+00\n",
      "Epoch 19/60\n",
      "9675/9675 [==============================] - 1064s 110ms/step - accuracy: 0.9963 - loss: 0.0465 - F1: 0.6630 - EM: 0.0024 - lr: 7.3000e-04 - val_accuracy: 0.9654 - val_loss: 0.5476 - val_F1: 0.4420 - val_EM: 0.0000e+00\n",
      "Epoch 20/60\n",
      "9675/9675 [==============================] - 1064s 110ms/step - accuracy: 0.9965 - loss: 0.0454 - F1: nan - EM: 0.0034 - lr: 7.3000e-04 - val_accuracy: 0.9657 - val_loss: 0.5516 - val_F1: 0.4562 - val_EM: 0.0000e+00\n",
      "Epoch 21/60\n",
      "9675/9675 [==============================] - 1065s 110ms/step - accuracy: 0.9966 - loss: 0.0444 - F1: 0.6755 - EM: 0.0049 - lr: 7.3000e-04 - val_accuracy: 0.9615 - val_loss: 0.5403 - val_F1: 0.4508 - val_EM: 0.0000e+00\n",
      "Epoch 22/60\n",
      "9675/9675 [==============================] - 1064s 110ms/step - accuracy: 0.9967 - loss: 0.0434 - F1: nan - EM: 0.0033 - lr: 7.3000e-04 - val_accuracy: 0.9641 - val_loss: 0.5730 - val_F1: 0.4491 - val_EM: 0.0000e+00\n",
      "Epoch 23/60\n",
      "9675/9675 [==============================] - 1065s 110ms/step - accuracy: 0.9969 - loss: 0.0415 - F1: 0.6888 - EM: 0.0057 - lr: 6.5801e-04 - val_accuracy: 0.9624 - val_loss: 0.5527 - val_F1: 0.4424 - val_EM: 0.0000e+00\n",
      "Epoch 24/60\n",
      "9675/9675 [==============================] - 1065s 110ms/step - accuracy: 0.9971 - loss: 0.0401 - F1: nan - EM: 0.0070 - lr: 6.4000e-04 - val_accuracy: 0.9622 - val_loss: 0.5778 - val_F1: 0.4406 - val_EM: 0.0000e+00\n",
      "Epoch 25/60\n",
      "9675/9675 [==============================] - 1065s 110ms/step - accuracy: 0.9972 - loss: 0.0392 - F1: 0.7053 - EM: 0.0087 - lr: 6.4000e-04 - val_accuracy: 0.9633 - val_loss: 0.6259 - val_F1: 0.4481 - val_EM: 0.0000e+00\n",
      "Epoch 26/60\n",
      "9675/9675 [==============================] - 1065s 110ms/step - accuracy: 0.9974 - loss: 0.0381 - F1: nan - EM: 0.0094 - lr: 6.4000e-04 - val_accuracy: 0.9645 - val_loss: 0.5719 - val_F1: 0.4582 - val_EM: 0.0000e+00\n",
      "Epoch 27/60\n",
      "9675/9675 [==============================] - 1065s 110ms/step - accuracy: 0.9975 - loss: 0.0373 - F1: 0.7187 - EM: 0.0117 - lr: 6.4000e-04 - val_accuracy: 0.9624 - val_loss: 0.5935 - val_F1: 0.4497 - val_EM: 0.0000e+00\n",
      "Epoch 28/60\n",
      "9675/9675 [==============================] - 1065s 110ms/step - accuracy: 0.9976 - loss: 0.0361 - F1: nan - EM: 0.0110 - lr: 6.0400e-04 - val_accuracy: 0.9630 - val_loss: 0.5913 - val_F1: 0.4629 - val_EM: 0.0000e+00\n",
      "Epoch 29/60\n",
      "9675/9675 [==============================] - 1065s 110ms/step - accuracy: 0.9978 - loss: 0.0342 - F1: nan - EM: 0.0158 - lr: 5.5000e-04 - val_accuracy: 0.9639 - val_loss: 0.6025 - val_F1: 0.4638 - val_EM: 0.0000e+00\n",
      "Epoch 30/60\n",
      "9675/9675 [==============================] - 1065s 110ms/step - accuracy: 0.9979 - loss: 0.0334 - F1: nan - EM: 0.0203 - lr: 5.5000e-04 - val_accuracy: 0.9648 - val_loss: 0.6387 - val_F1: 0.4492 - val_EM: 0.0000e+00\n",
      "Epoch 31/60\n",
      "9675/9675 [==============================] - 1072s 111ms/step - accuracy: 0.9980 - loss: 0.0324 - F1: nan - EM: 0.0180 - lr: 5.5000e-04 - val_accuracy: 0.9615 - val_loss: 0.6315 - val_F1: 0.4389 - val_EM: 0.0000e+00\n",
      "Epoch 32/60\n",
      "9675/9675 [==============================] - 1064s 110ms/step - accuracy: 0.9981 - loss: 0.0317 - F1: nan - EM: 0.0220 - lr: 5.5000e-04 - val_accuracy: 0.9625 - val_loss: 0.6700 - val_F1: 0.4461 - val_EM: 0.0000e+00\n",
      "Epoch 33/60\n",
      "9675/9675 [==============================] - 1065s 110ms/step - accuracy: 0.9982 - loss: 0.0309 - F1: nan - EM: 0.0247 - lr: 5.5000e-04 - val_accuracy: 0.9617 - val_loss: 0.6201 - val_F1: 0.4561 - val_EM: 0.0000e+00\n",
      "Epoch 34/60\n",
      "9675/9675 [==============================] - 1065s 110ms/step - accuracy: 0.9984 - loss: 0.0290 - F1: nan - EM: 0.0322 - lr: 4.6001e-04 - val_accuracy: 0.9627 - val_loss: 0.6519 - val_F1: 0.4475 - val_EM: 0.0000e+00\n",
      "Epoch 35/60\n",
      "9675/9675 [==============================] - 1066s 110ms/step - accuracy: 0.9985 - loss: 0.0280 - F1: 0.7819 - EM: 0.0352 - lr: 4.6000e-04 - val_accuracy: 0.9618 - val_loss: 0.6448 - val_F1: 0.4438 - val_EM: 0.0000e+00\n",
      "Epoch 36/60\n",
      "9675/9675 [==============================] - 1065s 110ms/step - accuracy: 0.9986 - loss: 0.0272 - F1: 0.7896 - EM: 0.0365 - lr: 4.6000e-04 - val_accuracy: 0.9629 - val_loss: 0.6415 - val_F1: 0.4479 - val_EM: 0.0000e+00\n",
      "Epoch 37/60\n",
      "9675/9675 [==============================] - 1065s 110ms/step - accuracy: 0.9986 - loss: 0.0265 - F1: 0.7952 - EM: 0.0428 - lr: 4.6000e-04 - val_accuracy: 0.9618 - val_loss: 0.6519 - val_F1: 0.4411 - val_EM: 0.0000e+00\n",
      "Epoch 38/60\n",
      "9675/9675 [==============================] - 1065s 110ms/step - accuracy: 0.9987 - loss: 0.0259 - F1: 0.7991 - EM: 0.0416 - lr: 4.6000e-04 - val_accuracy: 0.9609 - val_loss: 0.7098 - val_F1: 0.4414 - val_EM: 0.0000e+00\n",
      "Epoch 39/60\n",
      "9675/9675 [==============================] - 1091s 113ms/step - accuracy: 0.9988 - loss: 0.0245 - F1: nan - EM: 0.0505 - lr: 4.0601e-04 - val_accuracy: 0.9612 - val_loss: 0.7516 - val_F1: 0.4403 - val_EM: 0.0000e+00\n",
      "Epoch 40/60\n",
      "9675/9675 [==============================] - 1086s 112ms/step - accuracy: 0.9989 - loss: 0.0232 - F1: 0.8197 - EM: 0.0650 - lr: 3.7000e-04 - val_accuracy: 0.9605 - val_loss: 0.7247 - val_F1: 0.4355 - val_EM: 0.0000e+00\n",
      "Epoch 41/60\n",
      "9675/9675 [==============================] - 1066s 110ms/step - accuracy: 0.9990 - loss: 0.0224 - F1: 0.8248 - EM: 0.0674 - lr: 3.7000e-04 - val_accuracy: 0.9625 - val_loss: 0.7349 - val_F1: 0.4402 - val_EM: 0.0000e+00\n",
      "Epoch 42/60\n",
      "9675/9675 [==============================] - 1066s 110ms/step - accuracy: 0.9990 - loss: 0.0219 - F1: nan - EM: 0.0744 - lr: 3.7000e-04 - val_accuracy: 0.9609 - val_loss: 0.6919 - val_F1: 0.4444 - val_EM: 0.0000e+00\n",
      "Epoch 43/60\n",
      "9675/9675 [==============================] - 1066s 110ms/step - accuracy: 0.9991 - loss: 0.0212 - F1: 0.8348 - EM: 0.0795 - lr: 3.7000e-04 - val_accuracy: 0.9590 - val_loss: 0.8041 - val_F1: 0.4421 - val_EM: 0.0000e+00\n",
      "Epoch 44/60\n",
      "9675/9675 [==============================] - 1066s 110ms/step - accuracy: 0.9992 - loss: 0.0205 - F1: nan - EM: 0.0837 - lr: 3.5200e-04 - val_accuracy: 0.9613 - val_loss: 0.7441 - val_F1: nan - val_EM: 0.0000e+00\n",
      "Epoch 45/60\n",
      "9675/9675 [==============================] - 1067s 110ms/step - accuracy: 0.9993 - loss: 0.0190 - F1: nan - EM: 0.1013 - lr: 2.8000e-04 - val_accuracy: 0.9606 - val_loss: 0.7958 - val_F1: 0.4407 - val_EM: 0.0000e+00\n",
      "Epoch 46/60\n",
      "9675/9675 [==============================] - 1067s 110ms/step - accuracy: 0.9993 - loss: 0.0182 - F1: 0.8568 - EM: 0.1120 - lr: 2.8000e-04 - val_accuracy: 0.9610 - val_loss: 0.8121 - val_F1: nan - val_EM: 0.0000e+00\n",
      "Epoch 47/60\n",
      "9675/9675 [==============================] - 1065s 110ms/step - accuracy: 0.9994 - loss: 0.0177 - F1: nan - EM: 0.1176 - lr: 2.8000e-04 - val_accuracy: 0.9594 - val_loss: 0.8438 - val_F1: 0.4453 - val_EM: 0.0000e+00\n",
      "Epoch 48/60\n",
      "9675/9675 [==============================] - 1067s 110ms/step - accuracy: 0.9994 - loss: 0.0174 - F1: 0.8640 - EM: 0.1182 - lr: 2.8000e-04 - val_accuracy: 0.9601 - val_loss: 0.7985 - val_F1: 0.4417 - val_EM: 0.0000e+00\n",
      "Epoch 49/60\n",
      "9675/9675 [==============================] - 1070s 111ms/step - accuracy: 0.9995 - loss: 0.0168 - F1: 0.8697 - EM: 0.1293 - lr: 2.8000e-04 - val_accuracy: 0.9601 - val_loss: 0.8773 - val_F1: 0.4407 - val_EM: 0.0000e+00\n",
      "Epoch 50/60\n",
      "9675/9675 [==============================] - 1098s 113ms/step - accuracy: 0.9995 - loss: 0.0156 - F1: nan - EM: 0.1514 - lr: 2.0801e-04 - val_accuracy: 0.9598 - val_loss: 0.8572 - val_F1: 0.4404 - val_EM: 0.0000e+00\n",
      "Epoch 51/60\n",
      "9675/9675 [==============================] - 1100s 114ms/step - accuracy: 0.9996 - loss: 0.0147 - F1: nan - EM: 0.1673 - lr: 1.9000e-04 - val_accuracy: 0.9610 - val_loss: 0.8648 - val_F1: 0.4443 - val_EM: 0.0000e+00\n",
      "Epoch 52/60\n",
      "9675/9675 [==============================] - 1100s 114ms/step - accuracy: 0.9996 - loss: 0.0142 - F1: 0.8892 - EM: 0.1809 - lr: 1.9000e-04 - val_accuracy: 0.9601 - val_loss: 0.8913 - val_F1: 0.4356 - val_EM: 0.0000e+00\n",
      "Epoch 53/60\n",
      "9675/9675 [==============================] - 1100s 114ms/step - accuracy: 0.9996 - loss: 0.0140 - F1: 0.8914 - EM: 0.1812 - lr: 1.9000e-04 - val_accuracy: 0.9598 - val_loss: 0.9061 - val_F1: 0.4393 - val_EM: 0.0000e+00\n",
      "Epoch 54/60\n",
      "9675/9675 [==============================] - 1100s 114ms/step - accuracy: 0.9996 - loss: 0.0136 - F1: nan - EM: 0.1965 - lr: 1.9000e-04 - val_accuracy: 0.9588 - val_loss: 0.8699 - val_F1: 0.4378 - val_EM: 0.0000e+00\n",
      "Epoch 55/60\n",
      "9675/9675 [==============================] - 1098s 114ms/step - accuracy: 0.9997 - loss: 0.0130 - F1: nan - EM: 0.2105 - lr: 1.5400e-04 - val_accuracy: 0.9598 - val_loss: 0.9538 - val_F1: 0.4396 - val_EM: 0.0000e+00\n",
      "Epoch 56/60\n",
      "9675/9675 [==============================] - 1070s 111ms/step - accuracy: 0.9997 - loss: 0.0119 - F1: nan - EM: 0.2326 - lr: 1.0000e-04 - val_accuracy: 0.9587 - val_loss: 0.8865 - val_F1: 0.4389 - val_EM: 0.0000e+00\n",
      "Epoch 57/60\n",
      "9675/9675 [==============================] - 1067s 110ms/step - accuracy: 0.9997 - loss: 0.0115 - F1: nan - EM: 0.2457 - lr: 1.0000e-04 - val_accuracy: 0.9589 - val_loss: 0.9417 - val_F1: 0.4437 - val_EM: 0.0000e+00\n",
      "Epoch 58/60\n",
      "9675/9675 [==============================] - 1067s 110ms/step - accuracy: 0.9997 - loss: 0.0113 - F1: 0.9122 - EM: 0.2497 - lr: 1.0000e-04 - val_accuracy: 0.9583 - val_loss: 0.9434 - val_F1: 0.4413 - val_EM: 0.0000e+00\n",
      "Epoch 59/60\n",
      "9675/9675 [==============================] - 1067s 110ms/step - accuracy: 0.9998 - loss: 0.0111 - F1: 0.9147 - EM: 0.2596 - lr: 1.0000e-04 - val_accuracy: 0.9584 - val_loss: 0.9348 - val_F1: 0.4405 - val_EM: 0.0000e+00\n",
      "Epoch 60/60\n",
      "9675/9675 [==============================] - 1066s 110ms/step - accuracy: 0.9998 - loss: 0.0110 - F1: nan - EM: 0.2620 - lr: 1.0000e-04 - val_accuracy: 0.9576 - val_loss: 0.9719 - val_F1: 0.4345 - val_EM: 0.0000e+00\n",
      "Training complete, model saved\n"
     ]
    }
   ],
   "source": [
    "if train_model:\n",
    "    tf.compat.v1.logging.set_verbosity(tf.compat.v1.logging.ERROR)\n",
    "    model.fit(tf_train_ds, epochs=epochs, steps_per_epoch=steps, callbacks=callbacks, \n",
    "              validation_data=tf_valid_ds, validation_steps=valid_steps,verbose=1)\n",
    "    if(save_model):\n",
    "        model.save_pretrained(save_dir)\n",
    "        print('Training complete, model saved')"
   ]
  },
  {
   "cell_type": "markdown",
   "metadata": {
    "id": "WjsHiiSldUFa"
   },
   "source": [
    "#### Predict & Evaluate"
   ]
  },
  {
   "cell_type": "code",
   "execution_count": 20,
   "metadata": {},
   "outputs": [],
   "source": [
    "def batch_predict(ds,model,tokenizer):\n",
    "    preds = []\n",
    "\n",
    "    with tqdm(total=batch_size*len(list(ds.as_numpy_iterator()))) as bar:\n",
    "        for batch in ds:\n",
    "            input_ids = batch['input_ids']\n",
    "            output = model.generate(input_ids)\n",
    "\n",
    "            for i in range(output.shape[0]):\n",
    "                single_pred = tokenizer.decode(output[i])\n",
    "                single_pred = single_pred.replace('<pad>','')\n",
    "                single_pred = single_pred.replace('</s>','')\n",
    "                single_pred = single_pred.strip()\n",
    "                single_pred = re.sub(r'(\\d)\\s+(\\d)', r'\\1\\2', single_pred)\n",
    "                preds.append(single_pred)\n",
    "                bar.update(1)\n",
    "    return preds\n",
    "\n",
    "def evaluate(df):\n",
    "    EM = []\n",
    "    F1 = []\n",
    "    \n",
    "    if dataset == 'drop': \n",
    "        col = 'answers_spans'\n",
    "        gold_col = 'spans'\n",
    "    elif dataset == 'hotpot_qa':\n",
    "        col = 'answer'\n",
    "        gold_col = ''\n",
    "    elif dataset == 'augmented':\n",
    "        col = 'answer'\n",
    "    \n",
    "    else:\n",
    "        col = 'answers'\n",
    "        gold_col = 'text'\n",
    "    for predicted,gold in tqdm(zip(df['predicted'],df[col])):\n",
    "\n",
    "        best_EM = 0\n",
    "        best_F1 = 0\n",
    "        if (dataset == 'hotpot_qa') or (dataset == 'augmented'):\n",
    "            metrics = drop_eval.get_metrics(predicted=predicted,gold=gold)\n",
    "            best_EM = metrics[0]\n",
    "            best_F1 = metrics[1]\n",
    "            \n",
    "        else:\n",
    "            for potential_answer in gold[gold_col]:\n",
    "                metrics = drop_eval.get_metrics(predicted=predicted,gold=potential_answer)\n",
    "\n",
    "                if metrics[1] > best_F1:\n",
    "                    best_EM = metrics[0]\n",
    "                    best_F1 = metrics[1]\n",
    "\n",
    "        EM.append(best_EM)\n",
    "        F1.append(best_F1)\n",
    "        \n",
    "    df['EM'] = EM\n",
    "    df['F1'] = F1\n",
    "    \n",
    "    print('Exact Match: {:0.4f}, F1: {:0.4f}'.format(df.EM.mean(),df.F1.mean()))\n",
    "    return df\n"
   ]
  },
  {
   "cell_type": "code",
   "execution_count": 21,
   "metadata": {},
   "outputs": [
    {
     "name": "stdout",
     "output_type": "stream",
     "text": [
      "Making Dev Predictions...\n"
     ]
    },
    {
     "data": {
      "application/vnd.jupyter.widget-view+json": {
       "model_id": "561aeecb72d94a1c9120bdcef3858e34",
       "version_major": 2,
       "version_minor": 0
      },
      "text/plain": [
       "HBox(children=(HTML(value=''), FloatProgress(value=0.0, max=9536.0), HTML(value='')))"
      ]
     },
     "metadata": {},
     "output_type": "display_data"
    },
    {
     "name": "stdout",
     "output_type": "stream",
     "text": [
      "\n",
      "Evaluating Dev Predictions...\n"
     ]
    },
    {
     "data": {
      "application/vnd.jupyter.widget-view+json": {
       "model_id": "9f1b54268b3143d1ab054fc52f1e6324",
       "version_major": 2,
       "version_minor": 0
      },
      "text/plain": [
       "HBox(children=(HTML(value=''), FloatProgress(value=1.0, bar_style='info', layout=Layout(width='20px'), max=1.0…"
      ]
     },
     "metadata": {},
     "output_type": "display_data"
    },
    {
     "name": "stdout",
     "output_type": "stream",
     "text": [
      "\n",
      "Exact Match: 0.4265, F1: 0.4771\n",
      "results for predictions on the validation data saved to:\n",
      " ./data/drop-60epochs-v0/t5-small/results/\n"
     ]
    }
   ],
   "source": [
    "if predict_train:\n",
    "    print('Making Train Predictions...')\n",
    "    preds = batch_predict(ds=tf_train_ds,model=model,tokenizer=tokenizer)\n",
    "    train_df = train_dataset.to_pandas()\n",
    "    assert len(train_df) == len(preds), \"count mismatch, something went wrong\"\n",
    "    train_df['predicted'] = preds\n",
    "    print('Evaluating Train Predictions...')\n",
    "    train_df = evaluate(train_df)\n",
    "    if save_results:\n",
    "        train_df.to_pickle(results_dir+'{}_train'.format(dataset)+datetime.datetime.now().strftime('%H%M-%h%d')+'.pkl')\n",
    "        print('results for predictions on the training data saved to:\\n',results_dir)\n",
    "    \n",
    "if predict_dev:\n",
    "    print('Making Dev Predictions...')\n",
    "    preds = batch_predict(ds=tf_valid_ds,model=model,tokenizer=tokenizer)\n",
    "    valid_df = valid_dataset.to_pandas()\n",
    "    valid_df['predicted'] = preds\n",
    "    assert len(valid_df) == len(preds), \"count mismatch, something went wrong\"\n",
    "    print('Evaluating Dev Predictions...')\n",
    "    valid_df = evaluate(valid_df)\n",
    "    if save_results:\n",
    "        valid_df.to_pickle(results_dir+'{}_validation'.format(dataset)+datetime.datetime.now().strftime('%H%M-%h%d')+'.pkl')\n",
    "        print('results for predictions on the validation data saved to:\\n',results_dir)    \n",
    " "
   ]
  },
  {
   "cell_type": "code",
   "execution_count": 22,
   "metadata": {},
   "outputs": [
    {
     "data": {
      "text/html": [
       "<div>\n",
       "<style scoped>\n",
       "    .dataframe tbody tr th:only-of-type {\n",
       "        vertical-align: middle;\n",
       "    }\n",
       "\n",
       "    .dataframe tbody tr th {\n",
       "        vertical-align: top;\n",
       "    }\n",
       "\n",
       "    .dataframe thead th {\n",
       "        text-align: right;\n",
       "    }\n",
       "</style>\n",
       "<table border=\"1\" class=\"dataframe\">\n",
       "  <thead>\n",
       "    <tr style=\"text-align: right;\">\n",
       "      <th></th>\n",
       "      <th>section_id</th>\n",
       "      <th>query_id</th>\n",
       "      <th>passage</th>\n",
       "      <th>question</th>\n",
       "      <th>answers_spans</th>\n",
       "      <th>predicted</th>\n",
       "      <th>EM</th>\n",
       "      <th>F1</th>\n",
       "    </tr>\n",
       "  </thead>\n",
       "  <tbody>\n",
       "    <tr>\n",
       "      <th>0</th>\n",
       "      <td>nfl_1184</td>\n",
       "      <td>f37e81fa-ef7b-4583-b671-762fc433faa9</td>\n",
       "      <td>Hoping to rebound from their loss to the Patr...</td>\n",
       "      <td>Who scored the first touchdown of the game?</td>\n",
       "      <td>{'spans': ['Chaz Schilens', 'JaMarcus Russell'...</td>\n",
       "      <td>Chaz Schilens</td>\n",
       "      <td>1.0</td>\n",
       "      <td>1.0</td>\n",
       "    </tr>\n",
       "    <tr>\n",
       "      <th>1</th>\n",
       "      <td>nfl_1184</td>\n",
       "      <td>ac6ba235-3024-4f63-a6ab-730a14def4cb</td>\n",
       "      <td>Hoping to rebound from their loss to the Patr...</td>\n",
       "      <td>How many field goals did Kris Brown kick?</td>\n",
       "      <td>{'spans': ['2', '3', '3', '3', '3'], 'types': ...</td>\n",
       "      <td>3</td>\n",
       "      <td>1.0</td>\n",
       "      <td>1.0</td>\n",
       "    </tr>\n",
       "    <tr>\n",
       "      <th>2</th>\n",
       "      <td>nfl_1184</td>\n",
       "      <td>2c7c93f6-69ed-47cc-a5af-94a00c185a26</td>\n",
       "      <td>Hoping to rebound from their loss to the Patr...</td>\n",
       "      <td>Which team won the game?</td>\n",
       "      <td>{'spans': ['Raiders', 'Raiders', 'Raiders', 't...</td>\n",
       "      <td>Texans</td>\n",
       "      <td>0.0</td>\n",
       "      <td>0.0</td>\n",
       "    </tr>\n",
       "    <tr>\n",
       "      <th>3</th>\n",
       "      <td>nfl_1184</td>\n",
       "      <td>7dfd2b64-f39e-4bb4-aeb0-1900adda6018</td>\n",
       "      <td>Hoping to rebound from their loss to the Patr...</td>\n",
       "      <td>How many field goals did both teams kick in th...</td>\n",
       "      <td>{'spans': ['2', '2', '2', '2', '2'], 'types': ...</td>\n",
       "      <td>2</td>\n",
       "      <td>1.0</td>\n",
       "      <td>1.0</td>\n",
       "    </tr>\n",
       "    <tr>\n",
       "      <th>4</th>\n",
       "      <td>nfl_1184</td>\n",
       "      <td>121a8f57-7752-4373-a9ba-748b2c577cd2</td>\n",
       "      <td>Hoping to rebound from their loss to the Patr...</td>\n",
       "      <td>How many more yards was Kris Browns's first fi...</td>\n",
       "      <td>{'spans': ['29', '20', '29', '29', '29'], 'typ...</td>\n",
       "      <td>29</td>\n",
       "      <td>1.0</td>\n",
       "      <td>1.0</td>\n",
       "    </tr>\n",
       "  </tbody>\n",
       "</table>\n",
       "</div>"
      ],
      "text/plain": [
       "  section_id                              query_id  \\\n",
       "0   nfl_1184  f37e81fa-ef7b-4583-b671-762fc433faa9   \n",
       "1   nfl_1184  ac6ba235-3024-4f63-a6ab-730a14def4cb   \n",
       "2   nfl_1184  2c7c93f6-69ed-47cc-a5af-94a00c185a26   \n",
       "3   nfl_1184  7dfd2b64-f39e-4bb4-aeb0-1900adda6018   \n",
       "4   nfl_1184  121a8f57-7752-4373-a9ba-748b2c577cd2   \n",
       "\n",
       "                                             passage  \\\n",
       "0   Hoping to rebound from their loss to the Patr...   \n",
       "1   Hoping to rebound from their loss to the Patr...   \n",
       "2   Hoping to rebound from their loss to the Patr...   \n",
       "3   Hoping to rebound from their loss to the Patr...   \n",
       "4   Hoping to rebound from their loss to the Patr...   \n",
       "\n",
       "                                            question  \\\n",
       "0        Who scored the first touchdown of the game?   \n",
       "1          How many field goals did Kris Brown kick?   \n",
       "2                           Which team won the game?   \n",
       "3  How many field goals did both teams kick in th...   \n",
       "4  How many more yards was Kris Browns's first fi...   \n",
       "\n",
       "                                       answers_spans      predicted   EM   F1  \n",
       "0  {'spans': ['Chaz Schilens', 'JaMarcus Russell'...  Chaz Schilens  1.0  1.0  \n",
       "1  {'spans': ['2', '3', '3', '3', '3'], 'types': ...              3  1.0  1.0  \n",
       "2  {'spans': ['Raiders', 'Raiders', 'Raiders', 't...         Texans  0.0  0.0  \n",
       "3  {'spans': ['2', '2', '2', '2', '2'], 'types': ...              2  1.0  1.0  \n",
       "4  {'spans': ['29', '20', '29', '29', '29'], 'typ...             29  1.0  1.0  "
      ]
     },
     "execution_count": 22,
     "metadata": {},
     "output_type": "execute_result"
    }
   ],
   "source": [
    "valid_df.head()"
   ]
  },
  {
   "cell_type": "code",
   "execution_count": 23,
   "metadata": {},
   "outputs": [
    {
     "name": "stderr",
     "output_type": "stream",
     "text": [
      "/home/omar/miniconda3/lib/python3.9/site-packages/transformers/models/t5/tokenization_t5.py:172: UserWarning: This sequence already has </s>. In future versions this behavior may lead to duplicated eos tokens being added.\n",
      "  warnings.warn(\n"
     ]
    },
    {
     "name": "stdout",
     "output_type": "stream",
     "text": [
      "75.7\n"
     ]
    }
   ],
   "source": [
    "\n",
    "def generate_answer(question,passage,model,tokenizer):\n",
    "    \n",
    "    input_text = f\"question: {question} context: {passage} </s>\"\n",
    "\n",
    "    input_ids = tokenizer.encode(input_text,return_tensors=\"tf\")  \n",
    "    outputs = model.generate(input_ids)\n",
    "    tokenizer.decode(outputs[0])\n",
    "    ans = tokenizer.decode(outputs[0])\n",
    "    ans = ans.replace('<pad>','')\n",
    "    ans = ans.replace('</s>','')\n",
    "    ans = ans.strip()\n",
    "    ans = re.sub(r'(\\d)\\s+(\\d)', r'\\1\\2', ans)\n",
    "    return ans\n",
    "\n",
    "\n",
    "\n",
    "question='answer_me: What percentage of penguins do not like to eat fish?'\n",
    "context = ' context: There are lots of penguins all over the world. They all like to eat different things. One study estimates that 24.3% of penguins like to eat fish.'\n",
    "\n",
    "ans = generate_answer(question,context,model,tokenizer)\n",
    "print(ans)"
   ]
  },
  {
   "cell_type": "code",
   "execution_count": null,
   "metadata": {},
   "outputs": [],
   "source": []
  },
  {
   "cell_type": "code",
   "execution_count": 24,
   "metadata": {},
   "outputs": [
    {
     "name": "stdout",
     "output_type": "stream",
     "text": [
      "32.75\n"
     ]
    }
   ],
   "source": [
    "question='answer_me: What percentage of penguins do not like to eat fish?'\n",
    "context = ' context: There are lots of penguins all over the world. They all like to eat different things. One study estimates that 67.25% of penguins like to eat fish.'\n",
    "\n",
    "ans = generate_answer(question,context,model,tokenizer)\n",
    "print(ans)"
   ]
  },
  {
   "cell_type": "code",
   "execution_count": null,
   "metadata": {},
   "outputs": [],
   "source": []
  },
  {
   "cell_type": "code",
   "execution_count": 25,
   "metadata": {},
   "outputs": [
    {
     "name": "stdout",
     "output_type": "stream",
     "text": [
      "53.72\n"
     ]
    }
   ],
   "source": [
    "question='answer_me: How many percent are not Marriage couples living together?'\n",
    "context = ' context: There were 664,594 households out of which 24.35% had children under the age of 18 living with them, 46.28% were Marriage living together, 11.68% had a female householder with no husband present, and 37.40% were non-families. 30.11% of all households were made up of individuals and 14.70% (4.02% male and 10.68% female) had someone living alone who was 65 years of age or older. The average household size was 2.39 and the average family size was 2.97.'\n",
    "\n",
    "ans = generate_answer(question,context,model,tokenizer)\n",
    "print(ans)"
   ]
  },
  {
   "cell_type": "code",
   "execution_count": 26,
   "metadata": {},
   "outputs": [
    {
     "data": {
      "text/plain": [
       "53.72"
      ]
     },
     "execution_count": 26,
     "metadata": {},
     "output_type": "execute_result"
    }
   ],
   "source": [
    "100-46.28"
   ]
  },
  {
   "cell_type": "code",
   "execution_count": 27,
   "metadata": {},
   "outputs": [
    {
     "name": "stdout",
     "output_type": "stream",
     "text": [
      "52\n",
      "should be: 61\n"
     ]
    }
   ],
   "source": [
    "question='answer_me: How many points did the Ravens score in their two highest scoring games combined?'\n",
    "context = ' context: Baltimore managed to beat the Jets 10-9 on the 2010 opener, but then lost a poorly-played game against Cincinnati the following week. The Ravens rebounded against the other two division teams, beating Cleveland 24-17 in Week 3 and then Pittsburgh 17-14 in Week 4. The Ravens scored a fine win (31-17) at home against Denver in Week 5. After an overtime loss to New England, they narrowly avoided losing at home to the winless Bills. Next, the Ravens hosted Miami and won 26-10, breaking that teams 4-0 road streak. On Thursday Night, the team headed to Atlanta and lost 26-21 in a game that had some criticizing the officiating. The Ravens finished the season 12-4, second in the division due to a tiebreaker with Pittsburgh, and earning a wild card spot. Baltimore headed to Kansas City and crushed the unprepared Chiefs 30-7, but once again were knocked from the playoffs by Pittsburgh in a hard-fought battle.'\n",
    "\n",
    "ans = generate_answer(question,context,model,tokenizer)\n",
    "print(ans)\n",
    "print('should be: 61')"
   ]
  },
  {
   "cell_type": "code",
   "execution_count": 28,
   "metadata": {},
   "outputs": [
    {
     "name": "stdout",
     "output_type": "stream",
     "text": [
      "11 0\n",
      "should be: 155\n"
     ]
    }
   ],
   "source": [
    "question='answer_me: How many yards of field goals did Gould kick?'\n",
    "context = ' context: Trying to snap a six-game losing skid, the Lions returned home for an NFC North rematch the-now 2-time NFC North champion Chicago Bears.  In the first quarter, the Bears struck first with kicker Robbie Gould nailing a 36-yard field goal.  Afterwards, the Lions took the lead with QB Jon Kitna completing a 23-yard TD pass to TE Dan Campbell.  In the second quarter, Chicago bounced back with QB Rex Grossman completing a 13-yard TD pass to WR Bernard Berrian.  Afterwards, RB Adrian Peterson got a 2-yard TD run.  In the third quarter, Detroit retook the lead with Kitna completing a 20-yard TD pass to WR Mike Furrey and a 2-yard TD pass to WR Roy Williams.  However, in the fourth quarter, the inconsistency that continues to plague the Lions showed as the Bears won with Gould getting a 36-yard field goal, a 39-yard field goal, and a 44-yard field goal and on a dropped pass by Mike Williams in the endzone on the last play of the game.  With their seventh-straight loss, the Lions fell to 2-13 as they were swept by their division rivals.'\n",
    "\n",
    "ans = generate_answer(question,context,model,tokenizer)\n",
    "print(ans)\n",
    "print('should be: 155')"
   ]
  },
  {
   "cell_type": "code",
   "execution_count": null,
   "metadata": {},
   "outputs": [],
   "source": []
  },
  {
   "cell_type": "code",
   "execution_count": 29,
   "metadata": {},
   "outputs": [
    {
     "name": "stdout",
     "output_type": "stream",
     "text": [
      "65.7\n",
      "should be: 23.2\n"
     ]
    }
   ],
   "source": [
    "question='answer_me: How many more people, in terms of percentage, were in the 2nd and 3rd largest age groups combined compared to the largest?'\n",
    "context = ' context: In the county, the population was spread out with 30.20% under the age of 18, 9.30% from 18 to 24, 45.90% from 25 to 44, 20.10% from 45 to 64, and 14.60% who were 65 years of age or older.  The median age was 37 years. For every 100 females there were 95.90 males.  For every 100 females age 18 and over, there were 92.50 males.'\n",
    "\n",
    "ans = generate_answer(question,context,model,tokenizer)\n",
    "print(ans)\n",
    "print('should be: 23.2')"
   ]
  },
  {
   "cell_type": "code",
   "execution_count": 30,
   "metadata": {},
   "outputs": [
    {
     "data": {
      "text/plain": [
       "4.399999999999999"
      ]
     },
     "execution_count": 30,
     "metadata": {},
     "output_type": "execute_result"
    }
   ],
   "source": [
    "30.2+20.1-45.9"
   ]
  },
  {
   "cell_type": "code",
   "execution_count": 31,
   "metadata": {},
   "outputs": [
    {
     "data": {
      "text/plain": [
       "23.200000000000003"
      ]
     },
     "execution_count": 31,
     "metadata": {},
     "output_type": "execute_result"
    }
   ],
   "source": [
    "26.2+23.5-26.5"
   ]
  },
  {
   "cell_type": "code",
   "execution_count": null,
   "metadata": {},
   "outputs": [],
   "source": []
  },
  {
   "cell_type": "raw",
   "metadata": {},
   "source": [
    "model.non_trainable_weights"
   ]
  },
  {
   "cell_type": "raw",
   "metadata": {},
   "source": [
    "valid_df[['query_id','passage','question','answers_spans','predicted','EM','F1']].sample(10)"
   ]
  },
  {
   "cell_type": "raw",
   "metadata": {},
   "source": [
    "question='question:  How many people in total would occupy 6 square miles of this county based on the population density in the census of 2000?'\n",
    "context = ' context:  As of the census of 2000, there were 445,342 people, 169,162 households, and 114,015 families residing in the county.  The population density was 615 people per square mile (238/km²).  There were 178,913 housing units at an average density of 247 per square mile (95/km²).  The racial makeup of the county was 82.19% Race (United States Census), 1.15% Race (United States Census) or Race (United States Census), 0.65% Race (United States Census), 6.68% Race (United States Census), 0.30% Race (United States Census), 5.86% from Race (United States Census), and 3.17% from two or more races.  11.17% of the population were Race (United States Census) or Race (United States Census) of any race. 17.2% were of German American, 9.9% English American, 8.2% Irish American, and 6.7% Americans ancestry. 81.7% spoke only English at home, while 9.6% spoke Spanish and 1.2% Vietnamese.'\n",
    "\n",
    "\n",
    "\n",
    "\n",
    "\n",
    "def generate_answer(question,passage,model,tokenizer):\n",
    "    \n",
    "    input_text = f\"question: {question} context: {passage} </s>\"\n",
    "\n",
    "    input_ids = tokenizer.encode(input_text,return_tensors=\"tf\")  \n",
    "    outputs = model.generate(input_ids)\n",
    "    tokenizer.decode(outputs[0])\n",
    "\n",
    "    return tokenizer.decode(outputs[0])\n",
    "\n",
    "ans = generate_answer(question,context,model,tokenizer)\n",
    "print(ans)"
   ]
  },
  {
   "cell_type": "raw",
   "metadata": {},
   "source": [
    "model.layers[2].weights[0].trainable"
   ]
  },
  {
   "cell_type": "code",
   "execution_count": null,
   "metadata": {},
   "outputs": [],
   "source": []
  },
  {
   "cell_type": "markdown",
   "metadata": {},
   "source": [
    "# Cells to explore the model a bit\n",
    "\n",
    "(make these raw cells into code cells to explore)"
   ]
  },
  {
   "cell_type": "raw",
   "metadata": {},
   "source": [
    "print('embeddings layer: ', model.layers[0].weights[0].name)\n",
    "print('shape: ',model.layers[0].weights[0].shape)"
   ]
  },
  {
   "cell_type": "raw",
   "metadata": {},
   "source": [
    "model.trainable = False"
   ]
  },
  {
   "cell_type": "raw",
   "metadata": {},
   "source": [
    "model.layers[1].weights[49].trainable"
   ]
  },
  {
   "cell_type": "raw",
   "metadata": {},
   "source": [
    "dir(model)"
   ]
  },
  {
   "cell_type": "raw",
   "metadata": {},
   "source": [
    "len(model.layers[1].weights)"
   ]
  },
  {
   "cell_type": "raw",
   "metadata": {},
   "source": [
    "model.layers[1].weights[49].trainable = False"
   ]
  },
  {
   "cell_type": "raw",
   "metadata": {},
   "source": [
    "model.layers[1].weights[49].trainable"
   ]
  },
  {
   "cell_type": "raw",
   "metadata": {},
   "source": [
    "\n",
    "for x in range(len(model.layers[1].weights)):\n",
    "    weights = model.layers[1].weights[x]\n",
    "    print('layer: ',x)\n",
    "    print('   - '+weights.name)\n",
    "    print('shape: ',weights.shape)\n",
    "    print()"
   ]
  },
  {
   "cell_type": "raw",
   "metadata": {},
   "source": [
    "len(model.layers[1].weights)"
   ]
  },
  {
   "cell_type": "raw",
   "metadata": {},
   "source": [
    "for x in range(len(model.layers[1].weights)):\n",
    "    weights = model.layers[1].weights[x]\n",
    "    print('layer: ',x)\n",
    "    print('   - '+weights.name)\n",
    "    print('shape: ',weights.shape)\n",
    "    print()"
   ]
  },
  {
   "cell_type": "raw",
   "metadata": {},
   "source": [
    "len(model.layers[1].weights)"
   ]
  },
  {
   "cell_type": "raw",
   "metadata": {},
   "source": [
    "model.layers[0].weights"
   ]
  },
  {
   "cell_type": "raw",
   "metadata": {},
   "source": []
  },
  {
   "cell_type": "raw",
   "metadata": {},
   "source": [
    "for item in tf_valid_ds:\n",
    "    inputs = item\n",
    "    outputs = model(inputs)\n",
    "    break"
   ]
  },
  {
   "cell_type": "raw",
   "metadata": {},
   "source": [
    "inputs.keys()"
   ]
  },
  {
   "cell_type": "raw",
   "metadata": {},
   "source": [
    "type(outputs)"
   ]
  },
  {
   "cell_type": "raw",
   "metadata": {},
   "source": [
    "outputs.keys()"
   ]
  },
  {
   "cell_type": "raw",
   "metadata": {},
   "source": [
    "tokenizer.vocab_size"
   ]
  },
  {
   "cell_type": "raw",
   "metadata": {},
   "source": [
    "outputs['logits']"
   ]
  },
  {
   "cell_type": "raw",
   "metadata": {},
   "source": []
  }
 ],
 "metadata": {
  "accelerator": "GPU",
  "colab": {
   "name": "T5_DROP_training.ipynb",
   "provenance": []
  },
  "kernelspec": {
   "display_name": "Python 3 (ipykernel)",
   "language": "python",
   "name": "python3"
  },
  "language_info": {
   "codemirror_mode": {
    "name": "ipython",
    "version": 3
   },
   "file_extension": ".py",
   "mimetype": "text/x-python",
   "name": "python",
   "nbconvert_exporter": "python",
   "pygments_lexer": "ipython3",
   "version": "3.9.1"
  }
 },
 "nbformat": 4,
 "nbformat_minor": 4
}
