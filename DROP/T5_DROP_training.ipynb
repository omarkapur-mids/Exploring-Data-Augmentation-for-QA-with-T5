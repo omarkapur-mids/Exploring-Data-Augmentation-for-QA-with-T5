{
 "cells": [
  {
   "cell_type": "markdown",
   "metadata": {
    "id": "47S35TVwgIeG",
    "tags": []
   },
   "source": [
    "# Exploring Data Augmentation for Question Answering with T5\n",
    "### Omar Kapur, Phillip Ng, Amber Rashid\n",
    "#### W266, Summer 2021"
   ]
  },
  {
   "cell_type": "code",
   "execution_count": 1,
   "metadata": {
    "tags": []
   },
   "outputs": [],
   "source": [
    "## decide which size of T5 to use\n",
    "t5_model = 't5-small'\n",
    "#choose whether to save the model that will be trained\n",
    "save_model = True\n",
    "VERSION=\"augmented-drop-50percent-30\"\n",
    "#choose whether to load the weights of a previously trained model\n",
    "load_model = False\n",
    "load_version = ''\n",
    "#choose whether to train the model\n",
    "train_model = True\n",
    "#choose whether to use a learning rate scheduler with warm-up & decay\n",
    "use_learning_schedule = True\n",
    "\n",
    "#choose whether to predict on train and/or dev sets\n",
    "predict_train = False\n",
    "predict_dev = True\n",
    "#choose whether to save prediction results to pickle folder\n",
    "save_results = True\n",
    "\n",
    "#choose number of epochs\n",
    "epochs = 30\n",
    "#choose batch size\n",
    "batch_size = 8\n",
    "#choose dataset to use\n",
    "dataset='augmented_drop' #acceptable values: drop, squad, hotpot_qa, augmented, augmented_drop\n",
    "augmented_file = 'drop-augmented-50.pkl' #acceptable values: drop-augmented-5.pkl, drop-augmented-10.pkl, drop-augmented-25.pkl, drop-augmented-25.pkl\n",
    "\n",
    "#choose whether to run a toy size dataset\n",
    "run_toy = False\n",
    "toy_size = 1000\n",
    "\n",
    "#additional parameters\n",
    "encoder_max_len = 512 #250\n",
    "decoder_max_len = 54\n",
    "buffer_size = 1000"
   ]
  },
  {
   "cell_type": "markdown",
   "metadata": {
    "id": "uUEAtP-egIeI"
   },
   "source": [
    "#### Package installs"
   ]
  },
  {
   "cell_type": "raw",
   "metadata": {
    "id": "xKtbsamsidKs"
   },
   "source": [
    "!pip install --quiet transformers\n",
    "!pip install --quiet sentencepiece\n",
    "!pip install --quiet wget\n",
    "!pip install --quiet datasets\n",
    "#!pip install --quiet ipywidgets\n",
    "#!pip install --quiet tensorflow\n"
   ]
  },
  {
   "cell_type": "markdown",
   "metadata": {
    "id": "vAC1x24qgIeJ"
   },
   "source": [
    "#### check gpu"
   ]
  },
  {
   "cell_type": "code",
   "execution_count": 2,
   "metadata": {
    "colab": {
     "base_uri": "https://localhost:8080/"
    },
    "id": "pyexkfSDij_3",
    "outputId": "6f764bbb-097b-4fc0-dd92-bfe8b5a65292"
   },
   "outputs": [
    {
     "name": "stdout",
     "output_type": "stream",
     "text": [
      "Fri Jul 30 09:27:08 2021       \n",
      "+-----------------------------------------------------------------------------+\n",
      "| NVIDIA-SMI 470.57.02    Driver Version: 470.57.02    CUDA Version: 11.4     |\n",
      "|-------------------------------+----------------------+----------------------+\n",
      "| GPU  Name        Persistence-M| Bus-Id        Disp.A | Volatile Uncorr. ECC |\n",
      "| Fan  Temp  Perf  Pwr:Usage/Cap|         Memory-Usage | GPU-Util  Compute M. |\n",
      "|                               |                      |               MIG M. |\n",
      "|===============================+======================+======================|\n",
      "|   0  NVIDIA GeForce ...  Off  | 00000000:01:00.0  On |                  N/A |\n",
      "|  0%   54C    P8    49W / 420W |    490MiB / 24265MiB |      0%      Default |\n",
      "|                               |                      |                  N/A |\n",
      "+-------------------------------+----------------------+----------------------+\n",
      "                                                                               \n",
      "+-----------------------------------------------------------------------------+\n",
      "| Processes:                                                                  |\n",
      "|  GPU   GI   CI        PID   Type   Process name                  GPU Memory |\n",
      "|        ID   ID                                                   Usage      |\n",
      "|=============================================================================|\n",
      "|    0   N/A  N/A      1442      G   /usr/lib/xorg/Xorg                 53MiB |\n",
      "|    0   N/A  N/A      8340      G   /usr/lib/xorg/Xorg                232MiB |\n",
      "|    0   N/A  N/A      8509      G   /usr/bin/gnome-shell               75MiB |\n",
      "|    0   N/A  N/A     15781      G   ...AAAAAAAAA= --shared-files       36MiB |\n",
      "|    0   N/A  N/A   1140745      G   ...AAAAAAAAA= --shared-files       74MiB |\n",
      "+-----------------------------------------------------------------------------+\n"
     ]
    }
   ],
   "source": [
    "!nvidia-smi"
   ]
  },
  {
   "cell_type": "markdown",
   "metadata": {
    "id": "y2EQCkymgIeK"
   },
   "source": [
    "#### Download drop_eval module and set directories\n",
    "\n",
    "https://github.com/allenai/allennlp-reading-comprehension/blob/master/allennlp_rc/eval/drop_eval.py"
   ]
  },
  {
   "cell_type": "code",
   "execution_count": 3,
   "metadata": {},
   "outputs": [
    {
     "name": "stdout",
     "output_type": "stream",
     "text": [
      "--2021-07-30 09:27:15--  https://raw.githubusercontent.com/allenai/allennlp-reading-comprehension/master/allennlp_rc/eval/drop_eval.py\n",
      "Resolving raw.githubusercontent.com (raw.githubusercontent.com)... 185.199.111.133, 185.199.108.133, 185.199.109.133, ...\n",
      "Connecting to raw.githubusercontent.com (raw.githubusercontent.com)|185.199.111.133|:443... connected.\n",
      "HTTP request sent, awaiting response... 200 OK\n",
      "Length: 11222 (11K) [text/plain]\n",
      "Saving to: ‘drop_eval.py’\n",
      "\n",
      "drop_eval.py        100%[===================>]  10.96K  --.-KB/s    in 0.004s  \n",
      "\n",
      "2021-07-30 09:27:15 (2.63 MB/s) - ‘drop_eval.py’ saved [11222/11222]\n",
      "\n"
     ]
    }
   ],
   "source": [
    "!wget https://raw.githubusercontent.com/allenai/allennlp-reading-comprehension/master/allennlp_rc/eval/drop_eval.py -O drop_eval.py\n",
    "import os\n",
    "def create_dir(d,verbose=False):\n",
    "    if not os.path.exists(d):\n",
    "        !mkdir -p $d    \n",
    "        if verbose: print(f'created folder for {d}')\n",
    "    else:\n",
    "        if verbose: print(f'using existing folder for {d}\\nCAUTION -- this run may overwrite existing data!')\n",
    "    \n",
    "#set directories\n",
    "root_dir = './data'\n",
    "data_dir = f\"./data/{VERSION}/{t5_model}\"\n",
    "augmented_dir = f\"{root_dir}/augmented-data\"\n",
    "results_dir = f\"{data_dir}/results/\"\n",
    "log_dir = f\"{data_dir}/experiments/logs\"\n",
    "save_dir = f\"{data_dir}/experiments/models\"\n",
    "load_dir = f\"{root_dir}/{load_version}/{t5_model}/experiments/models\"\n",
    "\n",
    "create_dir(root_dir)\n",
    "create_dir(data_dir)\n",
    "create_dir(augmented_dir)\n",
    "create_dir(results_dir)\n",
    "create_dir(log_dir)\n",
    "create_dir(save_dir)\n",
    "\n",
    "if load_model:\n",
    "    assert os.path.exists(load_dir), 'Error - trying to load a model that doesnt exist'"
   ]
  },
  {
   "cell_type": "markdown",
   "metadata": {
    "id": "j-ADai1tgIeL"
   },
   "source": [
    "#### load packages"
   ]
  },
  {
   "cell_type": "code",
   "execution_count": 4,
   "metadata": {
    "id": "4w1GhOTfgIeM"
   },
   "outputs": [
    {
     "name": "stderr",
     "output_type": "stream",
     "text": [
      "2021-07-30 09:27:21.140206: I tensorflow/stream_executor/platform/default/dso_loader.cc:53] Successfully opened dynamic library libcudart.so.11.0\n"
     ]
    },
    {
     "name": "stdout",
     "output_type": "stream",
     "text": [
      "nvcc: NVIDIA (R) Cuda compiler driver\n",
      "Copyright (c) 2005-2021 NVIDIA Corporation\n",
      "Built on Wed_Jun__2_19:15:15_PDT_2021\n",
      "Cuda compilation tools, release 11.4, V11.4.48\n",
      "Build cuda_11.4.r11.4/compiler.30033411_0\n"
     ]
    },
    {
     "name": "stderr",
     "output_type": "stream",
     "text": [
      "2021-07-30 09:27:22.379374: I tensorflow/stream_executor/platform/default/dso_loader.cc:53] Successfully opened dynamic library libcuda.so.1\n",
      "2021-07-30 09:27:22.391100: I tensorflow/stream_executor/cuda/cuda_gpu_executor.cc:937] successful NUMA node read from SysFS had negative value (-1), but there must be at least one NUMA node, so returning NUMA node zero\n",
      "2021-07-30 09:27:22.391853: I tensorflow/core/common_runtime/gpu/gpu_device.cc:1733] Found device 0 with properties: \n",
      "pciBusID: 0000:01:00.0 name: NVIDIA GeForce RTX 3090 computeCapability: 8.6\n",
      "coreClock: 1.8GHz coreCount: 82 deviceMemorySize: 23.70GiB deviceMemoryBandwidth: 871.81GiB/s\n",
      "2021-07-30 09:27:22.391869: I tensorflow/stream_executor/platform/default/dso_loader.cc:53] Successfully opened dynamic library libcudart.so.11.0\n",
      "2021-07-30 09:27:22.394055: I tensorflow/stream_executor/platform/default/dso_loader.cc:53] Successfully opened dynamic library libcublas.so.11\n",
      "2021-07-30 09:27:22.394083: I tensorflow/stream_executor/platform/default/dso_loader.cc:53] Successfully opened dynamic library libcublasLt.so.11\n",
      "2021-07-30 09:27:22.395243: I tensorflow/stream_executor/platform/default/dso_loader.cc:53] Successfully opened dynamic library libcufft.so.10\n",
      "2021-07-30 09:27:22.395387: I tensorflow/stream_executor/platform/default/dso_loader.cc:53] Successfully opened dynamic library libcurand.so.10\n",
      "2021-07-30 09:27:22.395663: I tensorflow/stream_executor/platform/default/dso_loader.cc:53] Successfully opened dynamic library libcusolver.so.11\n",
      "2021-07-30 09:27:22.396136: I tensorflow/stream_executor/platform/default/dso_loader.cc:53] Successfully opened dynamic library libcusparse.so.11\n",
      "2021-07-30 09:27:22.396225: I tensorflow/stream_executor/platform/default/dso_loader.cc:53] Successfully opened dynamic library libcudnn.so.8\n",
      "2021-07-30 09:27:22.396284: I tensorflow/stream_executor/cuda/cuda_gpu_executor.cc:937] successful NUMA node read from SysFS had negative value (-1), but there must be at least one NUMA node, so returning NUMA node zero\n",
      "2021-07-30 09:27:22.397046: I tensorflow/stream_executor/cuda/cuda_gpu_executor.cc:937] successful NUMA node read from SysFS had negative value (-1), but there must be at least one NUMA node, so returning NUMA node zero\n",
      "2021-07-30 09:27:22.397765: I tensorflow/core/common_runtime/gpu/gpu_device.cc:1871] Adding visible gpu devices: 0\n"
     ]
    }
   ],
   "source": [
    "from transformers import T5Tokenizer, TFT5ForConditionalGeneration\n",
    "import tensorflow as tf\n",
    "os.environ['TF_CPP_MIN_LOG_LEVEL'] = '3'\n",
    "import tensorflow.keras as keras\n",
    "import drop_eval\n",
    "import pandas as pd\n",
    "import numpy as np\n",
    "import json\n",
    "from datasets import Dataset, load_dataset\n",
    "import tensorflow_datasets as tfds\n",
    "from sklearn.model_selection import train_test_split\n",
    "import matplotlib.pyplot as plt\n",
    "import datetime\n",
    "import re\n",
    "\n",
    "from concurrent.futures import ThreadPoolExecutor, as_completed\n",
    "from tqdm.notebook import tqdm,trange\n",
    "\n",
    "%load_ext tensorboard\n",
    "\n",
    "assert len(tf.config.list_physical_devices(\"GPU\")) > 0, \"No GPU found by Tensorflow\"\n",
    "\n",
    "if(run_toy): print(f'Running on {toy_size:,} records for development run')\n",
    "    \n",
    "!nvcc -V"
   ]
  },
  {
   "cell_type": "markdown",
   "metadata": {
    "id": "5goXuHR1gIeM"
   },
   "source": [
    "#### Define model class"
   ]
  },
  {
   "cell_type": "code",
   "execution_count": 5,
   "metadata": {
    "id": "XdP6lcFegIeM",
    "tags": []
   },
   "outputs": [],
   "source": [
    "\n",
    "class T5forDrop(TFT5ForConditionalGeneration):\n",
    "    def __init__(self, *args, log_dir=None, cache_dir= None, **kwargs):\n",
    "        super().__init__(*args, **kwargs)\n",
    "        self.loss_tracker= tf.keras.metrics.Mean(name='loss')\n",
    "    \n",
    "    @tf.function\n",
    "    def train_step(self, data):\n",
    "        x = data\n",
    "        y = x[\"labels\"]\n",
    "        y = tf.reshape(y, [-1, 1])\n",
    "        with tf.GradientTape() as tape:\n",
    "            outputs = self(x, training=True)\n",
    "            loss = outputs[0]\n",
    "            logits = outputs[1]\n",
    "            loss = tf.reduce_mean(loss)\n",
    "            \n",
    "            grads = tape.gradient(loss, self.trainable_variables)\n",
    "            \n",
    "        self.optimizer.apply_gradients(zip(grads, self.trainable_variables))\n",
    "        lr = self.optimizer._decayed_lr(tf.float32)\n",
    "        \n",
    "        self.loss_tracker.update_state(loss)        \n",
    "        self.compiled_metrics.update_state(y, logits)\n",
    "        metrics = {m.name: m.result() for m in self.metrics}\n",
    "        metrics.update({'lr': lr})\n",
    "        \n",
    "        return metrics\n",
    "\n",
    "    def test_step(self, data):\n",
    "        x = data\n",
    "        y = x[\"labels\"]\n",
    "        y = tf.reshape(y, [-1, 1])\n",
    "        output = self(x, training=False)\n",
    "        loss = output[0]\n",
    "        loss = tf.reduce_mean(loss)\n",
    "        logits = output[1]\n",
    "        \n",
    "        self.loss_tracker.update_state(loss)\n",
    "        self.compiled_metrics.update_state(y, logits)\n",
    "        return {m.name: m.result() for m in self.metrics}\n"
   ]
  },
  {
   "cell_type": "markdown",
   "metadata": {
    "id": "esxfDrXO66Bz"
   },
   "source": [
    "#### Import model and tokenizer"
   ]
  },
  {
   "cell_type": "code",
   "execution_count": 6,
   "metadata": {
    "colab": {
     "base_uri": "https://localhost:8080/"
    },
    "id": "r08M8aqE65_M",
    "outputId": "6fa4e62d-e0a1-419d-f167-370905df422c"
   },
   "outputs": [
    {
     "name": "stderr",
     "output_type": "stream",
     "text": [
      "2021-07-30 09:27:28.369309: I tensorflow/core/platform/cpu_feature_guard.cc:142] This TensorFlow binary is optimized with oneAPI Deep Neural Network Library (oneDNN) to use the following CPU instructions in performance-critical operations:  AVX2 AVX512F FMA\n",
      "To enable them in other operations, rebuild TensorFlow with the appropriate compiler flags.\n",
      "2021-07-30 09:27:28.371775: I tensorflow/stream_executor/cuda/cuda_gpu_executor.cc:937] successful NUMA node read from SysFS had negative value (-1), but there must be at least one NUMA node, so returning NUMA node zero\n",
      "2021-07-30 09:27:28.374520: I tensorflow/core/common_runtime/gpu/gpu_device.cc:1733] Found device 0 with properties: \n",
      "pciBusID: 0000:01:00.0 name: NVIDIA GeForce RTX 3090 computeCapability: 8.6\n",
      "coreClock: 1.8GHz coreCount: 82 deviceMemorySize: 23.70GiB deviceMemoryBandwidth: 871.81GiB/s\n",
      "2021-07-30 09:27:28.374710: I tensorflow/stream_executor/cuda/cuda_gpu_executor.cc:937] successful NUMA node read from SysFS had negative value (-1), but there must be at least one NUMA node, so returning NUMA node zero\n",
      "2021-07-30 09:27:28.376907: I tensorflow/stream_executor/cuda/cuda_gpu_executor.cc:937] successful NUMA node read from SysFS had negative value (-1), but there must be at least one NUMA node, so returning NUMA node zero\n",
      "2021-07-30 09:27:28.378572: I tensorflow/core/common_runtime/gpu/gpu_device.cc:1871] Adding visible gpu devices: 0\n",
      "2021-07-30 09:27:28.378630: I tensorflow/stream_executor/platform/default/dso_loader.cc:53] Successfully opened dynamic library libcudart.so.11.0\n",
      "2021-07-30 09:27:28.680657: I tensorflow/core/common_runtime/gpu/gpu_device.cc:1258] Device interconnect StreamExecutor with strength 1 edge matrix:\n",
      "2021-07-30 09:27:28.680678: I tensorflow/core/common_runtime/gpu/gpu_device.cc:1264]      0 \n",
      "2021-07-30 09:27:28.680684: I tensorflow/core/common_runtime/gpu/gpu_device.cc:1277] 0:   N \n",
      "2021-07-30 09:27:28.680844: I tensorflow/stream_executor/cuda/cuda_gpu_executor.cc:937] successful NUMA node read from SysFS had negative value (-1), but there must be at least one NUMA node, so returning NUMA node zero\n",
      "2021-07-30 09:27:28.681662: I tensorflow/stream_executor/cuda/cuda_gpu_executor.cc:937] successful NUMA node read from SysFS had negative value (-1), but there must be at least one NUMA node, so returning NUMA node zero\n",
      "2021-07-30 09:27:28.682380: I tensorflow/stream_executor/cuda/cuda_gpu_executor.cc:937] successful NUMA node read from SysFS had negative value (-1), but there must be at least one NUMA node, so returning NUMA node zero\n",
      "2021-07-30 09:27:28.683075: I tensorflow/core/common_runtime/gpu/gpu_device.cc:1418] Created TensorFlow device (/job:localhost/replica:0/task:0/device:GPU:0 with 21832 MB memory) -> physical GPU (device: 0, name: NVIDIA GeForce RTX 3090, pci bus id: 0000:01:00.0, compute capability: 8.6)\n",
      "2021-07-30 09:27:28.855699: W tensorflow/python/util/util.cc:348] Sets are not currently considered sequences, but this may change in the future, so consider avoiding using them.\n",
      "2021-07-30 09:27:28.923233: I tensorflow/stream_executor/platform/default/dso_loader.cc:53] Successfully opened dynamic library libcublas.so.11\n",
      "2021-07-30 09:27:29.376965: I tensorflow/stream_executor/platform/default/dso_loader.cc:53] Successfully opened dynamic library libcublasLt.so.11\n",
      "2021-07-30 09:27:29.377005: I tensorflow/stream_executor/cuda/cuda_blas.cc:1838] TensorFloat-32 will be used for the matrix multiplication. This will only be logged once.\n",
      "All model checkpoint layers were used when initializing T5forDrop.\n",
      "\n",
      "All the layers of T5forDrop were initialized from the model checkpoint at t5-small.\n",
      "If your task is similar to the task the model of the checkpoint was trained on, you can already use T5forDrop for predictions without further training.\n"
     ]
    }
   ],
   "source": [
    "tokenizer = T5Tokenizer.from_pretrained(t5_model)\n",
    "#replace numbers with special tokens\n",
    "numbers = {'additional_special_tokens':['1','2','3','4','5','6','7','8','9','0','<ss>','<sv>']}\n",
    "num_tokens_added = tokenizer.add_special_tokens(numbers)\n",
    "\n",
    "\n",
    "model = T5forDrop.from_pretrained(t5_model)"
   ]
  },
  {
   "cell_type": "markdown",
   "metadata": {
    "id": "WIt7bbI8gIeN"
   },
   "source": [
    "#### Import data"
   ]
  },
  {
   "cell_type": "code",
   "execution_count": 7,
   "metadata": {},
   "outputs": [],
   "source": [
    "def make_toy(dataset,toy_size=1000):\n",
    "    df = dataset.to_pandas()\n",
    "    df = df.head(toy_size)\n",
    "    return Dataset.from_pandas(df)"
   ]
  },
  {
   "cell_type": "code",
   "execution_count": 8,
   "metadata": {
    "colab": {
     "base_uri": "https://localhost:8080/"
    },
    "id": "EaxF09BQgIeO",
    "outputId": "7c233bba-6248-40ef-b87f-6fb31d5a42df"
   },
   "outputs": [
    {
     "name": "stdout",
     "output_type": "stream",
     "text": [
      "loaded augmented drop datafile: drop-augmented-50.pkl\n",
      "\n"
     ]
    },
    {
     "name": "stderr",
     "output_type": "stream",
     "text": [
      "Using custom data configuration default\n",
      "Reusing dataset drop (/home/omar/.cache/huggingface/datasets/drop/default/0.1.0/393cc04823935c1302a6a7e380cdbe9f452d37858ea276409787c983748eae25)\n",
      "Using custom data configuration default\n",
      "Reusing dataset drop (/home/omar/.cache/huggingface/datasets/drop/default/0.1.0/393cc04823935c1302a6a7e380cdbe9f452d37858ea276409787c983748eae25)\n"
     ]
    },
    {
     "name": "stdout",
     "output_type": "stream",
     "text": [
      "Dataset features:  {'section_id': Value(dtype='string', id=None), 'query_id': Value(dtype='string', id=None), 'passage': Value(dtype='string', id=None), 'question': Value(dtype='string', id=None), 'answers_spans': {'spans': Sequence(feature=Value(dtype='string', id=None), length=-1, id=None), 'types': Sequence(feature=Value(dtype='string', id=None), length=-1, id=None)}, 'source': Value(dtype='string', id=None), 'index': Value(dtype='float64', id=None), 'context': Value(dtype='string', id=None), 'answer': Value(dtype='string', id=None), 'qtype': Value(dtype='string', id=None), 'topic': Value(dtype='string', id=None), '__index_level_0__': Value(dtype='int64', id=None)}\n",
      "\n",
      "\n",
      "Example data from the dataset: \n",
      " {'section_id': 'nfl_1184', 'query_id': 'f37e81fa-ef7b-4583-b671-762fc433faa9', 'passage': \" Hoping to rebound from their loss to the Patriots, the Raiders stayed at home for a Week 16 duel with the Houston Texans.  Oakland would get the early lead in the first quarter as quarterback JaMarcus Russell completed a 20-yard touchdown pass to rookie wide receiver Chaz Schilens.  The Texans would respond with fullback Vonta Leach getting a 1-yard touchdown run, yet the Raiders would answer with kicker Sebastian Janikowski getting a 33-yard and a 30-yard field goal.  Houston would tie the game in the second quarter with kicker Kris Brown getting a 53-yard and a 24-yard field goal. Oakland would take the lead in the third quarter with wide receiver Johnnie Lee Higgins catching a 29-yard touchdown pass from Russell, followed up by an 80-yard punt return for a touchdown.  The Texans tried to rally in the fourth quarter as Brown nailed a 40-yard field goal, yet the Raiders' defense would shut down any possible attempt.\", 'question': 'Who scored the first touchdown of the game?', 'answers_spans': {'spans': ['Chaz Schilens', 'JaMarcus Russell'], 'types': ['span', 'span']}}\n"
     ]
    }
   ],
   "source": [
    "if dataset == \"hotpot_qa\":\n",
    "    train_dataset_full = load_dataset(dataset,'distractor',split='train')\n",
    "    \n",
    "elif dataset == 'augmented':\n",
    "    full_df = pd.read_pickle(augmented_dir+'/augmented_data.pkl')\n",
    "    train_dataset_full = Dataset.from_pandas(full_df)\n",
    "    \n",
    "elif dataset == 'augmented_drop':\n",
    "    aug_df = pd.read_pickle(augmented_dir+'/'+augmented_file)\n",
    "    print('loaded augmented drop datafile: {}\\n'.format(augmented_file))\n",
    "    aug_df['source'] = 'augmented'\n",
    "    drop_train_dataset = load_dataset('drop',split='train')\n",
    "    drop_df = drop_train_dataset.to_pandas()\n",
    "    drop_df['source'] = 'drop'\n",
    "    train_df_full = pd.concat([drop_df,aug_df])\n",
    "    train_dataset_full = Dataset.from_pandas(train_df_full)\n",
    "    \n",
    "elif dataset == 'drop':\n",
    "    train_dataset_full = load_dataset(dataset,split='train')\n",
    "else:\n",
    "    train_dataset_full = load_dataset(dataset,split='train')\n",
    "\n",
    "#always use drop validation dataset\n",
    "valid_dataset_full = load_dataset('drop', split='validation')\n",
    "\n",
    "print('Dataset features: ',train_dataset_full.features)\n",
    "\n",
    "#reduce data to toy size if run_toy flag is set\n",
    "if(run_toy):\n",
    "    train_dataset = make_toy(train_dataset_full)\n",
    "    valid_dataset = make_toy(valid_dataset_full)\n",
    "\n",
    "else:\n",
    "    train_dataset = train_dataset_full\n",
    "    valid_dataset = valid_dataset_full\n",
    "    \n",
    "#check out one record\n",
    "data = next(iter(valid_dataset))\n",
    "print(\"\\n\\nExample data from the dataset: \\n\", data)"
   ]
  },
  {
   "cell_type": "markdown",
   "metadata": {
    "id": "Jo9sZK0bgIeS"
   },
   "source": [
    "#### set parameters"
   ]
  },
  {
   "cell_type": "code",
   "execution_count": 9,
   "metadata": {},
   "outputs": [
    {
     "name": "stdout",
     "output_type": "stream",
     "text": [
      "Training datset size: 116,400 records\n",
      "Validation datset size: 9,535 records\n",
      "Batch size: 8\n",
      "Total Steps: 14,550\n",
      "Total Validation Steps: 1,192\n"
     ]
    }
   ],
   "source": [
    "steps = int(np.ceil(len(train_dataset)/batch_size))\n",
    "valid_steps = int(np.ceil(len(valid_dataset)/batch_size))\n",
    "print('Training datset size: {:,} records'.format(len(train_dataset)))\n",
    "print('Validation datset size: {:,} records'.format(len(valid_dataset)))\n",
    "print('Batch size: {}'.format(batch_size))\n",
    "print(\"Total Steps: {:,}\".format(steps))\n",
    "print(\"Total Validation Steps: {:,}\".format(valid_steps))"
   ]
  },
  {
   "cell_type": "markdown",
   "metadata": {
    "id": "AZCcTPA0gIeS"
   },
   "source": [
    "#### Preprocess data"
   ]
  },
  {
   "cell_type": "code",
   "execution_count": 10,
   "metadata": {
    "id": "GnCSjtGwgIeT"
   },
   "outputs": [],
   "source": [
    "def encode_train(example,\n",
    "           encoder_max_len=encoder_max_len, decoder_max_len=decoder_max_len):\n",
    "\n",
    "    if dataset == 'drop':\n",
    "        context = example['passage']\n",
    "        question = example['question']\n",
    "\n",
    "        answer = example['answers_spans']['spans']\n",
    "        answer_type = example['answers_spans']['types']\n",
    "    elif dataset == 'squad':\n",
    "        context = example['context']\n",
    "        question = example['question']\n",
    "        \n",
    "        answer = example['answers']['text']\n",
    "        answer_type = 'text'\n",
    "    elif dataset == 'hotpot_qa':\n",
    "        context = ''\n",
    "        for sentence in example[\"context\"][\"sentences\"]:\n",
    "            context += \" \".join(sentence) + \" \"\n",
    "        question = example['question']\n",
    "        \n",
    "        answer = [example['answer']]\n",
    "        answer_type = 'text'    \n",
    "    elif dataset == 'augmented':\n",
    "        context = example['context']\n",
    "        question = example['question']\n",
    "        answer = [example['answer']]\n",
    "        answer_type = example['qtype']\n",
    "    elif dataset == 'augmented_drop':\n",
    "        if(example['source'] == 'drop'):\n",
    "            context = example['passage']\n",
    "            question = example['question']\n",
    "            answer = example['answers_spans']['spans']\n",
    "            answer_type = example['answers_spans']['types']\n",
    "        else:\n",
    "            context = example['context']\n",
    "            question = example['question']\n",
    "            answer = [example['answer']]\n",
    "            answer_type = example['qtype']\n",
    "    \n",
    "    question_plus = f\"answer_me: {str(question)}\"\n",
    "    question_plus += f\" context: {str(context)}\"\n",
    "    \n",
    "    answer_plus = ', '.join([i for i in list(answer)])\n",
    "    answer_plus = f\"{answer_plus}\"\n",
    "    \n",
    "    encoder_inputs = tokenizer(question_plus, truncation=True, \n",
    "                               return_tensors='tf', max_length=encoder_max_len,\n",
    "                              pad_to_max_length=True)\n",
    "    \n",
    "    decoder_inputs = tokenizer(answer_plus, truncation=True, \n",
    "                               return_tensors='tf', max_length=decoder_max_len,\n",
    "                              pad_to_max_length=True)\n",
    "    \n",
    "    input_ids = encoder_inputs['input_ids'][0]\n",
    "    input_attention = encoder_inputs['attention_mask'][0]\n",
    "    target_ids = decoder_inputs['input_ids'][0]\n",
    "    target_attention = decoder_inputs['attention_mask'][0]\n",
    "    \n",
    "    outputs = {'input_ids':input_ids, 'attention_mask': input_attention, \n",
    "               'labels':target_ids, 'decoder_attention_mask':target_attention,\n",
    "                }\n",
    "    return outputs\n",
    "\n",
    "def encode_drop(example,\n",
    "           encoder_max_len=encoder_max_len, decoder_max_len=decoder_max_len):\n",
    "\n",
    "    context = example['passage']\n",
    "    question = example['question']\n",
    "\n",
    "    answer = example['answers_spans']['spans']\n",
    "    answer_type = example['answers_spans']['types']\n",
    "\n",
    "    question_plus = f\"answer_me: {str(question)}\"\n",
    "    question_plus += f\" context: {str(context)}\"\n",
    "    \n",
    "    answer_plus = ', '.join([i for i in list(answer)])\n",
    "    answer_plus = f\"{answer_plus}\"\n",
    "    \n",
    "    encoder_inputs = tokenizer(question_plus, truncation=True, \n",
    "                               return_tensors='tf', max_length=encoder_max_len,\n",
    "                              pad_to_max_length=True)\n",
    "    \n",
    "    decoder_inputs = tokenizer(answer_plus, truncation=True, \n",
    "                               return_tensors='tf', max_length=decoder_max_len,\n",
    "                              pad_to_max_length=True)\n",
    "    \n",
    "    input_ids = encoder_inputs['input_ids'][0]\n",
    "    input_attention = encoder_inputs['attention_mask'][0]\n",
    "    target_ids = decoder_inputs['input_ids'][0]\n",
    "    target_attention = decoder_inputs['attention_mask'][0]\n",
    "    \n",
    "    outputs = {'input_ids':input_ids, 'attention_mask': input_attention, \n",
    "               'labels':target_ids, 'decoder_attention_mask':target_attention,\n",
    "                }\n",
    "    return outputs\n",
    "\n",
    "\n",
    "def to_tf_dataset(dataset):\n",
    "    '''convert from arrow to TF dataset'''\n",
    "    \n",
    "    columns = ['input_ids', 'attention_mask', 'labels', 'decoder_attention_mask']\n",
    "    dataset.set_format(type='tensorflow', columns=columns)\n",
    "    return_types = {'input_ids':tf.int32, 'attention_mask':tf.int32, \n",
    "                'labels':tf.int32, 'decoder_attention_mask':tf.int32,}\n",
    "    return_shapes = {'input_ids': tf.TensorShape([None]), 'attention_mask': tf.TensorShape([None]), \n",
    "                  'labels': tf.TensorShape([None]), 'decoder_attention_mask':tf.TensorShape([None]),}\n",
    "    ds = tf.data.Dataset.from_generator(lambda : dataset, return_types, return_shapes)\n",
    "    return ds\n",
    "\n",
    "def create_dataset(dataset, cache_path=None, batch_size=batch_size, \n",
    "                   buffer_size= 1000, shuffling=True):\n",
    "    '''returns a padded_batch tf dataset'''\n",
    "    if cache_path is not None:\n",
    "        dataset = dataset.cache(cache_path)        \n",
    "    if shuffling:\n",
    "        dataset = dataset.shuffle(buffer_size)\n",
    "    dataset = dataset.padded_batch(batch_size)\n",
    "#     dataset = dataset.prefetch(tf.data.experimental.AUTOTUNE)\n",
    "    return dataset\n",
    "\n"
   ]
  },
  {
   "cell_type": "code",
   "execution_count": 11,
   "metadata": {
    "colab": {
     "base_uri": "https://localhost:8080/"
    },
    "id": "2xiO1_gwgIeT",
    "outputId": "193cc551-b130-4c86-f566-e3d62cd1ee84"
   },
   "outputs": [
    {
     "data": {
      "application/vnd.jupyter.widget-view+json": {
       "model_id": "f71ea6a4ec584961b633352f78bc81fe",
       "version_major": 2,
       "version_minor": 0
      },
      "text/plain": [
       "HBox(children=(HTML(value=''), FloatProgress(value=0.0, max=116400.0), HTML(value='')))"
      ]
     },
     "metadata": {},
     "output_type": "display_data"
    },
    {
     "name": "stderr",
     "output_type": "stream",
     "text": [
      "/home/omar/miniconda3/lib/python3.9/site-packages/transformers/tokenization_utils_base.py:2104: FutureWarning: The `pad_to_max_length` argument is deprecated and will be removed in a future version, use `padding=True` or `padding='longest'` to pad to the longest sequence in the batch, or use `padding='max_length'` to pad to a max length. In this case, you can give a specific length with `max_length` (e.g. `max_length=45`) or leave max_length to None to pad to the maximal input size of the model (e.g. 512 for Bert).\n",
      "  warnings.warn(\n"
     ]
    },
    {
     "name": "stdout",
     "output_type": "stream",
     "text": [
      "\n"
     ]
    },
    {
     "data": {
      "application/vnd.jupyter.widget-view+json": {
       "model_id": "15af1e15f8f24d059fd6a964b5ea7c3a",
       "version_major": 2,
       "version_minor": 0
      },
      "text/plain": [
       "HBox(children=(HTML(value=''), FloatProgress(value=0.0, max=9535.0), HTML(value='')))"
      ]
     },
     "metadata": {},
     "output_type": "display_data"
    },
    {
     "name": "stdout",
     "output_type": "stream",
     "text": [
      "\n",
      "train dataset schema:\n",
      "dev dataset schema:\n"
     ]
    },
    {
     "data": {
      "text/plain": [
       "{'input_ids': TensorSpec(shape=(None, None), dtype=tf.int32, name=None),\n",
       " 'attention_mask': TensorSpec(shape=(None, None), dtype=tf.int32, name=None),\n",
       " 'labels': TensorSpec(shape=(None, None), dtype=tf.int32, name=None),\n",
       " 'decoder_attention_mask': TensorSpec(shape=(None, None), dtype=tf.int32, name=None)}"
      ]
     },
     "execution_count": 11,
     "metadata": {},
     "output_type": "execute_result"
    }
   ],
   "source": [
    "#Preprocess data\n",
    "\n",
    "train_ds = train_dataset.map(encode_train)\n",
    "tf_train_ds = to_tf_dataset(train_ds)\n",
    "tf_train_ds = tf_train_ds.repeat(epochs)\n",
    "tf_train_ds= create_dataset(tf_train_ds, batch_size=batch_size, \n",
    "                         shuffling=True, cache_path = None)\n",
    "\n",
    "\n",
    "valid_ds = valid_dataset.map(encode_drop)\n",
    "tf_valid_ds = to_tf_dataset(valid_ds)\n",
    "tf_valid_ds = create_dataset(tf_valid_ds, batch_size=batch_size, \n",
    "                         shuffling=False, cache_path = None)\n",
    "\n",
    "print('train dataset schema:')\n",
    "tf_train_ds.element_spec\n",
    "print('dev dataset schema:')\n",
    "tf_valid_ds.element_spec"
   ]
  },
  {
   "cell_type": "markdown",
   "metadata": {
    "id": "qHAi1i2BgIeV"
   },
   "source": [
    "#### Callbacks and checkpoints"
   ]
  },
  {
   "cell_type": "code",
   "execution_count": 12,
   "metadata": {},
   "outputs": [],
   "source": [
    "# Learning Rate Schedule to input into CustomLearningRateScheduler()\n",
    "def lr_schedule(training_steps, lr):\n",
    "    \"\"\"Helper function to retrieve the scheduled learning rate based on epoch.\"\"\"\n",
    "    if training_steps < __TOTAL_WARM_UP_STEPS:\n",
    "        # print(\"\\nWARM UP: Using Increasing Linear Function at Training Step:{}\".format(training_steps))\n",
    "        lr = ((MAX_LR - START_LR)/__TOTAL_WARM_UP_STEPS) * training_steps + START_LR # y = (m)x + b\n",
    "    else:\n",
    "        __CURRENT_DECAY_STEP = training_steps - __TOTAL_WARM_UP_STEPS\n",
    "        if DECAY == \"ExponentialDecay\":\n",
    "            # print(\"\\nDECAY: Using ExponentialDecay at Training Step:{}\".format(training_steps))\n",
    "            __DECAY_FN = keras.optimizers.schedules.ExponentialDecay(\n",
    "                  initial_learning_rate=MAX_LR,\n",
    "                  decay_steps=__TOTAL_DECAY_STEPS,\n",
    "                  decay_rate=END_LR/MAX_LR)\n",
    "        elif DECAY == \"PiecewiseConstantDecay\":\n",
    "            # print(\"\\nDECAY: Using PiecewiseConstantDecay at Training Step:{}\".format(training_steps))\n",
    "            __CURRENT_DECAY_STEP = tf.Variable(__CURRENT_DECAY_STEP, trainable=False)\n",
    "            __DECAY_FN = keras.optimizers.schedules.PiecewiseConstantDecay(\n",
    "                  __BOUNDARIES, __VALUES)\n",
    "        elif DECAY == \"PolynomialDecay\":\n",
    "            # print(\"\\nDECAY: Using PolynomialDecay at Training Step:{}\".format(training_steps))\n",
    "            __DECAY_FN = tf.keras.optimizers.schedules.PolynomialDecay(\n",
    "                  MAX_LR,\n",
    "                  __TOTAL_DECAY_STEPS,\n",
    "                  END_LR,\n",
    "                  power=POWER)\n",
    "        elif DECAY == \"InverseTimeDecay\":\n",
    "            # print(\"DECAY: Using InverseTimeDecay at Training Step:{}\".format(training_steps))\n",
    "            __DECAY_FN = keras.optimizers.schedules.InverseTimeDecay(\n",
    "                  MAX_LR, __TIME_DECAY, 1)\n",
    "        else:\n",
    "            print(\"Please Select a Decay Function\")\n",
    "            exit\n",
    "        lr = __DECAY_FN(__CURRENT_DECAY_STEP)\n",
    "    return lr"
   ]
  },
  {
   "cell_type": "code",
   "execution_count": 13,
   "metadata": {},
   "outputs": [
    {
     "data": {
      "image/png": "[encoded data removed]",
      "text/plain": [
       "<Figure size 1080x432 with 4 Axes>"
      ]
     },
     "metadata": {
      "needs_background": "light"
     },
     "output_type": "display_data"
    }
   ],
   "source": [
    "# Learning Rate Schedule Parameters\n",
    "WARM_UP_FRACTION = 1/10 #The fraction of the training steps that will be ramping up linearly to the max LR\n",
    "START_LR = 1e-7 # must be float\n",
    "MAX_LR = 1e-3 # must be float\n",
    "END_LR = 1e-9 # must be float\n",
    "EPOCHS = epochs\n",
    "STEPS_PER_EPOCH = steps\n",
    "__TOTAL_STEPS = EPOCHS * STEPS_PER_EPOCH\n",
    "__TOTAL_WARM_UP_STEPS = __TOTAL_STEPS * WARM_UP_FRACTION\n",
    "__TOTAL_DECAY_STEPS = __TOTAL_STEPS - __TOTAL_WARM_UP_STEPS\n",
    "#--------------------------------------------------------------------------------------------\n",
    "# Decay Parameters\n",
    "# ExponentialDecay - None\n",
    "# PiecewiseConstantDecay\n",
    "NUM_BOUNDARIES = 10\n",
    "__BOUNDARY_STEP = __TOTAL_DECAY_STEPS/NUM_BOUNDARIES\n",
    "__BOUNDARIES = list(np.arange(0,__TOTAL_DECAY_STEPS,__BOUNDARY_STEP))\n",
    "__PIECEWISE_STEP = (MAX_LR - END_LR)/(NUM_BOUNDARIES)\n",
    "__VALUES = list(np.arange(MAX_LR,END_LR-__PIECEWISE_STEP,-__PIECEWISE_STEP))[:len(__BOUNDARIES)+1]\n",
    "# if len(__BOUNDARIES)>\n",
    "# PolynomialDecay\n",
    "POWER = .5 # Must be > 1 to reach END_LR\n",
    "#InverseTimeDecay\n",
    "__TIME_DECAY = __TOTAL_DECAY_STEPS/(MAX_LR/END_LR-1)\n",
    "#--------------------------------------------------------------------------------------------\n",
    "# Initialize Graphing\n",
    "decay_array = [\"ExponentialDecay\", \"PiecewiseConstantDecay\", \"PolynomialDecay\", \"InverseTimeDecay\"]\n",
    "x = range(__TOTAL_STEPS)\n",
    "fig, ax = plt.subplots(figsize=(15, 6),ncols=len(decay_array))\n",
    "fig.suptitle(f'Learing Rate Schedule', fontsize=14)\n",
    "ymax = max(START_LR,MAX_LR,END_LR)\n",
    "ymax *= 1.1\n",
    "ax[0].set_ylabel('Learning Rate')\n",
    "for i,decay_type in enumerate(decay_array):\n",
    "    DECAY = decay_type\n",
    "    lr_values = []\n",
    "    for step in x:\n",
    "        lr_values.append(lr_schedule(step,0))\n",
    "    ax[i].plot(x,lr_values)\n",
    "    ax[i].set_title(decay_type, fontsize=14, pad=11)\n",
    "    ax[i].set_xlabel('Steps')\n",
    "    ax[i].set_ylim([0,ymax])\n",
    "    if i > 0:\n",
    "        ax[i].tick_params(which='both', left=False, labelleft=False)\n",
    "plt.show()\n",
    "#--------------------------------------------------------------------------------------------\n",
    "# ACTION: Select Decay Type\n",
    "DECAY = \"PiecewiseConstantDecay\" #[\"ExponentialDecay\", \"PiecewiseConstantDecay\", \"PolynomialDecay\", \"InverseTimeDecay\"]"
   ]
  },
  {
   "cell_type": "code",
   "execution_count": 14,
   "metadata": {},
   "outputs": [],
   "source": [
    "class CustomLearningRateScheduler(keras.callbacks.Callback):\n",
    "    \"\"\"Learning rate scheduler which sets the learning rate according to schedule.\n",
    "\n",
    "  Arguments:\n",
    "      schedule: a function that takes an epoch index\n",
    "          (integer, indexed from 0) and current learning rate\n",
    "          as inputs and returns a new learning rate as output (float).\n",
    "  \"\"\"\n",
    "\n",
    "    def __init__(self, schedule):\n",
    "        super(CustomLearningRateScheduler, self).__init__()\n",
    "        self.schedule = schedule\n",
    "        self.current_epoch = 0\n",
    "\n",
    "    def on_epoch_end(self, epoch, logs=None):\n",
    "        self.current_epoch += 1\n",
    "\n",
    "    def on_batch_begin(self, batch_step, logs=None):\n",
    "        if not hasattr(self.model.optimizer, \"lr\"):\n",
    "            raise ValueError('Optimizer must have a \"lr\" attribute.')\n",
    "        # Get the current learning rate from model's optimizer.\n",
    "        lr = float(tf.keras.backend.get_value(self.model.optimizer.learning_rate))\n",
    "        # Call schedule function to get the scheduled learning rate.\n",
    "        total_steps = batch_step + self.current_epoch * steps\n",
    "        scheduled_lr = self.schedule(total_steps, lr)\n",
    "        # Set the value back to the optimizer before this epoch starts\n",
    "        tf.keras.backend.set_value(self.model.optimizer.lr, scheduled_lr)\n",
    "        # print(\"\\nEpoch %05d: Learning rate is %6.4f.\" % (total_steps, scheduled_lr))"
   ]
  },
  {
   "cell_type": "code",
   "execution_count": 15,
   "metadata": {
    "id": "YsCNpoMEgIeV"
   },
   "outputs": [
    {
     "name": "stderr",
     "output_type": "stream",
     "text": [
      "2021-07-30 09:46:53.784273: I tensorflow/core/profiler/lib/profiler_session.cc:126] Profiler session initializing.\n",
      "2021-07-30 09:46:53.784337: I tensorflow/core/profiler/lib/profiler_session.cc:141] Profiler session started.\n",
      "2021-07-30 09:46:53.784430: I tensorflow/core/profiler/internal/gpu/cupti_tracer.cc:1611] Profiler found 1 GPUs\n",
      "2021-07-30 09:46:53.785343: W tensorflow/stream_executor/platform/default/dso_loader.cc:64] Could not load dynamic library 'libcupti.so.11.2'; dlerror: libcupti.so.11.2: cannot open shared object file: No such file or directory; LD_LIBRARY_PATH: /usr/local/cuda/extras/CUPTI/lib64::/usr/local/cuda/lib64\n",
      "2021-07-30 09:46:53.786966: I tensorflow/stream_executor/platform/default/dso_loader.cc:53] Successfully opened dynamic library libcupti.so\n",
      "2021-07-30 09:46:54.021634: I tensorflow/core/profiler/lib/profiler_session.cc:159] Profiler session tear down.\n",
      "2021-07-30 09:46:54.021765: I tensorflow/core/profiler/internal/gpu/cupti_tracer.cc:1743] CUPTI activity buffer flushed\n"
     ]
    }
   ],
   "source": [
    "start_profile_batch = steps+10\n",
    "stop_profile_batch = start_profile_batch + 100\n",
    "profile_range = f\"{start_profile_batch},{stop_profile_batch}\"\n",
    "\n",
    "log_path = log_dir + \"/\" + datetime.datetime.now().strftime(\"%Y-%m-%d_%H:%M:%S\")\n",
    "tensorboard_callback = tf.keras.callbacks.TensorBoard(log_dir=log_path, histogram_freq=1,\n",
    "                                                     update_freq=20,profile_batch=profile_range)\n",
    "\n",
    "checkpoint_filepath = save_dir + \"/\" + \"T5-{epoch:04d}-{val_loss:.4f}.ckpt\"\n",
    "model_checkpoint_callback = tf.keras.callbacks.ModelCheckpoint(\n",
    "    filepath=checkpoint_filepath,\n",
    "    save_weights_only=False,\n",
    "    monitor='val_loss',\n",
    "    mode='min',\n",
    "    save_best_only=True)\n",
    "\n",
    "callbacks = [tensorboard_callback, model_checkpoint_callback] \n",
    "if use_learning_schedule:\n",
    "    callbacks.append(CustomLearningRateScheduler(lr_schedule))\n",
    "metrics = [tf.keras.metrics.SparseTopKCategoricalAccuracy(k=5,name='accuracy') ]#[drop_eval.get_metrics]"
   ]
  },
  {
   "cell_type": "markdown",
   "metadata": {
    "id": "Uc5HnwUwgIeV"
   },
   "source": [
    "#### Compile and run model"
   ]
  },
  {
   "cell_type": "code",
   "execution_count": 16,
   "metadata": {},
   "outputs": [
    {
     "name": "stdout",
     "output_type": "stream",
     "text": [
      "Model: \"t5for_drop\"\n",
      "_________________________________________________________________\n",
      "Layer (type)                 Output Shape              Param #   \n",
      "=================================================================\n",
      "shared (TFSharedEmbeddings)  multiple                  16449536  \n",
      "_________________________________________________________________\n",
      "encoder (TFT5MainLayer)      multiple                  18881280  \n",
      "_________________________________________________________________\n",
      "decoder (TFT5MainLayer)      multiple                  25175808  \n",
      "=================================================================\n",
      "Total params: 60,506,626\n",
      "Trainable params: 60,506,624\n",
      "Non-trainable params: 2\n",
      "_________________________________________________________________\n"
     ]
    }
   ],
   "source": [
    "optimizer = tf.keras.optimizers.Adam(START_LR, beta_1=0.9, beta_2=0.98,\n",
    "                                     epsilon=1e-9)\n",
    "model.compile(optimizer=optimizer, metrics=metrics)\n",
    "model.summary()"
   ]
  },
  {
   "cell_type": "code",
   "execution_count": 17,
   "metadata": {
    "id": "xqxSSq06bZct"
   },
   "outputs": [],
   "source": [
    "if load_model:\n",
    "    model.load_weights(load_dir+'/tf_model.h5')\n",
    "    print(f'Model loaded from {load_dir}')"
   ]
  },
  {
   "cell_type": "code",
   "execution_count": 18,
   "metadata": {},
   "outputs": [
    {
     "data": {
      "text/html": [
       "\n",
       "      <iframe id=\"tensorboard-frame-1e53e8655d8d4436\" width=\"100%\" height=\"800\" frameborder=\"0\">\n",
       "      </iframe>\n",
       "      <script>\n",
       "        (function() {\n",
       "          const frame = document.getElementById(\"tensorboard-frame-1e53e8655d8d4436\");\n",
       "          const url = new URL(\"/\", window.location);\n",
       "          const port = 6006;\n",
       "          if (port) {\n",
       "            url.port = port;\n",
       "          }\n",
       "          frame.src = url;\n",
       "        })();\n",
       "      </script>\n",
       "    "
      ],
      "text/plain": [
       "<IPython.core.display.HTML object>"
      ]
     },
     "metadata": {},
     "output_type": "display_data"
    }
   ],
   "source": [
    "%tensorboard --logdir $log_dir"
   ]
  },
  {
   "cell_type": "code",
   "execution_count": 19,
   "metadata": {
    "id": "wjHtw6LogIeV"
   },
   "outputs": [
    {
     "name": "stdout",
     "output_type": "stream",
     "text": [
      "Epoch 1/30\n"
     ]
    },
    {
     "name": "stderr",
     "output_type": "stream",
     "text": [
      "2021-07-30 09:47:05.326591: I tensorflow/compiler/mlir/mlir_graph_optimization_pass.cc:176] None of the MLIR Optimization Passes are enabled (registered 2)\n",
      "2021-07-30 09:47:05.602873: I tensorflow/core/platform/profile_utils/cpu_utils.cc:114] CPU Frequency: 3504000000 Hz\n"
     ]
    },
    {
     "name": "stdout",
     "output_type": "stream",
     "text": [
      "14550/14550 [==============================] - 1456s 99ms/step - accuracy: 0.9746 - loss: 0.3038 - lr: 1.6675e-04 - val_accuracy: 0.9560 - val_loss: 0.5362\n"
     ]
    },
    {
     "name": "stderr",
     "output_type": "stream",
     "text": [
      "WARNING:absl:Found untraced functions such as final_layer_norm_layer_call_fn, final_layer_norm_layer_call_and_return_conditional_losses, dropout_24_layer_call_fn, dropout_24_layer_call_and_return_conditional_losses, final_layer_norm_layer_call_fn while saving (showing 5 of 1310). These functions will not be directly callable after loading.\n"
     ]
    },
    {
     "name": "stdout",
     "output_type": "stream",
     "text": [
      "Epoch 2/30\n",
      "    9/14550 [..............................] - ETA: 23:02 - accuracy: 0.9920 - loss: 0.0727 - lr: 3.3349e-04"
     ]
    },
    {
     "name": "stderr",
     "output_type": "stream",
     "text": [
      "2021-07-30 10:11:37.743419: I tensorflow/core/profiler/lib/profiler_session.cc:126] Profiler session initializing.\n",
      "2021-07-30 10:11:37.743437: I tensorflow/core/profiler/lib/profiler_session.cc:141] Profiler session started.\n"
     ]
    },
    {
     "name": "stdout",
     "output_type": "stream",
     "text": [
      "  110/14550 [..............................] - ETA: 25:22 - accuracy: 0.9928 - loss: 0.0778 - lr: 3.3465e-04"
     ]
    },
    {
     "name": "stderr",
     "output_type": "stream",
     "text": [
      "2021-07-30 10:11:48.475104: I tensorflow/core/profiler/lib/profiler_session.cc:66] Profiler session collecting data.\n",
      "2021-07-30 10:11:48.478973: I tensorflow/core/profiler/internal/gpu/cupti_tracer.cc:1743] CUPTI activity buffer flushed\n",
      "2021-07-30 10:11:49.472297: I tensorflow/core/profiler/internal/gpu/cupti_collector.cc:673]  GpuTracer has collected 269407 callback api events and 271587 activity events. \n",
      "2021-07-30 10:11:52.856162: I tensorflow/core/profiler/lib/profiler_session.cc:159] Profiler session tear down.\n"
     ]
    },
    {
     "name": "stdout",
     "output_type": "stream",
     "text": [
      "14550/14550 [==============================] - 1463s 101ms/step - accuracy: 0.9920 - loss: 0.0747 - lr: 5.0005e-04 - val_accuracy: 0.9546 - val_loss: 0.5315\n"
     ]
    },
    {
     "name": "stderr",
     "output_type": "stream",
     "text": [
      "WARNING:absl:Found untraced functions such as final_layer_norm_layer_call_fn, final_layer_norm_layer_call_and_return_conditional_losses, dropout_24_layer_call_fn, dropout_24_layer_call_and_return_conditional_losses, final_layer_norm_layer_call_fn while saving (showing 5 of 1310). These functions will not be directly callable after loading.\n"
     ]
    },
    {
     "name": "stdout",
     "output_type": "stream",
     "text": [
      "Epoch 3/30\n",
      "14550/14550 [==============================] - 1451s 100ms/step - accuracy: 0.9922 - loss: 0.0738 - lr: 8.3335e-04 - val_accuracy: 0.9575 - val_loss: 0.5395\n",
      "Epoch 4/30\n",
      "14550/14550 [==============================] - 1478s 102ms/step - accuracy: 0.9925 - loss: 0.0720 - lr: 9.0001e-04 - val_accuracy: 0.9600 - val_loss: 0.4934\n"
     ]
    },
    {
     "name": "stderr",
     "output_type": "stream",
     "text": [
      "WARNING:absl:Found untraced functions such as final_layer_norm_layer_call_fn, final_layer_norm_layer_call_and_return_conditional_losses, dropout_24_layer_call_fn, dropout_24_layer_call_and_return_conditional_losses, final_layer_norm_layer_call_fn while saving (showing 5 of 1310). These functions will not be directly callable after loading.\n"
     ]
    },
    {
     "name": "stdout",
     "output_type": "stream",
     "text": [
      "Epoch 5/30\n",
      "14550/14550 [==============================] - 1476s 101ms/step - accuracy: 0.9930 - loss: 0.0680 - lr: 9.0000e-04 - val_accuracy: 0.9602 - val_loss: 0.5032\n",
      "Epoch 6/30\n",
      "14550/14550 [==============================] - 1476s 101ms/step - accuracy: 0.9934 - loss: 0.0653 - lr: 8.7000e-04 - val_accuracy: 0.9617 - val_loss: 0.6062\n",
      "Epoch 7/30\n",
      "14550/14550 [==============================] - 1476s 101ms/step - accuracy: 0.9938 - loss: 0.0614 - lr: 8.0000e-04 - val_accuracy: 0.9587 - val_loss: 0.5716\n",
      "Epoch 8/30\n",
      "14550/14550 [==============================] - 1476s 101ms/step - accuracy: 0.9941 - loss: 0.0593 - lr: 8.0000e-04 - val_accuracy: 0.9649 - val_loss: 0.5642\n",
      "Epoch 9/30\n",
      "14550/14550 [==============================] - 1476s 101ms/step - accuracy: 0.9944 - loss: 0.0570 - lr: 7.4000e-04 - val_accuracy: 0.9654 - val_loss: 0.6160\n",
      "Epoch 10/30\n",
      "14550/14550 [==============================] - 1483s 102ms/step - accuracy: 0.9948 - loss: 0.0544 - lr: 7.0000e-04 - val_accuracy: 0.9670 - val_loss: 0.6452\n",
      "Epoch 11/30\n",
      "14550/14550 [==============================] - 1483s 102ms/step - accuracy: 0.9951 - loss: 0.0528 - lr: 7.0000e-04 - val_accuracy: 0.9663 - val_loss: 0.8132\n",
      "Epoch 12/30\n",
      "14550/14550 [==============================] - 1483s 102ms/step - accuracy: 0.9955 - loss: 0.0499 - lr: 6.1001e-04 - val_accuracy: 0.9660 - val_loss: 0.6143\n",
      "Epoch 13/30\n",
      "14550/14550 [==============================] - 1484s 102ms/step - accuracy: 0.9958 - loss: 0.0478 - lr: 6.0000e-04 - val_accuracy: 0.9661 - val_loss: 0.6644\n",
      "Epoch 14/30\n",
      "14550/14550 [==============================] - 1484s 102ms/step - accuracy: 0.9960 - loss: 0.0462 - lr: 5.8000e-04 - val_accuracy: 0.9678 - val_loss: 0.5709\n",
      "Epoch 15/30\n",
      "14550/14550 [==============================] - 1484s 102ms/step - accuracy: 0.9963 - loss: 0.0436 - lr: 5.0000e-04 - val_accuracy: 0.9667 - val_loss: 0.6629\n",
      "Epoch 16/30\n",
      "14550/14550 [==============================] - 1489s 102ms/step - accuracy: 0.9966 - loss: 0.0421 - lr: 5.0000e-04 - val_accuracy: 0.9677 - val_loss: 0.6297\n",
      "Epoch 17/30\n",
      "14550/14550 [==============================] - 1489s 102ms/step - accuracy: 0.9967 - loss: 0.0406 - lr: 4.5000e-04 - val_accuracy: 0.9695 - val_loss: 0.6230\n",
      "Epoch 18/30\n",
      "14550/14550 [==============================] - 1489s 102ms/step - accuracy: 0.9970 - loss: 0.0383 - lr: 4.0000e-04 - val_accuracy: 0.9690 - val_loss: 0.6294\n",
      "Epoch 19/30\n",
      "14550/14550 [==============================] - 1488s 102ms/step - accuracy: 0.9971 - loss: 0.0373 - lr: 4.0000e-04 - val_accuracy: 0.9679 - val_loss: 0.7071\n",
      "Epoch 20/30\n",
      "14550/14550 [==============================] - 1489s 102ms/step - accuracy: 0.9973 - loss: 0.0354 - lr: 3.2001e-04 - val_accuracy: 0.9655 - val_loss: 0.6852\n",
      "Epoch 21/30\n",
      "14550/14550 [==============================] - 1489s 102ms/step - accuracy: 0.9975 - loss: 0.0340 - lr: 3.0000e-04 - val_accuracy: 0.9695 - val_loss: 0.6705\n",
      "Epoch 22/30\n",
      "14550/14550 [==============================] - 1489s 102ms/step - accuracy: 0.9975 - loss: 0.0330 - lr: 2.9000e-04 - val_accuracy: 0.9688 - val_loss: 0.6901\n",
      "Epoch 23/30\n",
      "14550/14550 [==============================] - 1491s 102ms/step - accuracy: 0.9978 - loss: 0.0312 - lr: 2.0000e-04 - val_accuracy: 0.9701 - val_loss: 0.6985\n",
      "Epoch 24/30\n",
      "14550/14550 [==============================] - 1490s 102ms/step - accuracy: 0.9978 - loss: 0.0302 - lr: 2.0000e-04 - val_accuracy: 0.9677 - val_loss: 0.7325\n",
      "Epoch 25/30\n",
      "14550/14550 [==============================] - 1491s 103ms/step - accuracy: 0.9979 - loss: 0.0294 - lr: 1.6000e-04 - val_accuracy: 0.9682 - val_loss: 0.6856\n",
      "Epoch 26/30\n",
      "14550/14550 [==============================] - 1492s 103ms/step - accuracy: 0.9981 - loss: 0.0278 - lr: 1.0000e-04 - val_accuracy: 0.9694 - val_loss: 0.6675\n",
      "Epoch 27/30\n",
      "14550/14550 [==============================] - 1492s 103ms/step - accuracy: 0.9981 - loss: 0.0272 - lr: 1.0000e-04 - val_accuracy: 0.9688 - val_loss: 0.7131\n",
      "Epoch 28/30\n",
      "14550/14550 [==============================] - 1489s 102ms/step - accuracy: 0.9981 - loss: 0.0278 - lr: 3.0006e-05 - val_accuracy: 0.9705 - val_loss: 0.6569\n",
      "Epoch 29/30\n",
      "14550/14550 [==============================] - 1531s 105ms/step - accuracy: 0.9981 - loss: 0.0275 - lr: 1.0000e-09 - val_accuracy: 0.9705 - val_loss: 0.6569\n",
      "Epoch 30/30\n",
      "14550/14550 [==============================] - 1546s 106ms/step - accuracy: 0.9981 - loss: 0.0274 - lr: 1.0000e-09 - val_accuracy: 0.9705 - val_loss: 0.6569\n",
      "Training complete, model saved\n"
     ]
    }
   ],
   "source": [
    "if train_model:\n",
    "    tf.compat.v1.logging.set_verbosity(tf.compat.v1.logging.ERROR)\n",
    "    model.fit(tf_train_ds, epochs=epochs, steps_per_epoch=steps, callbacks=callbacks, \n",
    "              validation_data=tf_valid_ds, validation_steps=valid_steps,verbose=1)\n",
    "    if(save_model):\n",
    "        model.save_pretrained(save_dir)\n",
    "        print('Training complete, model saved')"
   ]
  },
  {
   "cell_type": "markdown",
   "metadata": {
    "id": "WjsHiiSldUFa"
   },
   "source": [
    "#### Predict & Evaluate"
   ]
  },
  {
   "cell_type": "code",
   "execution_count": 20,
   "metadata": {
    "tags": []
   },
   "outputs": [],
   "source": [
    "def batch_predict(ds,model,tokenizer):\n",
    "    preds = []\n",
    "\n",
    "    with tqdm(total=batch_size*len(list(ds.as_numpy_iterator()))) as bar:\n",
    "        for batch in ds:\n",
    "            input_ids = batch['input_ids']\n",
    "            output = model.generate(input_ids)\n",
    "\n",
    "            for i in range(output.shape[0]):\n",
    "                single_pred = tokenizer.decode(output[i])\n",
    "                single_pred = single_pred.replace('<pad>','')\n",
    "                single_pred = single_pred.replace('</s>','')\n",
    "                single_pred = single_pred.strip()\n",
    "                single_pred = re.sub(r'(\\d)\\s+(\\d)', r'\\1\\2', single_pred)\n",
    "                single_pred = re.sub(r'(\\d)\\s+(\\d)', r'\\1\\2', single_pred)\n",
    "                preds.append(single_pred)\n",
    "                bar.update(1)\n",
    "    return preds\n",
    "\n",
    "def evaluate(df,ds_type='train'):\n",
    "    EM = []\n",
    "    F1 = []\n",
    "    \n",
    "    if ds_type == 'train':\n",
    "        ds = dataset\n",
    "    else:\n",
    "        ds = 'drop'\n",
    "        \n",
    "    if ds == 'drop': \n",
    "        col = 'answers_spans'\n",
    "        gold_col = 'spans'\n",
    "    elif ds == 'hotpot_qa':\n",
    "        col = 'answer'\n",
    "        gold_col = ''\n",
    "    elif ds == 'augmented':\n",
    "        col = 'answer'\n",
    "    else:\n",
    "        col = 'answers'\n",
    "        gold_col = 'text'\n",
    "    for predicted,gold in tqdm(zip(df['predicted'],df[col])):\n",
    "\n",
    "        best_EM = 0\n",
    "        best_F1 = 0\n",
    "        if (ds_type == 'train') and ((dataset == 'hotpot_qa') or (dataset == 'augmented')):\n",
    "            metrics = drop_eval.get_metrics(predicted=predicted,gold=gold)\n",
    "            best_EM = metrics[0]\n",
    "            best_F1 = metrics[1]\n",
    "            \n",
    "        else:\n",
    "            for potential_answer in gold[gold_col]:\n",
    "                metrics = drop_eval.get_metrics(predicted=predicted,gold=potential_answer)\n",
    "\n",
    "                if metrics[1] > best_F1:\n",
    "                    best_EM = metrics[0]\n",
    "                    best_F1 = metrics[1]\n",
    "\n",
    "        EM.append(best_EM)\n",
    "        F1.append(best_F1)\n",
    "        \n",
    "    df['EM'] = EM\n",
    "    df['F1'] = F1\n",
    "    \n",
    "    print('Exact Match: {:0.4f}, F1: {:0.4f}'.format(df.EM.mean(),df.F1.mean()))\n",
    "    return df\n"
   ]
  },
  {
   "cell_type": "code",
   "execution_count": 21,
   "metadata": {},
   "outputs": [
    {
     "name": "stdout",
     "output_type": "stream",
     "text": [
      "Making Dev Predictions...\n"
     ]
    },
    {
     "data": {
      "application/vnd.jupyter.widget-view+json": {
       "model_id": "862dbefd704e473fbf788fffd6fe3898",
       "version_major": 2,
       "version_minor": 0
      },
      "text/plain": [
       "HBox(children=(HTML(value=''), FloatProgress(value=0.0, max=9536.0), HTML(value='')))"
      ]
     },
     "metadata": {},
     "output_type": "display_data"
    },
    {
     "name": "stdout",
     "output_type": "stream",
     "text": [
      "\n",
      "Evaluating Dev Predictions...\n"
     ]
    },
    {
     "data": {
      "application/vnd.jupyter.widget-view+json": {
       "model_id": "f8bf0a7f83884b1b8d46f44ac87e6b46",
       "version_major": 2,
       "version_minor": 0
      },
      "text/plain": [
       "HBox(children=(HTML(value=''), FloatProgress(value=1.0, bar_style='info', layout=Layout(width='20px'), max=1.0…"
      ]
     },
     "metadata": {},
     "output_type": "display_data"
    },
    {
     "name": "stdout",
     "output_type": "stream",
     "text": [
      "\n",
      "Exact Match: 0.4535, F1: 0.5031\n",
      "results for predictions on the validation data saved to:\n",
      " ./data/augmented-drop-50percent-30/t5-small/results/\n"
     ]
    }
   ],
   "source": [
    "if predict_train:\n",
    "    print('Making Train Predictions...')\n",
    "    preds = batch_predict(ds=tf_train_ds,model=model,tokenizer=tokenizer)\n",
    "    train_df = train_dataset.to_pandas()\n",
    "    assert len(train_df) == len(preds), \"count mismatch, something went wrong\"\n",
    "    train_df['predicted'] = preds\n",
    "    print('Evaluating Train Predictions...')\n",
    "    train_df = evaluate(train_df,ds_type='train')\n",
    "    if save_results:\n",
    "        train_df.to_pickle(results_dir+'{}_train'.format(dataset)+datetime.datetime.now().strftime('%H%M-%h%d')+'.pkl')\n",
    "        print('results for predictions on the training data saved to:\\n',results_dir)\n",
    "    \n",
    "if predict_dev:\n",
    "    print('Making Dev Predictions...')\n",
    "    preds = batch_predict(ds=tf_valid_ds,model=model,tokenizer=tokenizer)\n",
    "    valid_df = valid_dataset.to_pandas()\n",
    "    valid_df['predicted'] = preds\n",
    "    assert len(valid_df) == len(preds), \"count mismatch, something went wrong\"\n",
    "    print('Evaluating Dev Predictions...')\n",
    "    valid_df = evaluate(valid_df,ds_type='valid')\n",
    "    if save_results:\n",
    "        valid_df.to_pickle(results_dir+'{}_validation'.format(VERSION)+datetime.datetime.now().strftime('%H%M-%h%d')+'.pkl')\n",
    "        print('results for predictions on the validation data saved to:\\n',results_dir)    \n",
    " "
   ]
  },
  {
   "cell_type": "code",
   "execution_count": 22,
   "metadata": {},
   "outputs": [],
   "source": [
    "def generate_answer(question,passage,model,tokenizer):\n",
    "    \n",
    "    input_text = f\"question: {question} context: {passage} </s>\"\n",
    "\n",
    "    input_ids = tokenizer.encode(input_text,return_tensors=\"tf\")  \n",
    "    outputs = model.generate(input_ids)\n",
    "    tokenizer.decode(outputs[0])\n",
    "    ans = tokenizer.decode(outputs[0])\n",
    "    ans = ans.replace('<pad>','')\n",
    "    ans = ans.replace('</s>','')\n",
    "    ans = ans.strip()\n",
    "    ans = re.sub(r'(\\d)\\s+(\\d)', r'\\1\\2', ans)\n",
    "    ans = re.sub(r'(\\d)\\s+(\\d)', r'\\1\\2', ans)\n",
    "    return ans"
   ]
  },
  {
   "cell_type": "markdown",
   "metadata": {},
   "source": [
    "## Knowledge test questions"
   ]
  },
  {
   "cell_type": "code",
   "execution_count": 23,
   "metadata": {},
   "outputs": [
    {
     "name": "stdout",
     "output_type": "stream",
     "text": [
      "TEST: Subtraction\n"
     ]
    },
    {
     "name": "stderr",
     "output_type": "stream",
     "text": [
      "/home/omar/miniconda3/lib/python3.9/site-packages/transformers/models/t5/tokenization_t5.py:172: UserWarning: This sequence already has </s>. In future versions this behavior may lead to duplicated eos tokens being added.\n",
      "  warnings.warn(\n"
     ]
    },
    {
     "name": "stdout",
     "output_type": "stream",
     "text": [
      "\n",
      "True answer: 10.47\n",
      "Predicted answer: 10.47\n"
     ]
    }
   ],
   "source": [
    "print('TEST: Subtraction')\n",
    "question='answer_me: What percentage of elephants do not like to eat walnuts?'\n",
    "context = ' context: There are lots of elephants in the forest. They all like to eat different things. Sources say that 89.53% of elephants like to eat walnuts.'\n",
    "true_ans = '10.47'\n",
    "\n",
    "ans = generate_answer(question,context,model,tokenizer)\n",
    "print('\\nTrue answer: {}'.format(true_ans))\n",
    "print('Predicted answer: {}'.format(ans))"
   ]
  },
  {
   "cell_type": "code",
   "execution_count": 24,
   "metadata": {},
   "outputs": [
    {
     "name": "stdout",
     "output_type": "stream",
     "text": [
      "TEST: Subtraction\n",
      "answer_me: What percentage of Genghis Khan's troops survived?\n",
      " context: Genghis Khan became fierce when they had lost the American Civil War against William the Conqueror. Leaders needed to be brave and help their troops win the victory. Sources say that 5.17% of Genghis Khan's troops died, after killing over triple as much of William the Conqueror's troops .\n",
      "\n",
      "True answer: 94.83\n",
      "Predicted answer: 94.83\n"
     ]
    }
   ],
   "source": [
    "print('TEST: Subtraction')\n",
    "question=\"answer_me: What percentage of Genghis Khan's troops survived?\"\n",
    "context = \" context: Genghis Khan became fierce when they had lost the American Civil War against William the Conqueror. Leaders needed to be brave and help their troops win the victory. Sources say that 5.17% of Genghis Khan's troops died, after killing over triple as much of William the Conqueror's troops .\"\n",
    "true_ans = '94.83'\n",
    "\n",
    "ans = generate_answer(question,context,model,tokenizer)\n",
    "print(question)\n",
    "print(context)\n",
    "print('\\nTrue answer: {}'.format(true_ans))\n",
    "print('Predicted answer: {}'.format(ans))"
   ]
  },
  {
   "cell_type": "code",
   "execution_count": 25,
   "metadata": {},
   "outputs": [
    {
     "name": "stdout",
     "output_type": "stream",
     "text": [
      "TEST: Recall\n",
      "\n",
      "True answer: 79.29\n",
      "Predicted answer: 79.29\n"
     ]
    }
   ],
   "source": [
    "print('TEST: Recall')\n",
    "question='answer_me: What percentage of pandas like to eat fruit?'\n",
    "context = ' context: Let us talk of pandas all over the world. They like to sleep for many hours. One study estimates that 79.29% of pandas like to eat fruit.'\n",
    "true_ans = '79.29'\n",
    "\n",
    "ans = generate_answer(question,context,model,tokenizer)\n",
    "print('\\nTrue answer: {}'.format(true_ans))\n",
    "print('Predicted answer: {}'.format(ans))"
   ]
  },
  {
   "cell_type": "code",
   "execution_count": 26,
   "metadata": {},
   "outputs": [
    {
     "name": "stdout",
     "output_type": "stream",
     "text": [
      "TEST: Grouping\n",
      "answer_me: What was the Miami Heat season record?\n",
      " context: It was a painful season for the Miami Heat. The team played only 75 games this season due to covid cancellations. In the first half of the season, they won 33 and lost 5 games. But this was just the beginning. Many wrote off the Miami Heat, but they went on to win 16 more games. The team deserves some much-needed rest before next year begins.\n",
      "\n",
      "True answer: 49-26\n",
      "Predicted answer: 49 -27\n"
     ]
    }
   ],
   "source": [
    "print('TEST: Grouping')\n",
    "question='answer_me: What was the Miami Heat season record?'\n",
    "context = ' context: It was a painful season for the Miami Heat. The team played only 75 games this season due to covid cancellations. In the first half of the season, they won 33 and lost 5 games. But this was just the beginning. Many wrote off the Miami Heat, but they went on to win 16 more games. The team deserves some much-needed rest before next year begins.'\n",
    "true_ans = '49-26'\n",
    "\n",
    "ans = generate_answer(question,context,model,tokenizer)\n",
    "print(question)\n",
    "print(context)\n",
    "print('\\nTrue answer: {}'.format(true_ans))\n",
    "print('Predicted answer: {}'.format(ans))"
   ]
  },
  {
   "cell_type": "code",
   "execution_count": 27,
   "metadata": {},
   "outputs": [
    {
     "name": "stdout",
     "output_type": "stream",
     "text": [
      "TEST: Sorting\n",
      "answer_me: What was the third largest species?\n",
      " context: Human are not alone on this earth, there exist various species of animals. Sources say that 27.22% of animals are pandas and 19.27% are monkeys all over the world, as the most populous species. Followed by giraffes making up 17.68%, and elephants making up 14.59%, respectively. Animals have characteristics which make them unique and are essential for their survival. Sources say that, there are only 12.35% of sharks and 8.87% of bears as the least populous species. Surprisingly, humans are animals too.\n",
      "\n",
      "True answer: giraffes\n",
      "Predicted answer: giraffes\n"
     ]
    }
   ],
   "source": [
    "print('TEST: Sorting')\n",
    "question='answer_me: What was the third largest species?'\n",
    "context = ' context: Human are not alone on this earth, there exist various species of animals. Sources say that 27.22% of animals are pandas and 19.27% are monkeys all over the world, as the most populous species. Followed by giraffes making up 17.68%, and elephants making up 14.59%, respectively. Animals have characteristics which make them unique and are essential for their survival. Sources say that, there are only 12.35% of sharks and 8.87% of bears as the least populous species. Surprisingly, humans are animals too.'\n",
    "true_ans = 'giraffes'\n",
    "\n",
    "ans = generate_answer(question,context,model,tokenizer)\n",
    "print(question)\n",
    "print(context)\n",
    "print('\\nTrue answer: {}'.format(true_ans))\n",
    "print('Predicted answer: {}'.format(ans))"
   ]
  },
  {
   "cell_type": "code",
   "execution_count": 28,
   "metadata": {},
   "outputs": [
    {
     "name": "stdout",
     "output_type": "stream",
     "text": [
      "TEST: Or\n",
      "answer_me: Who won the game, the 49ers or the Saints?\n",
      " context: The two division leaders, the 49ers and the Saints, played the Sunday night game yesterday. The 49ers were the first to score, with 14 points, but an interception and a fumble led to the Saints scoring 14. There was heavy rainfall in the second quarter, but even still the Saints scored 7 points while the 49ers scored 6. An even third quarter resulted in both teams scoring 7. A final run of good luck helped the 49ers to score 3 more points. The winner of this game goes on to the playoffs.This was a great game!\n",
      "\n",
      "True answer: 49ers\n",
      "Predicted answer: 49 ers\n"
     ]
    }
   ],
   "source": [
    "print('TEST: Or')\n",
    "question='answer_me: Who won the game, the 49ers or the Saints?'\n",
    "context = ' context: The two division leaders, the 49ers and the Saints, played the Sunday night game yesterday. The 49ers were the first to score, with 14 points, but an interception and a fumble led to the Saints scoring 14. There was heavy rainfall in the second quarter, but even still the Saints scored 7 points while the 49ers scored 6. An even third quarter resulted in both teams scoring 7. A final run of good luck helped the 49ers to score 3 more points. The winner of this game goes on to the playoffs.This was a great game!'\n",
    "true_ans = '49ers'\n",
    "\n",
    "ans = generate_answer(question,context,model,tokenizer)\n",
    "print(question)\n",
    "print(context)\n",
    "print('\\nTrue answer: {}'.format(true_ans))\n",
    "print('Predicted answer: {}'.format(ans))"
   ]
  },
  {
   "cell_type": "code",
   "execution_count": 29,
   "metadata": {},
   "outputs": [
    {
     "name": "stdout",
     "output_type": "stream",
     "text": [
      "TEST: Sort+\n",
      "answer_me: How much larger or smaller by percentage was the second largest species from the 3 smallest species combined?\n",
      " context: Animals are varied and diverse and can come from common ancestors as humans. One could say 41.32% of animals are butterflies and 21.23% are wolves in the jungle, as the most populous species. Followed by birds making up 17.05%, and rabbits making up 8.06%, respectively. Some animals can be domesticated. One could say, there are only 6.95% of cats and 5.38% of spiders as the least populous species. We should be living in harmony with other species.\n",
      "\n",
      "True answer: 0.84\n",
      "Predicted answer: 1.17\n"
     ]
    }
   ],
   "source": [
    "print('TEST: Sort+')\n",
    "question='answer_me: How much larger or smaller by percentage was the second largest species from the 3 smallest species combined?'\n",
    "context = ' context: Animals are varied and diverse and can come from common ancestors as humans. One could say 41.32% of animals are butterflies and 21.23% are wolves in the jungle, as the most populous species. Followed by birds making up 17.05%, and rabbits making up 8.06%, respectively. Some animals can be domesticated. One could say, there are only 6.95% of cats and 5.38% of spiders as the least populous species. We should be living in harmony with other species.'\n",
    "true_ans = '0.84'\n",
    "\n",
    "ans = generate_answer(question,context,model,tokenizer)\n",
    "print(question)\n",
    "print(context)\n",
    "print('\\nTrue answer: {}'.format(true_ans))\n",
    "print('Predicted answer: {}'.format(ans))"
   ]
  },
  {
   "cell_type": "code",
   "execution_count": 30,
   "metadata": {},
   "outputs": [
    {
     "name": "stdout",
     "output_type": "stream",
     "text": [
      "TEST: Sort+\n",
      "answer_me: How many points did the Falcons score in their 4 lowest scoring games combined?\n",
      " context: The Falcons defeated the Lions to start the season, scoring 27 and only allowing 8. They went on to win against the 49ers 35-8 but then lost to the Patriots, scoring just 17. The Falcons would then defeat the Ravens (39-16), followed by another victory against the Raiders (25-19), and after a tragic missed kick, they fell to 49ers, 49 to 18. However they could not find any luck, as they would lose to the Green Bay Packers, 25 to 9, and again to the Lions, 52 to 4. Unfortunately they could not save their season, they lost 25-18 to their rivals, and 40-14 in the final game.\n",
      "\n",
      "True answer: 44\n",
      "Predicted answer: 57\n"
     ]
    }
   ],
   "source": [
    "print('TEST: Sort+')\n",
    "question='answer_me: How many points did the Falcons score in their 4 lowest scoring games combined?'\n",
    "context = ' context: The Falcons defeated the Lions to start the season, scoring 27 and only allowing 8. They went on to win against the 49ers 35-8 but then lost to the Patriots, scoring just 17. The Falcons would then defeat the Ravens (39-16), followed by another victory against the Raiders (25-19), and after a tragic missed kick, they fell to 49ers, 49 to 18. However they could not find any luck, as they would lose to the Green Bay Packers, 25 to 9, and again to the Lions, 52 to 4. Unfortunately they could not save their season, they lost 25-18 to their rivals, and 40-14 in the final game.'\n",
    "true_ans = '44'\n",
    "\n",
    "ans = generate_answer(question,context,model,tokenizer)\n",
    "print(question)\n",
    "print(context)\n",
    "print('\\nTrue answer: {}'.format(true_ans))\n",
    "print('Predicted answer: {}'.format(ans))"
   ]
  }
 ],
 "metadata": {
  "accelerator": "GPU",
  "colab": {
   "name": "T5_DROP_training.ipynb",
   "provenance": []
  },
  "kernelspec": {
   "display_name": "Python 3 (ipykernel)",
   "language": "python",
   "name": "python3"
  },
  "language_info": {
   "codemirror_mode": {
    "name": "ipython",
    "version": 3
   },
   "file_extension": ".py",
   "mimetype": "text/x-python",
   "name": "python",
   "nbconvert_exporter": "python",
   "pygments_lexer": "ipython3",
   "version": "3.9.1"
  }
 },
 "nbformat": 4,
 "nbformat_minor": 4
}
